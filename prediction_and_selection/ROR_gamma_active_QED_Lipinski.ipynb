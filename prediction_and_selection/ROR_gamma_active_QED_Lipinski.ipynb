{
 "cells": [
  {
   "cell_type": "markdown",
   "id": "muslim-register",
   "metadata": {},
   "source": [
    "# Libraries import"
   ]
  },
  {
   "cell_type": "code",
   "execution_count": 1,
   "id": "conditional-stream",
   "metadata": {},
   "outputs": [],
   "source": [
    "import matplotlib.pyplot as plt\n",
    "import pandas as pd\n",
    "from rdkit import Chem, DataStructs\n",
    "from rdkit.Chem import AllChem, Descriptors\n",
    "import rdkit\n",
    "from rdkit.Chem import QED\n",
    "import warnings\n",
    "warnings.filterwarnings('ignore')\n",
    "from chembl_structure_pipeline import standardize_mol, get_parent_mol"
   ]
  },
  {
   "cell_type": "markdown",
   "id": "numeric-metadata",
   "metadata": {},
   "source": [
    "# Data loading"
   ]
  },
  {
   "cell_type": "code",
   "execution_count": 2,
   "id": "choice-accommodation",
   "metadata": {},
   "outputs": [
    {
     "name": "stdout",
     "output_type": "stream",
     "text": [
      "Initial data description: \n",
      "                                                        0\n",
      "count                                                  36\n",
      "unique                                                 35\n",
      "top     O=C(O)C1CCC(c2nn(C(=O)c3c(Cl)cccc3C(F)(F)F)c3c...\n",
      "freq                                                    2\n",
      "count                                                    36\n",
      "unique                                                   35\n",
      "top       O=C(O)C1CCC(c2nn(C(=O)c3c(Cl)cccc3C(F)(F)F)c3c...\n",
      "freq                                                      2\n",
      "Name: SMILES_clean, dtype: object\n",
      "Examples of initial structures: \n",
      "0    CC(C)CCCC(C)(O)C1CCC2C3CC=C4CC(O)CCC4(C)C3CCC21C\n",
      "1    CC(C)CCC(O)C(C)C1CCC2C3CC=C4CC(O)CCC4(C)C3CCC12C\n",
      "2    CC(CCCC(C)(C)O)C1CCC2C3CC=C4CC(O)CCC4(C)C3CCC12C\n",
      "Name: SMILES_clean, dtype: object\n"
     ]
    }
   ],
   "source": [
    "initial_smi = pd.read_excel(r'../model/data/RORgamma_active_compounds.xlsx')\n",
    "initial_smi = list(initial_smi['SMILES_canonical'])\n",
    "initial_smi = pd.DataFrame(initial_smi)\n",
    "print(\"Initial data description: \")\n",
    "print(initial_smi.describe())\n",
    "initial_smi_ = list(initial_smi[0])\n",
    "corrected_initial_list = [str(smi).split(' ')[0] for smi in initial_smi_]\n",
    "initial_smi['SMILES_clean'] = corrected_initial_list\n",
    "all_ROR = initial_smi['SMILES_clean']\n",
    "#initial_smi['SMILES_length'] = [len(initial_smi['SMILES_clean'][smi]) for smi in range(len(initial_smi['SMILES_clean']))]\n",
    "#initial_smi = initial_smi.loc[initial_smi['SMILES_length'] <= 52]\n",
    "#print(\"SMILES used to predict new molecules description: \")\n",
    "print(all_ROR.describe())\n",
    "#initial_smi = initial_smi['SMILES_clean']\n",
    "print(\"Examples of initial structures: \")\n",
    "print(all_ROR[0:3])"
   ]
  },
  {
   "cell_type": "code",
   "execution_count": 3,
   "id": "heated-fifty",
   "metadata": {},
   "outputs": [
    {
     "data": {
      "text/plain": [
       "0     CC(C)CCCC(C)(O)C1CCC2C3CC=C4CC(O)CCC4(C)C3CCC21C\n",
       "1     CC(C)CCC(O)C(C)C1CCC2C3CC=C4CC(O)CCC4(C)C3CCC12C\n",
       "2     CC(CCCC(C)(C)O)C1CCC2C3CC=C4CC(O)CCC4(C)C3CCC12C\n",
       "3    CC1CCC2(C(=O)O)CCC3(C)C(=CCC4C5(C)CCC(O)C(C)(C...\n",
       "4    CC1OC(OC2C(O)CC(OC3C(O)CC(OC4CCC5(C)C(CCC6C5CC...\n",
       "Name: SMILES_clean, dtype: object"
      ]
     },
     "execution_count": 3,
     "metadata": {},
     "output_type": "execute_result"
    }
   ],
   "source": [
    "smiles = all_ROR\n",
    "smiles.head()"
   ]
  },
  {
   "cell_type": "code",
   "execution_count": 4,
   "id": "elder-square",
   "metadata": {},
   "outputs": [],
   "source": [
    "new_set0 = smiles.to_list()"
   ]
  },
  {
   "cell_type": "code",
   "execution_count": 5,
   "id": "designing-respondent",
   "metadata": {},
   "outputs": [
    {
     "data": {
      "text/plain": [
       "(36, 1)"
      ]
     },
     "execution_count": 5,
     "metadata": {},
     "output_type": "execute_result"
    }
   ],
   "source": [
    "dff_15 = pd.DataFrame(new_set0,columns=['SMILES'])\n",
    "dff_15.shape"
   ]
  },
  {
   "cell_type": "markdown",
   "id": "heavy-yugoslavia",
   "metadata": {},
   "source": [
    "# Duplicates deletion"
   ]
  },
  {
   "cell_type": "code",
   "execution_count": 6,
   "id": "choice-friday",
   "metadata": {},
   "outputs": [
    {
     "data": {
      "text/plain": [
       "(35, 1)"
      ]
     },
     "execution_count": 6,
     "metadata": {},
     "output_type": "execute_result"
    }
   ],
   "source": [
    "dff_17 = dff_15.drop_duplicates()\n",
    "dff_17.shape"
   ]
  },
  {
   "cell_type": "code",
   "execution_count": 7,
   "id": "94b7c5fa",
   "metadata": {},
   "outputs": [],
   "source": [
    "dff_17 = dff_17.reset_index()"
   ]
  },
  {
   "cell_type": "code",
   "execution_count": 8,
   "id": "identified-persian",
   "metadata": {},
   "outputs": [
    {
     "data": {
      "text/plain": [
       "'CC(C)CCCC(C)(O)C1CCC2C3CC=C4CC(O)CCC4(C)C3CCC21C'"
      ]
     },
     "execution_count": 8,
     "metadata": {},
     "output_type": "execute_result"
    }
   ],
   "source": [
    "new_set1 = dff_17['SMILES'].to_list()\n",
    "new_set1[0]"
   ]
  },
  {
   "cell_type": "code",
   "execution_count": 9,
   "id": "4cda05e4",
   "metadata": {},
   "outputs": [],
   "source": [
    "new_set1 = [Chem.MolToSmiles(get_parent_mol(Chem.MolFromSmiles(smiles), neutralize=True, check_exclusion=True, verbose=False)[0]) for smiles in new_set1]"
   ]
  },
  {
   "cell_type": "code",
   "execution_count": 10,
   "id": "22bd19fe",
   "metadata": {},
   "outputs": [
    {
     "data": {
      "text/plain": [
       "'O=S(=O)(c1ccccc1)N(CC(F)(F)F)c1ccc(C(O)(C(F)(F)F)C(F)(F)F)cc1'"
      ]
     },
     "execution_count": 10,
     "metadata": {},
     "output_type": "execute_result"
    }
   ],
   "source": [
    "new_set1[5]"
   ]
  },
  {
   "cell_type": "markdown",
   "id": "dying-listening",
   "metadata": {},
   "source": [
    "# Seeing of the first structure"
   ]
  },
  {
   "cell_type": "code",
   "execution_count": 11,
   "id": "joined-communications",
   "metadata": {},
   "outputs": [],
   "source": [
    "structure =  Chem.MolFromSmiles(new_set1[2])"
   ]
  },
  {
   "cell_type": "code",
   "execution_count": 12,
   "id": "infectious-aircraft",
   "metadata": {},
   "outputs": [
    {
     "data": {
      "image/png": "[encoded data removed]",
      "text/plain": [
       "<rdkit.Chem.rdchem.Mol at 0x7f8ccaff7040>"
      ]
     },
     "execution_count": 12,
     "metadata": {},
     "output_type": "execute_result"
    }
   ],
   "source": [
    "structure"
   ]
  },
  {
   "cell_type": "markdown",
   "id": "cognitive-fairy",
   "metadata": {},
   "source": [
    "# Calculation of the QED descriptors"
   ]
  },
  {
   "cell_type": "code",
   "execution_count": 13,
   "id": "cathedral-reduction",
   "metadata": {},
   "outputs": [],
   "source": [
    "QED_list = []\n",
    "for smiles in new_set1:\n",
    "    QED_list.append(QED.properties(Chem.MolFromSmiles(smiles)))"
   ]
  },
  {
   "cell_type": "code",
   "execution_count": 14,
   "id": "pointed-smell",
   "metadata": {},
   "outputs": [
    {
     "data": {
      "text/plain": [
       "QEDproperties(MW=402.66300000000024, ALOGP=6.5036000000000085, HBA=2, HBD=2, PSA=40.46, ROTB=5, AROM=0, ALERTS=1)"
      ]
     },
     "execution_count": 14,
     "metadata": {},
     "output_type": "execute_result"
    }
   ],
   "source": [
    "QED_list[0]"
   ]
  },
  {
   "cell_type": "markdown",
   "id": "strong-traffic",
   "metadata": {},
   "source": [
    "# Preparation of the generated QED descriptors to the dataframe"
   ]
  },
  {
   "cell_type": "code",
   "execution_count": 15,
   "id": "rolled-short",
   "metadata": {},
   "outputs": [],
   "source": [
    "df = pd.DataFrame.from_records(QED_list, columns = ['Molecular weight', 'alogP', 'HBacceptors','HBdonors',\n",
    "                                                    'Polar surface area','rotatable bonds','aromatics rings','alerts'])"
   ]
  },
  {
   "cell_type": "code",
   "execution_count": 16,
   "id": "looking-penny",
   "metadata": {},
   "outputs": [
    {
     "data": {
      "text/html": [
       "<div>\n",
       "<style scoped>\n",
       "    .dataframe tbody tr th:only-of-type {\n",
       "        vertical-align: middle;\n",
       "    }\n",
       "\n",
       "    .dataframe tbody tr th {\n",
       "        vertical-align: top;\n",
       "    }\n",
       "\n",
       "    .dataframe thead th {\n",
       "        text-align: right;\n",
       "    }\n",
       "</style>\n",
       "<table border=\"1\" class=\"dataframe\">\n",
       "  <thead>\n",
       "    <tr style=\"text-align: right;\">\n",
       "      <th></th>\n",
       "      <th>Molecular weight</th>\n",
       "      <th>alogP</th>\n",
       "      <th>HBacceptors</th>\n",
       "      <th>HBdonors</th>\n",
       "      <th>Polar surface area</th>\n",
       "      <th>rotatable bonds</th>\n",
       "      <th>aromatics rings</th>\n",
       "      <th>alerts</th>\n",
       "    </tr>\n",
       "  </thead>\n",
       "  <tbody>\n",
       "    <tr>\n",
       "      <th>0</th>\n",
       "      <td>402.663</td>\n",
       "      <td>6.5036</td>\n",
       "      <td>2</td>\n",
       "      <td>2</td>\n",
       "      <td>40.46</td>\n",
       "      <td>5</td>\n",
       "      <td>0</td>\n",
       "      <td>1</td>\n",
       "    </tr>\n",
       "    <tr>\n",
       "      <th>1</th>\n",
       "      <td>402.663</td>\n",
       "      <td>6.3595</td>\n",
       "      <td>2</td>\n",
       "      <td>2</td>\n",
       "      <td>40.46</td>\n",
       "      <td>5</td>\n",
       "      <td>0</td>\n",
       "      <td>1</td>\n",
       "    </tr>\n",
       "    <tr>\n",
       "      <th>2</th>\n",
       "      <td>402.663</td>\n",
       "      <td>6.5036</td>\n",
       "      <td>2</td>\n",
       "      <td>2</td>\n",
       "      <td>40.46</td>\n",
       "      <td>5</td>\n",
       "      <td>0</td>\n",
       "      <td>1</td>\n",
       "    </tr>\n",
       "    <tr>\n",
       "      <th>3</th>\n",
       "      <td>456.711</td>\n",
       "      <td>7.0895</td>\n",
       "      <td>3</td>\n",
       "      <td>2</td>\n",
       "      <td>57.53</td>\n",
       "      <td>1</td>\n",
       "      <td>0</td>\n",
       "      <td>1</td>\n",
       "    </tr>\n",
       "    <tr>\n",
       "      <th>4</th>\n",
       "      <td>780.949</td>\n",
       "      <td>2.2181</td>\n",
       "      <td>14</td>\n",
       "      <td>6</td>\n",
       "      <td>203.06</td>\n",
       "      <td>7</td>\n",
       "      <td>0</td>\n",
       "      <td>2</td>\n",
       "    </tr>\n",
       "  </tbody>\n",
       "</table>\n",
       "</div>"
      ],
      "text/plain": [
       "   Molecular weight   alogP  HBacceptors  HBdonors  Polar surface area  \\\n",
       "0           402.663  6.5036            2         2               40.46   \n",
       "1           402.663  6.3595            2         2               40.46   \n",
       "2           402.663  6.5036            2         2               40.46   \n",
       "3           456.711  7.0895            3         2               57.53   \n",
       "4           780.949  2.2181           14         6              203.06   \n",
       "\n",
       "   rotatable bonds  aromatics rings  alerts  \n",
       "0                5                0       1  \n",
       "1                5                0       1  \n",
       "2                5                0       1  \n",
       "3                1                0       1  \n",
       "4                7                0       2  "
      ]
     },
     "execution_count": 16,
     "metadata": {},
     "output_type": "execute_result"
    }
   ],
   "source": [
    "df.head()"
   ]
  },
  {
   "cell_type": "markdown",
   "id": "metallic-hazard",
   "metadata": {},
   "source": [
    "# the histogram of the molecular weight distribution"
   ]
  },
  {
   "cell_type": "code",
   "execution_count": 17,
   "id": "durable-ready",
   "metadata": {},
   "outputs": [
    {
     "data": {
      "image/png": "[encoded data removed]",
      "text/plain": [
       "<Figure size 432x288 with 1 Axes>"
      ]
     },
     "metadata": {
      "needs_background": "light"
     },
     "output_type": "display_data"
    },
    {
     "name": "stdout",
     "output_type": "stream",
     "text": [
      "count     35.000000\n",
      "mean     463.706314\n",
      "std       84.116508\n",
      "min      278.311000\n",
      "25%      442.568500\n",
      "50%      460.418000\n",
      "75%      494.781500\n",
      "max      780.949000\n",
      "Name: Molecular weight, dtype: float64\n",
      "Kurtosis:\n",
      "5.8529\n",
      "Skewness:\n",
      "0.9404\n"
     ]
    }
   ],
   "source": [
    "plt.hist(df['Molecular weight'],bins=100)\n",
    "plt.xlabel('Molecular weight')\n",
    "plt.ylabel('Number of compounds')\n",
    "plt.title('Histogram of Molecular weight distribution')\n",
    "plt.grid(True)\n",
    "plt.show()\n",
    "\n",
    "print(df['Molecular weight'].describe())\n",
    "print('Kurtosis:')\n",
    "print(round(df['Molecular weight'].kurtosis(),4))\n",
    "print('Skewness:')\n",
    "print(round(df['Molecular weight'].skew(),4))"
   ]
  },
  {
   "cell_type": "markdown",
   "id": "marked-implementation",
   "metadata": {},
   "source": [
    "# the histogram of the octanol-water partition coefficient distribution"
   ]
  },
  {
   "cell_type": "code",
   "execution_count": 18,
   "id": "lyric-telephone",
   "metadata": {},
   "outputs": [
    {
     "data": {
      "image/png": "[encoded data removed]",
      "text/plain": [
       "<Figure size 432x288 with 1 Axes>"
      ]
     },
     "metadata": {
      "needs_background": "light"
     },
     "output_type": "display_data"
    },
    {
     "name": "stdout",
     "output_type": "stream",
     "text": [
      "count    35.000000\n",
      "mean      5.052918\n",
      "std       1.125950\n",
      "min       2.218100\n",
      "25%       4.363950\n",
      "50%       5.012000\n",
      "75%       6.032300\n",
      "max       7.089500\n",
      "Name: alogP, dtype: float64\n",
      "Kurtosis:\n",
      "-0.2713\n",
      "Skewness:\n",
      "-0.3348\n"
     ]
    }
   ],
   "source": [
    "plt.hist(df['alogP'],bins=100)\n",
    "plt.xlabel('alogP')\n",
    "plt.ylabel('Number of compounds')\n",
    "plt.title('Histogram of octanol-water partition coefficient distribution')\n",
    "plt.grid(True)\n",
    "plt.show()\n",
    "\n",
    "print(df['alogP'].describe())\n",
    "print('Kurtosis:')\n",
    "print(round(df['alogP'].kurtosis(),4))\n",
    "print('Skewness:')\n",
    "print(round(df['alogP'].skew(),4))"
   ]
  },
  {
   "cell_type": "markdown",
   "id": "peripheral-miracle",
   "metadata": {},
   "source": [
    "# the histogram of the hydrogen bonding acceptors number distribution"
   ]
  },
  {
   "cell_type": "code",
   "execution_count": 19,
   "id": "metropolitan-charter",
   "metadata": {},
   "outputs": [
    {
     "data": {
      "image/png": "[encoded data removed]",
      "text/plain": [
       "<Figure size 432x288 with 1 Axes>"
      ]
     },
     "metadata": {
      "needs_background": "light"
     },
     "output_type": "display_data"
    },
    {
     "name": "stdout",
     "output_type": "stream",
     "text": [
      "count    35.000000\n",
      "mean      4.114286\n",
      "std       2.097217\n",
      "min       2.000000\n",
      "25%       3.000000\n",
      "50%       4.000000\n",
      "75%       5.000000\n",
      "max      14.000000\n",
      "Name: HBacceptors, dtype: float64\n",
      "Kurtosis:\n",
      "14.4055\n",
      "Skewness:\n",
      "3.1879\n"
     ]
    }
   ],
   "source": [
    "plt.hist(df['HBacceptors'],bins=100)\n",
    "plt.xlabel('HBacceptors')\n",
    "plt.ylabel('Number of compounds')\n",
    "plt.title('Histogram of hydrogen bonding acceptors number distribution')\n",
    "plt.grid(True)\n",
    "plt.show()\n",
    "\n",
    "print(df['HBacceptors'].describe())\n",
    "print('Kurtosis:')\n",
    "print(round(df['HBacceptors'].kurtosis(),4))\n",
    "print('Skewness:')\n",
    "print(round(df['HBacceptors'].skew(),4))"
   ]
  },
  {
   "cell_type": "markdown",
   "id": "presidential-vintage",
   "metadata": {},
   "source": [
    "# the histogram of the hydrogen bonding donors number distribution"
   ]
  },
  {
   "cell_type": "code",
   "execution_count": 20,
   "id": "legitimate-argentina",
   "metadata": {},
   "outputs": [
    {
     "data": {
      "image/png": "[encoded data removed]",
      "text/plain": [
       "<Figure size 432x288 with 1 Axes>"
      ]
     },
     "metadata": {
      "needs_background": "light"
     },
     "output_type": "display_data"
    },
    {
     "name": "stdout",
     "output_type": "stream",
     "text": [
      "count    35.000000\n",
      "mean      1.371429\n",
      "std       1.031439\n",
      "min       0.000000\n",
      "25%       1.000000\n",
      "50%       1.000000\n",
      "75%       2.000000\n",
      "max       6.000000\n",
      "Name: HBdonors, dtype: float64\n",
      "Kurtosis:\n",
      "11.5503\n",
      "Skewness:\n",
      "2.7547\n"
     ]
    }
   ],
   "source": [
    "plt.hist(df['HBdonors'],bins=100)\n",
    "plt.xlabel('HBdonors')\n",
    "plt.ylabel('Number of compounds')\n",
    "plt.title('Histogram of hydrogen bonding donors number distribution')\n",
    "plt.grid(True)\n",
    "plt.show()\n",
    "\n",
    "print(df['HBdonors'].describe())\n",
    "print('Kurtosis:')\n",
    "print(round(df['HBdonors'].kurtosis(),4))\n",
    "print('Skewness:')\n",
    "print(round(df['HBdonors'].skew(),4))"
   ]
  },
  {
   "cell_type": "markdown",
   "id": "designed-minimum",
   "metadata": {},
   "source": [
    "# the histogram of the polar surface area distribution"
   ]
  },
  {
   "cell_type": "code",
   "execution_count": 21,
   "id": "fifty-affairs",
   "metadata": {},
   "outputs": [
    {
     "data": {
      "image/png": "[encoded data removed]",
      "text/plain": [
       "<Figure size 432x288 with 1 Axes>"
      ]
     },
     "metadata": {
      "needs_background": "light"
     },
     "output_type": "display_data"
    },
    {
     "name": "stdout",
     "output_type": "stream",
     "text": [
      "count     35.000000\n",
      "mean      72.702857\n",
      "std       29.763467\n",
      "min       39.600000\n",
      "25%       56.330000\n",
      "50%       71.520000\n",
      "75%       81.930000\n",
      "max      203.060000\n",
      "Name: Polar surface area, dtype: float64\n",
      "Kurtosis:\n",
      "10.2196\n",
      "Skewness:\n",
      "2.5492\n"
     ]
    }
   ],
   "source": [
    "plt.hist(df['Polar surface area'],bins=100)\n",
    "plt.xlabel('Polar surface area')\n",
    "plt.ylabel('Number of compounds')\n",
    "plt.title('Histogram of polar surface area distribution')\n",
    "plt.grid(True)\n",
    "plt.show()\n",
    "\n",
    "print(df['Polar surface area'].describe())\n",
    "print('Kurtosis:')\n",
    "print(round(df['Polar surface area'].kurtosis(),4))\n",
    "print('Skewness:')\n",
    "print(round(df['Polar surface area'].skew(),4))"
   ]
  },
  {
   "cell_type": "markdown",
   "id": "alike-comedy",
   "metadata": {},
   "source": [
    "# the histogram of the rotatable bonds number distribution"
   ]
  },
  {
   "cell_type": "code",
   "execution_count": 22,
   "id": "aggregate-michigan",
   "metadata": {},
   "outputs": [
    {
     "data": {
      "image/png": "[encoded data removed]",
      "text/plain": [
       "<Figure size 432x288 with 1 Axes>"
      ]
     },
     "metadata": {
      "needs_background": "light"
     },
     "output_type": "display_data"
    },
    {
     "name": "stdout",
     "output_type": "stream",
     "text": [
      "count    35.000000\n",
      "mean      6.000000\n",
      "std       2.461468\n",
      "min       1.000000\n",
      "25%       4.000000\n",
      "50%       6.000000\n",
      "75%       8.000000\n",
      "max      11.000000\n",
      "Name: rotatable bonds, dtype: float64\n",
      "Kurtosis:\n",
      "-0.7469\n",
      "Skewness:\n",
      "0.1004\n"
     ]
    }
   ],
   "source": [
    "plt.hist(df['rotatable bonds'],bins=100)\n",
    "plt.xlabel('rotatable bonds')\n",
    "plt.ylabel('Number of compounds')\n",
    "plt.title('Histogram of number of rotatable bonds distribution')\n",
    "plt.grid(True)\n",
    "plt.show()\n",
    "\n",
    "print(df['rotatable bonds'].describe())\n",
    "print('Kurtosis:')\n",
    "print(round(df['rotatable bonds'].kurtosis(),4))\n",
    "print('Skewness:')\n",
    "print(round(df['rotatable bonds'].skew(),4))"
   ]
  },
  {
   "cell_type": "markdown",
   "id": "protective-norway",
   "metadata": {},
   "source": [
    "# the histogram of the aromatics rings number distribution"
   ]
  },
  {
   "cell_type": "code",
   "execution_count": 23,
   "id": "editorial-armstrong",
   "metadata": {},
   "outputs": [
    {
     "data": {
      "image/png": "[encoded data removed]",
      "text/plain": [
       "<Figure size 432x288 with 1 Axes>"
      ]
     },
     "metadata": {
      "needs_background": "light"
     },
     "output_type": "display_data"
    },
    {
     "name": "stdout",
     "output_type": "stream",
     "text": [
      "count    35.000000\n",
      "mean      2.542857\n",
      "std       1.244821\n",
      "min       0.000000\n",
      "25%       2.000000\n",
      "50%       3.000000\n",
      "75%       3.000000\n",
      "max       4.000000\n",
      "Name: aromatics rings, dtype: float64\n",
      "Kurtosis:\n",
      "0.2522\n",
      "Skewness:\n",
      "-0.9768\n"
     ]
    }
   ],
   "source": [
    "plt.hist(df['aromatics rings'],bins=100)\n",
    "plt.xlabel('aromatics rings')\n",
    "plt.ylabel('Number of compounds')\n",
    "plt.title('Histogram of number of aromatics rings distribution')\n",
    "plt.grid(True)\n",
    "plt.show()\n",
    "\n",
    "print(df['aromatics rings'].describe())\n",
    "print('Kurtosis:')\n",
    "print(round(df['aromatics rings'].kurtosis(),4))\n",
    "print('Skewness:')\n",
    "print(round(df['aromatics rings'].skew(),4))"
   ]
  },
  {
   "cell_type": "markdown",
   "id": "4562423f",
   "metadata": {},
   "source": [
    "# QED descriptor"
   ]
  },
  {
   "cell_type": "markdown",
   "id": "6bfe90aa",
   "metadata": {},
   "source": [
    "Drug-Like (QED):\n",
    "\n",
    "    - mass < 400\n",
    "    \n",
    "    - ring count > 0\n",
    "    \n",
    "    - rotatable bond count < 5\n",
    "    \n",
    "    - h-bond donor count <= 5\n",
    "    \n",
    "    - h-bond acceptor count <= 10\n",
    "    \n",
    "    - logP < 5\n",
    "    \n",
    "QED is calculated from weighted sum of ADS of mapped properties:\n",
    "WEIGHT_MEAN = QEDproperties( MW = 0.66, ALOGP = 0.46, HBA = 0.05, HBD = 0.61, PSA = 0.06, ROTB = 0.65, AROM = 0.48, ALERTS = 0.95 )\n",
    "\n",
    "https://github.com/kevinid/molecule_generator/blob/master/rdkit_contrib/qed.py\n",
    "Function is described here...\n"
   ]
  },
  {
   "cell_type": "code",
   "execution_count": 24,
   "id": "39a3f1c6",
   "metadata": {},
   "outputs": [],
   "source": [
    "QED_list_QED = []\n",
    "for smiles in new_set1:\n",
    "    QED_list_QED.append(QED.qed(Chem.MolFromSmiles(smiles)))"
   ]
  },
  {
   "cell_type": "code",
   "execution_count": 25,
   "id": "c2b07dad",
   "metadata": {},
   "outputs": [
    {
     "data": {
      "text/plain": [
       "0.5150085052552582"
      ]
     },
     "execution_count": 25,
     "metadata": {},
     "output_type": "execute_result"
    }
   ],
   "source": [
    "QED_list_QED[0]"
   ]
  },
  {
   "cell_type": "code",
   "execution_count": 26,
   "id": "32c39092",
   "metadata": {},
   "outputs": [],
   "source": [
    "df_QED = pd.DataFrame(QED_list_QED, columns = ['Quantitative Estimation of Drug-likeness'])"
   ]
  },
  {
   "cell_type": "code",
   "execution_count": 27,
   "id": "2e007db9",
   "metadata": {},
   "outputs": [
    {
     "data": {
      "text/html": [
       "<div>\n",
       "<style scoped>\n",
       "    .dataframe tbody tr th:only-of-type {\n",
       "        vertical-align: middle;\n",
       "    }\n",
       "\n",
       "    .dataframe tbody tr th {\n",
       "        vertical-align: top;\n",
       "    }\n",
       "\n",
       "    .dataframe thead th {\n",
       "        text-align: right;\n",
       "    }\n",
       "</style>\n",
       "<table border=\"1\" class=\"dataframe\">\n",
       "  <thead>\n",
       "    <tr style=\"text-align: right;\">\n",
       "      <th></th>\n",
       "      <th>Quantitative Estimation of Drug-likeness</th>\n",
       "    </tr>\n",
       "  </thead>\n",
       "  <tbody>\n",
       "    <tr>\n",
       "      <th>0</th>\n",
       "      <td>0.515009</td>\n",
       "    </tr>\n",
       "    <tr>\n",
       "      <th>1</th>\n",
       "      <td>0.525292</td>\n",
       "    </tr>\n",
       "    <tr>\n",
       "      <th>2</th>\n",
       "      <td>0.515009</td>\n",
       "    </tr>\n",
       "    <tr>\n",
       "      <th>3</th>\n",
       "      <td>0.414109</td>\n",
       "    </tr>\n",
       "    <tr>\n",
       "      <th>4</th>\n",
       "      <td>0.162215</td>\n",
       "    </tr>\n",
       "  </tbody>\n",
       "</table>\n",
       "</div>"
      ],
      "text/plain": [
       "   Quantitative Estimation of Drug-likeness\n",
       "0                                  0.515009\n",
       "1                                  0.525292\n",
       "2                                  0.515009\n",
       "3                                  0.414109\n",
       "4                                  0.162215"
      ]
     },
     "execution_count": 27,
     "metadata": {},
     "output_type": "execute_result"
    }
   ],
   "source": [
    "df_QED.head()"
   ]
  },
  {
   "cell_type": "code",
   "execution_count": 28,
   "id": "98af4f09",
   "metadata": {},
   "outputs": [
    {
     "data": {
      "image/png": "[encoded data removed]",
      "text/plain": [
       "<Figure size 576x360 with 1 Axes>"
      ]
     },
     "metadata": {
      "needs_background": "light"
     },
     "output_type": "display_data"
    },
    {
     "name": "stdout",
     "output_type": "stream",
     "text": [
      "count    35.000000\n",
      "mean      0.510450\n",
      "std       0.162249\n",
      "min       0.162215\n",
      "25%       0.416163\n",
      "50%       0.515009\n",
      "75%       0.627598\n",
      "max       0.802573\n",
      "Name: Quantitative Estimation of Drug-likeness, dtype: float64\n",
      "Kurtosis:\n",
      "-0.614\n",
      "Skewness:\n",
      "-0.1697\n"
     ]
    }
   ],
   "source": [
    "plt.figure(figsize=(8,5))\n",
    "plt.hist(df_QED['Quantitative Estimation of Drug-likeness'],bins=100)\n",
    "plt.xlabel('Quantitative Estimation of Drug-likeness', fontsize=14)\n",
    "plt.ylabel('Number of compounds', fontsize=14)\n",
    "#plt.title('Histogram of QED distribution')\n",
    "plt.axvline(x=0.5, color='r')\n",
    "plt.grid(True)\n",
    "plt.show()\n",
    "\n",
    "print(df_QED['Quantitative Estimation of Drug-likeness'].describe())\n",
    "print('Kurtosis:')\n",
    "print(round(df_QED['Quantitative Estimation of Drug-likeness'].kurtosis(),4))\n",
    "print('Skewness:')\n",
    "print(round(df_QED['Quantitative Estimation of Drug-likeness'].skew(),4))"
   ]
  },
  {
   "cell_type": "markdown",
   "id": "2747b4bc",
   "metadata": {},
   "source": [
    "# Combination of SMILES with QED value"
   ]
  },
  {
   "cell_type": "code",
   "execution_count": 29,
   "id": "ed0cb7c2",
   "metadata": {},
   "outputs": [],
   "source": [
    "dff_17['QED'] = QED_list_QED"
   ]
  },
  {
   "cell_type": "code",
   "execution_count": 30,
   "id": "1d85d120",
   "metadata": {
    "scrolled": true
   },
   "outputs": [
    {
     "data": {
      "text/html": [
       "<div>\n",
       "<style scoped>\n",
       "    .dataframe tbody tr th:only-of-type {\n",
       "        vertical-align: middle;\n",
       "    }\n",
       "\n",
       "    .dataframe tbody tr th {\n",
       "        vertical-align: top;\n",
       "    }\n",
       "\n",
       "    .dataframe thead th {\n",
       "        text-align: right;\n",
       "    }\n",
       "</style>\n",
       "<table border=\"1\" class=\"dataframe\">\n",
       "  <thead>\n",
       "    <tr style=\"text-align: right;\">\n",
       "      <th></th>\n",
       "      <th>index</th>\n",
       "      <th>SMILES</th>\n",
       "      <th>QED</th>\n",
       "    </tr>\n",
       "  </thead>\n",
       "  <tbody>\n",
       "    <tr>\n",
       "      <th>0</th>\n",
       "      <td>0</td>\n",
       "      <td>CC(C)CCCC(C)(O)C1CCC2C3CC=C4CC(O)CCC4(C)C3CCC21C</td>\n",
       "      <td>0.515009</td>\n",
       "    </tr>\n",
       "    <tr>\n",
       "      <th>1</th>\n",
       "      <td>1</td>\n",
       "      <td>CC(C)CCC(O)C(C)C1CCC2C3CC=C4CC(O)CCC4(C)C3CCC12C</td>\n",
       "      <td>0.525292</td>\n",
       "    </tr>\n",
       "    <tr>\n",
       "      <th>2</th>\n",
       "      <td>2</td>\n",
       "      <td>CC(CCCC(C)(C)O)C1CCC2C3CC=C4CC(O)CCC4(C)C3CCC12C</td>\n",
       "      <td>0.515009</td>\n",
       "    </tr>\n",
       "    <tr>\n",
       "      <th>3</th>\n",
       "      <td>3</td>\n",
       "      <td>CC1CCC2(C(=O)O)CCC3(C)C(=CCC4C5(C)CCC(O)C(C)(C...</td>\n",
       "      <td>0.414109</td>\n",
       "    </tr>\n",
       "    <tr>\n",
       "      <th>4</th>\n",
       "      <td>4</td>\n",
       "      <td>CC1OC(OC2C(O)CC(OC3C(O)CC(OC4CCC5(C)C(CCC6C5CC...</td>\n",
       "      <td>0.162215</td>\n",
       "    </tr>\n",
       "  </tbody>\n",
       "</table>\n",
       "</div>"
      ],
      "text/plain": [
       "   index                                             SMILES       QED\n",
       "0      0   CC(C)CCCC(C)(O)C1CCC2C3CC=C4CC(O)CCC4(C)C3CCC21C  0.515009\n",
       "1      1   CC(C)CCC(O)C(C)C1CCC2C3CC=C4CC(O)CCC4(C)C3CCC12C  0.525292\n",
       "2      2   CC(CCCC(C)(C)O)C1CCC2C3CC=C4CC(O)CCC4(C)C3CCC12C  0.515009\n",
       "3      3  CC1CCC2(C(=O)O)CCC3(C)C(=CCC4C5(C)CCC(O)C(C)(C...  0.414109\n",
       "4      4  CC1OC(OC2C(O)CC(OC3C(O)CC(OC4CCC5(C)C(CCC6C5CC...  0.162215"
      ]
     },
     "execution_count": 30,
     "metadata": {},
     "output_type": "execute_result"
    }
   ],
   "source": [
    "dff_17.head()"
   ]
  },
  {
   "cell_type": "code",
   "execution_count": 31,
   "id": "b7e27901",
   "metadata": {},
   "outputs": [],
   "source": [
    "df_QED_above_0_6 = dff_17.loc[dff_17['QED'] > 0.5] #0.6"
   ]
  },
  {
   "cell_type": "code",
   "execution_count": 32,
   "id": "2bc82a4f",
   "metadata": {},
   "outputs": [
    {
     "data": {
      "text/plain": [
       "21"
      ]
     },
     "execution_count": 32,
     "metadata": {},
     "output_type": "execute_result"
    }
   ],
   "source": [
    "len(df_QED_above_0_6['QED'])"
   ]
  },
  {
   "cell_type": "markdown",
   "id": "42c6e20c",
   "metadata": {},
   "source": [
    "# Lipinski's rule of 5"
   ]
  },
  {
   "cell_type": "markdown",
   "id": "afd0536d",
   "metadata": {},
   "source": [
    "Lipinski:\n",
    "\n",
    "    - Moleculer Weight <= 500\n",
    "    \n",
    "    - LogP <= 5\n",
    "    \n",
    "    - H-Bond Donor Count <= 5\n",
    "    \n",
    "    - H-Bond Acceptor Count <= 10\n",
    "    \n",
    "    - Rotatable bonds <= 5"
   ]
  },
  {
   "cell_type": "code",
   "execution_count": 33,
   "id": "194bddfa",
   "metadata": {},
   "outputs": [],
   "source": [
    "dff_17['molecular_weight'] = [Descriptors.ExactMolWt(Chem.MolFromSmiles(molecule)) for molecule in dff_17['SMILES']]\n",
    "dff_17['logp'] = [Descriptors.MolLogP(Chem.MolFromSmiles(molecule)) for molecule in dff_17['SMILES']]\n",
    "dff_17['h_bond_donors'] = [Descriptors.NumHDonors(Chem.MolFromSmiles(molecule)) for molecule in dff_17['SMILES']]\n",
    "dff_17['h_bond_acceptors'] = [Descriptors.NumHAcceptors(Chem.MolFromSmiles(molecule)) for molecule in dff_17['SMILES']]\n",
    "dff_17['rotatable_bonds'] = [Descriptors.NumRotatableBonds(Chem.MolFromSmiles(molecule)) for molecule in dff_17['SMILES']]"
   ]
  },
  {
   "cell_type": "code",
   "execution_count": 34,
   "id": "ce67f622",
   "metadata": {},
   "outputs": [
    {
     "data": {
      "text/html": [
       "<div>\n",
       "<style scoped>\n",
       "    .dataframe tbody tr th:only-of-type {\n",
       "        vertical-align: middle;\n",
       "    }\n",
       "\n",
       "    .dataframe tbody tr th {\n",
       "        vertical-align: top;\n",
       "    }\n",
       "\n",
       "    .dataframe thead th {\n",
       "        text-align: right;\n",
       "    }\n",
       "</style>\n",
       "<table border=\"1\" class=\"dataframe\">\n",
       "  <thead>\n",
       "    <tr style=\"text-align: right;\">\n",
       "      <th></th>\n",
       "      <th>index</th>\n",
       "      <th>SMILES</th>\n",
       "      <th>QED</th>\n",
       "      <th>molecular_weight</th>\n",
       "      <th>logp</th>\n",
       "      <th>h_bond_donors</th>\n",
       "      <th>h_bond_acceptors</th>\n",
       "      <th>rotatable_bonds</th>\n",
       "    </tr>\n",
       "  </thead>\n",
       "  <tbody>\n",
       "    <tr>\n",
       "      <th>0</th>\n",
       "      <td>0</td>\n",
       "      <td>CC(C)CCCC(C)(O)C1CCC2C3CC=C4CC(O)CCC4(C)C3CCC21C</td>\n",
       "      <td>0.515009</td>\n",
       "      <td>402.349781</td>\n",
       "      <td>6.5036</td>\n",
       "      <td>2</td>\n",
       "      <td>2</td>\n",
       "      <td>5</td>\n",
       "    </tr>\n",
       "    <tr>\n",
       "      <th>1</th>\n",
       "      <td>1</td>\n",
       "      <td>CC(C)CCC(O)C(C)C1CCC2C3CC=C4CC(O)CCC4(C)C3CCC12C</td>\n",
       "      <td>0.525292</td>\n",
       "      <td>402.349781</td>\n",
       "      <td>6.3595</td>\n",
       "      <td>2</td>\n",
       "      <td>2</td>\n",
       "      <td>5</td>\n",
       "    </tr>\n",
       "    <tr>\n",
       "      <th>2</th>\n",
       "      <td>2</td>\n",
       "      <td>CC(CCCC(C)(C)O)C1CCC2C3CC=C4CC(O)CCC4(C)C3CCC12C</td>\n",
       "      <td>0.515009</td>\n",
       "      <td>402.349781</td>\n",
       "      <td>6.5036</td>\n",
       "      <td>2</td>\n",
       "      <td>2</td>\n",
       "      <td>5</td>\n",
       "    </tr>\n",
       "    <tr>\n",
       "      <th>3</th>\n",
       "      <td>3</td>\n",
       "      <td>CC1CCC2(C(=O)O)CCC3(C)C(=CCC4C5(C)CCC(O)C(C)(C...</td>\n",
       "      <td>0.414109</td>\n",
       "      <td>456.360345</td>\n",
       "      <td>7.0895</td>\n",
       "      <td>2</td>\n",
       "      <td>2</td>\n",
       "      <td>1</td>\n",
       "    </tr>\n",
       "    <tr>\n",
       "      <th>4</th>\n",
       "      <td>4</td>\n",
       "      <td>CC1OC(OC2C(O)CC(OC3C(O)CC(OC4CCC5(C)C(CCC6C5CC...</td>\n",
       "      <td>0.162215</td>\n",
       "      <td>780.429607</td>\n",
       "      <td>2.2181</td>\n",
       "      <td>6</td>\n",
       "      <td>14</td>\n",
       "      <td>7</td>\n",
       "    </tr>\n",
       "  </tbody>\n",
       "</table>\n",
       "</div>"
      ],
      "text/plain": [
       "   index                                             SMILES       QED  \\\n",
       "0      0   CC(C)CCCC(C)(O)C1CCC2C3CC=C4CC(O)CCC4(C)C3CCC21C  0.515009   \n",
       "1      1   CC(C)CCC(O)C(C)C1CCC2C3CC=C4CC(O)CCC4(C)C3CCC12C  0.525292   \n",
       "2      2   CC(CCCC(C)(C)O)C1CCC2C3CC=C4CC(O)CCC4(C)C3CCC12C  0.515009   \n",
       "3      3  CC1CCC2(C(=O)O)CCC3(C)C(=CCC4C5(C)CCC(O)C(C)(C...  0.414109   \n",
       "4      4  CC1OC(OC2C(O)CC(OC3C(O)CC(OC4CCC5(C)C(CCC6C5CC...  0.162215   \n",
       "\n",
       "   molecular_weight    logp  h_bond_donors  h_bond_acceptors  rotatable_bonds  \n",
       "0        402.349781  6.5036              2                 2                5  \n",
       "1        402.349781  6.3595              2                 2                5  \n",
       "2        402.349781  6.5036              2                 2                5  \n",
       "3        456.360345  7.0895              2                 2                1  \n",
       "4        780.429607  2.2181              6                14                7  "
      ]
     },
     "execution_count": 34,
     "metadata": {},
     "output_type": "execute_result"
    }
   ],
   "source": [
    "dff_17.head()"
   ]
  },
  {
   "cell_type": "code",
   "execution_count": 35,
   "id": "ac41812c",
   "metadata": {},
   "outputs": [],
   "source": [
    "# Lipinski\n",
    "dff_17['Lipinski Rule of 5'] = 0\n",
    "for element in range(len(dff_17)):\n",
    "    \n",
    "    if dff_17['molecular_weight'][element] <= 500 and dff_17['logp'][element] <= 5 and dff_17['h_bond_donors'][element] <= 5 and dff_17['h_bond_acceptors'][element] <= 10 and dff_17['rotatable_bonds'][element] <= 5:\n",
    "        lipinski = True\n",
    "        dff_17[\"Lipinski Rule of 5\"][element] = 1\n",
    "    else:\n",
    "        dff_17[\"Lipinski Rule of 5\"][element] = 0"
   ]
  },
  {
   "cell_type": "code",
   "execution_count": 36,
   "id": "e03d3444",
   "metadata": {
    "scrolled": true
   },
   "outputs": [
    {
     "data": {
      "text/html": [
       "<div>\n",
       "<style scoped>\n",
       "    .dataframe tbody tr th:only-of-type {\n",
       "        vertical-align: middle;\n",
       "    }\n",
       "\n",
       "    .dataframe tbody tr th {\n",
       "        vertical-align: top;\n",
       "    }\n",
       "\n",
       "    .dataframe thead th {\n",
       "        text-align: right;\n",
       "    }\n",
       "</style>\n",
       "<table border=\"1\" class=\"dataframe\">\n",
       "  <thead>\n",
       "    <tr style=\"text-align: right;\">\n",
       "      <th></th>\n",
       "      <th>index</th>\n",
       "      <th>SMILES</th>\n",
       "      <th>QED</th>\n",
       "      <th>molecular_weight</th>\n",
       "      <th>logp</th>\n",
       "      <th>h_bond_donors</th>\n",
       "      <th>h_bond_acceptors</th>\n",
       "      <th>rotatable_bonds</th>\n",
       "      <th>Lipinski Rule of 5</th>\n",
       "    </tr>\n",
       "  </thead>\n",
       "  <tbody>\n",
       "    <tr>\n",
       "      <th>0</th>\n",
       "      <td>0</td>\n",
       "      <td>CC(C)CCCC(C)(O)C1CCC2C3CC=C4CC(O)CCC4(C)C3CCC21C</td>\n",
       "      <td>0.515009</td>\n",
       "      <td>402.349781</td>\n",
       "      <td>6.5036</td>\n",
       "      <td>2</td>\n",
       "      <td>2</td>\n",
       "      <td>5</td>\n",
       "      <td>0</td>\n",
       "    </tr>\n",
       "    <tr>\n",
       "      <th>1</th>\n",
       "      <td>1</td>\n",
       "      <td>CC(C)CCC(O)C(C)C1CCC2C3CC=C4CC(O)CCC4(C)C3CCC12C</td>\n",
       "      <td>0.525292</td>\n",
       "      <td>402.349781</td>\n",
       "      <td>6.3595</td>\n",
       "      <td>2</td>\n",
       "      <td>2</td>\n",
       "      <td>5</td>\n",
       "      <td>0</td>\n",
       "    </tr>\n",
       "    <tr>\n",
       "      <th>2</th>\n",
       "      <td>2</td>\n",
       "      <td>CC(CCCC(C)(C)O)C1CCC2C3CC=C4CC(O)CCC4(C)C3CCC12C</td>\n",
       "      <td>0.515009</td>\n",
       "      <td>402.349781</td>\n",
       "      <td>6.5036</td>\n",
       "      <td>2</td>\n",
       "      <td>2</td>\n",
       "      <td>5</td>\n",
       "      <td>0</td>\n",
       "    </tr>\n",
       "    <tr>\n",
       "      <th>3</th>\n",
       "      <td>3</td>\n",
       "      <td>CC1CCC2(C(=O)O)CCC3(C)C(=CCC4C5(C)CCC(O)C(C)(C...</td>\n",
       "      <td>0.414109</td>\n",
       "      <td>456.360345</td>\n",
       "      <td>7.0895</td>\n",
       "      <td>2</td>\n",
       "      <td>2</td>\n",
       "      <td>1</td>\n",
       "      <td>0</td>\n",
       "    </tr>\n",
       "    <tr>\n",
       "      <th>4</th>\n",
       "      <td>4</td>\n",
       "      <td>CC1OC(OC2C(O)CC(OC3C(O)CC(OC4CCC5(C)C(CCC6C5CC...</td>\n",
       "      <td>0.162215</td>\n",
       "      <td>780.429607</td>\n",
       "      <td>2.2181</td>\n",
       "      <td>6</td>\n",
       "      <td>14</td>\n",
       "      <td>7</td>\n",
       "      <td>0</td>\n",
       "    </tr>\n",
       "  </tbody>\n",
       "</table>\n",
       "</div>"
      ],
      "text/plain": [
       "   index                                             SMILES       QED  \\\n",
       "0      0   CC(C)CCCC(C)(O)C1CCC2C3CC=C4CC(O)CCC4(C)C3CCC21C  0.515009   \n",
       "1      1   CC(C)CCC(O)C(C)C1CCC2C3CC=C4CC(O)CCC4(C)C3CCC12C  0.525292   \n",
       "2      2   CC(CCCC(C)(C)O)C1CCC2C3CC=C4CC(O)CCC4(C)C3CCC12C  0.515009   \n",
       "3      3  CC1CCC2(C(=O)O)CCC3(C)C(=CCC4C5(C)CCC(O)C(C)(C...  0.414109   \n",
       "4      4  CC1OC(OC2C(O)CC(OC3C(O)CC(OC4CCC5(C)C(CCC6C5CC...  0.162215   \n",
       "\n",
       "   molecular_weight    logp  h_bond_donors  h_bond_acceptors  rotatable_bonds  \\\n",
       "0        402.349781  6.5036              2                 2                5   \n",
       "1        402.349781  6.3595              2                 2                5   \n",
       "2        402.349781  6.5036              2                 2                5   \n",
       "3        456.360345  7.0895              2                 2                1   \n",
       "4        780.429607  2.2181              6                14                7   \n",
       "\n",
       "   Lipinski Rule of 5  \n",
       "0                   0  \n",
       "1                   0  \n",
       "2                   0  \n",
       "3                   0  \n",
       "4                   0  "
      ]
     },
     "execution_count": 36,
     "metadata": {},
     "output_type": "execute_result"
    }
   ],
   "source": [
    "dff_17.head()"
   ]
  },
  {
   "cell_type": "code",
   "execution_count": 37,
   "id": "7ca348fc",
   "metadata": {},
   "outputs": [
    {
     "data": {
      "image/png": "[encoded data removed]",
      "text/plain": [
       "<Figure size 576x360 with 1 Axes>"
      ]
     },
     "metadata": {
      "needs_background": "light"
     },
     "output_type": "display_data"
    },
    {
     "name": "stdout",
     "output_type": "stream",
     "text": [
      "count    35.000000\n",
      "mean      0.257143\n",
      "std       0.443440\n",
      "min       0.000000\n",
      "25%       0.000000\n",
      "50%       0.000000\n",
      "75%       0.500000\n",
      "max       1.000000\n",
      "Name: Lipinski Rule of 5, dtype: float64\n",
      "Kurtosis:\n",
      "-0.6935\n",
      "Skewness:\n",
      "1.1617\n"
     ]
    }
   ],
   "source": [
    "plt.figure(figsize=(8,5))\n",
    "plt.hist(dff_17['Lipinski Rule of 5'],bins=10)\n",
    "plt.xlabel(\"Lipinski's rule of 5 fulfillment\", fontsize=14)\n",
    "plt.ylabel('Number of compounds', fontsize=14)\n",
    "#plt.title(\"Histogram of Lipinski's rule of 5 fulfillment distribution\")\n",
    "plt.grid(True)\n",
    "plt.show()\n",
    "\n",
    "print(dff_17['Lipinski Rule of 5'].describe())\n",
    "print('Kurtosis:')\n",
    "print(round(dff_17['Lipinski Rule of 5'].kurtosis(),4))\n",
    "print('Skewness:')\n",
    "print(round(dff_17['Lipinski Rule of 5'].skew(),4))"
   ]
  },
  {
   "cell_type": "code",
   "execution_count": 38,
   "id": "3820054e",
   "metadata": {},
   "outputs": [],
   "source": [
    "to_excel = dff_17[(dff_17['QED'] > 0.5) & (dff_17['Lipinski Rule of 5'] == 1)] #0.6\n",
    "QED_list_0 = [QED.properties(Chem.MolFromSmiles(smiles)) for smiles in to_excel['SMILES']]\n",
    "df = pd.DataFrame.from_records(QED_list_0, columns = ['Molecular weight', 'alogP', 'HBacceptors','HBdonors',\n",
    "                                                    'Polar surface area','rotatable bonds','aromatics rings','alerts'])\n",
    "to_excel = to_excel.reset_index()\n",
    "to_excel['Polar surface area'] = df['Polar surface area']\n",
    "to_excel['aromatics rings'] = df['aromatics rings']\n",
    "to_excel['Lipinski alerts - to QED calc'] = df['alerts']"
   ]
  },
  {
   "cell_type": "code",
   "execution_count": 39,
   "id": "286c3c41",
   "metadata": {},
   "outputs": [],
   "source": [
    "column_order = ['SMILES', 'molecular_weight', 'logp', 'h_bond_donors', 'h_bond_acceptors', 'rotatable_bonds', 'Polar surface area', 'aromatics rings', 'Lipinski alerts - to QED calc', 'Lipinski Rule of 5', 'QED']"
   ]
  },
  {
   "cell_type": "code",
   "execution_count": 40,
   "id": "6b7f9bb7",
   "metadata": {},
   "outputs": [],
   "source": [
    "to_excel = to_excel[column_order]"
   ]
  },
  {
   "cell_type": "code",
   "execution_count": 41,
   "id": "3eb10908",
   "metadata": {},
   "outputs": [
    {
     "data": {
      "text/html": [
       "<div>\n",
       "<style scoped>\n",
       "    .dataframe tbody tr th:only-of-type {\n",
       "        vertical-align: middle;\n",
       "    }\n",
       "\n",
       "    .dataframe tbody tr th {\n",
       "        vertical-align: top;\n",
       "    }\n",
       "\n",
       "    .dataframe thead th {\n",
       "        text-align: right;\n",
       "    }\n",
       "</style>\n",
       "<table border=\"1\" class=\"dataframe\">\n",
       "  <thead>\n",
       "    <tr style=\"text-align: right;\">\n",
       "      <th></th>\n",
       "      <th>SMILES</th>\n",
       "      <th>molecular_weight</th>\n",
       "      <th>logp</th>\n",
       "      <th>h_bond_donors</th>\n",
       "      <th>h_bond_acceptors</th>\n",
       "      <th>rotatable_bonds</th>\n",
       "      <th>Polar surface area</th>\n",
       "      <th>aromatics rings</th>\n",
       "      <th>Lipinski alerts - to QED calc</th>\n",
       "      <th>Lipinski Rule of 5</th>\n",
       "      <th>QED</th>\n",
       "    </tr>\n",
       "  </thead>\n",
       "  <tbody>\n",
       "    <tr>\n",
       "      <th>0</th>\n",
       "      <td>O=S(=O)(c1ccccc1)N(CC(F)(F)F)c1ccc(C(O)(C(F)(F...</td>\n",
       "      <td>481.039418</td>\n",
       "      <td>4.75640</td>\n",
       "      <td>1</td>\n",
       "      <td>3</td>\n",
       "      <td>5</td>\n",
       "      <td>57.61</td>\n",
       "      <td>2</td>\n",
       "      <td>1</td>\n",
       "      <td>1</td>\n",
       "      <td>0.627349</td>\n",
       "    </tr>\n",
       "    <tr>\n",
       "      <th>1</th>\n",
       "      <td>CC(=O)Nc1nc(C)c(S(=O)(=O)Nc2ccc(C(O)(C(F)(F)F)...</td>\n",
       "      <td>477.025167</td>\n",
       "      <td>3.52292</td>\n",
       "      <td>3</td>\n",
       "      <td>6</td>\n",
       "      <td>5</td>\n",
       "      <td>108.39</td>\n",
       "      <td>2</td>\n",
       "      <td>1</td>\n",
       "      <td>1</td>\n",
       "      <td>0.571467</td>\n",
       "    </tr>\n",
       "    <tr>\n",
       "      <th>2</th>\n",
       "      <td>CC(=O)N1CCN(Cc2ccc(-c3ccc(C(O)(C(F)(F)F)C(F)(F...</td>\n",
       "      <td>460.158547</td>\n",
       "      <td>4.32990</td>\n",
       "      <td>1</td>\n",
       "      <td>3</td>\n",
       "      <td>4</td>\n",
       "      <td>43.78</td>\n",
       "      <td>2</td>\n",
       "      <td>1</td>\n",
       "      <td>1</td>\n",
       "      <td>0.691332</td>\n",
       "    </tr>\n",
       "    <tr>\n",
       "      <th>3</th>\n",
       "      <td>CC(=O)Nc1ccc2c(c1)CCCN2Cc1ccc(C(O)(C(F)(F)F)C(...</td>\n",
       "      <td>446.142897</td>\n",
       "      <td>4.91000</td>\n",
       "      <td>2</td>\n",
       "      <td>3</td>\n",
       "      <td>4</td>\n",
       "      <td>52.57</td>\n",
       "      <td>2</td>\n",
       "      <td>1</td>\n",
       "      <td>1</td>\n",
       "      <td>0.656690</td>\n",
       "    </tr>\n",
       "    <tr>\n",
       "      <th>4</th>\n",
       "      <td>O=S(=O)(Nc1ccc2c(c1)N(S(=O)(=O)c1ccc(F)cc1)CCC...</td>\n",
       "      <td>482.058184</td>\n",
       "      <td>4.04620</td>\n",
       "      <td>1</td>\n",
       "      <td>4</td>\n",
       "      <td>5</td>\n",
       "      <td>83.55</td>\n",
       "      <td>3</td>\n",
       "      <td>0</td>\n",
       "      <td>1</td>\n",
       "      <td>0.594979</td>\n",
       "    </tr>\n",
       "  </tbody>\n",
       "</table>\n",
       "</div>"
      ],
      "text/plain": [
       "                                              SMILES  molecular_weight  \\\n",
       "0  O=S(=O)(c1ccccc1)N(CC(F)(F)F)c1ccc(C(O)(C(F)(F...        481.039418   \n",
       "1  CC(=O)Nc1nc(C)c(S(=O)(=O)Nc2ccc(C(O)(C(F)(F)F)...        477.025167   \n",
       "2  CC(=O)N1CCN(Cc2ccc(-c3ccc(C(O)(C(F)(F)F)C(F)(F...        460.158547   \n",
       "3  CC(=O)Nc1ccc2c(c1)CCCN2Cc1ccc(C(O)(C(F)(F)F)C(...        446.142897   \n",
       "4  O=S(=O)(Nc1ccc2c(c1)N(S(=O)(=O)c1ccc(F)cc1)CCC...        482.058184   \n",
       "\n",
       "      logp  h_bond_donors  h_bond_acceptors  rotatable_bonds  \\\n",
       "0  4.75640              1                 3                5   \n",
       "1  3.52292              3                 6                5   \n",
       "2  4.32990              1                 3                4   \n",
       "3  4.91000              2                 3                4   \n",
       "4  4.04620              1                 4                5   \n",
       "\n",
       "   Polar surface area  aromatics rings  Lipinski alerts - to QED calc  \\\n",
       "0               57.61                2                              1   \n",
       "1              108.39                2                              1   \n",
       "2               43.78                2                              1   \n",
       "3               52.57                2                              1   \n",
       "4               83.55                3                              0   \n",
       "\n",
       "   Lipinski Rule of 5       QED  \n",
       "0                   1  0.627349  \n",
       "1                   1  0.571467  \n",
       "2                   1  0.691332  \n",
       "3                   1  0.656690  \n",
       "4                   1  0.594979  "
      ]
     },
     "execution_count": 41,
     "metadata": {},
     "output_type": "execute_result"
    }
   ],
   "source": [
    "to_excel.head()"
   ]
  },
  {
   "cell_type": "code",
   "execution_count": 42,
   "id": "b36dece7",
   "metadata": {},
   "outputs": [
    {
     "data": {
      "text/html": [
       "<div>\n",
       "<style scoped>\n",
       "    .dataframe tbody tr th:only-of-type {\n",
       "        vertical-align: middle;\n",
       "    }\n",
       "\n",
       "    .dataframe tbody tr th {\n",
       "        vertical-align: top;\n",
       "    }\n",
       "\n",
       "    .dataframe thead th {\n",
       "        text-align: right;\n",
       "    }\n",
       "</style>\n",
       "<table border=\"1\" class=\"dataframe\">\n",
       "  <thead>\n",
       "    <tr style=\"text-align: right;\">\n",
       "      <th></th>\n",
       "      <th>SMILES</th>\n",
       "      <th>molecular_weight</th>\n",
       "      <th>logp</th>\n",
       "      <th>h_bond_donors</th>\n",
       "      <th>h_bond_acceptors</th>\n",
       "      <th>rotatable_bonds</th>\n",
       "      <th>Polar surface area</th>\n",
       "      <th>aromatics rings</th>\n",
       "      <th>Lipinski alerts - to QED calc</th>\n",
       "      <th>Lipinski Rule of 5</th>\n",
       "      <th>QED</th>\n",
       "    </tr>\n",
       "  </thead>\n",
       "  <tbody>\n",
       "    <tr>\n",
       "      <th>0</th>\n",
       "      <td>O=S(=O)(c1ccccc1)N(CC(F)(F)F)c1ccc(C(O)(C(F)(F...</td>\n",
       "      <td>481.039418</td>\n",
       "      <td>4.75640</td>\n",
       "      <td>1</td>\n",
       "      <td>3</td>\n",
       "      <td>5</td>\n",
       "      <td>57.61</td>\n",
       "      <td>2</td>\n",
       "      <td>1</td>\n",
       "      <td>1</td>\n",
       "      <td>0.627349</td>\n",
       "    </tr>\n",
       "    <tr>\n",
       "      <th>1</th>\n",
       "      <td>CC(=O)Nc1nc(C)c(S(=O)(=O)Nc2ccc(C(O)(C(F)(F)F)...</td>\n",
       "      <td>477.025167</td>\n",
       "      <td>3.52292</td>\n",
       "      <td>3</td>\n",
       "      <td>6</td>\n",
       "      <td>5</td>\n",
       "      <td>108.39</td>\n",
       "      <td>2</td>\n",
       "      <td>1</td>\n",
       "      <td>1</td>\n",
       "      <td>0.571467</td>\n",
       "    </tr>\n",
       "    <tr>\n",
       "      <th>2</th>\n",
       "      <td>CC(=O)N1CCN(Cc2ccc(-c3ccc(C(O)(C(F)(F)F)C(F)(F...</td>\n",
       "      <td>460.158547</td>\n",
       "      <td>4.32990</td>\n",
       "      <td>1</td>\n",
       "      <td>3</td>\n",
       "      <td>4</td>\n",
       "      <td>43.78</td>\n",
       "      <td>2</td>\n",
       "      <td>1</td>\n",
       "      <td>1</td>\n",
       "      <td>0.691332</td>\n",
       "    </tr>\n",
       "    <tr>\n",
       "      <th>3</th>\n",
       "      <td>CC(=O)Nc1ccc2c(c1)CCCN2Cc1ccc(C(O)(C(F)(F)F)C(...</td>\n",
       "      <td>446.142897</td>\n",
       "      <td>4.91000</td>\n",
       "      <td>2</td>\n",
       "      <td>3</td>\n",
       "      <td>4</td>\n",
       "      <td>52.57</td>\n",
       "      <td>2</td>\n",
       "      <td>1</td>\n",
       "      <td>1</td>\n",
       "      <td>0.656690</td>\n",
       "    </tr>\n",
       "    <tr>\n",
       "      <th>4</th>\n",
       "      <td>O=S(=O)(Nc1ccc2c(c1)N(S(=O)(=O)c1ccc(F)cc1)CCC...</td>\n",
       "      <td>482.058184</td>\n",
       "      <td>4.04620</td>\n",
       "      <td>1</td>\n",
       "      <td>4</td>\n",
       "      <td>5</td>\n",
       "      <td>83.55</td>\n",
       "      <td>3</td>\n",
       "      <td>0</td>\n",
       "      <td>1</td>\n",
       "      <td>0.594979</td>\n",
       "    </tr>\n",
       "    <tr>\n",
       "      <th>5</th>\n",
       "      <td>O=C(O)C1CCC(c2nn(C(=O)c3c(Cl)cccc3C(F)(F)F)c3c...</td>\n",
       "      <td>482.065648</td>\n",
       "      <td>4.77500</td>\n",
       "      <td>2</td>\n",
       "      <td>5</td>\n",
       "      <td>3</td>\n",
       "      <td>92.42</td>\n",
       "      <td>3</td>\n",
       "      <td>1</td>\n",
       "      <td>1</td>\n",
       "      <td>0.524369</td>\n",
       "    </tr>\n",
       "    <tr>\n",
       "      <th>6</th>\n",
       "      <td>Cc1cccc(C(=O)Nc2cc(-c3ccccc3)no2)c1</td>\n",
       "      <td>278.105528</td>\n",
       "      <td>3.90232</td>\n",
       "      <td>1</td>\n",
       "      <td>3</td>\n",
       "      <td>3</td>\n",
       "      <td>55.13</td>\n",
       "      <td>3</td>\n",
       "      <td>0</td>\n",
       "      <td>1</td>\n",
       "      <td>0.790067</td>\n",
       "    </tr>\n",
       "    <tr>\n",
       "      <th>7</th>\n",
       "      <td>Cc1cc(C)c2nc(C(=O)Nc3sccc3C)sc2c1</td>\n",
       "      <td>302.054755</td>\n",
       "      <td>4.53536</td>\n",
       "      <td>1</td>\n",
       "      <td>4</td>\n",
       "      <td>2</td>\n",
       "      <td>41.99</td>\n",
       "      <td>3</td>\n",
       "      <td>0</td>\n",
       "      <td>1</td>\n",
       "      <td>0.755082</td>\n",
       "    </tr>\n",
       "    <tr>\n",
       "      <th>8</th>\n",
       "      <td>CCC(=O)Nc1ccc2nn(-c3ccc(CC)cc3)nc2c1</td>\n",
       "      <td>294.148061</td>\n",
       "      <td>3.33140</td>\n",
       "      <td>1</td>\n",
       "      <td>4</td>\n",
       "      <td>4</td>\n",
       "      <td>59.81</td>\n",
       "      <td>3</td>\n",
       "      <td>0</td>\n",
       "      <td>1</td>\n",
       "      <td>0.802573</td>\n",
       "    </tr>\n",
       "  </tbody>\n",
       "</table>\n",
       "</div>"
      ],
      "text/plain": [
       "                                              SMILES  molecular_weight  \\\n",
       "0  O=S(=O)(c1ccccc1)N(CC(F)(F)F)c1ccc(C(O)(C(F)(F...        481.039418   \n",
       "1  CC(=O)Nc1nc(C)c(S(=O)(=O)Nc2ccc(C(O)(C(F)(F)F)...        477.025167   \n",
       "2  CC(=O)N1CCN(Cc2ccc(-c3ccc(C(O)(C(F)(F)F)C(F)(F...        460.158547   \n",
       "3  CC(=O)Nc1ccc2c(c1)CCCN2Cc1ccc(C(O)(C(F)(F)F)C(...        446.142897   \n",
       "4  O=S(=O)(Nc1ccc2c(c1)N(S(=O)(=O)c1ccc(F)cc1)CCC...        482.058184   \n",
       "5  O=C(O)C1CCC(c2nn(C(=O)c3c(Cl)cccc3C(F)(F)F)c3c...        482.065648   \n",
       "6                Cc1cccc(C(=O)Nc2cc(-c3ccccc3)no2)c1        278.105528   \n",
       "7                  Cc1cc(C)c2nc(C(=O)Nc3sccc3C)sc2c1        302.054755   \n",
       "8               CCC(=O)Nc1ccc2nn(-c3ccc(CC)cc3)nc2c1        294.148061   \n",
       "\n",
       "      logp  h_bond_donors  h_bond_acceptors  rotatable_bonds  \\\n",
       "0  4.75640              1                 3                5   \n",
       "1  3.52292              3                 6                5   \n",
       "2  4.32990              1                 3                4   \n",
       "3  4.91000              2                 3                4   \n",
       "4  4.04620              1                 4                5   \n",
       "5  4.77500              2                 5                3   \n",
       "6  3.90232              1                 3                3   \n",
       "7  4.53536              1                 4                2   \n",
       "8  3.33140              1                 4                4   \n",
       "\n",
       "   Polar surface area  aromatics rings  Lipinski alerts - to QED calc  \\\n",
       "0               57.61                2                              1   \n",
       "1              108.39                2                              1   \n",
       "2               43.78                2                              1   \n",
       "3               52.57                2                              1   \n",
       "4               83.55                3                              0   \n",
       "5               92.42                3                              1   \n",
       "6               55.13                3                              0   \n",
       "7               41.99                3                              0   \n",
       "8               59.81                3                              0   \n",
       "\n",
       "   Lipinski Rule of 5       QED  \n",
       "0                   1  0.627349  \n",
       "1                   1  0.571467  \n",
       "2                   1  0.691332  \n",
       "3                   1  0.656690  \n",
       "4                   1  0.594979  \n",
       "5                   1  0.524369  \n",
       "6                   1  0.790067  \n",
       "7                   1  0.755082  \n",
       "8                   1  0.802573  "
      ]
     },
     "execution_count": 42,
     "metadata": {},
     "output_type": "execute_result"
    }
   ],
   "source": [
    "to_excel"
   ]
  },
  {
   "cell_type": "code",
   "execution_count": 43,
   "id": "a5acb177",
   "metadata": {},
   "outputs": [
    {
     "name": "stdout",
     "output_type": "stream",
     "text": [
      "Percentage of molecules that fulfilled restrictions: 25.71%.\n"
     ]
    }
   ],
   "source": [
    "print(\"Percentage of molecules that fulfilled restrictions: \"+str((round(len(to_excel)*100/len(dff_17),2)))+'%.')"
   ]
  },
  {
   "cell_type": "code",
   "execution_count": 44,
   "id": "d2533868",
   "metadata": {},
   "outputs": [],
   "source": [
    "to_excel.to_excel('ROR_gamma_active_QED_Lipinski.xlsx')"
   ]
  }
 ],
 "metadata": {
  "kernelspec": {
   "display_name": "Python 3 (ipykernel)",
   "language": "python",
   "name": "python3"
  },
  "language_info": {
   "codemirror_mode": {
    "name": "ipython",
    "version": 3
   },
   "file_extension": ".py",
   "mimetype": "text/x-python",
   "name": "python",
   "nbconvert_exporter": "python",
   "pygments_lexer": "ipython3",
   "version": "3.8.12"
  }
 },
 "nbformat": 4,
 "nbformat_minor": 5
}
