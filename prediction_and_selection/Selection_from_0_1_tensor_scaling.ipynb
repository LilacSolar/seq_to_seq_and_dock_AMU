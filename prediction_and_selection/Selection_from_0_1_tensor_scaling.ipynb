{
 "cells": [
  {
   "cell_type": "markdown",
   "id": "a338e41b",
   "metadata": {},
   "source": [
    "# Libraries import"
   ]
  },
  {
   "cell_type": "code",
   "execution_count": 1,
   "id": "b5e5d213",
   "metadata": {},
   "outputs": [],
   "source": [
    "import matplotlib.pyplot as plt\n",
    "import pandas as pd\n",
    "from rdkit import Chem, DataStructs\n",
    "from rdkit.Chem import AllChem, Descriptors\n",
    "import rdkit\n",
    "from rdkit.Chem import QED\n",
    "import warnings\n",
    "warnings.filterwarnings('ignore')"
   ]
  },
  {
   "cell_type": "markdown",
   "id": "f94e5509",
   "metadata": {},
   "source": [
    "# Data loading"
   ]
  },
  {
   "cell_type": "code",
   "execution_count": 2,
   "id": "2893e336",
   "metadata": {},
   "outputs": [],
   "source": [
    "ROR_mol = pd.read_excel('Molecules_generated_tensor_scaling_0_1.xlsx')"
   ]
  },
  {
   "cell_type": "code",
   "execution_count": 3,
   "id": "b040812d",
   "metadata": {},
   "outputs": [
    {
     "data": {
      "text/plain": [
       "(55, 2)"
      ]
     },
     "execution_count": 3,
     "metadata": {},
     "output_type": "execute_result"
    }
   ],
   "source": [
    "ROR_mol.shape"
   ]
  },
  {
   "cell_type": "code",
   "execution_count": 4,
   "id": "5e972109",
   "metadata": {},
   "outputs": [
    {
     "data": {
      "text/plain": [
       "0          CCC(=O)NCC1=CN(C2=NC=NC(C#N)=C2C)C1SOC\n",
       "1    CCC(=O)NCC1=CC=NN1S2C=C(C3=CC=CC=C3F)N[NH1]2\n",
       "2        CCC(=O)NCC=1C=NC=C(S(=O)(=O)C(C)CC#N)N=1\n",
       "3        CCC(=O)N1CC2C(C#N)(S(=O)C3=CC=CC=N3)CC12\n",
       "4       CCC(=O)N1C=2C=CN(C3=NC=NC(C#N)=C3C)C=2S1C\n",
       "Name: SMILES_From_Tensor_rotation, dtype: object"
      ]
     },
     "execution_count": 4,
     "metadata": {},
     "output_type": "execute_result"
    }
   ],
   "source": [
    "smiles = ROR_mol['SMILES_From_Tensor_rotation']\n",
    "smiles.head()"
   ]
  },
  {
   "cell_type": "code",
   "execution_count": 5,
   "id": "571da24c",
   "metadata": {},
   "outputs": [],
   "source": [
    "new_set0 = ROR_mol['SMILES_From_Tensor_rotation'].to_list()"
   ]
  },
  {
   "cell_type": "code",
   "execution_count": 6,
   "id": "1b658a2d",
   "metadata": {},
   "outputs": [
    {
     "data": {
      "text/plain": [
       "(55, 1)"
      ]
     },
     "execution_count": 6,
     "metadata": {},
     "output_type": "execute_result"
    }
   ],
   "source": [
    "dff_15 = pd.DataFrame(new_set0,columns=['SMILES'])\n",
    "dff_15.shape"
   ]
  },
  {
   "cell_type": "markdown",
   "id": "74e66838",
   "metadata": {},
   "source": [
    "# Duplicates deletion"
   ]
  },
  {
   "cell_type": "code",
   "execution_count": 7,
   "id": "01e91be7",
   "metadata": {},
   "outputs": [
    {
     "data": {
      "text/plain": [
       "(55, 1)"
      ]
     },
     "execution_count": 7,
     "metadata": {},
     "output_type": "execute_result"
    }
   ],
   "source": [
    "dff_17 = dff_15.drop_duplicates()\n",
    "dff_17.shape"
   ]
  },
  {
   "cell_type": "code",
   "execution_count": 8,
   "id": "ef8b610a",
   "metadata": {},
   "outputs": [
    {
     "data": {
      "text/plain": [
       "'CCC(=O)NCC1=CN(C2=NC=NC(C#N)=C2C)C1SOC'"
      ]
     },
     "execution_count": 8,
     "metadata": {},
     "output_type": "execute_result"
    }
   ],
   "source": [
    "new_set1 = dff_17['SMILES'].to_list()\n",
    "new_set1[0]"
   ]
  },
  {
   "cell_type": "markdown",
   "id": "bf9919d4",
   "metadata": {},
   "source": [
    "# Seeing of the first structure"
   ]
  },
  {
   "cell_type": "code",
   "execution_count": 9,
   "id": "9766ad7c",
   "metadata": {},
   "outputs": [],
   "source": [
    "structure =  Chem.MolFromSmiles(new_set1[2])"
   ]
  },
  {
   "cell_type": "code",
   "execution_count": 10,
   "id": "f9f86bf1",
   "metadata": {},
   "outputs": [
    {
     "data": {
      "image/png": "[encoded data removed]",
      "text/plain": [
       "<rdkit.Chem.rdchem.Mol at 0x7fb89c4b1100>"
      ]
     },
     "execution_count": 10,
     "metadata": {},
     "output_type": "execute_result"
    }
   ],
   "source": [
    "structure"
   ]
  },
  {
   "cell_type": "markdown",
   "id": "93d54c1e",
   "metadata": {},
   "source": [
    "# Calculation of the QED descriptors"
   ]
  },
  {
   "cell_type": "code",
   "execution_count": 11,
   "id": "cd78cd94",
   "metadata": {},
   "outputs": [],
   "source": [
    "QED_list = []\n",
    "for smiles in new_set1:\n",
    "    QED_list.append(QED.properties(Chem.MolFromSmiles(smiles)))"
   ]
  },
  {
   "cell_type": "code",
   "execution_count": 12,
   "id": "cfd1ab5c",
   "metadata": {},
   "outputs": [
    {
     "data": {
      "text/plain": [
       "QEDproperties(MW=319.39000000000004, ALOGP=1.5074999999999998, HBA=7, HBD=1, PSA=91.14, ROTB=6, AROM=1, ALERTS=1)"
      ]
     },
     "execution_count": 12,
     "metadata": {},
     "output_type": "execute_result"
    }
   ],
   "source": [
    "QED_list[0]"
   ]
  },
  {
   "cell_type": "markdown",
   "id": "516ef359",
   "metadata": {},
   "source": [
    "# Preparation of the generated QED descriptors to the dataframe"
   ]
  },
  {
   "cell_type": "code",
   "execution_count": 13,
   "id": "3097b79a",
   "metadata": {},
   "outputs": [],
   "source": [
    "df = pd.DataFrame.from_records(QED_list, columns = ['Molecular weight', 'alogP', 'HBacceptors','HBdonors',\n",
    "                                                    'Polar surface area','rotatable bonds','aromatics rings','alerts'])"
   ]
  },
  {
   "cell_type": "code",
   "execution_count": 14,
   "id": "aa8dbad5",
   "metadata": {},
   "outputs": [
    {
     "data": {
      "text/html": [
       "<div>\n",
       "<style scoped>\n",
       "    .dataframe tbody tr th:only-of-type {\n",
       "        vertical-align: middle;\n",
       "    }\n",
       "\n",
       "    .dataframe tbody tr th {\n",
       "        vertical-align: top;\n",
       "    }\n",
       "\n",
       "    .dataframe thead th {\n",
       "        text-align: right;\n",
       "    }\n",
       "</style>\n",
       "<table border=\"1\" class=\"dataframe\">\n",
       "  <thead>\n",
       "    <tr style=\"text-align: right;\">\n",
       "      <th></th>\n",
       "      <th>Molecular weight</th>\n",
       "      <th>alogP</th>\n",
       "      <th>HBacceptors</th>\n",
       "      <th>HBdonors</th>\n",
       "      <th>Polar surface area</th>\n",
       "      <th>rotatable bonds</th>\n",
       "      <th>aromatics rings</th>\n",
       "      <th>alerts</th>\n",
       "    </tr>\n",
       "  </thead>\n",
       "  <tbody>\n",
       "    <tr>\n",
       "      <th>0</th>\n",
       "      <td>319.390</td>\n",
       "      <td>1.50750</td>\n",
       "      <td>7</td>\n",
       "      <td>1</td>\n",
       "      <td>91.14</td>\n",
       "      <td>6</td>\n",
       "      <td>1</td>\n",
       "      <td>1</td>\n",
       "    </tr>\n",
       "    <tr>\n",
       "      <th>1</th>\n",
       "      <td>335.408</td>\n",
       "      <td>1.83410</td>\n",
       "      <td>4</td>\n",
       "      <td>4</td>\n",
       "      <td>70.98</td>\n",
       "      <td>5</td>\n",
       "      <td>2</td>\n",
       "      <td>1</td>\n",
       "    </tr>\n",
       "    <tr>\n",
       "      <th>2</th>\n",
       "      <td>296.352</td>\n",
       "      <td>0.57868</td>\n",
       "      <td>6</td>\n",
       "      <td>1</td>\n",
       "      <td>112.81</td>\n",
       "      <td>6</td>\n",
       "      <td>1</td>\n",
       "      <td>0</td>\n",
       "    </tr>\n",
       "    <tr>\n",
       "      <th>3</th>\n",
       "      <td>289.360</td>\n",
       "      <td>1.09228</td>\n",
       "      <td>4</td>\n",
       "      <td>0</td>\n",
       "      <td>74.06</td>\n",
       "      <td>3</td>\n",
       "      <td>1</td>\n",
       "      <td>0</td>\n",
       "    </tr>\n",
       "    <tr>\n",
       "      <th>4</th>\n",
       "      <td>301.375</td>\n",
       "      <td>2.10890</td>\n",
       "      <td>4</td>\n",
       "      <td>1</td>\n",
       "      <td>74.81</td>\n",
       "      <td>2</td>\n",
       "      <td>2</td>\n",
       "      <td>1</td>\n",
       "    </tr>\n",
       "  </tbody>\n",
       "</table>\n",
       "</div>"
      ],
      "text/plain": [
       "   Molecular weight    alogP  HBacceptors  HBdonors  Polar surface area  \\\n",
       "0           319.390  1.50750            7         1               91.14   \n",
       "1           335.408  1.83410            4         4               70.98   \n",
       "2           296.352  0.57868            6         1              112.81   \n",
       "3           289.360  1.09228            4         0               74.06   \n",
       "4           301.375  2.10890            4         1               74.81   \n",
       "\n",
       "   rotatable bonds  aromatics rings  alerts  \n",
       "0                6                1       1  \n",
       "1                5                2       1  \n",
       "2                6                1       0  \n",
       "3                3                1       0  \n",
       "4                2                2       1  "
      ]
     },
     "execution_count": 14,
     "metadata": {},
     "output_type": "execute_result"
    }
   ],
   "source": [
    "df.head()"
   ]
  },
  {
   "cell_type": "markdown",
   "id": "e3c73eee",
   "metadata": {},
   "source": [
    "# the histogram of the molecular weight distribution"
   ]
  },
  {
   "cell_type": "code",
   "execution_count": 15,
   "id": "25727076",
   "metadata": {},
   "outputs": [
    {
     "data": {
      "image/png": "[encoded data removed]",
      "text/plain": [
       "<Figure size 432x288 with 1 Axes>"
      ]
     },
     "metadata": {
      "needs_background": "light"
     },
     "output_type": "display_data"
    },
    {
     "name": "stdout",
     "output_type": "stream",
     "text": [
      "count     55.000000\n",
      "mean     371.613727\n",
      "std       97.109753\n",
      "min       58.040000\n",
      "25%      301.406000\n",
      "50%      377.529000\n",
      "75%      455.013500\n",
      "max      511.666000\n",
      "Name: Molecular weight, dtype: float64\n",
      "Kurtosis:\n",
      "1.728\n",
      "Skewness:\n",
      "-0.9034\n"
     ]
    }
   ],
   "source": [
    "plt.hist(df['Molecular weight'],bins=100)\n",
    "plt.xlabel('Molecular weight')\n",
    "plt.ylabel('Number of compounds')\n",
    "plt.title('Histogram of Molecular weight distribution')\n",
    "plt.grid(True)\n",
    "plt.show()\n",
    "\n",
    "print(df['Molecular weight'].describe())\n",
    "print('Kurtosis:')\n",
    "print(round(df['Molecular weight'].kurtosis(),4))\n",
    "print('Skewness:')\n",
    "print(round(df['Molecular weight'].skew(),4))"
   ]
  },
  {
   "cell_type": "markdown",
   "id": "c3284a0b",
   "metadata": {},
   "source": [
    "# the histogram of the octanol-water partition coefficient distribution"
   ]
  },
  {
   "cell_type": "code",
   "execution_count": 16,
   "id": "78ecb665",
   "metadata": {},
   "outputs": [
    {
     "data": {
      "image/png": "[encoded data removed]",
      "text/plain": [
       "<Figure size 432x288 with 1 Axes>"
      ]
     },
     "metadata": {
      "needs_background": "light"
     },
     "output_type": "display_data"
    },
    {
     "name": "stdout",
     "output_type": "stream",
     "text": [
      "count    55.000000\n",
      "mean      3.266390\n",
      "std       2.053703\n",
      "min      -0.706200\n",
      "25%       1.797850\n",
      "50%       3.164600\n",
      "75%       4.052760\n",
      "max       8.038000\n",
      "Name: alogP, dtype: float64\n",
      "Kurtosis:\n",
      "0.2507\n",
      "Skewness:\n",
      "0.5714\n"
     ]
    }
   ],
   "source": [
    "plt.hist(df['alogP'],bins=100)\n",
    "plt.xlabel('alogP')\n",
    "plt.ylabel('Number of compounds')\n",
    "plt.title('Histogram of octanol-water partition coefficient distribution')\n",
    "plt.grid(True)\n",
    "plt.show()\n",
    "\n",
    "print(df['alogP'].describe())\n",
    "print('Kurtosis:')\n",
    "print(round(df['alogP'].kurtosis(),4))\n",
    "print('Skewness:')\n",
    "print(round(df['alogP'].skew(),4))"
   ]
  },
  {
   "cell_type": "markdown",
   "id": "dfbef3b9",
   "metadata": {},
   "source": [
    "# the histogram of the hydrogen bonding acceptors number distribution"
   ]
  },
  {
   "cell_type": "code",
   "execution_count": 17,
   "id": "6b7c0d3d",
   "metadata": {},
   "outputs": [
    {
     "data": {
      "image/png": "[encoded data removed]",
      "text/plain": [
       "<Figure size 432x288 with 1 Axes>"
      ]
     },
     "metadata": {
      "needs_background": "light"
     },
     "output_type": "display_data"
    },
    {
     "name": "stdout",
     "output_type": "stream",
     "text": [
      "count    55.000000\n",
      "mean      3.927273\n",
      "std       1.741163\n",
      "min       1.000000\n",
      "25%       3.000000\n",
      "50%       4.000000\n",
      "75%       5.000000\n",
      "max       7.000000\n",
      "Name: HBacceptors, dtype: float64\n",
      "Kurtosis:\n",
      "-0.7034\n",
      "Skewness:\n",
      "0.1811\n"
     ]
    }
   ],
   "source": [
    "plt.hist(df['HBacceptors'],bins=100)\n",
    "plt.xlabel('HBacceptors')\n",
    "plt.ylabel('Number of compounds')\n",
    "plt.title('Histogram of hydrogen bonding acceptors number distribution')\n",
    "plt.grid(True)\n",
    "plt.show()\n",
    "\n",
    "print(df['HBacceptors'].describe())\n",
    "print('Kurtosis:')\n",
    "print(round(df['HBacceptors'].kurtosis(),4))\n",
    "print('Skewness:')\n",
    "print(round(df['HBacceptors'].skew(),4))"
   ]
  },
  {
   "cell_type": "markdown",
   "id": "0de5612b",
   "metadata": {},
   "source": [
    "# the histogram of the hydrogen bonding donors number distribution"
   ]
  },
  {
   "cell_type": "code",
   "execution_count": 18,
   "id": "a985dd14",
   "metadata": {},
   "outputs": [
    {
     "data": {
      "image/png": "[encoded data removed]",
      "text/plain": [
       "<Figure size 432x288 with 1 Axes>"
      ]
     },
     "metadata": {
      "needs_background": "light"
     },
     "output_type": "display_data"
    },
    {
     "name": "stdout",
     "output_type": "stream",
     "text": [
      "count    55.000000\n",
      "mean      1.945455\n",
      "std       1.161388\n",
      "min       0.000000\n",
      "25%       1.000000\n",
      "50%       2.000000\n",
      "75%       3.000000\n",
      "max       4.000000\n",
      "Name: HBdonors, dtype: float64\n",
      "Kurtosis:\n",
      "-0.8199\n",
      "Skewness:\n",
      "0.1831\n"
     ]
    }
   ],
   "source": [
    "plt.hist(df['HBdonors'],bins=100)\n",
    "plt.xlabel('HBdonors')\n",
    "plt.ylabel('Number of compounds')\n",
    "plt.title('Histogram of hydrogen bonding donors number distribution')\n",
    "plt.grid(True)\n",
    "plt.show()\n",
    "\n",
    "print(df['HBdonors'].describe())\n",
    "print('Kurtosis:')\n",
    "print(round(df['HBdonors'].kurtosis(),4))\n",
    "print('Skewness:')\n",
    "print(round(df['HBdonors'].skew(),4))"
   ]
  },
  {
   "cell_type": "markdown",
   "id": "ad1f305c",
   "metadata": {},
   "source": [
    "# the histogram of the polar surface area distribution"
   ]
  },
  {
   "cell_type": "code",
   "execution_count": 19,
   "id": "6b0d55c0",
   "metadata": {},
   "outputs": [
    {
     "data": {
      "image/png": "[encoded data removed]",
      "text/plain": [
       "<Figure size 432x288 with 1 Axes>"
      ]
     },
     "metadata": {
      "needs_background": "light"
     },
     "output_type": "display_data"
    },
    {
     "name": "stdout",
     "output_type": "stream",
     "text": [
      "count     55.000000\n",
      "mean      73.939818\n",
      "std       32.081079\n",
      "min       12.030000\n",
      "25%       54.405000\n",
      "50%       73.800000\n",
      "75%       91.270000\n",
      "max      151.190000\n",
      "Name: Polar surface area, dtype: float64\n",
      "Kurtosis:\n",
      "-0.2077\n",
      "Skewness:\n",
      "0.0958\n"
     ]
    }
   ],
   "source": [
    "plt.hist(df['Polar surface area'],bins=100)\n",
    "plt.xlabel('Polar surface area')\n",
    "plt.ylabel('Number of compounds')\n",
    "plt.title('Histogram of polar surface area distribution')\n",
    "plt.grid(True)\n",
    "plt.show()\n",
    "\n",
    "print(df['Polar surface area'].describe())\n",
    "print('Kurtosis:')\n",
    "print(round(df['Polar surface area'].kurtosis(),4))\n",
    "print('Skewness:')\n",
    "print(round(df['Polar surface area'].skew(),4))"
   ]
  },
  {
   "cell_type": "markdown",
   "id": "146bb3e3",
   "metadata": {},
   "source": [
    "# the histogram of the rotatable bonds number distribution"
   ]
  },
  {
   "cell_type": "code",
   "execution_count": 20,
   "id": "d033d7e1",
   "metadata": {},
   "outputs": [
    {
     "data": {
      "image/png": "[encoded data removed]",
      "text/plain": [
       "<Figure size 432x288 with 1 Axes>"
      ]
     },
     "metadata": {
      "needs_background": "light"
     },
     "output_type": "display_data"
    },
    {
     "name": "stdout",
     "output_type": "stream",
     "text": [
      "count    55.000000\n",
      "mean      4.490909\n",
      "std       3.332626\n",
      "min       0.000000\n",
      "25%       2.000000\n",
      "50%       5.000000\n",
      "75%       6.000000\n",
      "max      15.000000\n",
      "Name: rotatable bonds, dtype: float64\n",
      "Kurtosis:\n",
      "1.3931\n",
      "Skewness:\n",
      "1.0567\n"
     ]
    }
   ],
   "source": [
    "plt.hist(df['rotatable bonds'],bins=100)\n",
    "plt.xlabel('rotatable bonds')\n",
    "plt.ylabel('Number of compounds')\n",
    "plt.title('Histogram of number of rotatable bonds distribution')\n",
    "plt.grid(True)\n",
    "plt.show()\n",
    "\n",
    "print(df['rotatable bonds'].describe())\n",
    "print('Kurtosis:')\n",
    "print(round(df['rotatable bonds'].kurtosis(),4))\n",
    "print('Skewness:')\n",
    "print(round(df['rotatable bonds'].skew(),4))"
   ]
  },
  {
   "cell_type": "markdown",
   "id": "328c9023",
   "metadata": {},
   "source": [
    "# the histogram of the aromatics rings number distribution"
   ]
  },
  {
   "cell_type": "code",
   "execution_count": 21,
   "id": "67a5f543",
   "metadata": {},
   "outputs": [
    {
     "data": {
      "image/png": "[encoded data removed]",
      "text/plain": [
       "<Figure size 432x288 with 1 Axes>"
      ]
     },
     "metadata": {
      "needs_background": "light"
     },
     "output_type": "display_data"
    },
    {
     "name": "stdout",
     "output_type": "stream",
     "text": [
      "count    55.000000\n",
      "mean      1.363636\n",
      "std       1.077783\n",
      "min       0.000000\n",
      "25%       1.000000\n",
      "50%       1.000000\n",
      "75%       2.000000\n",
      "max       3.000000\n",
      "Name: aromatics rings, dtype: float64\n",
      "Kurtosis:\n",
      "-1.1368\n",
      "Skewness:\n",
      "0.3212\n"
     ]
    }
   ],
   "source": [
    "plt.hist(df['aromatics rings'],bins=100)\n",
    "plt.xlabel('aromatics rings')\n",
    "plt.ylabel('Number of compounds')\n",
    "plt.title('Histogram of number of aromatics rings distribution')\n",
    "plt.grid(True)\n",
    "plt.show()\n",
    "\n",
    "print(df['aromatics rings'].describe())\n",
    "print('Kurtosis:')\n",
    "print(round(df['aromatics rings'].kurtosis(),4))\n",
    "print('Skewness:')\n",
    "print(round(df['aromatics rings'].skew(),4))"
   ]
  },
  {
   "cell_type": "markdown",
   "id": "e64f362e",
   "metadata": {},
   "source": [
    "# QED descriptor"
   ]
  },
  {
   "cell_type": "markdown",
   "id": "13201515",
   "metadata": {},
   "source": [
    "Drug-Like (QED):\n",
    "\n",
    "    - mass < 400\n",
    "    \n",
    "    - ring count > 0\n",
    "    \n",
    "    - rotatable bond count < 5\n",
    "    \n",
    "    - h-bond donor count <= 5\n",
    "    \n",
    "    - h-bond acceptor count <= 10\n",
    "    \n",
    "    - logP < 5\n",
    "    \n",
    "QED is calculated from weighted sum of ADS of mapped properties:\n",
    "WEIGHT_MEAN = QEDproperties( MW = 0.66, ALOGP = 0.46, HBA = 0.05, HBD = 0.61, PSA = 0.06, ROTB = 0.65, AROM = 0.48, ALERTS = 0.95 )\n",
    "\n",
    "https://github.com/kevinid/molecule_generator/blob/master/rdkit_contrib/qed.py\n",
    "Function is described here...\n"
   ]
  },
  {
   "cell_type": "code",
   "execution_count": 22,
   "id": "5bfbc77f",
   "metadata": {},
   "outputs": [],
   "source": [
    "QED_list_QED = []\n",
    "for smiles in new_set1:\n",
    "    QED_list_QED.append(QED.qed(Chem.MolFromSmiles(smiles)))"
   ]
  },
  {
   "cell_type": "code",
   "execution_count": 23,
   "id": "55b4542a",
   "metadata": {},
   "outputs": [
    {
     "data": {
      "text/plain": [
       "0.794550823410563"
      ]
     },
     "execution_count": 23,
     "metadata": {},
     "output_type": "execute_result"
    }
   ],
   "source": [
    "QED_list_QED[0]"
   ]
  },
  {
   "cell_type": "code",
   "execution_count": 24,
   "id": "eaaba816",
   "metadata": {},
   "outputs": [],
   "source": [
    "df_QED = pd.DataFrame(QED_list_QED, columns = ['Quantitative Estimation of Drug-likeness'])"
   ]
  },
  {
   "cell_type": "code",
   "execution_count": 25,
   "id": "529fd8dd",
   "metadata": {},
   "outputs": [
    {
     "data": {
      "text/html": [
       "<div>\n",
       "<style scoped>\n",
       "    .dataframe tbody tr th:only-of-type {\n",
       "        vertical-align: middle;\n",
       "    }\n",
       "\n",
       "    .dataframe tbody tr th {\n",
       "        vertical-align: top;\n",
       "    }\n",
       "\n",
       "    .dataframe thead th {\n",
       "        text-align: right;\n",
       "    }\n",
       "</style>\n",
       "<table border=\"1\" class=\"dataframe\">\n",
       "  <thead>\n",
       "    <tr style=\"text-align: right;\">\n",
       "      <th></th>\n",
       "      <th>Quantitative Estimation of Drug-likeness</th>\n",
       "    </tr>\n",
       "  </thead>\n",
       "  <tbody>\n",
       "    <tr>\n",
       "      <th>0</th>\n",
       "      <td>0.794551</td>\n",
       "    </tr>\n",
       "    <tr>\n",
       "      <th>1</th>\n",
       "      <td>0.629409</td>\n",
       "    </tr>\n",
       "    <tr>\n",
       "      <th>2</th>\n",
       "      <td>0.821122</td>\n",
       "    </tr>\n",
       "    <tr>\n",
       "      <th>3</th>\n",
       "      <td>0.834638</td>\n",
       "    </tr>\n",
       "    <tr>\n",
       "      <th>4</th>\n",
       "      <td>0.862074</td>\n",
       "    </tr>\n",
       "  </tbody>\n",
       "</table>\n",
       "</div>"
      ],
      "text/plain": [
       "   Quantitative Estimation of Drug-likeness\n",
       "0                                  0.794551\n",
       "1                                  0.629409\n",
       "2                                  0.821122\n",
       "3                                  0.834638\n",
       "4                                  0.862074"
      ]
     },
     "execution_count": 25,
     "metadata": {},
     "output_type": "execute_result"
    }
   ],
   "source": [
    "df_QED.head()"
   ]
  },
  {
   "cell_type": "code",
   "execution_count": 26,
   "id": "324d9e70",
   "metadata": {},
   "outputs": [
    {
     "data": {
      "image/png": "[encoded data removed]",
      "text/plain": [
       "<Figure size 576x360 with 1 Axes>"
      ]
     },
     "metadata": {
      "needs_background": "light"
     },
     "output_type": "display_data"
    },
    {
     "name": "stdout",
     "output_type": "stream",
     "text": [
      "count    55.000000\n",
      "mean      0.554114\n",
      "std       0.213606\n",
      "min       0.108864\n",
      "25%       0.410339\n",
      "50%       0.563766\n",
      "75%       0.732084\n",
      "max       0.909168\n",
      "Name: Quantitative Estimation of Drug-likeness, dtype: float64\n",
      "Kurtosis:\n",
      "-0.8787\n",
      "Skewness:\n",
      "-0.3196\n"
     ]
    }
   ],
   "source": [
    "plt.figure(figsize=(8,5))\n",
    "plt.hist(df_QED['Quantitative Estimation of Drug-likeness'],bins=100)\n",
    "plt.xlabel('Quantitative Estimation of Drug-likeness', fontsize=14)\n",
    "plt.ylabel('Number of compounds', fontsize=14)\n",
    "#plt.title('Histogram of QED distribution')\n",
    "plt.axvline(x=0.5, color='r')\n",
    "plt.grid(True)\n",
    "plt.savefig(\"tmp/Quantitative Estimation of Drug-likeness 0.1.svg\")\n",
    "plt.show()\n",
    "\n",
    "\n",
    "print(df_QED['Quantitative Estimation of Drug-likeness'].describe())\n",
    "print('Kurtosis:')\n",
    "print(round(df_QED['Quantitative Estimation of Drug-likeness'].kurtosis(),4))\n",
    "print('Skewness:')\n",
    "print(round(df_QED['Quantitative Estimation of Drug-likeness'].skew(),4))"
   ]
  },
  {
   "cell_type": "markdown",
   "id": "f0ba347f",
   "metadata": {},
   "source": [
    "# Combination of SMILES with QED value"
   ]
  },
  {
   "cell_type": "code",
   "execution_count": 27,
   "id": "d2ef1a81",
   "metadata": {},
   "outputs": [],
   "source": [
    "dff_15['QED'] = QED_list_QED"
   ]
  },
  {
   "cell_type": "code",
   "execution_count": 28,
   "id": "1f39f048",
   "metadata": {},
   "outputs": [
    {
     "data": {
      "text/html": [
       "<div>\n",
       "<style scoped>\n",
       "    .dataframe tbody tr th:only-of-type {\n",
       "        vertical-align: middle;\n",
       "    }\n",
       "\n",
       "    .dataframe tbody tr th {\n",
       "        vertical-align: top;\n",
       "    }\n",
       "\n",
       "    .dataframe thead th {\n",
       "        text-align: right;\n",
       "    }\n",
       "</style>\n",
       "<table border=\"1\" class=\"dataframe\">\n",
       "  <thead>\n",
       "    <tr style=\"text-align: right;\">\n",
       "      <th></th>\n",
       "      <th>SMILES</th>\n",
       "      <th>QED</th>\n",
       "    </tr>\n",
       "  </thead>\n",
       "  <tbody>\n",
       "    <tr>\n",
       "      <th>0</th>\n",
       "      <td>CCC(=O)NCC1=CN(C2=NC=NC(C#N)=C2C)C1SOC</td>\n",
       "      <td>0.794551</td>\n",
       "    </tr>\n",
       "    <tr>\n",
       "      <th>1</th>\n",
       "      <td>CCC(=O)NCC1=CC=NN1S2C=C(C3=CC=CC=C3F)N[NH1]2</td>\n",
       "      <td>0.629409</td>\n",
       "    </tr>\n",
       "    <tr>\n",
       "      <th>2</th>\n",
       "      <td>CCC(=O)NCC=1C=NC=C(S(=O)(=O)C(C)CC#N)N=1</td>\n",
       "      <td>0.821122</td>\n",
       "    </tr>\n",
       "    <tr>\n",
       "      <th>3</th>\n",
       "      <td>CCC(=O)N1CC2C(C#N)(S(=O)C3=CC=CC=N3)CC12</td>\n",
       "      <td>0.834638</td>\n",
       "    </tr>\n",
       "    <tr>\n",
       "      <th>4</th>\n",
       "      <td>CCC(=O)N1C=2C=CN(C3=NC=NC(C#N)=C3C)C=2S1C</td>\n",
       "      <td>0.862074</td>\n",
       "    </tr>\n",
       "  </tbody>\n",
       "</table>\n",
       "</div>"
      ],
      "text/plain": [
       "                                         SMILES       QED\n",
       "0        CCC(=O)NCC1=CN(C2=NC=NC(C#N)=C2C)C1SOC  0.794551\n",
       "1  CCC(=O)NCC1=CC=NN1S2C=C(C3=CC=CC=C3F)N[NH1]2  0.629409\n",
       "2      CCC(=O)NCC=1C=NC=C(S(=O)(=O)C(C)CC#N)N=1  0.821122\n",
       "3      CCC(=O)N1CC2C(C#N)(S(=O)C3=CC=CC=N3)CC12  0.834638\n",
       "4     CCC(=O)N1C=2C=CN(C3=NC=NC(C#N)=C3C)C=2S1C  0.862074"
      ]
     },
     "execution_count": 28,
     "metadata": {},
     "output_type": "execute_result"
    }
   ],
   "source": [
    "dff_15.head()"
   ]
  },
  {
   "cell_type": "code",
   "execution_count": 29,
   "id": "ea01d69a",
   "metadata": {},
   "outputs": [],
   "source": [
    "df_QED_above_0_6 = dff_15.loc[dff_15['QED'] > 0.5] #0.6"
   ]
  },
  {
   "cell_type": "code",
   "execution_count": 30,
   "id": "814c9480",
   "metadata": {},
   "outputs": [
    {
     "data": {
      "text/plain": [
       "34"
      ]
     },
     "execution_count": 30,
     "metadata": {},
     "output_type": "execute_result"
    }
   ],
   "source": [
    "len(df_QED_above_0_6['QED'])"
   ]
  },
  {
   "cell_type": "markdown",
   "id": "d3f8a9b7",
   "metadata": {},
   "source": [
    "# Lipinski's rule of 5"
   ]
  },
  {
   "cell_type": "markdown",
   "id": "2bbeb947",
   "metadata": {},
   "source": [
    "Lipinski:\n",
    "\n",
    "    - Moleculer Weight <= 500\n",
    "    \n",
    "    - LogP <= 5\n",
    "    \n",
    "    - H-Bond Donor Count <= 5\n",
    "    \n",
    "    - H-Bond Acceptor Count <= 10\n",
    "    \n",
    "    - Rotatable bonds <= 5"
   ]
  },
  {
   "cell_type": "code",
   "execution_count": 31,
   "id": "8493acf4",
   "metadata": {},
   "outputs": [],
   "source": [
    "dff_15['molecular_weight'] = [Descriptors.ExactMolWt(Chem.MolFromSmiles(molecule)) for molecule in dff_15['SMILES']]\n",
    "dff_15['logp'] = [Descriptors.MolLogP(Chem.MolFromSmiles(molecule)) for molecule in dff_15['SMILES']]\n",
    "dff_15['h_bond_donors'] = [Descriptors.NumHDonors(Chem.MolFromSmiles(molecule)) for molecule in dff_15['SMILES']]\n",
    "dff_15['h_bond_acceptors'] = [Descriptors.NumHAcceptors(Chem.MolFromSmiles(molecule)) for molecule in dff_15['SMILES']]\n",
    "dff_15['rotatable_bonds'] = [Descriptors.NumRotatableBonds(Chem.MolFromSmiles(molecule)) for molecule in dff_15['SMILES']]"
   ]
  },
  {
   "cell_type": "code",
   "execution_count": 32,
   "id": "d83545b0",
   "metadata": {},
   "outputs": [
    {
     "data": {
      "text/html": [
       "<div>\n",
       "<style scoped>\n",
       "    .dataframe tbody tr th:only-of-type {\n",
       "        vertical-align: middle;\n",
       "    }\n",
       "\n",
       "    .dataframe tbody tr th {\n",
       "        vertical-align: top;\n",
       "    }\n",
       "\n",
       "    .dataframe thead th {\n",
       "        text-align: right;\n",
       "    }\n",
       "</style>\n",
       "<table border=\"1\" class=\"dataframe\">\n",
       "  <thead>\n",
       "    <tr style=\"text-align: right;\">\n",
       "      <th></th>\n",
       "      <th>SMILES</th>\n",
       "      <th>QED</th>\n",
       "      <th>molecular_weight</th>\n",
       "      <th>logp</th>\n",
       "      <th>h_bond_donors</th>\n",
       "      <th>h_bond_acceptors</th>\n",
       "      <th>rotatable_bonds</th>\n",
       "    </tr>\n",
       "  </thead>\n",
       "  <tbody>\n",
       "    <tr>\n",
       "      <th>0</th>\n",
       "      <td>CCC(=O)NCC1=CN(C2=NC=NC(C#N)=C2C)C1SOC</td>\n",
       "      <td>0.794551</td>\n",
       "      <td>319.110296</td>\n",
       "      <td>1.50750</td>\n",
       "      <td>1</td>\n",
       "      <td>7</td>\n",
       "      <td>6</td>\n",
       "    </tr>\n",
       "    <tr>\n",
       "      <th>1</th>\n",
       "      <td>CCC(=O)NCC1=CC=NN1S2C=C(C3=CC=CC=C3F)N[NH1]2</td>\n",
       "      <td>0.629409</td>\n",
       "      <td>335.121609</td>\n",
       "      <td>1.83410</td>\n",
       "      <td>4</td>\n",
       "      <td>5</td>\n",
       "      <td>5</td>\n",
       "    </tr>\n",
       "    <tr>\n",
       "      <th>2</th>\n",
       "      <td>CCC(=O)NCC=1C=NC=C(S(=O)(=O)C(C)CC#N)N=1</td>\n",
       "      <td>0.821122</td>\n",
       "      <td>296.094311</td>\n",
       "      <td>0.57868</td>\n",
       "      <td>1</td>\n",
       "      <td>6</td>\n",
       "      <td>6</td>\n",
       "    </tr>\n",
       "    <tr>\n",
       "      <th>3</th>\n",
       "      <td>CCC(=O)N1CC2C(C#N)(S(=O)C3=CC=CC=N3)CC12</td>\n",
       "      <td>0.834638</td>\n",
       "      <td>289.088498</td>\n",
       "      <td>1.09228</td>\n",
       "      <td>0</td>\n",
       "      <td>4</td>\n",
       "      <td>3</td>\n",
       "    </tr>\n",
       "    <tr>\n",
       "      <th>4</th>\n",
       "      <td>CCC(=O)N1C=2C=CN(C3=NC=NC(C#N)=C3C)C=2S1C</td>\n",
       "      <td>0.862074</td>\n",
       "      <td>301.099731</td>\n",
       "      <td>2.10890</td>\n",
       "      <td>1</td>\n",
       "      <td>5</td>\n",
       "      <td>2</td>\n",
       "    </tr>\n",
       "  </tbody>\n",
       "</table>\n",
       "</div>"
      ],
      "text/plain": [
       "                                         SMILES       QED  molecular_weight  \\\n",
       "0        CCC(=O)NCC1=CN(C2=NC=NC(C#N)=C2C)C1SOC  0.794551        319.110296   \n",
       "1  CCC(=O)NCC1=CC=NN1S2C=C(C3=CC=CC=C3F)N[NH1]2  0.629409        335.121609   \n",
       "2      CCC(=O)NCC=1C=NC=C(S(=O)(=O)C(C)CC#N)N=1  0.821122        296.094311   \n",
       "3      CCC(=O)N1CC2C(C#N)(S(=O)C3=CC=CC=N3)CC12  0.834638        289.088498   \n",
       "4     CCC(=O)N1C=2C=CN(C3=NC=NC(C#N)=C3C)C=2S1C  0.862074        301.099731   \n",
       "\n",
       "      logp  h_bond_donors  h_bond_acceptors  rotatable_bonds  \n",
       "0  1.50750              1                 7                6  \n",
       "1  1.83410              4                 5                5  \n",
       "2  0.57868              1                 6                6  \n",
       "3  1.09228              0                 4                3  \n",
       "4  2.10890              1                 5                2  "
      ]
     },
     "execution_count": 32,
     "metadata": {},
     "output_type": "execute_result"
    }
   ],
   "source": [
    "dff_15.head()"
   ]
  },
  {
   "cell_type": "code",
   "execution_count": 33,
   "id": "a9d53b23",
   "metadata": {},
   "outputs": [],
   "source": [
    "# Lipinski\n",
    "dff_15['Lipinski Rule of 5'] = 0\n",
    "for element in range(len(dff_15)):\n",
    "    \n",
    "    if dff_15['molecular_weight'][element] <= 500 and dff_15['logp'][element] <= 5 and dff_15['h_bond_donors'][element] <= 5 and dff_15['h_bond_acceptors'][element] <= 10 and dff_15['rotatable_bonds'][element] <= 5:\n",
    "        lipinski = True\n",
    "        dff_15[\"Lipinski Rule of 5\"][element] = 1\n",
    "    else:\n",
    "        dff_15[\"Lipinski Rule of 5\"][element] = 0"
   ]
  },
  {
   "cell_type": "code",
   "execution_count": 34,
   "id": "4fa76124",
   "metadata": {
    "scrolled": true
   },
   "outputs": [
    {
     "data": {
      "text/html": [
       "<div>\n",
       "<style scoped>\n",
       "    .dataframe tbody tr th:only-of-type {\n",
       "        vertical-align: middle;\n",
       "    }\n",
       "\n",
       "    .dataframe tbody tr th {\n",
       "        vertical-align: top;\n",
       "    }\n",
       "\n",
       "    .dataframe thead th {\n",
       "        text-align: right;\n",
       "    }\n",
       "</style>\n",
       "<table border=\"1\" class=\"dataframe\">\n",
       "  <thead>\n",
       "    <tr style=\"text-align: right;\">\n",
       "      <th></th>\n",
       "      <th>SMILES</th>\n",
       "      <th>QED</th>\n",
       "      <th>molecular_weight</th>\n",
       "      <th>logp</th>\n",
       "      <th>h_bond_donors</th>\n",
       "      <th>h_bond_acceptors</th>\n",
       "      <th>rotatable_bonds</th>\n",
       "      <th>Lipinski Rule of 5</th>\n",
       "    </tr>\n",
       "  </thead>\n",
       "  <tbody>\n",
       "    <tr>\n",
       "      <th>0</th>\n",
       "      <td>CCC(=O)NCC1=CN(C2=NC=NC(C#N)=C2C)C1SOC</td>\n",
       "      <td>0.794551</td>\n",
       "      <td>319.110296</td>\n",
       "      <td>1.50750</td>\n",
       "      <td>1</td>\n",
       "      <td>7</td>\n",
       "      <td>6</td>\n",
       "      <td>0</td>\n",
       "    </tr>\n",
       "    <tr>\n",
       "      <th>1</th>\n",
       "      <td>CCC(=O)NCC1=CC=NN1S2C=C(C3=CC=CC=C3F)N[NH1]2</td>\n",
       "      <td>0.629409</td>\n",
       "      <td>335.121609</td>\n",
       "      <td>1.83410</td>\n",
       "      <td>4</td>\n",
       "      <td>5</td>\n",
       "      <td>5</td>\n",
       "      <td>1</td>\n",
       "    </tr>\n",
       "    <tr>\n",
       "      <th>2</th>\n",
       "      <td>CCC(=O)NCC=1C=NC=C(S(=O)(=O)C(C)CC#N)N=1</td>\n",
       "      <td>0.821122</td>\n",
       "      <td>296.094311</td>\n",
       "      <td>0.57868</td>\n",
       "      <td>1</td>\n",
       "      <td>6</td>\n",
       "      <td>6</td>\n",
       "      <td>0</td>\n",
       "    </tr>\n",
       "    <tr>\n",
       "      <th>3</th>\n",
       "      <td>CCC(=O)N1CC2C(C#N)(S(=O)C3=CC=CC=N3)CC12</td>\n",
       "      <td>0.834638</td>\n",
       "      <td>289.088498</td>\n",
       "      <td>1.09228</td>\n",
       "      <td>0</td>\n",
       "      <td>4</td>\n",
       "      <td>3</td>\n",
       "      <td>1</td>\n",
       "    </tr>\n",
       "    <tr>\n",
       "      <th>4</th>\n",
       "      <td>CCC(=O)N1C=2C=CN(C3=NC=NC(C#N)=C3C)C=2S1C</td>\n",
       "      <td>0.862074</td>\n",
       "      <td>301.099731</td>\n",
       "      <td>2.10890</td>\n",
       "      <td>1</td>\n",
       "      <td>5</td>\n",
       "      <td>2</td>\n",
       "      <td>1</td>\n",
       "    </tr>\n",
       "  </tbody>\n",
       "</table>\n",
       "</div>"
      ],
      "text/plain": [
       "                                         SMILES       QED  molecular_weight  \\\n",
       "0        CCC(=O)NCC1=CN(C2=NC=NC(C#N)=C2C)C1SOC  0.794551        319.110296   \n",
       "1  CCC(=O)NCC1=CC=NN1S2C=C(C3=CC=CC=C3F)N[NH1]2  0.629409        335.121609   \n",
       "2      CCC(=O)NCC=1C=NC=C(S(=O)(=O)C(C)CC#N)N=1  0.821122        296.094311   \n",
       "3      CCC(=O)N1CC2C(C#N)(S(=O)C3=CC=CC=N3)CC12  0.834638        289.088498   \n",
       "4     CCC(=O)N1C=2C=CN(C3=NC=NC(C#N)=C3C)C=2S1C  0.862074        301.099731   \n",
       "\n",
       "      logp  h_bond_donors  h_bond_acceptors  rotatable_bonds  \\\n",
       "0  1.50750              1                 7                6   \n",
       "1  1.83410              4                 5                5   \n",
       "2  0.57868              1                 6                6   \n",
       "3  1.09228              0                 4                3   \n",
       "4  2.10890              1                 5                2   \n",
       "\n",
       "   Lipinski Rule of 5  \n",
       "0                   0  \n",
       "1                   1  \n",
       "2                   0  \n",
       "3                   1  \n",
       "4                   1  "
      ]
     },
     "execution_count": 34,
     "metadata": {},
     "output_type": "execute_result"
    }
   ],
   "source": [
    "dff_15.head()"
   ]
  },
  {
   "cell_type": "code",
   "execution_count": 35,
   "id": "ddc7c28f",
   "metadata": {},
   "outputs": [
    {
     "data": {
      "image/png": "[encoded data removed]",
      "text/plain": [
       "<Figure size 576x360 with 1 Axes>"
      ]
     },
     "metadata": {
      "needs_background": "light"
     },
     "output_type": "display_data"
    },
    {
     "name": "stdout",
     "output_type": "stream",
     "text": [
      "count    55.000000\n",
      "mean      0.563636\n",
      "std       0.500505\n",
      "min       0.000000\n",
      "25%       0.000000\n",
      "50%       1.000000\n",
      "75%       1.000000\n",
      "max       1.000000\n",
      "Name: Lipinski Rule of 5, dtype: float64\n",
      "Kurtosis:\n",
      "-2.0047\n",
      "Skewness:\n",
      "-0.2639\n"
     ]
    }
   ],
   "source": [
    "plt.figure(figsize=(8,5))\n",
    "plt.hist(dff_15['Lipinski Rule of 5'],bins=10)\n",
    "plt.xlabel(\"Lipinski's rule of 5 fulfillment\", fontsize=14)\n",
    "plt.ylabel('Number of compounds', fontsize=14)\n",
    "#plt.title(\"Histogram of Lipinski's rule of 5 fulfillment distribution\")\n",
    "plt.grid(True)\n",
    "plt.savefig(\"tmp/Lipinski's rule of 5 fulfillment 0.1.svg\")\n",
    "plt.show()\n",
    "\n",
    "print(dff_15['Lipinski Rule of 5'].describe())\n",
    "print('Kurtosis:')\n",
    "print(round(dff_15['Lipinski Rule of 5'].kurtosis(),4))\n",
    "print('Skewness:')\n",
    "print(round(dff_15['Lipinski Rule of 5'].skew(),4))"
   ]
  },
  {
   "cell_type": "code",
   "execution_count": 36,
   "id": "98128e0c",
   "metadata": {},
   "outputs": [
    {
     "name": "stdout",
     "output_type": "stream",
     "text": [
      "Number of structures that do not fulfilled Lipinski's rule of 5 is: 24\n"
     ]
    }
   ],
   "source": [
    "print(\"Number of structures that do not fulfilled Lipinski's rule of 5 is: \"+str(len(dff_15[dff_15['Lipinski Rule of 5'] ==0])))"
   ]
  },
  {
   "cell_type": "code",
   "execution_count": 37,
   "id": "dc70e4ad",
   "metadata": {},
   "outputs": [
    {
     "name": "stdout",
     "output_type": "stream",
     "text": [
      "Number of structures that fulfilled Lipinski's rule of 5 is: 31\n"
     ]
    }
   ],
   "source": [
    "print(\"Number of structures that fulfilled Lipinski's rule of 5 is: \"+str(len(dff_15[dff_15['Lipinski Rule of 5'] ==1])))"
   ]
  },
  {
   "cell_type": "code",
   "execution_count": 38,
   "id": "d7e1de27",
   "metadata": {},
   "outputs": [],
   "source": [
    "to_excel = dff_15[(dff_15['QED'] > 0.5) & (dff_15['Lipinski Rule of 5'] == 1)] #0.6\n",
    "to_excel = to_excel.reset_index()\n",
    "QED_list = [QED.properties(Chem.MolFromSmiles(smiles)) for smiles in to_excel['SMILES']]\n",
    "df = pd.DataFrame.from_records(QED_list, columns = ['Molecular weight', 'alogP', 'HBacceptors','HBdonors',\n",
    "                                                    'Polar surface area','rotatable bonds','aromatics rings','alerts'])\n",
    "to_excel = to_excel.reset_index()\n",
    "to_excel['Polar surface area'] = df['Polar surface area']\n",
    "to_excel['aromatics rings'] = df['aromatics rings']\n",
    "to_excel['Lipinski alerts - to QED calc'] = df['alerts']"
   ]
  },
  {
   "cell_type": "code",
   "execution_count": 39,
   "id": "a6742544",
   "metadata": {},
   "outputs": [],
   "source": [
    "column_order = ['SMILES', 'molecular_weight', 'logp', 'h_bond_donors', 'h_bond_acceptors', 'rotatable_bonds', 'Polar surface area', 'aromatics rings', 'Lipinski alerts - to QED calc', 'Lipinski Rule of 5', 'QED']"
   ]
  },
  {
   "cell_type": "code",
   "execution_count": 40,
   "id": "e9315e7b",
   "metadata": {},
   "outputs": [],
   "source": [
    "to_excel = to_excel[column_order]"
   ]
  },
  {
   "cell_type": "code",
   "execution_count": 41,
   "id": "b95565ca",
   "metadata": {},
   "outputs": [
    {
     "data": {
      "text/html": [
       "<div>\n",
       "<style scoped>\n",
       "    .dataframe tbody tr th:only-of-type {\n",
       "        vertical-align: middle;\n",
       "    }\n",
       "\n",
       "    .dataframe tbody tr th {\n",
       "        vertical-align: top;\n",
       "    }\n",
       "\n",
       "    .dataframe thead th {\n",
       "        text-align: right;\n",
       "    }\n",
       "</style>\n",
       "<table border=\"1\" class=\"dataframe\">\n",
       "  <thead>\n",
       "    <tr style=\"text-align: right;\">\n",
       "      <th></th>\n",
       "      <th>SMILES</th>\n",
       "      <th>molecular_weight</th>\n",
       "      <th>logp</th>\n",
       "      <th>h_bond_donors</th>\n",
       "      <th>h_bond_acceptors</th>\n",
       "      <th>rotatable_bonds</th>\n",
       "      <th>Polar surface area</th>\n",
       "      <th>aromatics rings</th>\n",
       "      <th>Lipinski alerts - to QED calc</th>\n",
       "      <th>Lipinski Rule of 5</th>\n",
       "      <th>QED</th>\n",
       "    </tr>\n",
       "  </thead>\n",
       "  <tbody>\n",
       "    <tr>\n",
       "      <th>0</th>\n",
       "      <td>CCC(=O)NCC1=CC=NN1S2C=C(C3=CC=CC=C3F)N[NH1]2</td>\n",
       "      <td>335.121609</td>\n",
       "      <td>1.83410</td>\n",
       "      <td>4</td>\n",
       "      <td>5</td>\n",
       "      <td>5</td>\n",
       "      <td>70.98</td>\n",
       "      <td>2</td>\n",
       "      <td>1</td>\n",
       "      <td>1</td>\n",
       "      <td>0.629409</td>\n",
       "    </tr>\n",
       "    <tr>\n",
       "      <th>1</th>\n",
       "      <td>CCC(=O)N1CC2C(C#N)(S(=O)C3=CC=CC=N3)CC12</td>\n",
       "      <td>289.088498</td>\n",
       "      <td>1.09228</td>\n",
       "      <td>0</td>\n",
       "      <td>4</td>\n",
       "      <td>3</td>\n",
       "      <td>74.06</td>\n",
       "      <td>1</td>\n",
       "      <td>0</td>\n",
       "      <td>1</td>\n",
       "      <td>0.834638</td>\n",
       "    </tr>\n",
       "    <tr>\n",
       "      <th>2</th>\n",
       "      <td>CCC(=O)N1C=2C=CN(C3=NC=NC(C#N)=C3C)C=2S1C</td>\n",
       "      <td>301.099731</td>\n",
       "      <td>2.10890</td>\n",
       "      <td>1</td>\n",
       "      <td>5</td>\n",
       "      <td>2</td>\n",
       "      <td>74.81</td>\n",
       "      <td>2</td>\n",
       "      <td>1</td>\n",
       "      <td>1</td>\n",
       "      <td>0.862074</td>\n",
       "    </tr>\n",
       "    <tr>\n",
       "      <th>3</th>\n",
       "      <td>CCC(=O)NCC(C1)=NN=C(C2=CC=C(C)C(CF)=C2)S1</td>\n",
       "      <td>307.115461</td>\n",
       "      <td>2.84012</td>\n",
       "      <td>1</td>\n",
       "      <td>4</td>\n",
       "      <td>5</td>\n",
       "      <td>53.82</td>\n",
       "      <td>1</td>\n",
       "      <td>0</td>\n",
       "      <td>1</td>\n",
       "      <td>0.909168</td>\n",
       "    </tr>\n",
       "    <tr>\n",
       "      <th>4</th>\n",
       "      <td>CCC(=O)NCC1=CC=NN1S=2C=C(C3=CC=CC=C3F)NC=2C</td>\n",
       "      <td>346.126360</td>\n",
       "      <td>2.83200</td>\n",
       "      <td>2</td>\n",
       "      <td>4</td>\n",
       "      <td>5</td>\n",
       "      <td>58.95</td>\n",
       "      <td>2</td>\n",
       "      <td>1</td>\n",
       "      <td>1</td>\n",
       "      <td>0.818708</td>\n",
       "    </tr>\n",
       "  </tbody>\n",
       "</table>\n",
       "</div>"
      ],
      "text/plain": [
       "                                         SMILES  molecular_weight     logp  \\\n",
       "0  CCC(=O)NCC1=CC=NN1S2C=C(C3=CC=CC=C3F)N[NH1]2        335.121609  1.83410   \n",
       "1      CCC(=O)N1CC2C(C#N)(S(=O)C3=CC=CC=N3)CC12        289.088498  1.09228   \n",
       "2     CCC(=O)N1C=2C=CN(C3=NC=NC(C#N)=C3C)C=2S1C        301.099731  2.10890   \n",
       "3     CCC(=O)NCC(C1)=NN=C(C2=CC=C(C)C(CF)=C2)S1        307.115461  2.84012   \n",
       "4   CCC(=O)NCC1=CC=NN1S=2C=C(C3=CC=CC=C3F)NC=2C        346.126360  2.83200   \n",
       "\n",
       "   h_bond_donors  h_bond_acceptors  rotatable_bonds  Polar surface area  \\\n",
       "0              4                 5                5               70.98   \n",
       "1              0                 4                3               74.06   \n",
       "2              1                 5                2               74.81   \n",
       "3              1                 4                5               53.82   \n",
       "4              2                 4                5               58.95   \n",
       "\n",
       "   aromatics rings  Lipinski alerts - to QED calc  Lipinski Rule of 5  \\\n",
       "0                2                              1                   1   \n",
       "1                1                              0                   1   \n",
       "2                2                              1                   1   \n",
       "3                1                              0                   1   \n",
       "4                2                              1                   1   \n",
       "\n",
       "        QED  \n",
       "0  0.629409  \n",
       "1  0.834638  \n",
       "2  0.862074  \n",
       "3  0.909168  \n",
       "4  0.818708  "
      ]
     },
     "execution_count": 41,
     "metadata": {},
     "output_type": "execute_result"
    }
   ],
   "source": [
    "to_excel.head()"
   ]
  },
  {
   "cell_type": "code",
   "execution_count": 42,
   "id": "52f73c8e",
   "metadata": {},
   "outputs": [
    {
     "name": "stdout",
     "output_type": "stream",
     "text": [
      "Number of structures that fulfilled QED threshold and Lipinski's rule of 5 is: 26\n"
     ]
    }
   ],
   "source": [
    "print(\"Number of structures that fulfilled QED threshold and Lipinski's rule of 5 is: \"+str(len(to_excel)))"
   ]
  },
  {
   "cell_type": "markdown",
   "id": "7d8a6fb0",
   "metadata": {},
   "source": [
    "## Percentage of structures that fulfilled given restrictions from all generated using method given in file title"
   ]
  },
  {
   "cell_type": "code",
   "execution_count": 43,
   "id": "06810593",
   "metadata": {},
   "outputs": [
    {
     "name": "stdout",
     "output_type": "stream",
     "text": [
      "Percentage of molecules that fulfilled restrictions: 47.27%.\n"
     ]
    }
   ],
   "source": [
    "print(\"Percentage of molecules that fulfilled restrictions: \"+str((round(len(to_excel)*100/len(dff_15),2)))+'%.')"
   ]
  },
  {
   "cell_type": "code",
   "execution_count": 44,
   "id": "e1cf75ea",
   "metadata": {},
   "outputs": [],
   "source": [
    "to_excel.to_excel('Selected_molecules_from_0_1_tensor_scaling.xlsx')"
   ]
  }
 ],
 "metadata": {
  "kernelspec": {
   "display_name": "Python 3 (ipykernel)",
   "language": "python",
   "name": "python3"
  },
  "language_info": {
   "codemirror_mode": {
    "name": "ipython",
    "version": 3
   },
   "file_extension": ".py",
   "mimetype": "text/x-python",
   "name": "python",
   "nbconvert_exporter": "python",
   "pygments_lexer": "ipython3",
   "version": "3.8.12"
  }
 },
 "nbformat": 4,
 "nbformat_minor": 5
}
