{
 "cells": [
  {
   "cell_type": "markdown",
   "id": "muslim-register",
   "metadata": {},
   "source": [
    "# Libraries import"
   ]
  },
  {
   "cell_type": "code",
   "execution_count": 1,
   "id": "conditional-stream",
   "metadata": {},
   "outputs": [],
   "source": [
    "import matplotlib.pyplot as plt\n",
    "import pandas as pd\n",
    "from rdkit import Chem, DataStructs\n",
    "from rdkit.Chem import AllChem, Descriptors\n",
    "import rdkit\n",
    "from rdkit.Chem import QED\n",
    "import warnings\n",
    "warnings.filterwarnings('ignore')"
   ]
  },
  {
   "cell_type": "markdown",
   "id": "numeric-metadata",
   "metadata": {},
   "source": [
    "# Data loading"
   ]
  },
  {
   "cell_type": "code",
   "execution_count": 2,
   "id": "choice-accommodation",
   "metadata": {},
   "outputs": [],
   "source": [
    "ROR_mol = pd.read_excel('Molecules_generated_tensor_scaling_0_2.xlsx')"
   ]
  },
  {
   "cell_type": "code",
   "execution_count": 3,
   "id": "billion-belarus",
   "metadata": {},
   "outputs": [
    {
     "data": {
      "text/plain": [
       "(78, 2)"
      ]
     },
     "execution_count": 3,
     "metadata": {},
     "output_type": "execute_result"
    }
   ],
   "source": [
    "ROR_mol.shape"
   ]
  },
  {
   "cell_type": "code",
   "execution_count": 4,
   "id": "heated-fifty",
   "metadata": {},
   "outputs": [
    {
     "data": {
      "text/plain": [
       "0         CCC(=O)NCC(C1)=NN=C(C=C(C)C=CC(OC)=N)S1\n",
       "1      CCC(=O)NCC1=CC=NN1SC=C(C2=CC=CC=C2F)[NH1]N\n",
       "2             C1CC(=O)NCCC(SC2=N[NH1]C=N2)C1(CC)C\n",
       "3           CCC(=O)NC1CC(C2=N[NH1]C=C2C(C)=C=N)O1\n",
       "4    CCC(=O)NCC1=CC=NN1SC2=C(C3=CC=CC=C3F)N[NH1]2\n",
       "Name: SMILES_From_Tensor_rotation, dtype: object"
      ]
     },
     "execution_count": 4,
     "metadata": {},
     "output_type": "execute_result"
    }
   ],
   "source": [
    "smiles = ROR_mol['SMILES_From_Tensor_rotation']\n",
    "smiles.head()"
   ]
  },
  {
   "cell_type": "code",
   "execution_count": 5,
   "id": "elder-square",
   "metadata": {},
   "outputs": [],
   "source": [
    "new_set0 = ROR_mol['SMILES_From_Tensor_rotation'].to_list()"
   ]
  },
  {
   "cell_type": "code",
   "execution_count": 6,
   "id": "designing-respondent",
   "metadata": {},
   "outputs": [
    {
     "data": {
      "text/plain": [
       "(78, 1)"
      ]
     },
     "execution_count": 6,
     "metadata": {},
     "output_type": "execute_result"
    }
   ],
   "source": [
    "dff_15 = pd.DataFrame(new_set0,columns=['SMILES'])\n",
    "dff_15.shape"
   ]
  },
  {
   "cell_type": "markdown",
   "id": "heavy-yugoslavia",
   "metadata": {},
   "source": [
    "# Duplicates deletion"
   ]
  },
  {
   "cell_type": "code",
   "execution_count": 7,
   "id": "choice-friday",
   "metadata": {},
   "outputs": [
    {
     "data": {
      "text/plain": [
       "(78, 1)"
      ]
     },
     "execution_count": 7,
     "metadata": {},
     "output_type": "execute_result"
    }
   ],
   "source": [
    "dff_17 = dff_15.drop_duplicates()\n",
    "dff_17.shape"
   ]
  },
  {
   "cell_type": "code",
   "execution_count": 8,
   "id": "identified-persian",
   "metadata": {},
   "outputs": [
    {
     "data": {
      "text/plain": [
       "'CCC(=O)NCC(C1)=NN=C(C=C(C)C=CC(OC)=N)S1'"
      ]
     },
     "execution_count": 8,
     "metadata": {},
     "output_type": "execute_result"
    }
   ],
   "source": [
    "new_set1 = dff_17['SMILES'].to_list()\n",
    "new_set1[0]"
   ]
  },
  {
   "cell_type": "markdown",
   "id": "dying-listening",
   "metadata": {},
   "source": [
    "# Seeing of the first structure"
   ]
  },
  {
   "cell_type": "code",
   "execution_count": 9,
   "id": "joined-communications",
   "metadata": {},
   "outputs": [],
   "source": [
    "structure =  Chem.MolFromSmiles(new_set1[2])"
   ]
  },
  {
   "cell_type": "code",
   "execution_count": 10,
   "id": "infectious-aircraft",
   "metadata": {},
   "outputs": [
    {
     "data": {
      "image/png": "[encoded data removed]",
      "text/plain": [
       "<rdkit.Chem.rdchem.Mol at 0x7f6719b71640>"
      ]
     },
     "execution_count": 10,
     "metadata": {},
     "output_type": "execute_result"
    }
   ],
   "source": [
    "structure"
   ]
  },
  {
   "cell_type": "markdown",
   "id": "cognitive-fairy",
   "metadata": {},
   "source": [
    "# Calculation of the QED descriptors"
   ]
  },
  {
   "cell_type": "code",
   "execution_count": 11,
   "id": "cathedral-reduction",
   "metadata": {},
   "outputs": [],
   "source": [
    "QED_list = []\n",
    "for smiles in new_set1:\n",
    "    QED_list.append(QED.properties(Chem.MolFromSmiles(smiles)))"
   ]
  },
  {
   "cell_type": "code",
   "execution_count": 12,
   "id": "pointed-smell",
   "metadata": {},
   "outputs": [
    {
     "data": {
      "text/plain": [
       "QEDproperties(MW=308.407, ALOGP=2.14007, HBA=3, HBD=2, PSA=86.9, ROTB=6, AROM=0, ALERTS=3)"
      ]
     },
     "execution_count": 12,
     "metadata": {},
     "output_type": "execute_result"
    }
   ],
   "source": [
    "QED_list[0]"
   ]
  },
  {
   "cell_type": "markdown",
   "id": "strong-traffic",
   "metadata": {},
   "source": [
    "# Preparation of the generated QED descriptors to the dataframe"
   ]
  },
  {
   "cell_type": "code",
   "execution_count": 13,
   "id": "rolled-short",
   "metadata": {},
   "outputs": [],
   "source": [
    "df = pd.DataFrame.from_records(QED_list, columns = ['Molecular weight', 'alogP', 'HBacceptors','HBdonors',\n",
    "                                                    'Polar surface area','rotatable bonds','aromatics rings','alerts'])"
   ]
  },
  {
   "cell_type": "code",
   "execution_count": 14,
   "id": "looking-penny",
   "metadata": {},
   "outputs": [
    {
     "data": {
      "text/html": [
       "<div>\n",
       "<style scoped>\n",
       "    .dataframe tbody tr th:only-of-type {\n",
       "        vertical-align: middle;\n",
       "    }\n",
       "\n",
       "    .dataframe tbody tr th {\n",
       "        vertical-align: top;\n",
       "    }\n",
       "\n",
       "    .dataframe thead th {\n",
       "        text-align: right;\n",
       "    }\n",
       "</style>\n",
       "<table border=\"1\" class=\"dataframe\">\n",
       "  <thead>\n",
       "    <tr style=\"text-align: right;\">\n",
       "      <th></th>\n",
       "      <th>Molecular weight</th>\n",
       "      <th>alogP</th>\n",
       "      <th>HBacceptors</th>\n",
       "      <th>HBdonors</th>\n",
       "      <th>Polar surface area</th>\n",
       "      <th>rotatable bonds</th>\n",
       "      <th>aromatics rings</th>\n",
       "      <th>alerts</th>\n",
       "    </tr>\n",
       "  </thead>\n",
       "  <tbody>\n",
       "    <tr>\n",
       "      <th>0</th>\n",
       "      <td>308.407</td>\n",
       "      <td>2.14007</td>\n",
       "      <td>3</td>\n",
       "      <td>2</td>\n",
       "      <td>86.90</td>\n",
       "      <td>6</td>\n",
       "      <td>0</td>\n",
       "      <td>3</td>\n",
       "    </tr>\n",
       "    <tr>\n",
       "      <th>1</th>\n",
       "      <td>335.408</td>\n",
       "      <td>2.00660</td>\n",
       "      <td>5</td>\n",
       "      <td>3</td>\n",
       "      <td>84.97</td>\n",
       "      <td>7</td>\n",
       "      <td>2</td>\n",
       "      <td>2</td>\n",
       "    </tr>\n",
       "    <tr>\n",
       "      <th>2</th>\n",
       "      <td>268.386</td>\n",
       "      <td>1.98180</td>\n",
       "      <td>4</td>\n",
       "      <td>2</td>\n",
       "      <td>70.67</td>\n",
       "      <td>3</td>\n",
       "      <td>1</td>\n",
       "      <td>0</td>\n",
       "    </tr>\n",
       "    <tr>\n",
       "      <th>3</th>\n",
       "      <td>248.286</td>\n",
       "      <td>1.37517</td>\n",
       "      <td>3</td>\n",
       "      <td>3</td>\n",
       "      <td>90.86</td>\n",
       "      <td>4</td>\n",
       "      <td>1</td>\n",
       "      <td>1</td>\n",
       "    </tr>\n",
       "    <tr>\n",
       "      <th>4</th>\n",
       "      <td>333.392</td>\n",
       "      <td>2.92700</td>\n",
       "      <td>3</td>\n",
       "      <td>3</td>\n",
       "      <td>78.50</td>\n",
       "      <td>6</td>\n",
       "      <td>3</td>\n",
       "      <td>0</td>\n",
       "    </tr>\n",
       "  </tbody>\n",
       "</table>\n",
       "</div>"
      ],
      "text/plain": [
       "   Molecular weight    alogP  HBacceptors  HBdonors  Polar surface area  \\\n",
       "0           308.407  2.14007            3         2               86.90   \n",
       "1           335.408  2.00660            5         3               84.97   \n",
       "2           268.386  1.98180            4         2               70.67   \n",
       "3           248.286  1.37517            3         3               90.86   \n",
       "4           333.392  2.92700            3         3               78.50   \n",
       "\n",
       "   rotatable bonds  aromatics rings  alerts  \n",
       "0                6                0       3  \n",
       "1                7                2       2  \n",
       "2                3                1       0  \n",
       "3                4                1       1  \n",
       "4                6                3       0  "
      ]
     },
     "execution_count": 14,
     "metadata": {},
     "output_type": "execute_result"
    }
   ],
   "source": [
    "df.head()"
   ]
  },
  {
   "cell_type": "markdown",
   "id": "metallic-hazard",
   "metadata": {},
   "source": [
    "# the histogram of the molecular weight distribution"
   ]
  },
  {
   "cell_type": "code",
   "execution_count": 15,
   "id": "durable-ready",
   "metadata": {},
   "outputs": [
    {
     "data": {
      "image/png": "[encoded data removed]",
      "text/plain": [
       "<Figure size 432x288 with 1 Axes>"
      ]
     },
     "metadata": {
      "needs_background": "light"
     },
     "output_type": "display_data"
    },
    {
     "name": "stdout",
     "output_type": "stream",
     "text": [
      "count     78.000000\n",
      "mean     384.113962\n",
      "std       93.527477\n",
      "min       58.040000\n",
      "25%      331.296500\n",
      "50%      376.398000\n",
      "75%      464.644250\n",
      "max      552.731000\n",
      "Name: Molecular weight, dtype: float64\n",
      "Kurtosis:\n",
      "1.6878\n",
      "Skewness:\n",
      "-0.7177\n"
     ]
    }
   ],
   "source": [
    "plt.hist(df['Molecular weight'],bins=100)\n",
    "plt.xlabel('Molecular weight')\n",
    "plt.ylabel('Number of compounds')\n",
    "plt.title('Histogram of Molecular weight distribution')\n",
    "plt.grid(True)\n",
    "plt.show()\n",
    "\n",
    "print(df['Molecular weight'].describe())\n",
    "print('Kurtosis:')\n",
    "print(round(df['Molecular weight'].kurtosis(),4))\n",
    "print('Skewness:')\n",
    "print(round(df['Molecular weight'].skew(),4))"
   ]
  },
  {
   "cell_type": "markdown",
   "id": "marked-implementation",
   "metadata": {},
   "source": [
    "# the histogram of the octanol-water partition coefficient distribution"
   ]
  },
  {
   "cell_type": "code",
   "execution_count": 16,
   "id": "lyric-telephone",
   "metadata": {},
   "outputs": [
    {
     "data": {
      "image/png": "[encoded data removed]",
      "text/plain": [
       "<Figure size 432x288 with 1 Axes>"
      ]
     },
     "metadata": {
      "needs_background": "light"
     },
     "output_type": "display_data"
    },
    {
     "name": "stdout",
     "output_type": "stream",
     "text": [
      "count    78.000000\n",
      "mean      3.894427\n",
      "std       2.146710\n",
      "min      -0.706200\n",
      "25%       2.309850\n",
      "50%       3.606030\n",
      "75%       4.838500\n",
      "max       9.031100\n",
      "Name: alogP, dtype: float64\n",
      "Kurtosis:\n",
      "0.0045\n",
      "Skewness:\n",
      "0.6873\n"
     ]
    }
   ],
   "source": [
    "plt.hist(df['alogP'],bins=100)\n",
    "plt.xlabel('alogP')\n",
    "plt.ylabel('Number of compounds')\n",
    "plt.title('Histogram of octanol-water partition coefficient distribution')\n",
    "plt.grid(True)\n",
    "plt.show()\n",
    "\n",
    "print(df['alogP'].describe())\n",
    "print('Kurtosis:')\n",
    "print(round(df['alogP'].kurtosis(),4))\n",
    "print('Skewness:')\n",
    "print(round(df['alogP'].skew(),4))"
   ]
  },
  {
   "cell_type": "markdown",
   "id": "peripheral-miracle",
   "metadata": {},
   "source": [
    "# the histogram of the hydrogen bonding acceptors number distribution"
   ]
  },
  {
   "cell_type": "code",
   "execution_count": 17,
   "id": "metropolitan-charter",
   "metadata": {},
   "outputs": [
    {
     "data": {
      "image/png": "[encoded data removed]",
      "text/plain": [
       "<Figure size 432x288 with 1 Axes>"
      ]
     },
     "metadata": {
      "needs_background": "light"
     },
     "output_type": "display_data"
    },
    {
     "name": "stdout",
     "output_type": "stream",
     "text": [
      "count    78.000000\n",
      "mean      3.961538\n",
      "std       1.861729\n",
      "min       1.000000\n",
      "25%       3.000000\n",
      "50%       4.000000\n",
      "75%       5.000000\n",
      "max       9.000000\n",
      "Name: HBacceptors, dtype: float64\n",
      "Kurtosis:\n",
      "-0.3596\n",
      "Skewness:\n",
      "0.454\n"
     ]
    }
   ],
   "source": [
    "plt.hist(df['HBacceptors'],bins=100)\n",
    "plt.xlabel('HBacceptors')\n",
    "plt.ylabel('Number of compounds')\n",
    "plt.title('Histogram of hydrogen bonding acceptors number distribution')\n",
    "plt.grid(True)\n",
    "plt.show()\n",
    "\n",
    "print(df['HBacceptors'].describe())\n",
    "print('Kurtosis:')\n",
    "print(round(df['HBacceptors'].kurtosis(),4))\n",
    "print('Skewness:')\n",
    "print(round(df['HBacceptors'].skew(),4))"
   ]
  },
  {
   "cell_type": "markdown",
   "id": "presidential-vintage",
   "metadata": {},
   "source": [
    "# the histogram of the hydrogen bonding donors number distribution"
   ]
  },
  {
   "cell_type": "code",
   "execution_count": 18,
   "id": "legitimate-argentina",
   "metadata": {},
   "outputs": [
    {
     "data": {
      "image/png": "[encoded data removed]",
      "text/plain": [
       "<Figure size 432x288 with 1 Axes>"
      ]
     },
     "metadata": {
      "needs_background": "light"
     },
     "output_type": "display_data"
    },
    {
     "name": "stdout",
     "output_type": "stream",
     "text": [
      "count    78.000000\n",
      "mean      1.820513\n",
      "std       1.136680\n",
      "min       0.000000\n",
      "25%       1.000000\n",
      "50%       2.000000\n",
      "75%       3.000000\n",
      "max       4.000000\n",
      "Name: HBdonors, dtype: float64\n",
      "Kurtosis:\n",
      "-0.7059\n",
      "Skewness:\n",
      "0.3088\n"
     ]
    }
   ],
   "source": [
    "plt.hist(df['HBdonors'],bins=100)\n",
    "plt.xlabel('HBdonors')\n",
    "plt.ylabel('Number of compounds')\n",
    "plt.title('Histogram of hydrogen bonding donors number distribution')\n",
    "plt.grid(True)\n",
    "plt.show()\n",
    "\n",
    "print(df['HBdonors'].describe())\n",
    "print('Kurtosis:')\n",
    "print(round(df['HBdonors'].kurtosis(),4))\n",
    "print('Skewness:')\n",
    "print(round(df['HBdonors'].skew(),4))"
   ]
  },
  {
   "cell_type": "markdown",
   "id": "designed-minimum",
   "metadata": {},
   "source": [
    "# the histogram of the polar surface area distribution"
   ]
  },
  {
   "cell_type": "code",
   "execution_count": 19,
   "id": "fifty-affairs",
   "metadata": {},
   "outputs": [
    {
     "data": {
      "image/png": "[encoded data removed]",
      "text/plain": [
       "<Figure size 432x288 with 1 Axes>"
      ]
     },
     "metadata": {
      "needs_background": "light"
     },
     "output_type": "display_data"
    },
    {
     "name": "stdout",
     "output_type": "stream",
     "text": [
      "count     78.000000\n",
      "mean      68.250897\n",
      "std       32.946849\n",
      "min        0.000000\n",
      "25%       43.820000\n",
      "50%       70.405000\n",
      "75%       87.140000\n",
      "max      168.510000\n",
      "Name: Polar surface area, dtype: float64\n",
      "Kurtosis:\n",
      "0.2476\n",
      "Skewness:\n",
      "0.2936\n"
     ]
    }
   ],
   "source": [
    "plt.hist(df['Polar surface area'],bins=100)\n",
    "plt.xlabel('Polar surface area')\n",
    "plt.ylabel('Number of compounds')\n",
    "plt.title('Histogram of polar surface area distribution')\n",
    "plt.grid(True)\n",
    "plt.show()\n",
    "\n",
    "print(df['Polar surface area'].describe())\n",
    "print('Kurtosis:')\n",
    "print(round(df['Polar surface area'].kurtosis(),4))\n",
    "print('Skewness:')\n",
    "print(round(df['Polar surface area'].skew(),4))"
   ]
  },
  {
   "cell_type": "markdown",
   "id": "alike-comedy",
   "metadata": {},
   "source": [
    "# the histogram of the rotatable bonds number distribution"
   ]
  },
  {
   "cell_type": "code",
   "execution_count": 20,
   "id": "aggregate-michigan",
   "metadata": {},
   "outputs": [
    {
     "data": {
      "image/png": "[encoded data removed]",
      "text/plain": [
       "<Figure size 432x288 with 1 Axes>"
      ]
     },
     "metadata": {
      "needs_background": "light"
     },
     "output_type": "display_data"
    },
    {
     "name": "stdout",
     "output_type": "stream",
     "text": [
      "count    78.000000\n",
      "mean      5.923077\n",
      "std       3.917225\n",
      "min       0.000000\n",
      "25%       3.000000\n",
      "50%       6.000000\n",
      "75%       8.000000\n",
      "max      16.000000\n",
      "Name: rotatable bonds, dtype: float64\n",
      "Kurtosis:\n",
      "-0.0173\n",
      "Skewness:\n",
      "0.5887\n"
     ]
    }
   ],
   "source": [
    "plt.hist(df['rotatable bonds'],bins=100)\n",
    "plt.xlabel('rotatable bonds')\n",
    "plt.ylabel('Number of compounds')\n",
    "plt.title('Histogram of number of rotatable bonds distribution')\n",
    "plt.grid(True)\n",
    "plt.show()\n",
    "\n",
    "print(df['rotatable bonds'].describe())\n",
    "print('Kurtosis:')\n",
    "print(round(df['rotatable bonds'].kurtosis(),4))\n",
    "print('Skewness:')\n",
    "print(round(df['rotatable bonds'].skew(),4))"
   ]
  },
  {
   "cell_type": "markdown",
   "id": "protective-norway",
   "metadata": {},
   "source": [
    "# the histogram of the aromatics rings number distribution"
   ]
  },
  {
   "cell_type": "code",
   "execution_count": 21,
   "id": "editorial-armstrong",
   "metadata": {},
   "outputs": [
    {
     "data": {
      "image/png": "[encoded data removed]",
      "text/plain": [
       "<Figure size 432x288 with 1 Axes>"
      ]
     },
     "metadata": {
      "needs_background": "light"
     },
     "output_type": "display_data"
    },
    {
     "name": "stdout",
     "output_type": "stream",
     "text": [
      "count    78.000000\n",
      "mean      1.205128\n",
      "std       0.944691\n",
      "min       0.000000\n",
      "25%       0.250000\n",
      "50%       1.000000\n",
      "75%       2.000000\n",
      "max       3.000000\n",
      "Name: aromatics rings, dtype: float64\n",
      "Kurtosis:\n",
      "-0.7716\n",
      "Skewness:\n",
      "0.3326\n"
     ]
    }
   ],
   "source": [
    "plt.hist(df['aromatics rings'],bins=100)\n",
    "plt.xlabel('aromatics rings')\n",
    "plt.ylabel('Number of compounds')\n",
    "plt.title('Histogram of number of aromatics rings distribution')\n",
    "plt.grid(True)\n",
    "plt.show()\n",
    "\n",
    "print(df['aromatics rings'].describe())\n",
    "print('Kurtosis:')\n",
    "print(round(df['aromatics rings'].kurtosis(),4))\n",
    "print('Skewness:')\n",
    "print(round(df['aromatics rings'].skew(),4))"
   ]
  },
  {
   "cell_type": "markdown",
   "id": "4562423f",
   "metadata": {},
   "source": [
    "# QED descriptor"
   ]
  },
  {
   "cell_type": "markdown",
   "id": "6bfe90aa",
   "metadata": {},
   "source": [
    "Drug-Like (QED):\n",
    "\n",
    "    - mass < 400\n",
    "    \n",
    "    - ring count > 0\n",
    "    \n",
    "    - rotatable bond count < 5\n",
    "    \n",
    "    - h-bond donor count <= 5\n",
    "    \n",
    "    - h-bond acceptor count <= 10\n",
    "    \n",
    "    - logP < 5\n",
    "    \n",
    "QED is calculated from weighted sum of ADS of mapped properties:\n",
    "WEIGHT_MEAN = QEDproperties( MW = 0.66, ALOGP = 0.46, HBA = 0.05, HBD = 0.61, PSA = 0.06, ROTB = 0.65, AROM = 0.48, ALERTS = 0.95 )\n",
    "\n",
    "https://github.com/kevinid/molecule_generator/blob/master/rdkit_contrib/qed.py\n",
    "Function is described here...\n"
   ]
  },
  {
   "cell_type": "code",
   "execution_count": 22,
   "id": "39a3f1c6",
   "metadata": {},
   "outputs": [],
   "source": [
    "QED_list_QED = []\n",
    "for smiles in new_set1:\n",
    "    QED_list_QED.append(QED.qed(Chem.MolFromSmiles(smiles)))"
   ]
  },
  {
   "cell_type": "code",
   "execution_count": 23,
   "id": "c2b07dad",
   "metadata": {},
   "outputs": [
    {
     "data": {
      "text/plain": [
       "0.4475496144157611"
      ]
     },
     "execution_count": 23,
     "metadata": {},
     "output_type": "execute_result"
    }
   ],
   "source": [
    "QED_list_QED[0]"
   ]
  },
  {
   "cell_type": "code",
   "execution_count": 24,
   "id": "32c39092",
   "metadata": {},
   "outputs": [],
   "source": [
    "df_QED = pd.DataFrame(QED_list_QED, columns = ['Quantitative Estimation of Drug-likeness'])"
   ]
  },
  {
   "cell_type": "code",
   "execution_count": 25,
   "id": "2e007db9",
   "metadata": {},
   "outputs": [
    {
     "data": {
      "text/html": [
       "<div>\n",
       "<style scoped>\n",
       "    .dataframe tbody tr th:only-of-type {\n",
       "        vertical-align: middle;\n",
       "    }\n",
       "\n",
       "    .dataframe tbody tr th {\n",
       "        vertical-align: top;\n",
       "    }\n",
       "\n",
       "    .dataframe thead th {\n",
       "        text-align: right;\n",
       "    }\n",
       "</style>\n",
       "<table border=\"1\" class=\"dataframe\">\n",
       "  <thead>\n",
       "    <tr style=\"text-align: right;\">\n",
       "      <th></th>\n",
       "      <th>Quantitative Estimation of Drug-likeness</th>\n",
       "    </tr>\n",
       "  </thead>\n",
       "  <tbody>\n",
       "    <tr>\n",
       "      <th>0</th>\n",
       "      <td>0.447550</td>\n",
       "    </tr>\n",
       "    <tr>\n",
       "      <th>1</th>\n",
       "      <td>0.532295</td>\n",
       "    </tr>\n",
       "    <tr>\n",
       "      <th>2</th>\n",
       "      <td>0.879117</td>\n",
       "    </tr>\n",
       "    <tr>\n",
       "      <th>3</th>\n",
       "      <td>0.702774</td>\n",
       "    </tr>\n",
       "    <tr>\n",
       "      <th>4</th>\n",
       "      <td>0.648847</td>\n",
       "    </tr>\n",
       "  </tbody>\n",
       "</table>\n",
       "</div>"
      ],
      "text/plain": [
       "   Quantitative Estimation of Drug-likeness\n",
       "0                                  0.447550\n",
       "1                                  0.532295\n",
       "2                                  0.879117\n",
       "3                                  0.702774\n",
       "4                                  0.648847"
      ]
     },
     "execution_count": 25,
     "metadata": {},
     "output_type": "execute_result"
    }
   ],
   "source": [
    "df_QED.head()"
   ]
  },
  {
   "cell_type": "code",
   "execution_count": 26,
   "id": "98af4f09",
   "metadata": {},
   "outputs": [
    {
     "data": {
      "image/png": "[encoded data removed]",
      "text/plain": [
       "<Figure size 576x360 with 1 Axes>"
      ]
     },
     "metadata": {
      "needs_background": "light"
     },
     "output_type": "display_data"
    },
    {
     "name": "stdout",
     "output_type": "stream",
     "text": [
      "count    78.000000\n",
      "mean      0.497461\n",
      "std       0.236723\n",
      "min       0.085704\n",
      "25%       0.308729\n",
      "50%       0.513035\n",
      "75%       0.701894\n",
      "max       0.910755\n",
      "Name: Quantitative Estimation of Drug-likeness, dtype: float64\n",
      "Kurtosis:\n",
      "-1.059\n",
      "Skewness:\n",
      "-0.0409\n"
     ]
    }
   ],
   "source": [
    "plt.figure(figsize=(8,5))\n",
    "plt.hist(df_QED['Quantitative Estimation of Drug-likeness'],bins=100)\n",
    "plt.xlabel('Quantitative Estimation of Drug-likeness', fontsize=14)\n",
    "plt.ylabel('Number of compounds', fontsize=14)\n",
    "#plt.title('Histogram of QED distribution')\n",
    "plt.axvline(x=0.5, color='r')\n",
    "plt.grid(True)\n",
    "plt.savefig(\"tmp/Quantitative Estimation of Drug-likeness 0.2.svg\")\n",
    "plt.show()\n",
    "\n",
    "print(df_QED['Quantitative Estimation of Drug-likeness'].describe())\n",
    "print('Kurtosis:')\n",
    "print(round(df_QED['Quantitative Estimation of Drug-likeness'].kurtosis(),4))\n",
    "print('Skewness:')\n",
    "print(round(df_QED['Quantitative Estimation of Drug-likeness'].skew(),4))"
   ]
  },
  {
   "cell_type": "markdown",
   "id": "2747b4bc",
   "metadata": {},
   "source": [
    "# Combination of SMILES with QED value"
   ]
  },
  {
   "cell_type": "code",
   "execution_count": 27,
   "id": "ed0cb7c2",
   "metadata": {},
   "outputs": [],
   "source": [
    "dff_15['QED'] = QED_list_QED"
   ]
  },
  {
   "cell_type": "code",
   "execution_count": 28,
   "id": "1d85d120",
   "metadata": {},
   "outputs": [
    {
     "data": {
      "text/html": [
       "<div>\n",
       "<style scoped>\n",
       "    .dataframe tbody tr th:only-of-type {\n",
       "        vertical-align: middle;\n",
       "    }\n",
       "\n",
       "    .dataframe tbody tr th {\n",
       "        vertical-align: top;\n",
       "    }\n",
       "\n",
       "    .dataframe thead th {\n",
       "        text-align: right;\n",
       "    }\n",
       "</style>\n",
       "<table border=\"1\" class=\"dataframe\">\n",
       "  <thead>\n",
       "    <tr style=\"text-align: right;\">\n",
       "      <th></th>\n",
       "      <th>SMILES</th>\n",
       "      <th>QED</th>\n",
       "    </tr>\n",
       "  </thead>\n",
       "  <tbody>\n",
       "    <tr>\n",
       "      <th>0</th>\n",
       "      <td>CCC(=O)NCC(C1)=NN=C(C=C(C)C=CC(OC)=N)S1</td>\n",
       "      <td>0.447550</td>\n",
       "    </tr>\n",
       "    <tr>\n",
       "      <th>1</th>\n",
       "      <td>CCC(=O)NCC1=CC=NN1SC=C(C2=CC=CC=C2F)[NH1]N</td>\n",
       "      <td>0.532295</td>\n",
       "    </tr>\n",
       "    <tr>\n",
       "      <th>2</th>\n",
       "      <td>C1CC(=O)NCCC(SC2=N[NH1]C=N2)C1(CC)C</td>\n",
       "      <td>0.879117</td>\n",
       "    </tr>\n",
       "    <tr>\n",
       "      <th>3</th>\n",
       "      <td>CCC(=O)NC1CC(C2=N[NH1]C=C2C(C)=C=N)O1</td>\n",
       "      <td>0.702774</td>\n",
       "    </tr>\n",
       "    <tr>\n",
       "      <th>4</th>\n",
       "      <td>CCC(=O)NCC1=CC=NN1SC2=C(C3=CC=CC=C3F)N[NH1]2</td>\n",
       "      <td>0.648847</td>\n",
       "    </tr>\n",
       "  </tbody>\n",
       "</table>\n",
       "</div>"
      ],
      "text/plain": [
       "                                         SMILES       QED\n",
       "0       CCC(=O)NCC(C1)=NN=C(C=C(C)C=CC(OC)=N)S1  0.447550\n",
       "1    CCC(=O)NCC1=CC=NN1SC=C(C2=CC=CC=C2F)[NH1]N  0.532295\n",
       "2           C1CC(=O)NCCC(SC2=N[NH1]C=N2)C1(CC)C  0.879117\n",
       "3         CCC(=O)NC1CC(C2=N[NH1]C=C2C(C)=C=N)O1  0.702774\n",
       "4  CCC(=O)NCC1=CC=NN1SC2=C(C3=CC=CC=C3F)N[NH1]2  0.648847"
      ]
     },
     "execution_count": 28,
     "metadata": {},
     "output_type": "execute_result"
    }
   ],
   "source": [
    "dff_15.head()"
   ]
  },
  {
   "cell_type": "code",
   "execution_count": 29,
   "id": "b7e27901",
   "metadata": {},
   "outputs": [],
   "source": [
    "df_QED_above_0_6 = dff_15.loc[dff_15['QED'] > 0.5] #0.6"
   ]
  },
  {
   "cell_type": "code",
   "execution_count": 30,
   "id": "2bc82a4f",
   "metadata": {},
   "outputs": [
    {
     "data": {
      "text/plain": [
       "39"
      ]
     },
     "execution_count": 30,
     "metadata": {},
     "output_type": "execute_result"
    }
   ],
   "source": [
    "len(df_QED_above_0_6['QED'])"
   ]
  },
  {
   "cell_type": "markdown",
   "id": "42c6e20c",
   "metadata": {},
   "source": [
    "# Lipinski's rule of 5"
   ]
  },
  {
   "cell_type": "markdown",
   "id": "afd0536d",
   "metadata": {},
   "source": [
    "Lipinski:\n",
    "\n",
    "    - Moleculer Weight <= 500\n",
    "    \n",
    "    - LogP <= 5\n",
    "    \n",
    "    - H-Bond Donor Count <= 5\n",
    "    \n",
    "    - H-Bond Acceptor Count <= 10\n",
    "    \n",
    "    - Rotatable bonds <= 5"
   ]
  },
  {
   "cell_type": "code",
   "execution_count": 31,
   "id": "194bddfa",
   "metadata": {},
   "outputs": [],
   "source": [
    "dff_15['molecular_weight'] = [Descriptors.ExactMolWt(Chem.MolFromSmiles(molecule)) for molecule in dff_15['SMILES']]\n",
    "dff_15['logp'] = [Descriptors.MolLogP(Chem.MolFromSmiles(molecule)) for molecule in dff_15['SMILES']]\n",
    "dff_15['h_bond_donors'] = [Descriptors.NumHDonors(Chem.MolFromSmiles(molecule)) for molecule in dff_15['SMILES']]\n",
    "dff_15['h_bond_acceptors'] = [Descriptors.NumHAcceptors(Chem.MolFromSmiles(molecule)) for molecule in dff_15['SMILES']]\n",
    "dff_15['rotatable_bonds'] = [Descriptors.NumRotatableBonds(Chem.MolFromSmiles(molecule)) for molecule in dff_15['SMILES']]"
   ]
  },
  {
   "cell_type": "code",
   "execution_count": 32,
   "id": "ce67f622",
   "metadata": {},
   "outputs": [
    {
     "data": {
      "text/html": [
       "<div>\n",
       "<style scoped>\n",
       "    .dataframe tbody tr th:only-of-type {\n",
       "        vertical-align: middle;\n",
       "    }\n",
       "\n",
       "    .dataframe tbody tr th {\n",
       "        vertical-align: top;\n",
       "    }\n",
       "\n",
       "    .dataframe thead th {\n",
       "        text-align: right;\n",
       "    }\n",
       "</style>\n",
       "<table border=\"1\" class=\"dataframe\">\n",
       "  <thead>\n",
       "    <tr style=\"text-align: right;\">\n",
       "      <th></th>\n",
       "      <th>SMILES</th>\n",
       "      <th>QED</th>\n",
       "      <th>molecular_weight</th>\n",
       "      <th>logp</th>\n",
       "      <th>h_bond_donors</th>\n",
       "      <th>h_bond_acceptors</th>\n",
       "      <th>rotatable_bonds</th>\n",
       "    </tr>\n",
       "  </thead>\n",
       "  <tbody>\n",
       "    <tr>\n",
       "      <th>0</th>\n",
       "      <td>CCC(=O)NCC(C1)=NN=C(C=C(C)C=CC(OC)=N)S1</td>\n",
       "      <td>0.447550</td>\n",
       "      <td>308.130697</td>\n",
       "      <td>2.14007</td>\n",
       "      <td>2</td>\n",
       "      <td>6</td>\n",
       "      <td>6</td>\n",
       "    </tr>\n",
       "    <tr>\n",
       "      <th>1</th>\n",
       "      <td>CCC(=O)NCC1=CC=NN1SC=C(C2=CC=CC=C2F)[NH1]N</td>\n",
       "      <td>0.532295</td>\n",
       "      <td>335.121609</td>\n",
       "      <td>2.00660</td>\n",
       "      <td>3</td>\n",
       "      <td>6</td>\n",
       "      <td>7</td>\n",
       "    </tr>\n",
       "    <tr>\n",
       "      <th>2</th>\n",
       "      <td>C1CC(=O)NCCC(SC2=N[NH1]C=N2)C1(CC)C</td>\n",
       "      <td>0.879117</td>\n",
       "      <td>268.135782</td>\n",
       "      <td>1.98180</td>\n",
       "      <td>2</td>\n",
       "      <td>4</td>\n",
       "      <td>3</td>\n",
       "    </tr>\n",
       "    <tr>\n",
       "      <th>3</th>\n",
       "      <td>CCC(=O)NC1CC(C2=N[NH1]C=C2C(C)=C=N)O1</td>\n",
       "      <td>0.702774</td>\n",
       "      <td>248.127326</td>\n",
       "      <td>1.37517</td>\n",
       "      <td>3</td>\n",
       "      <td>4</td>\n",
       "      <td>4</td>\n",
       "    </tr>\n",
       "    <tr>\n",
       "      <th>4</th>\n",
       "      <td>CCC(=O)NCC1=CC=NN1SC2=C(C3=CC=CC=C3F)N[NH1]2</td>\n",
       "      <td>0.648847</td>\n",
       "      <td>333.105959</td>\n",
       "      <td>2.92700</td>\n",
       "      <td>3</td>\n",
       "      <td>4</td>\n",
       "      <td>6</td>\n",
       "    </tr>\n",
       "  </tbody>\n",
       "</table>\n",
       "</div>"
      ],
      "text/plain": [
       "                                         SMILES       QED  molecular_weight  \\\n",
       "0       CCC(=O)NCC(C1)=NN=C(C=C(C)C=CC(OC)=N)S1  0.447550        308.130697   \n",
       "1    CCC(=O)NCC1=CC=NN1SC=C(C2=CC=CC=C2F)[NH1]N  0.532295        335.121609   \n",
       "2           C1CC(=O)NCCC(SC2=N[NH1]C=N2)C1(CC)C  0.879117        268.135782   \n",
       "3         CCC(=O)NC1CC(C2=N[NH1]C=C2C(C)=C=N)O1  0.702774        248.127326   \n",
       "4  CCC(=O)NCC1=CC=NN1SC2=C(C3=CC=CC=C3F)N[NH1]2  0.648847        333.105959   \n",
       "\n",
       "      logp  h_bond_donors  h_bond_acceptors  rotatable_bonds  \n",
       "0  2.14007              2                 6                6  \n",
       "1  2.00660              3                 6                7  \n",
       "2  1.98180              2                 4                3  \n",
       "3  1.37517              3                 4                4  \n",
       "4  2.92700              3                 4                6  "
      ]
     },
     "execution_count": 32,
     "metadata": {},
     "output_type": "execute_result"
    }
   ],
   "source": [
    "dff_15.head()"
   ]
  },
  {
   "cell_type": "code",
   "execution_count": 33,
   "id": "ac41812c",
   "metadata": {},
   "outputs": [],
   "source": [
    "# Lipinski\n",
    "dff_15['Lipinski Rule of 5'] = 0\n",
    "for element in range(len(dff_15)):\n",
    "    \n",
    "    if dff_15['molecular_weight'][element] <= 500 and dff_15['logp'][element] <= 5 and dff_15['h_bond_donors'][element] <= 5 and dff_15['h_bond_acceptors'][element] <= 10 and dff_15['rotatable_bonds'][element] <= 5:\n",
    "        lipinski = True\n",
    "        dff_15[\"Lipinski Rule of 5\"][element] = 1\n",
    "    else:\n",
    "        dff_15[\"Lipinski Rule of 5\"][element] = 0"
   ]
  },
  {
   "cell_type": "code",
   "execution_count": 34,
   "id": "e03d3444",
   "metadata": {
    "scrolled": true
   },
   "outputs": [
    {
     "data": {
      "text/html": [
       "<div>\n",
       "<style scoped>\n",
       "    .dataframe tbody tr th:only-of-type {\n",
       "        vertical-align: middle;\n",
       "    }\n",
       "\n",
       "    .dataframe tbody tr th {\n",
       "        vertical-align: top;\n",
       "    }\n",
       "\n",
       "    .dataframe thead th {\n",
       "        text-align: right;\n",
       "    }\n",
       "</style>\n",
       "<table border=\"1\" class=\"dataframe\">\n",
       "  <thead>\n",
       "    <tr style=\"text-align: right;\">\n",
       "      <th></th>\n",
       "      <th>SMILES</th>\n",
       "      <th>QED</th>\n",
       "      <th>molecular_weight</th>\n",
       "      <th>logp</th>\n",
       "      <th>h_bond_donors</th>\n",
       "      <th>h_bond_acceptors</th>\n",
       "      <th>rotatable_bonds</th>\n",
       "      <th>Lipinski Rule of 5</th>\n",
       "    </tr>\n",
       "  </thead>\n",
       "  <tbody>\n",
       "    <tr>\n",
       "      <th>0</th>\n",
       "      <td>CCC(=O)NCC(C1)=NN=C(C=C(C)C=CC(OC)=N)S1</td>\n",
       "      <td>0.447550</td>\n",
       "      <td>308.130697</td>\n",
       "      <td>2.14007</td>\n",
       "      <td>2</td>\n",
       "      <td>6</td>\n",
       "      <td>6</td>\n",
       "      <td>0</td>\n",
       "    </tr>\n",
       "    <tr>\n",
       "      <th>1</th>\n",
       "      <td>CCC(=O)NCC1=CC=NN1SC=C(C2=CC=CC=C2F)[NH1]N</td>\n",
       "      <td>0.532295</td>\n",
       "      <td>335.121609</td>\n",
       "      <td>2.00660</td>\n",
       "      <td>3</td>\n",
       "      <td>6</td>\n",
       "      <td>7</td>\n",
       "      <td>0</td>\n",
       "    </tr>\n",
       "    <tr>\n",
       "      <th>2</th>\n",
       "      <td>C1CC(=O)NCCC(SC2=N[NH1]C=N2)C1(CC)C</td>\n",
       "      <td>0.879117</td>\n",
       "      <td>268.135782</td>\n",
       "      <td>1.98180</td>\n",
       "      <td>2</td>\n",
       "      <td>4</td>\n",
       "      <td>3</td>\n",
       "      <td>1</td>\n",
       "    </tr>\n",
       "    <tr>\n",
       "      <th>3</th>\n",
       "      <td>CCC(=O)NC1CC(C2=N[NH1]C=C2C(C)=C=N)O1</td>\n",
       "      <td>0.702774</td>\n",
       "      <td>248.127326</td>\n",
       "      <td>1.37517</td>\n",
       "      <td>3</td>\n",
       "      <td>4</td>\n",
       "      <td>4</td>\n",
       "      <td>1</td>\n",
       "    </tr>\n",
       "    <tr>\n",
       "      <th>4</th>\n",
       "      <td>CCC(=O)NCC1=CC=NN1SC2=C(C3=CC=CC=C3F)N[NH1]2</td>\n",
       "      <td>0.648847</td>\n",
       "      <td>333.105959</td>\n",
       "      <td>2.92700</td>\n",
       "      <td>3</td>\n",
       "      <td>4</td>\n",
       "      <td>6</td>\n",
       "      <td>0</td>\n",
       "    </tr>\n",
       "  </tbody>\n",
       "</table>\n",
       "</div>"
      ],
      "text/plain": [
       "                                         SMILES       QED  molecular_weight  \\\n",
       "0       CCC(=O)NCC(C1)=NN=C(C=C(C)C=CC(OC)=N)S1  0.447550        308.130697   \n",
       "1    CCC(=O)NCC1=CC=NN1SC=C(C2=CC=CC=C2F)[NH1]N  0.532295        335.121609   \n",
       "2           C1CC(=O)NCCC(SC2=N[NH1]C=N2)C1(CC)C  0.879117        268.135782   \n",
       "3         CCC(=O)NC1CC(C2=N[NH1]C=C2C(C)=C=N)O1  0.702774        248.127326   \n",
       "4  CCC(=O)NCC1=CC=NN1SC2=C(C3=CC=CC=C3F)N[NH1]2  0.648847        333.105959   \n",
       "\n",
       "      logp  h_bond_donors  h_bond_acceptors  rotatable_bonds  \\\n",
       "0  2.14007              2                 6                6   \n",
       "1  2.00660              3                 6                7   \n",
       "2  1.98180              2                 4                3   \n",
       "3  1.37517              3                 4                4   \n",
       "4  2.92700              3                 4                6   \n",
       "\n",
       "   Lipinski Rule of 5  \n",
       "0                   0  \n",
       "1                   0  \n",
       "2                   1  \n",
       "3                   1  \n",
       "4                   0  "
      ]
     },
     "execution_count": 34,
     "metadata": {},
     "output_type": "execute_result"
    }
   ],
   "source": [
    "dff_15.head()"
   ]
  },
  {
   "cell_type": "code",
   "execution_count": 35,
   "id": "096fa5da",
   "metadata": {},
   "outputs": [
    {
     "data": {
      "image/png": "[encoded data removed]",
      "text/plain": [
       "<Figure size 576x360 with 1 Axes>"
      ]
     },
     "metadata": {
      "needs_background": "light"
     },
     "output_type": "display_data"
    },
    {
     "name": "stdout",
     "output_type": "stream",
     "text": [
      "count    78.000000\n",
      "mean      0.384615\n",
      "std       0.489653\n",
      "min       0.000000\n",
      "25%       0.000000\n",
      "50%       0.000000\n",
      "75%       1.000000\n",
      "max       1.000000\n",
      "Name: Lipinski Rule of 5, dtype: float64\n",
      "Kurtosis:\n",
      "-1.8132\n",
      "Skewness:\n",
      "0.4837\n"
     ]
    }
   ],
   "source": [
    "plt.figure(figsize=(8,5))\n",
    "plt.hist(dff_15['Lipinski Rule of 5'],bins=10)\n",
    "plt.xlabel(\"Lipinski's rule of 5 fulfillment\", fontsize=14)\n",
    "plt.ylabel('Number of compounds', fontsize=14)\n",
    "#plt.title(\"Histogram of Lipinski's rule of 5 fulfillment distribution\")\n",
    "plt.grid(True)\n",
    "plt.savefig(\"tmp/Lipinski's rule of 5 fulfillment 0.2.svg\")\n",
    "plt.show()\n",
    "\n",
    "print(dff_15['Lipinski Rule of 5'].describe())\n",
    "print('Kurtosis:')\n",
    "print(round(dff_15['Lipinski Rule of 5'].kurtosis(),4))\n",
    "print('Skewness:')\n",
    "print(round(dff_15['Lipinski Rule of 5'].skew(),4))"
   ]
  },
  {
   "cell_type": "code",
   "execution_count": 36,
   "id": "9facdbe0",
   "metadata": {},
   "outputs": [
    {
     "name": "stdout",
     "output_type": "stream",
     "text": [
      "Number of structures that do not fulfilled Lipinski's rule of 5 is: 48\n"
     ]
    }
   ],
   "source": [
    "print(\"Number of structures that do not fulfilled Lipinski's rule of 5 is: \"+str(len(dff_15[dff_15['Lipinski Rule of 5'] ==0])))"
   ]
  },
  {
   "cell_type": "code",
   "execution_count": 37,
   "id": "107316df",
   "metadata": {},
   "outputs": [
    {
     "name": "stdout",
     "output_type": "stream",
     "text": [
      "Number of structures that fulfilled Lipinski's rule of 5 is: 30\n"
     ]
    }
   ],
   "source": [
    "print(\"Number of structures that fulfilled Lipinski's rule of 5 is: \"+str(len(dff_15[dff_15['Lipinski Rule of 5'] ==1])))"
   ]
  },
  {
   "cell_type": "code",
   "execution_count": 38,
   "id": "3820054e",
   "metadata": {},
   "outputs": [],
   "source": [
    "to_excel = dff_15[(dff_15['QED'] > 0.5) & (dff_15['Lipinski Rule of 5'] == 1)] #0.6\n",
    "QED_list = [QED.properties(Chem.MolFromSmiles(smiles)) for smiles in to_excel['SMILES']]\n",
    "df = pd.DataFrame.from_records(QED_list, columns = ['Molecular weight', 'alogP', 'HBacceptors','HBdonors',\n",
    "                                                    'Polar surface area','rotatable bonds','aromatics rings','alerts'])\n",
    "to_excel = to_excel.reset_index()\n",
    "to_excel['Polar surface area'] = df['Polar surface area']\n",
    "to_excel['aromatics rings'] = df['aromatics rings']\n",
    "to_excel['Lipinski alerts - to QED calc'] = df['alerts']"
   ]
  },
  {
   "cell_type": "code",
   "execution_count": 39,
   "id": "286c3c41",
   "metadata": {},
   "outputs": [],
   "source": [
    "column_order = ['SMILES', 'molecular_weight', 'logp', 'h_bond_donors', 'h_bond_acceptors', 'rotatable_bonds', 'Polar surface area', 'aromatics rings', 'Lipinski alerts - to QED calc', 'Lipinski Rule of 5', 'QED']"
   ]
  },
  {
   "cell_type": "code",
   "execution_count": 40,
   "id": "6b7f9bb7",
   "metadata": {},
   "outputs": [],
   "source": [
    "to_excel = to_excel[column_order]"
   ]
  },
  {
   "cell_type": "code",
   "execution_count": 41,
   "id": "3eb10908",
   "metadata": {},
   "outputs": [
    {
     "data": {
      "text/html": [
       "<div>\n",
       "<style scoped>\n",
       "    .dataframe tbody tr th:only-of-type {\n",
       "        vertical-align: middle;\n",
       "    }\n",
       "\n",
       "    .dataframe tbody tr th {\n",
       "        vertical-align: top;\n",
       "    }\n",
       "\n",
       "    .dataframe thead th {\n",
       "        text-align: right;\n",
       "    }\n",
       "</style>\n",
       "<table border=\"1\" class=\"dataframe\">\n",
       "  <thead>\n",
       "    <tr style=\"text-align: right;\">\n",
       "      <th></th>\n",
       "      <th>SMILES</th>\n",
       "      <th>molecular_weight</th>\n",
       "      <th>logp</th>\n",
       "      <th>h_bond_donors</th>\n",
       "      <th>h_bond_acceptors</th>\n",
       "      <th>rotatable_bonds</th>\n",
       "      <th>Polar surface area</th>\n",
       "      <th>aromatics rings</th>\n",
       "      <th>Lipinski alerts - to QED calc</th>\n",
       "      <th>Lipinski Rule of 5</th>\n",
       "      <th>QED</th>\n",
       "    </tr>\n",
       "  </thead>\n",
       "  <tbody>\n",
       "    <tr>\n",
       "      <th>0</th>\n",
       "      <td>C1CC(=O)NCCC(SC2=N[NH1]C=N2)C1(CC)C</td>\n",
       "      <td>268.135782</td>\n",
       "      <td>1.98180</td>\n",
       "      <td>2</td>\n",
       "      <td>4</td>\n",
       "      <td>3</td>\n",
       "      <td>70.67</td>\n",
       "      <td>1</td>\n",
       "      <td>0</td>\n",
       "      <td>1</td>\n",
       "      <td>0.879117</td>\n",
       "    </tr>\n",
       "    <tr>\n",
       "      <th>1</th>\n",
       "      <td>CCC(=O)NC1CC(C2=N[NH1]C=C2C(C)=C=N)O1</td>\n",
       "      <td>248.127326</td>\n",
       "      <td>1.37517</td>\n",
       "      <td>3</td>\n",
       "      <td>4</td>\n",
       "      <td>4</td>\n",
       "      <td>90.86</td>\n",
       "      <td>1</td>\n",
       "      <td>1</td>\n",
       "      <td>1</td>\n",
       "      <td>0.702774</td>\n",
       "    </tr>\n",
       "    <tr>\n",
       "      <th>2</th>\n",
       "      <td>CCC(=O)NCC1=CC=NN1S=2C=C(C3=CC=CC=C3F)[NH1]N=2</td>\n",
       "      <td>333.105959</td>\n",
       "      <td>2.13020</td>\n",
       "      <td>2</td>\n",
       "      <td>5</td>\n",
       "      <td>5</td>\n",
       "      <td>71.31</td>\n",
       "      <td>2</td>\n",
       "      <td>0</td>\n",
       "      <td>1</td>\n",
       "      <td>0.880428</td>\n",
       "    </tr>\n",
       "    <tr>\n",
       "      <th>3</th>\n",
       "      <td>CCC(=O)NCC1=C2N=C(CC3=N[NH1]C(C)=C3Cl)N1CC2</td>\n",
       "      <td>307.119988</td>\n",
       "      <td>1.74112</td>\n",
       "      <td>2</td>\n",
       "      <td>4</td>\n",
       "      <td>5</td>\n",
       "      <td>75.60</td>\n",
       "      <td>2</td>\n",
       "      <td>0</td>\n",
       "      <td>1</td>\n",
       "      <td>0.883228</td>\n",
       "    </tr>\n",
       "    <tr>\n",
       "      <th>4</th>\n",
       "      <td>CCC(=O)NCC(F)C1=NSC(C2=CC=CC=N2)=N1</td>\n",
       "      <td>280.079410</td>\n",
       "      <td>2.13690</td>\n",
       "      <td>1</td>\n",
       "      <td>5</td>\n",
       "      <td>5</td>\n",
       "      <td>67.77</td>\n",
       "      <td>2</td>\n",
       "      <td>0</td>\n",
       "      <td>1</td>\n",
       "      <td>0.910755</td>\n",
       "    </tr>\n",
       "  </tbody>\n",
       "</table>\n",
       "</div>"
      ],
      "text/plain": [
       "                                           SMILES  molecular_weight     logp  \\\n",
       "0             C1CC(=O)NCCC(SC2=N[NH1]C=N2)C1(CC)C        268.135782  1.98180   \n",
       "1           CCC(=O)NC1CC(C2=N[NH1]C=C2C(C)=C=N)O1        248.127326  1.37517   \n",
       "2  CCC(=O)NCC1=CC=NN1S=2C=C(C3=CC=CC=C3F)[NH1]N=2        333.105959  2.13020   \n",
       "3     CCC(=O)NCC1=C2N=C(CC3=N[NH1]C(C)=C3Cl)N1CC2        307.119988  1.74112   \n",
       "4             CCC(=O)NCC(F)C1=NSC(C2=CC=CC=N2)=N1        280.079410  2.13690   \n",
       "\n",
       "   h_bond_donors  h_bond_acceptors  rotatable_bonds  Polar surface area  \\\n",
       "0              2                 4                3               70.67   \n",
       "1              3                 4                4               90.86   \n",
       "2              2                 5                5               71.31   \n",
       "3              2                 4                5               75.60   \n",
       "4              1                 5                5               67.77   \n",
       "\n",
       "   aromatics rings  Lipinski alerts - to QED calc  Lipinski Rule of 5  \\\n",
       "0                1                              0                   1   \n",
       "1                1                              1                   1   \n",
       "2                2                              0                   1   \n",
       "3                2                              0                   1   \n",
       "4                2                              0                   1   \n",
       "\n",
       "        QED  \n",
       "0  0.879117  \n",
       "1  0.702774  \n",
       "2  0.880428  \n",
       "3  0.883228  \n",
       "4  0.910755  "
      ]
     },
     "execution_count": 41,
     "metadata": {},
     "output_type": "execute_result"
    }
   ],
   "source": [
    "to_excel.head()"
   ]
  },
  {
   "cell_type": "code",
   "execution_count": 42,
   "id": "7964c790",
   "metadata": {},
   "outputs": [
    {
     "name": "stdout",
     "output_type": "stream",
     "text": [
      "Number of structures that fulfilled QED threshold and Lipinski's rule of 5 is: 25\n"
     ]
    }
   ],
   "source": [
    "print(\"Number of structures that fulfilled QED threshold and Lipinski's rule of 5 is: \"+str(len(to_excel)))"
   ]
  },
  {
   "cell_type": "markdown",
   "id": "c24ce1ee",
   "metadata": {},
   "source": [
    "## Percentage of structures that fulfilled given restrictions from all generated using method given in file title"
   ]
  },
  {
   "cell_type": "code",
   "execution_count": 43,
   "id": "ede3d901",
   "metadata": {},
   "outputs": [
    {
     "name": "stdout",
     "output_type": "stream",
     "text": [
      "Percentage of molecules that fulfilled restrictions: 32.05%.\n"
     ]
    }
   ],
   "source": [
    "print(\"Percentage of molecules that fulfilled restrictions: \"+str((round(len(to_excel)*100/len(dff_15),2)))+'%.')"
   ]
  },
  {
   "cell_type": "code",
   "execution_count": 44,
   "id": "a1726586",
   "metadata": {},
   "outputs": [],
   "source": [
    "to_excel.to_excel('Selected_molecules_from_0_2_tensor_scaling.xlsx')"
   ]
  }
 ],
 "metadata": {
  "kernelspec": {
   "display_name": "Python 3 (ipykernel)",
   "language": "python",
   "name": "python3"
  },
  "language_info": {
   "codemirror_mode": {
    "name": "ipython",
    "version": 3
   },
   "file_extension": ".py",
   "mimetype": "text/x-python",
   "name": "python",
   "nbconvert_exporter": "python",
   "pygments_lexer": "ipython3",
   "version": "3.8.12"
  }
 },
 "nbformat": 4,
 "nbformat_minor": 5
}
