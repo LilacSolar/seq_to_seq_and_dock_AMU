{
 "cells": [
  {
   "cell_type": "code",
   "execution_count": 1,
   "id": "dfce9ec2",
   "metadata": {},
   "outputs": [],
   "source": [
    "from rdkit import Chem\n",
    "import pandas as pd\n",
    "from chembl_structure_pipeline import standardize_mol, get_parent_mol"
   ]
  },
  {
   "cell_type": "code",
   "execution_count": 2,
   "id": "93c7ccd6",
   "metadata": {},
   "outputs": [
    {
     "name": "stdout",
     "output_type": "stream",
     "text": [
      "Initial data description: \n",
      "                                                   SMILES\n",
      "count                                                   5\n",
      "unique                                                  5\n",
      "top     CC(=O)Nc1ccc2c(c1)CCCN2Cc1ccc(C(O)(C(F)(F)F)C(...\n",
      "freq                                                    1\n",
      "SMILES used to predict new molecules description: \n",
      "                                                   SMILES\n",
      "count                                                   5\n",
      "unique                                                  5\n",
      "top     CC(=O)Nc1ccc2c(c1)CCCN2Cc1ccc(C(O)(C(F)(F)F)C(...\n",
      "freq                                                    1\n",
      "Examples of initial structures: \n",
      "                                              SMILES\n",
      "0               CCC(=O)Nc1ccc2nn(-c3ccc(CC)cc3)nc2c1\n",
      "1                Cc1cccc(C(=O)Nc2cc(-c3ccccc3)no2)c1\n",
      "2  CC(=O)N1CCN(Cc2ccc(-c3ccc(C(O)(C(F)(F)F)C(F)(F...\n"
     ]
    }
   ],
   "source": [
    "initial_smi = pd.read_excel(r'../prediction_and_selection/Prediction_initializers_ROR_activ.xlsx')\n",
    "initial_smi = list(initial_smi['SMILES'])\n",
    "initial_smi = pd.DataFrame(initial_smi, columns=['SMILES'])\n",
    "print(\"Initial data description: \")\n",
    "print(initial_smi.describe())\n",
    "\n",
    "print(\"SMILES used to predict new molecules description: \")\n",
    "print(initial_smi.describe())\n",
    "\n",
    "print(\"Examples of initial structures: \")\n",
    "print(initial_smi[0:3])"
   ]
  },
  {
   "cell_type": "code",
   "execution_count": 5,
   "id": "4e7d05e5",
   "metadata": {},
   "outputs": [
    {
     "name": "stdout",
     "output_type": "stream",
     "text": [
      "Initial data description: \n",
      "                                                        0\n",
      "count                                                  36\n",
      "unique                                                 35\n",
      "top     O=C(O)C1CCC(c2nn(C(=O)c3c(Cl)cccc3C(F)(F)F)c3c...\n",
      "freq                                                    2\n",
      "All Kinase Inhibitors dataset molecules description: \n",
      "count                                                    36\n",
      "unique                                                   35\n",
      "top       O=C(O)C1CCC(c2nn(C(=O)c3c(Cl)cccc3C(F)(F)F)c3c...\n",
      "freq                                                      2\n",
      "Name: SMILES_clean, dtype: object\n",
      "Examples of initial structures: \n",
      "0    CC(C)CCCC(C)(O)C1CCC2C3CC=C4CC(O)CCC4(C)C3CCC21C\n",
      "1    CC(C)CCC(O)C(C)C1CCC2C3CC=C4CC(O)CCC4(C)C3CCC12C\n",
      "2    CC(CCCC(C)(C)O)C1CCC2C3CC=C4CC(O)CCC4(C)C3CCC12C\n",
      "Name: SMILES_clean, dtype: object\n"
     ]
    }
   ],
   "source": [
    "initial_smi0 = pd.read_excel(r'../model/data/RORgamma_active_compounds.xlsx')\n",
    "initial_smi0 = list(initial_smi0['SMILES_canonical'])\n",
    "initial_smi0 = pd.DataFrame(initial_smi0)\n",
    "print(\"Initial data description: \")\n",
    "print(initial_smi0.describe())\n",
    "initial_smi_ = list(initial_smi0[0])\n",
    "corrected_initial_list = [str(smi).split(' ')[0] for smi in initial_smi_]\n",
    "initial_smi0['SMILES_clean'] = corrected_initial_list\n",
    "all_kiniase = initial_smi0['SMILES_clean']\n",
    "\n",
    "print(\"All Kinase Inhibitors dataset molecules description: \")\n",
    "print(all_kiniase.describe())\n",
    "\n",
    "print(\"Examples of initial structures: \")\n",
    "print(all_kiniase[0:3])"
   ]
  },
  {
   "cell_type": "code",
   "execution_count": 6,
   "id": "f9c71cf8",
   "metadata": {},
   "outputs": [
    {
     "data": {
      "text/plain": [
       "0     CC(C)CCCC(C)(O)C1CCC2C3CC=C4CC(O)CCC4(C)C3CCC21C\n",
       "1     CC(C)CCC(O)C(C)C1CCC2C3CC=C4CC(O)CCC4(C)C3CCC12C\n",
       "2     CC(CCCC(C)(C)O)C1CCC2C3CC=C4CC(O)CCC4(C)C3CCC12C\n",
       "3    CC1CCC2(C(=O)O)CCC3(C)C(=CCC4C5(C)CCC(O)C(C)(C...\n",
       "4    CC1OC(OC2C(O)CC(OC3C(O)CC(OC4CCC5(C)C(CCC6C5CC...\n",
       "Name: SMILES_clean, dtype: object"
      ]
     },
     "execution_count": 6,
     "metadata": {},
     "output_type": "execute_result"
    }
   ],
   "source": [
    "smiles = all_kiniase\n",
    "smiles.head()"
   ]
  },
  {
   "cell_type": "code",
   "execution_count": 7,
   "id": "9e6e5633",
   "metadata": {},
   "outputs": [],
   "source": [
    "new_set0 = smiles.to_list()"
   ]
  },
  {
   "cell_type": "code",
   "execution_count": 8,
   "id": "7340a973",
   "metadata": {},
   "outputs": [
    {
     "data": {
      "text/plain": [
       "(36, 1)"
      ]
     },
     "execution_count": 8,
     "metadata": {},
     "output_type": "execute_result"
    }
   ],
   "source": [
    "dff_15 = pd.DataFrame(new_set0,columns=['SMILES'])\n",
    "dff_15.shape"
   ]
  },
  {
   "cell_type": "code",
   "execution_count": 9,
   "id": "6778f78c",
   "metadata": {},
   "outputs": [
    {
     "data": {
      "text/plain": [
       "(35, 1)"
      ]
     },
     "execution_count": 9,
     "metadata": {},
     "output_type": "execute_result"
    }
   ],
   "source": [
    "dff_17 = dff_15.drop_duplicates()\n",
    "dff_17.shape"
   ]
  },
  {
   "cell_type": "code",
   "execution_count": 10,
   "id": "d3d8d00e",
   "metadata": {},
   "outputs": [],
   "source": [
    "dff_17 = dff_17.reset_index()"
   ]
  },
  {
   "cell_type": "code",
   "execution_count": 11,
   "id": "140e5a2a",
   "metadata": {},
   "outputs": [
    {
     "data": {
      "text/plain": [
       "'CC(C)CCCC(C)(O)C1CCC2C3CC=C4CC(O)CCC4(C)C3CCC21C'"
      ]
     },
     "execution_count": 11,
     "metadata": {},
     "output_type": "execute_result"
    }
   ],
   "source": [
    "new_set1 = dff_17['SMILES'].to_list()\n",
    "new_set1[0]"
   ]
  },
  {
   "cell_type": "code",
   "execution_count": 12,
   "id": "2c2c8306",
   "metadata": {},
   "outputs": [
    {
     "data": {
      "text/plain": [
       "count                                                    35\n",
       "unique                                                   35\n",
       "top       CC(=O)N1CCN(c2ccc(CN(CC(C)C)S(=O)(=O)Cc3ccccc3...\n",
       "freq                                                      1\n",
       "Name: SMILES, dtype: object"
      ]
     },
     "execution_count": 12,
     "metadata": {},
     "output_type": "execute_result"
    }
   ],
   "source": [
    "dff_17['SMILES'].describe()"
   ]
  },
  {
   "cell_type": "code",
   "execution_count": 13,
   "id": "c98da8d7",
   "metadata": {},
   "outputs": [],
   "source": [
    "all_kiniase = [Chem.MolToSmiles(get_parent_mol(Chem.MolFromSmiles(smiles), neutralize=True, check_exclusion=True, verbose=False)[0]) for smiles in new_set1]"
   ]
  },
  {
   "cell_type": "code",
   "execution_count": 14,
   "id": "72075092",
   "metadata": {},
   "outputs": [
    {
     "data": {
      "text/plain": [
       "['CC(C)CCCC(C)(O)C1CCC2C3CC=C4CC(O)CCC4(C)C3CCC21C',\n",
       " 'CC(C)CCC(O)C(C)C1CCC2C3CC=C4CC(O)CCC4(C)C3CCC12C',\n",
       " 'CC(CCCC(C)(C)O)C1CCC2C3CC=C4CC(O)CCC4(C)C3CCC12C',\n",
       " 'CC1CCC2(C(=O)O)CCC3(C)C(=CCC4C5(C)CCC(O)C(C)(C)C5CCC43C)C2C1C',\n",
       " 'CC1OC(OC2C(O)CC(OC3C(O)CC(OC4CCC5(C)C(CCC6C5CC(O)C5(C)C(C7=CC(=O)OC7)CCC65O)C4)OC3C)OC2C)CC(O)C1O']"
      ]
     },
     "execution_count": 14,
     "metadata": {},
     "output_type": "execute_result"
    }
   ],
   "source": [
    "all_kiniase[0:5]"
   ]
  },
  {
   "cell_type": "code",
   "execution_count": 15,
   "id": "5e694acf",
   "metadata": {},
   "outputs": [],
   "source": [
    "all_kiniase = list(all_kiniase)"
   ]
  },
  {
   "cell_type": "code",
   "execution_count": 16,
   "id": "c15fb49b",
   "metadata": {},
   "outputs": [],
   "source": [
    "all_kiniase_cannonical = [Chem.MolToSmiles(Chem.MolFromSmiles(smi), isomericSmiles=False) for smi in all_kiniase]"
   ]
  },
  {
   "cell_type": "code",
   "execution_count": 17,
   "id": "b44d3df0",
   "metadata": {},
   "outputs": [
    {
     "data": {
      "text/plain": [
       "['CC(C)CCCC(C)(O)C1CCC2C3CC=C4CC(O)CCC4(C)C3CCC21C',\n",
       " 'CC(C)CCC(O)C(C)C1CCC2C3CC=C4CC(O)CCC4(C)C3CCC12C',\n",
       " 'CC(CCCC(C)(C)O)C1CCC2C3CC=C4CC(O)CCC4(C)C3CCC12C',\n",
       " 'CC1CCC2(C(=O)O)CCC3(C)C(=CCC4C5(C)CCC(O)C(C)(C)C5CCC43C)C2C1C',\n",
       " 'CC1OC(OC2C(O)CC(OC3C(O)CC(OC4CCC5(C)C(CCC6C5CC(O)C5(C)C(C7=CC(=O)OC7)CCC65O)C4)OC3C)OC2C)CC(O)C1O']"
      ]
     },
     "execution_count": 17,
     "metadata": {},
     "output_type": "execute_result"
    }
   ],
   "source": [
    "all_kiniase_cannonical[0:5]"
   ]
  },
  {
   "cell_type": "code",
   "execution_count": 18,
   "id": "000f77f0",
   "metadata": {},
   "outputs": [
    {
     "data": {
      "text/plain": [
       "35"
      ]
     },
     "execution_count": 18,
     "metadata": {},
     "output_type": "execute_result"
    }
   ],
   "source": [
    "len(all_kiniase_cannonical)"
   ]
  },
  {
   "cell_type": "code",
   "execution_count": 19,
   "id": "835dec16",
   "metadata": {},
   "outputs": [
    {
     "data": {
      "text/html": [
       "<div>\n",
       "<style scoped>\n",
       "    .dataframe tbody tr th:only-of-type {\n",
       "        vertical-align: middle;\n",
       "    }\n",
       "\n",
       "    .dataframe tbody tr th {\n",
       "        vertical-align: top;\n",
       "    }\n",
       "\n",
       "    .dataframe thead th {\n",
       "        text-align: right;\n",
       "    }\n",
       "</style>\n",
       "<table border=\"1\" class=\"dataframe\">\n",
       "  <thead>\n",
       "    <tr style=\"text-align: right;\">\n",
       "      <th></th>\n",
       "      <th>SMILES</th>\n",
       "    </tr>\n",
       "  </thead>\n",
       "  <tbody>\n",
       "    <tr>\n",
       "      <th>count</th>\n",
       "      <td>35</td>\n",
       "    </tr>\n",
       "    <tr>\n",
       "      <th>unique</th>\n",
       "      <td>35</td>\n",
       "    </tr>\n",
       "    <tr>\n",
       "      <th>top</th>\n",
       "      <td>CC(=O)N1CCN(c2ccc(CN(CC(C)C)S(=O)(=O)Cc3ccccc3...</td>\n",
       "    </tr>\n",
       "    <tr>\n",
       "      <th>freq</th>\n",
       "      <td>1</td>\n",
       "    </tr>\n",
       "  </tbody>\n",
       "</table>\n",
       "</div>"
      ],
      "text/plain": [
       "                                                   SMILES\n",
       "count                                                  35\n",
       "unique                                                 35\n",
       "top     CC(=O)N1CCN(c2ccc(CN(CC(C)C)S(=O)(=O)Cc3ccccc3...\n",
       "freq                                                    1"
      ]
     },
     "execution_count": 19,
     "metadata": {},
     "output_type": "execute_result"
    }
   ],
   "source": [
    "to_remove_duplicates = pd.DataFrame(all_kiniase_cannonical, columns=['SMILES'])\n",
    "to_remove_duplicates = to_remove_duplicates.drop_duplicates()\n",
    "to_remove_duplicates.describe()"
   ]
  },
  {
   "cell_type": "code",
   "execution_count": 20,
   "id": "ed92fcf3",
   "metadata": {},
   "outputs": [],
   "source": [
    "to_remove_duplicates = to_remove_duplicates.reset_index()\n",
    "all_kiniase_cannonical = to_remove_duplicates['SMILES']"
   ]
  },
  {
   "cell_type": "code",
   "execution_count": 22,
   "id": "a5e4afc7",
   "metadata": {},
   "outputs": [],
   "source": [
    "whole_data_set = pd.read_parquet('../model/data/zinc20_selected_to_create_model_processed.parquet') #this file is correct"
   ]
  },
  {
   "cell_type": "code",
   "execution_count": 23,
   "id": "545a1721",
   "metadata": {},
   "outputs": [
    {
     "data": {
      "text/html": [
       "<div>\n",
       "<style scoped>\n",
       "    .dataframe tbody tr th:only-of-type {\n",
       "        vertical-align: middle;\n",
       "    }\n",
       "\n",
       "    .dataframe tbody tr th {\n",
       "        vertical-align: top;\n",
       "    }\n",
       "\n",
       "    .dataframe thead th {\n",
       "        text-align: right;\n",
       "    }\n",
       "</style>\n",
       "<table border=\"1\" class=\"dataframe\">\n",
       "  <thead>\n",
       "    <tr style=\"text-align: right;\">\n",
       "      <th></th>\n",
       "      <th>index</th>\n",
       "      <th>smiles</th>\n",
       "      <th>SELFIES</th>\n",
       "      <th>SELFIES_length</th>\n",
       "      <th>SMILES_canonical</th>\n",
       "      <th>SELFIES_canonical</th>\n",
       "      <th>SELFIES_length_canonical</th>\n",
       "    </tr>\n",
       "  </thead>\n",
       "  <tbody>\n",
       "    <tr>\n",
       "      <th>0</th>\n",
       "      <td>563932204</td>\n",
       "      <td>CNC(=O)CCCN1CCN(S(C)(=O)=O)[C@@H](C)C1</td>\n",
       "      <td>[C][N][C][=Branch1][C][=O][C][C][C][N][C][C][N...</td>\n",
       "      <td>30</td>\n",
       "      <td>CNC(=O)CCCN1CCN(S(C)(=O)=O)C(C)C1</td>\n",
       "      <td>[C][N][C][=Branch1][C][=O][C][C][C][N][C][C][N...</td>\n",
       "      <td>30</td>\n",
       "    </tr>\n",
       "    <tr>\n",
       "      <th>1</th>\n",
       "      <td>51885268</td>\n",
       "      <td>O=C(Cn1cc([N+](=O)[O-])cn1)N1CC[C@@H](CO)C1</td>\n",
       "      <td>[O][=C][Branch1][S][C][N][C][=C][Branch1][=Bra...</td>\n",
       "      <td>30</td>\n",
       "      <td>O=C(Cn1cc([N+](=O)[O-])cn1)N1CCC(CO)C1</td>\n",
       "      <td>[O][=C][Branch1][S][C][N][C][=C][Branch1][=Bra...</td>\n",
       "      <td>30</td>\n",
       "    </tr>\n",
       "    <tr>\n",
       "      <th>2</th>\n",
       "      <td>1099938503</td>\n",
       "      <td>COCCCN1CC[C@@H](NC(=O)c2cnco2)[C@H](O)C1</td>\n",
       "      <td>[C][O][C][C][C][N][C][C][C@@H1][Branch1][=N][N...</td>\n",
       "      <td>30</td>\n",
       "      <td>COCCCN1CCC(NC(=O)c2cnco2)C(O)C1</td>\n",
       "      <td>[C][O][C][C][C][N][C][C][C][Branch1][=N][N][C]...</td>\n",
       "      <td>30</td>\n",
       "    </tr>\n",
       "    <tr>\n",
       "      <th>3</th>\n",
       "      <td>1368537405</td>\n",
       "      <td>C[C@@H](O)CNC[C@H]1CN(C(=O)Cc2cnc[nH]2)CCO1</td>\n",
       "      <td>[C][C@@H1][Branch1][C][O][C][N][C][C@H1][C][N]...</td>\n",
       "      <td>30</td>\n",
       "      <td>CC(O)CNCC1CN(C(=O)Cc2cnc[nH]2)CCO1</td>\n",
       "      <td>[C][C][Branch1][C][O][C][N][C][C][C][N][Branch...</td>\n",
       "      <td>30</td>\n",
       "    </tr>\n",
       "    <tr>\n",
       "      <th>4</th>\n",
       "      <td>1379339000</td>\n",
       "      <td>C[C@H](CNCc1cn(C)nn1)NC(=O)COCC1CC1</td>\n",
       "      <td>[C][C@H1][Branch1][=C][C][N][C][C][=C][N][Bran...</td>\n",
       "      <td>30</td>\n",
       "      <td>CC(CNCc1cn(C)nn1)NC(=O)COCC1CC1</td>\n",
       "      <td>[C][C][Branch1][=C][C][N][C][C][=C][N][Branch1...</td>\n",
       "      <td>30</td>\n",
       "    </tr>\n",
       "  </tbody>\n",
       "</table>\n",
       "</div>"
      ],
      "text/plain": [
       "        index                                       smiles  \\\n",
       "0   563932204       CNC(=O)CCCN1CCN(S(C)(=O)=O)[C@@H](C)C1   \n",
       "1    51885268  O=C(Cn1cc([N+](=O)[O-])cn1)N1CC[C@@H](CO)C1   \n",
       "2  1099938503     COCCCN1CC[C@@H](NC(=O)c2cnco2)[C@H](O)C1   \n",
       "3  1368537405  C[C@@H](O)CNC[C@H]1CN(C(=O)Cc2cnc[nH]2)CCO1   \n",
       "4  1379339000          C[C@H](CNCc1cn(C)nn1)NC(=O)COCC1CC1   \n",
       "\n",
       "                                             SELFIES  SELFIES_length  \\\n",
       "0  [C][N][C][=Branch1][C][=O][C][C][C][N][C][C][N...              30   \n",
       "1  [O][=C][Branch1][S][C][N][C][=C][Branch1][=Bra...              30   \n",
       "2  [C][O][C][C][C][N][C][C][C@@H1][Branch1][=N][N...              30   \n",
       "3  [C][C@@H1][Branch1][C][O][C][N][C][C@H1][C][N]...              30   \n",
       "4  [C][C@H1][Branch1][=C][C][N][C][C][=C][N][Bran...              30   \n",
       "\n",
       "                         SMILES_canonical  \\\n",
       "0       CNC(=O)CCCN1CCN(S(C)(=O)=O)C(C)C1   \n",
       "1  O=C(Cn1cc([N+](=O)[O-])cn1)N1CCC(CO)C1   \n",
       "2         COCCCN1CCC(NC(=O)c2cnco2)C(O)C1   \n",
       "3      CC(O)CNCC1CN(C(=O)Cc2cnc[nH]2)CCO1   \n",
       "4         CC(CNCc1cn(C)nn1)NC(=O)COCC1CC1   \n",
       "\n",
       "                                   SELFIES_canonical  SELFIES_length_canonical  \n",
       "0  [C][N][C][=Branch1][C][=O][C][C][C][N][C][C][N...                        30  \n",
       "1  [O][=C][Branch1][S][C][N][C][=C][Branch1][=Bra...                        30  \n",
       "2  [C][O][C][C][C][N][C][C][C][Branch1][=N][N][C]...                        30  \n",
       "3  [C][C][Branch1][C][O][C][N][C][C][C][N][Branch...                        30  \n",
       "4  [C][C][Branch1][=C][C][N][C][C][=C][N][Branch1...                        30  "
      ]
     },
     "execution_count": 23,
     "metadata": {},
     "output_type": "execute_result"
    }
   ],
   "source": [
    "whole_data_set.head()"
   ]
  },
  {
   "cell_type": "code",
   "execution_count": 24,
   "id": "e0805812",
   "metadata": {},
   "outputs": [
    {
     "data": {
      "text/html": [
       "<div>\n",
       "<style scoped>\n",
       "    .dataframe tbody tr th:only-of-type {\n",
       "        vertical-align: middle;\n",
       "    }\n",
       "\n",
       "    .dataframe tbody tr th {\n",
       "        vertical-align: top;\n",
       "    }\n",
       "\n",
       "    .dataframe thead th {\n",
       "        text-align: right;\n",
       "    }\n",
       "</style>\n",
       "<table border=\"1\" class=\"dataframe\">\n",
       "  <thead>\n",
       "    <tr style=\"text-align: right;\">\n",
       "      <th></th>\n",
       "      <th>index</th>\n",
       "      <th>SELFIES_length</th>\n",
       "      <th>SELFIES_length_canonical</th>\n",
       "    </tr>\n",
       "  </thead>\n",
       "  <tbody>\n",
       "    <tr>\n",
       "      <th>count</th>\n",
       "      <td>1.210000e+05</td>\n",
       "      <td>121000.000000</td>\n",
       "      <td>121000.000000</td>\n",
       "    </tr>\n",
       "    <tr>\n",
       "      <th>mean</th>\n",
       "      <td>9.060104e+08</td>\n",
       "      <td>39.981058</td>\n",
       "      <td>40.000000</td>\n",
       "    </tr>\n",
       "    <tr>\n",
       "      <th>std</th>\n",
       "      <td>4.939362e+08</td>\n",
       "      <td>4.466452</td>\n",
       "      <td>4.472154</td>\n",
       "    </tr>\n",
       "    <tr>\n",
       "      <th>min</th>\n",
       "      <td>2.238270e+05</td>\n",
       "      <td>30.000000</td>\n",
       "      <td>30.000000</td>\n",
       "    </tr>\n",
       "    <tr>\n",
       "      <th>25%</th>\n",
       "      <td>5.100929e+08</td>\n",
       "      <td>37.000000</td>\n",
       "      <td>37.000000</td>\n",
       "    </tr>\n",
       "    <tr>\n",
       "      <th>50%</th>\n",
       "      <td>8.133872e+08</td>\n",
       "      <td>40.000000</td>\n",
       "      <td>40.000000</td>\n",
       "    </tr>\n",
       "    <tr>\n",
       "      <th>75%</th>\n",
       "      <td>1.350868e+09</td>\n",
       "      <td>43.000000</td>\n",
       "      <td>43.000000</td>\n",
       "    </tr>\n",
       "    <tr>\n",
       "      <th>max</th>\n",
       "      <td>2.113474e+09</td>\n",
       "      <td>50.000000</td>\n",
       "      <td>50.000000</td>\n",
       "    </tr>\n",
       "  </tbody>\n",
       "</table>\n",
       "</div>"
      ],
      "text/plain": [
       "              index  SELFIES_length  SELFIES_length_canonical\n",
       "count  1.210000e+05   121000.000000             121000.000000\n",
       "mean   9.060104e+08       39.981058                 40.000000\n",
       "std    4.939362e+08        4.466452                  4.472154\n",
       "min    2.238270e+05       30.000000                 30.000000\n",
       "25%    5.100929e+08       37.000000                 37.000000\n",
       "50%    8.133872e+08       40.000000                 40.000000\n",
       "75%    1.350868e+09       43.000000                 43.000000\n",
       "max    2.113474e+09       50.000000                 50.000000"
      ]
     },
     "execution_count": 24,
     "metadata": {},
     "output_type": "execute_result"
    }
   ],
   "source": [
    "whole_data_set.describe()"
   ]
  },
  {
   "cell_type": "markdown",
   "id": "23f03e30",
   "metadata": {},
   "source": [
    "## The best option is to compare cannonical form of both"
   ]
  },
  {
   "cell_type": "code",
   "execution_count": 25,
   "id": "5d6e6b18",
   "metadata": {},
   "outputs": [],
   "source": [
    "first_check = 0\n",
    "for smi in range(len(all_kiniase_cannonical)):\n",
    "    if all_kiniase_cannonical[smi] in list(whole_data_set['SMILES_canonical']):\n",
    "        first_check +=1\n",
    "        print(\"Present in training data : \"+str(all_kiniase_cannonical[smi]))\n",
    "    else:\n",
    "        pass"
   ]
  },
  {
   "cell_type": "code",
   "execution_count": 26,
   "id": "bf15e1de",
   "metadata": {},
   "outputs": [
    {
     "data": {
      "text/plain": [
       "0"
      ]
     },
     "execution_count": 26,
     "metadata": {},
     "output_type": "execute_result"
    }
   ],
   "source": [
    "first_check"
   ]
  },
  {
   "cell_type": "markdown",
   "id": "f1df28c7",
   "metadata": {},
   "source": [
    "One can conclude that there is no ROR gamma active compound in training data"
   ]
  },
  {
   "cell_type": "code",
   "execution_count": 27,
   "id": "fd52bcaa",
   "metadata": {},
   "outputs": [
    {
     "name": "stdout",
     "output_type": "stream",
     "text": [
      "1\n"
     ]
    }
   ],
   "source": [
    "a = 1\n",
    "b = [1,2,3]\n",
    "if a in b:\n",
    "    print(a)\n",
    "else:\n",
    "    pass"
   ]
  },
  {
   "cell_type": "markdown",
   "id": "778396b5",
   "metadata": {},
   "source": [
    "## Whole dataset checking"
   ]
  },
  {
   "cell_type": "code",
   "execution_count": 28,
   "id": "f71c0a87",
   "metadata": {},
   "outputs": [],
   "source": [
    "whole_data_set_almost_1M = pd.read_parquet('../model/data/zinc20_FK_DC_BB_JA_HE_GA_KG_IC_CB_HJ_processed.parquet')"
   ]
  },
  {
   "cell_type": "code",
   "execution_count": 29,
   "id": "8f712d75",
   "metadata": {},
   "outputs": [
    {
     "data": {
      "text/html": [
       "<div>\n",
       "<style scoped>\n",
       "    .dataframe tbody tr th:only-of-type {\n",
       "        vertical-align: middle;\n",
       "    }\n",
       "\n",
       "    .dataframe tbody tr th {\n",
       "        vertical-align: top;\n",
       "    }\n",
       "\n",
       "    .dataframe thead th {\n",
       "        text-align: right;\n",
       "    }\n",
       "</style>\n",
       "<table border=\"1\" class=\"dataframe\">\n",
       "  <thead>\n",
       "    <tr style=\"text-align: right;\">\n",
       "      <th></th>\n",
       "      <th>smiles</th>\n",
       "    </tr>\n",
       "  </thead>\n",
       "  <tbody>\n",
       "    <tr>\n",
       "      <th>336474016</th>\n",
       "      <td>CC1(C)COCCN1C(=O)CCNC(N)=O</td>\n",
       "    </tr>\n",
       "    <tr>\n",
       "      <th>1086464356</th>\n",
       "      <td>CCN[C@H]1C[C@H](CNC(=O)[C@@H]2CNC(=O)N2)C1</td>\n",
       "    </tr>\n",
       "    <tr>\n",
       "      <th>248404898</th>\n",
       "      <td>CO[C@H](C)CN1CCOC[C@H]1C(N)=O</td>\n",
       "    </tr>\n",
       "    <tr>\n",
       "      <th>1574709678</th>\n",
       "      <td>O=C(O)CCNC(=O)c1ccc(CO)nc1</td>\n",
       "    </tr>\n",
       "    <tr>\n",
       "      <th>1119650207</th>\n",
       "      <td>C[C@@H](CC(=O)O)C(=O)N1C[C@H](O)C[C@H]1CO</td>\n",
       "    </tr>\n",
       "  </tbody>\n",
       "</table>\n",
       "</div>"
      ],
      "text/plain": [
       "                                                smiles\n",
       "336474016                   CC1(C)COCCN1C(=O)CCNC(N)=O\n",
       "1086464356  CCN[C@H]1C[C@H](CNC(=O)[C@@H]2CNC(=O)N2)C1\n",
       "248404898                CO[C@H](C)CN1CCOC[C@H]1C(N)=O\n",
       "1574709678                  O=C(O)CCNC(=O)c1ccc(CO)nc1\n",
       "1119650207   C[C@@H](CC(=O)O)C(=O)N1C[C@H](O)C[C@H]1CO"
      ]
     },
     "execution_count": 29,
     "metadata": {},
     "output_type": "execute_result"
    }
   ],
   "source": [
    "whole_data_set_almost_1M.head()"
   ]
  },
  {
   "cell_type": "code",
   "execution_count": 30,
   "id": "86864a69",
   "metadata": {},
   "outputs": [],
   "source": [
    "mols = [Chem.MolFromSmiles(smiles) for smiles in whole_data_set_almost_1M['smiles']]"
   ]
  },
  {
   "cell_type": "code",
   "execution_count": 31,
   "id": "b38555cd",
   "metadata": {},
   "outputs": [],
   "source": [
    "whole_data_set_almost_1M['SMILES_canonical'] = [Chem.MolToSmiles(mol) for mol in mols]"
   ]
  },
  {
   "cell_type": "code",
   "execution_count": 32,
   "id": "411e8e45",
   "metadata": {},
   "outputs": [],
   "source": [
    "second_check = 0\n",
    "for smi in range(len(all_kiniase_cannonical)):\n",
    "    if all_kiniase_cannonical[smi] in list(whole_data_set_almost_1M['SMILES_canonical']):\n",
    "        second_check +=1\n",
    "        print(\"Present in whole ZINC dataset used : \"+str(all_kiniase_cannonical[smi]))\n",
    "    else:\n",
    "        pass"
   ]
  },
  {
   "cell_type": "code",
   "execution_count": 33,
   "id": "3e75b409",
   "metadata": {},
   "outputs": [
    {
     "data": {
      "text/plain": [
       "0"
      ]
     },
     "execution_count": 33,
     "metadata": {},
     "output_type": "execute_result"
    }
   ],
   "source": [
    "second_check"
   ]
  },
  {
   "cell_type": "markdown",
   "id": "e0fb9320",
   "metadata": {},
   "source": [
    "## Check if initial data is present in training dataset"
   ]
  },
  {
   "cell_type": "code",
   "execution_count": 34,
   "id": "4e1f1e13",
   "metadata": {},
   "outputs": [],
   "source": [
    "initial_kiniase_cannonical = [Chem.MolToSmiles(Chem.MolFromSmiles(smi), isomericSmiles=False) for smi in initial_smi['SMILES']]\n",
    "initial_check = 0\n",
    "for smi in range(len(all_kiniase_cannonical)):\n",
    "    if all_kiniase_cannonical[smi] in list(whole_data_set['SMILES_canonical']):\n",
    "        initial_check +=1\n",
    "        print(\"Present in whole ZINC dataset used : \"+str(all_kiniase_cannonical[smi]))\n",
    "    else:\n",
    "        pass"
   ]
  },
  {
   "cell_type": "code",
   "execution_count": 35,
   "id": "0e27ea41",
   "metadata": {},
   "outputs": [
    {
     "data": {
      "text/plain": [
       "0"
      ]
     },
     "execution_count": 35,
     "metadata": {},
     "output_type": "execute_result"
    }
   ],
   "source": [
    "initial_check"
   ]
  },
  {
   "cell_type": "markdown",
   "id": "5fade4b6",
   "metadata": {},
   "source": [
    "## Checking if generated structures are present in ZINC dataset"
   ]
  },
  {
   "cell_type": "code",
   "execution_count": 36,
   "id": "f0d8a288",
   "metadata": {},
   "outputs": [],
   "source": [
    "tensor_rotation_0_1 = pd.read_excel('Molecules_generated_tensor_scaling_0_1.xlsx')"
   ]
  },
  {
   "cell_type": "code",
   "execution_count": 37,
   "id": "b98cd49c",
   "metadata": {},
   "outputs": [],
   "source": [
    "tensor_rotation_0_1 = tensor_rotation_0_1['SMILES_From_Tensor_rotation']"
   ]
  },
  {
   "cell_type": "code",
   "execution_count": 38,
   "id": "798f7269",
   "metadata": {},
   "outputs": [],
   "source": [
    "tensor_rotation_0_1_cannonical = [Chem.MolToSmiles(Chem.MolFromSmiles(smi), isomericSmiles=False) for smi in tensor_rotation_0_1]"
   ]
  },
  {
   "cell_type": "code",
   "execution_count": 39,
   "id": "57a225c3",
   "metadata": {},
   "outputs": [
    {
     "data": {
      "text/plain": [
       "['CCC(=O)NCC1=CN(c2ncnc(C#N)c2C)C1SOC',\n",
       " 'CCC(=O)NCc1ccnn1[SH]1C=C(c2ccccc2F)NN1',\n",
       " 'CCC(=O)NCc1cncc(S(=O)(=O)C(C)CC#N)n1',\n",
       " 'CCC(=O)N1CC2C1CC2(C#N)S(=O)c1ccccn1',\n",
       " 'CCC(=O)N1c2ccn(-c3ncnc(C#N)c3C)c2[SH]1C']"
      ]
     },
     "execution_count": 39,
     "metadata": {},
     "output_type": "execute_result"
    }
   ],
   "source": [
    "tensor_rotation_0_1_cannonical[0:5]"
   ]
  },
  {
   "cell_type": "code",
   "execution_count": 40,
   "id": "e7452a75",
   "metadata": {},
   "outputs": [
    {
     "data": {
      "text/plain": [
       "55"
      ]
     },
     "execution_count": 40,
     "metadata": {},
     "output_type": "execute_result"
    }
   ],
   "source": [
    "len(tensor_rotation_0_1_cannonical)"
   ]
  },
  {
   "cell_type": "code",
   "execution_count": 41,
   "id": "316cb12d",
   "metadata": {},
   "outputs": [],
   "source": [
    "third_check = 0\n",
    "for smi in range(len(tensor_rotation_0_1_cannonical)):\n",
    "    if tensor_rotation_0_1_cannonical[smi] in list(whole_data_set['SMILES_canonical']):\n",
    "        third_check +=1\n",
    "        print(\"Present in whole ZINC dataset used : \"+str(tensor_rotation_0_1_cannonical[smi]))\n",
    "    else:\n",
    "        pass"
   ]
  },
  {
   "cell_type": "code",
   "execution_count": 42,
   "id": "e2a661e9",
   "metadata": {},
   "outputs": [
    {
     "data": {
      "text/plain": [
       "0"
      ]
     },
     "execution_count": 42,
     "metadata": {},
     "output_type": "execute_result"
    }
   ],
   "source": [
    "third_check"
   ]
  },
  {
   "cell_type": "code",
   "execution_count": 43,
   "id": "a0a87c6a",
   "metadata": {},
   "outputs": [],
   "source": [
    "fourth_check = 0\n",
    "for smi in range(len(tensor_rotation_0_1_cannonical)):\n",
    "    if tensor_rotation_0_1_cannonical[smi] in list(whole_data_set_almost_1M['SMILES_canonical']):\n",
    "        third_check +=1\n",
    "        print(\"Present in whole ZINC dataset used : \"+str(tensor_rotation_0_1_cannonical[smi]))\n",
    "    else:\n",
    "        pass"
   ]
  },
  {
   "cell_type": "code",
   "execution_count": 44,
   "id": "29855137",
   "metadata": {},
   "outputs": [
    {
     "data": {
      "text/plain": [
       "0"
      ]
     },
     "execution_count": 44,
     "metadata": {},
     "output_type": "execute_result"
    }
   ],
   "source": [
    "fourth_check"
   ]
  },
  {
   "cell_type": "markdown",
   "id": "ed764e49",
   "metadata": {},
   "source": [
    "## Check if generated data is in initial data"
   ]
  },
  {
   "cell_type": "code",
   "execution_count": 46,
   "id": "ac915272",
   "metadata": {},
   "outputs": [
    {
     "name": "stdout",
     "output_type": "stream",
     "text": [
      "Present in initial dataset (ROR-y activ) used : Cc1cccc(C(=O)Nc2cc(-c3ccccc3)no2)c1\n"
     ]
    }
   ],
   "source": [
    "tensor_0_1_check = 0\n",
    "for smi in range(len(tensor_rotation_0_1_cannonical)):\n",
    "    if tensor_rotation_0_1_cannonical[smi] in list(initial_kiniase_cannonical):\n",
    "        tensor_0_1_check +=1\n",
    "        print(\"Present in initial dataset (ROR-y activ) used : \"+str(tensor_rotation_0_1_cannonical[smi]))\n",
    "    else:\n",
    "        pass"
   ]
  },
  {
   "cell_type": "code",
   "execution_count": 47,
   "id": "96e8659c",
   "metadata": {},
   "outputs": [
    {
     "data": {
      "text/plain": [
       "1"
      ]
     },
     "execution_count": 47,
     "metadata": {},
     "output_type": "execute_result"
    }
   ],
   "source": [
    "tensor_0_1_check"
   ]
  },
  {
   "cell_type": "code",
   "execution_count": 48,
   "id": "205460d0",
   "metadata": {},
   "outputs": [],
   "source": [
    "tensor_rotation_0_2 = pd.read_excel('Molecules_generated_tensor_scaling_0_2.xlsx')"
   ]
  },
  {
   "cell_type": "code",
   "execution_count": 49,
   "id": "5b814a26",
   "metadata": {},
   "outputs": [],
   "source": [
    "tensor_rotation_0_2 = tensor_rotation_0_2['SMILES_From_Tensor_rotation']"
   ]
  },
  {
   "cell_type": "code",
   "execution_count": 50,
   "id": "c298b2fd",
   "metadata": {},
   "outputs": [],
   "source": [
    "tensor_rotation_0_2_cannonical = [Chem.MolToSmiles(Chem.MolFromSmiles(smi), isomericSmiles=False) for smi in tensor_rotation_0_2]"
   ]
  },
  {
   "cell_type": "code",
   "execution_count": 51,
   "id": "316f2e69",
   "metadata": {},
   "outputs": [
    {
     "data": {
      "text/plain": [
       "['CCC(=O)NCC1=NN=C(C=C(C)C=CC(=N)OC)SC1',\n",
       " 'CCC(=O)NCc1ccnn1SC=C(NN)c1ccccc1F',\n",
       " 'CCC1(C)CCC(=O)NCCC1Sc1nc[nH]n1',\n",
       " 'CCC(=O)NC1CC(c2n[nH]cc2C(C)=C=N)O1',\n",
       " 'CCC(=O)NCc1ccnn1Sc1[nH][nH]c1-c1ccccc1F']"
      ]
     },
     "execution_count": 51,
     "metadata": {},
     "output_type": "execute_result"
    }
   ],
   "source": [
    "tensor_rotation_0_2_cannonical[0:5]"
   ]
  },
  {
   "cell_type": "code",
   "execution_count": 52,
   "id": "f41a28f0",
   "metadata": {},
   "outputs": [
    {
     "data": {
      "text/plain": [
       "78"
      ]
     },
     "execution_count": 52,
     "metadata": {},
     "output_type": "execute_result"
    }
   ],
   "source": [
    "len(tensor_rotation_0_2_cannonical)"
   ]
  },
  {
   "cell_type": "code",
   "execution_count": 53,
   "id": "62d51db8",
   "metadata": {},
   "outputs": [],
   "source": [
    "fifth_check = 0\n",
    "for smi in range(len(tensor_rotation_0_2_cannonical)):\n",
    "    if tensor_rotation_0_2_cannonical[smi] in list(whole_data_set['SMILES_canonical']):\n",
    "        fifth_check +=1\n",
    "        print(\"Present in whole ZINC dataset used : \"+str(tensor_rotation_0_2_cannonical[smi]))\n",
    "    else:\n",
    "        pass"
   ]
  },
  {
   "cell_type": "code",
   "execution_count": 54,
   "id": "c1760d2d",
   "metadata": {},
   "outputs": [
    {
     "data": {
      "text/plain": [
       "0"
      ]
     },
     "execution_count": 54,
     "metadata": {},
     "output_type": "execute_result"
    }
   ],
   "source": [
    "fifth_check"
   ]
  },
  {
   "cell_type": "code",
   "execution_count": 55,
   "id": "baefb1ab",
   "metadata": {},
   "outputs": [],
   "source": [
    "sixth_check = 0\n",
    "for smi in range(len(tensor_rotation_0_2_cannonical)):\n",
    "    if tensor_rotation_0_2_cannonical[smi] in list(whole_data_set_almost_1M['SMILES_canonical']):\n",
    "        sixth_check +=1\n",
    "        print(\"Present in whole ZINC dataset used : \"+str(tensor_rotation_0_2_cannonical[smi]))\n",
    "    else:\n",
    "        pass"
   ]
  },
  {
   "cell_type": "code",
   "execution_count": 56,
   "id": "f832f1bb",
   "metadata": {},
   "outputs": [
    {
     "data": {
      "text/plain": [
       "0"
      ]
     },
     "execution_count": 56,
     "metadata": {},
     "output_type": "execute_result"
    }
   ],
   "source": [
    "sixth_check"
   ]
  },
  {
   "cell_type": "code",
   "execution_count": 57,
   "id": "eb01f3c3",
   "metadata": {},
   "outputs": [
    {
     "name": "stdout",
     "output_type": "stream",
     "text": [
      "Present in whole ZINC dataset used : Cc1cccc(C(=O)Nc2cc(-c3ccccc3)no2)c1\n"
     ]
    }
   ],
   "source": [
    "tensor_0_2_check = 0\n",
    "for smi in range(len(tensor_rotation_0_2_cannonical)):\n",
    "    if tensor_rotation_0_2_cannonical[smi] in list(initial_kiniase_cannonical):\n",
    "        tensor_0_2_check +=1\n",
    "        print(\"Present in whole ZINC dataset used : \"+str(tensor_rotation_0_2_cannonical[smi]))\n",
    "    else:\n",
    "        pass"
   ]
  },
  {
   "cell_type": "code",
   "execution_count": 58,
   "id": "e562a7b6",
   "metadata": {},
   "outputs": [
    {
     "data": {
      "text/plain": [
       "1"
      ]
     },
     "execution_count": 58,
     "metadata": {},
     "output_type": "execute_result"
    }
   ],
   "source": [
    "tensor_0_2_check"
   ]
  },
  {
   "cell_type": "markdown",
   "id": "24dfba08",
   "metadata": {},
   "source": [
    "None structure from generated are present in ZINC databse"
   ]
  }
 ],
 "metadata": {
  "kernelspec": {
   "display_name": "Python 3 (ipykernel)",
   "language": "python",
   "name": "python3"
  },
  "language_info": {
   "codemirror_mode": {
    "name": "ipython",
    "version": 3
   },
   "file_extension": ".py",
   "mimetype": "text/x-python",
   "name": "python",
   "nbconvert_exporter": "python",
   "pygments_lexer": "ipython3",
   "version": "3.8.12"
  }
 },
 "nbformat": 4,
 "nbformat_minor": 5
}
