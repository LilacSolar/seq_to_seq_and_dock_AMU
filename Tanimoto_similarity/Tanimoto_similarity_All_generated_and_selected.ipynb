{
 "cells": [
  {
   "cell_type": "code",
   "execution_count": 1,
   "id": "28d559dd",
   "metadata": {},
   "outputs": [],
   "source": [
    "from rdkit import Chem\n",
    "from rdkit.DataStructs.cDataStructs import TanimotoSimilarity\n",
    "from rdkit.Chem.MolStandardize import rdMolStandardize\n",
    "import pubchempy as pcp\n",
    "import pandas as pd\n",
    "import matplotlib.pyplot as plt"
   ]
  },
  {
   "cell_type": "code",
   "execution_count": 2,
   "id": "e3be37e4",
   "metadata": {
    "scrolled": true
   },
   "outputs": [
    {
     "name": "stdout",
     "output_type": "stream",
     "text": [
      "Initial data description: \n",
      "                                                   SMILES\n",
      "count                                                   5\n",
      "unique                                                  5\n",
      "top     O=C(O)C1CCC(c2nn(C(=O)c3c(Cl)cccc3C(F)(F)F)c3c...\n",
      "freq                                                    1\n",
      "SMILES used to predict new molecules description: \n",
      "                                                   SMILES\n",
      "count                                                   5\n",
      "unique                                                  5\n",
      "top     O=C(O)C1CCC(c2nn(C(=O)c3c(Cl)cccc3C(F)(F)F)c3c...\n",
      "freq                                                    1\n",
      "Examples of initial structures: \n",
      "                                              SMILES\n",
      "0               CCC(=O)Nc1ccc2nn(-c3ccc(CC)cc3)nc2c1\n",
      "1                Cc1cccc(C(=O)Nc2cc(-c3ccccc3)no2)c1\n",
      "2  CC(=O)N1CCN(Cc2ccc(-c3ccc(C(O)(C(F)(F)F)C(F)(F...\n"
     ]
    }
   ],
   "source": [
    "initial_smi = pd.read_excel(r'../prediction_and_selection/Prediction_initializers_ROR_activ.xlsx')\n",
    "initial_smi = list(initial_smi['SMILES'])\n",
    "initial_smi = pd.DataFrame(initial_smi, columns=['SMILES'])\n",
    "print(\"Initial data description: \")\n",
    "print(initial_smi.describe())\n",
    "\n",
    "print(\"SMILES used to predict new molecules description: \")\n",
    "print(initial_smi.describe())\n",
    "\n",
    "print(\"Examples of initial structures: \")\n",
    "print(initial_smi[0:3])"
   ]
  },
  {
   "cell_type": "code",
   "execution_count": 3,
   "id": "d584bff0",
   "metadata": {},
   "outputs": [
    {
     "data": {
      "text/plain": [
       "['CCC(=O)NCC1=CC=NN1S2C=C(C3=CC=CC=C3F)N[NH1]2',\n",
       " 'CCC(=O)N1CC2C(C#N)(S(=O)C3=CC=CC=N3)CC12',\n",
       " 'CCC(=O)N1C=2C=CN(C3=NC=NC(C#N)=C3C)C=2S1C']"
      ]
     },
     "execution_count": 3,
     "metadata": {},
     "output_type": "execute_result"
    }
   ],
   "source": [
    "output_smi = pd.read_excel(r'../prediction_and_selection/All_generated_SMILES_QED_Lipinski.xlsx')\n",
    "output_smi = list(output_smi['SMILES'])\n",
    "docked_mols = output_smi\n",
    "output_smi[0:3]"
   ]
  },
  {
   "cell_type": "code",
   "execution_count": 4,
   "id": "69fb045d",
   "metadata": {},
   "outputs": [],
   "source": [
    "initial_mol = [Chem.MolFromSmiles(smi) for smi in initial_smi['SMILES']]"
   ]
  },
  {
   "cell_type": "code",
   "execution_count": 5,
   "id": "6e11c0f5",
   "metadata": {},
   "outputs": [],
   "source": [
    "output_smi = [Chem.MolFromSmiles(smi) for smi in output_smi]"
   ]
  },
  {
   "cell_type": "code",
   "execution_count": 6,
   "id": "00169331",
   "metadata": {},
   "outputs": [
    {
     "data": {
      "image/png": "[encoded data removed]",
      "text/plain": [
       "<rdkit.Chem.rdchem.Mol at 0x7f71c112b5e0>"
      ]
     },
     "execution_count": 6,
     "metadata": {},
     "output_type": "execute_result"
    }
   ],
   "source": [
    "output_smi[0]"
   ]
  },
  {
   "cell_type": "code",
   "execution_count": 7,
   "id": "c574642f",
   "metadata": {},
   "outputs": [
    {
     "name": "stdout",
     "output_type": "stream",
     "text": [
      "[07:25:31] Running LargestFragmentChooser\n",
      "[07:25:31] Fragment: CCC(=O)NCc1ccnn1[SH]1C=C(c2ccccc2F)NN1\n",
      "[07:25:31] New largest fragment: CCC(=O)NCc1ccnn1[SH]1C=C(c2ccccc2F)NN1 (41)\n",
      "[07:25:31] Running LargestFragmentChooser\n",
      "[07:25:31] Fragment: CCC(=O)N1CC2C1CC2(C#N)S(=O)c1ccccn1\n",
      "[07:25:31] New largest fragment: CCC(=O)N1CC2C1CC2(C#N)S(=O)c1ccccn1 (35)\n",
      "[07:25:31] Running LargestFragmentChooser\n",
      "[07:25:31] Fragment: CCC(=O)N1c2ccn(-c3ncnc(C#N)c3C)c2[SH]1C\n",
      "[07:25:31] New largest fragment: CCC(=O)N1c2ccn(-c3ncnc(C#N)c3C)c2[SH]1C (36)\n",
      "[07:25:31] Running LargestFragmentChooser\n",
      "[07:25:31] Fragment: CCC(=O)NCC1=NN=C(c2ccc(C)c(CF)c2)SC1\n",
      "[07:25:31] New largest fragment: CCC(=O)NCC1=NN=C(c2ccc(C)c(CF)c2)SC1 (39)\n",
      "[07:25:31] Running LargestFragmentChooser\n",
      "[07:25:31] Fragment: CCC(=O)NCc1ccnn1S1=C(C)NC(c2ccccc2F)=C1\n",
      "[07:25:31] New largest fragment: CCC(=O)NCc1ccnn1S1=C(C)NC(c2ccccc2F)=C1 (43)\n",
      "[07:25:31] Running LargestFragmentChooser\n",
      "[07:25:31] Fragment: CCC(=O)NC1C=C2C=CC3CC=CC(=N3)N2C1C\n",
      "[07:25:31] Ne"
     ]
    },
    {
     "name": "stderr",
     "output_type": "stream",
     "text": [
      "RDKit INFO: [07:25:31] Running LargestFragmentChooser\n",
      "RDKit INFO: [07:25:31] Fragment: CCC(=O)NCc1ccnn1[SH]1C=C(c2ccccc2F)NN1\n",
      "RDKit INFO: [07:25:31] New largest fragment: CCC(=O)NCc1ccnn1[SH]1C=C(c2ccccc2F)NN1 (41)\n",
      "RDKit INFO: [07:25:31] Running LargestFragmentChooser\n",
      "RDKit INFO: [07:25:31] Fragment: CCC(=O)N1CC2C1CC2(C#N)S(=O)c1ccccn1\n",
      "RDKit INFO: [07:25:31] New largest fragment: CCC(=O)N1CC2C1CC2(C#N)S(=O)c1ccccn1 (35)\n",
      "RDKit INFO: [07:25:31] Running LargestFragmentChooser\n",
      "RDKit INFO: [07:25:31] Fragment: CCC(=O)N1c2ccn(-c3ncnc(C#N)c3C)c2[SH]1C\n",
      "RDKit INFO: [07:25:31] New largest fragment: CCC(=O)N1c2ccn(-c3ncnc(C#N)c3C)c2[SH]1C (36)\n",
      "RDKit INFO: [07:25:31] Running LargestFragmentChooser\n",
      "RDKit INFO: [07:25:31] Fragment: CCC(=O)NCC1=NN=C(c2ccc(C)c(CF)c2)SC1\n",
      "RDKit INFO: [07:25:31] New largest fragment: CCC(=O)NCC1=NN=C(c2ccc(C)c(CF)c2)SC1 (39)\n",
      "RDKit INFO: [07:25:31] Running LargestFragmentChooser\n",
      "RDKit INFO: [07:25:31] Fragment: CCC(=O)NCc1ccnn1S1=C(C)NC(c2ccccc2F)=C1\n",
      "RDKit INFO: [07:25:31] New largest fragment: CCC(=O)NCc1ccnn1S1=C(C)NC(c2ccccc2F)=C1 (43)\n",
      "RDKit INFO: [07:25:31] Running LargestFragmentChooser\n",
      "RDKit INFO: [07:25:31] Fragment: CCC(=O)NC1C=C2C=CC3CC=CC(=N3)N2C1C\n",
      "RDKit INFO: [07:25:31] New largest fragment: CCC(=O)NC1C=C2C=CC3CC=CC(=N3)N2C1C (38)\n",
      "RDKit INFO: [07:25:31] Running LargestFragmentChooser\n",
      "RDKit INFO: [07:25:31] Fragment: CCC(=O)NCc1ccnn1N1NC2=C(NO)C1CC2C\n",
      "RDKit INFO: [07:25:31] New largest fragment: CCC(=O)NCc1ccnn1N1NC2=C(NO)C1CC2C (41)\n",
      "RDKit INFO: [07:25:31] Running LargestFragmentChooser\n",
      "RDKit INFO: [07:25:31] Fragment: CCC(=O)NCC=C1C=CNC(Cc2n[nH]c3c2CCO3)=N1\n",
      "RDKit INFO: [07:25:31] New largest fragment: CCC(=O)NCC=C1C=CNC(Cc2n[nH]c3c2CCO3)=N1 (41)\n",
      "RDKit INFO: [07:25:31] Running LargestFragmentChooser\n",
      "RDKit INFO: [07:25:31] Fragment: CCC(=O)NCC1C(N)=NC1c1n[nH]cc1C(C)(C)O\n",
      "RDKit INFO: [07:25:31] New largest fragment: CCC(=O)NCC1C(N)=NC1c1n[nH]cc1C(C)(C)O (41)\n",
      "RDKit INFO: [07:25:31] Running LargestFragmentChooser\n",
      "RDKit INFO: [07:25:31] Fragment: CC(C1=CC=C[SH]1N)C1=NN=CC=CCNC(=O)CC1\n",
      "RDKit INFO: [07:25:31] New largest fragment: CC(C1=CC=C[SH]1N)C1=NN=CC=CCNC(=O)CC1 (40)\n",
      "RDKit INFO: [07:25:31] Running LargestFragmentChooser\n",
      "RDKit INFO: [07:25:31] Fragment: CCC(=O)NC1CC(c2n[nH]cc2C(C)=C=N)O1\n",
      "RDKit INFO: [07:25:31] New largest fragment: CCC(=O)NC1CC(c2n[nH]cc2C(C)=C=N)O1 (34)\n",
      "RDKit INFO: [07:25:31] Running LargestFragmentChooser\n",
      "RDKit INFO: [07:25:31] Fragment: CCC(=O)NCc1ccnn1S1=NNC(c2ccccc2F)=C1\n",
      "RDKit INFO: [07:25:31] New largest fragment: CCC(=O)NCc1ccnn1S1=NNC(c2ccccc2F)=C1 (39)\n",
      "RDKit INFO: [07:25:31] Running LargestFragmentChooser\n",
      "RDKit INFO: [07:25:31] Fragment: C=S(=O)(C(C)C)C1(C#N)C=NSN(C(=O)CC)CC1\n",
      "RDKit INFO: [07:25:31] New largest fragment: C=S(=O)(C(C)C)C1(C#N)C=NSN(C(=O)CC)CC1 (38)\n",
      "RDKit INFO: [07:25:31] Running LargestFragmentChooser\n",
      "RDKit INFO: [07:25:31] Fragment: Cc1cccc(C(=O)Cc2nc(Cl)cc3cccnc23)c1\n",
      "RDKit INFO: [07:25:31] New largest fragment: Cc1cccc(C(=O)Cc2nc(Cl)cc3cccnc23)c1 (34)\n",
      "RDKit INFO: [07:25:31] Running LargestFragmentChooser\n",
      "RDKit INFO: [07:25:31] Fragment: Cc1cccc(C(=O)Nc2cc(-c3ccccc3)no2)c1\n",
      "RDKit INFO: [07:25:31] New largest fragment: Cc1cccc(C(=O)Nc2cc(-c3ccccc3)no2)c1 (35)\n",
      "RDKit INFO: [07:25:31] Running LargestFragmentChooser\n",
      "RDKit INFO: [07:25:31] Fragment: Cc1cccc(C(=O)Cc2nc(Cc3ccco3)cs2)c1\n",
      "RDKit INFO: [07:25:31] New largest fragment: Cc1cccc(C(=O)Cc2nc(Cc3ccco3)cs2)c1 (36)\n",
      "RDKit INFO: [07:25:31] Running LargestFragmentChooser\n",
      "RDKit INFO: [07:25:31] Fragment: N#CCC1CCC2CCCN3CC=CC=CC=C1C2=CCOC#CNO3\n",
      "RDKit INFO: [07:25:31] New largest fragment: N#CCC1CCC2CCCN3CC=CC=CC=C1C2=CCOC#CNO3 (51)\n",
      "RDKit INFO: [07:25:31] Running LargestFragmentChooser\n",
      "RDKit INFO: [07:25:31] Fragment: N#CCC1CCC2CCCN3CC=CC=CC=C1C2=CCOC=CNO3\n",
      "RDKit INFO: [07:25:31] New largest fragment: N#CCC1CCC2CCCN3CC=CC=CC=C1C2=CCOC=CNO3 (53)\n",
      "RDKit INFO: [07:25:31] Running LargestFragmentChooser\n",
      "RDKit INFO: [07:25:31] Fragment: CNS(=O)(=O)N1CC2CCCC=Cc3ccccc3SC=CC=CC=CC2O1\n",
      "RDKit INFO: [07:25:31] New largest fragment: CNS(=O)(=O)N1CC2CCCC=Cc3ccccc3SC=CC=CC=CC2O1 (54)\n",
      "RDKit INFO: [07:25:31] Running LargestFragmentChooser\n",
      "RDKit INFO: [07:25:31] Fragment: CNON1CCCC2OC3OCCC(=CC=CC=CNC1)CCCCCC23\n",
      "RDKit INFO: [07:25:31] New largest fragment: CNON1CCCC2OC3OCCC(=CC=CC=CNC1)CCCCCC23 (62)\n",
      "RDKit INFO: [07:25:31] Running LargestFragmentChooser\n",
      "RDKit INFO: [07:25:31] Fragment: O=S1(=O)NCCCCCc2ccccc2SC=CC=CC=CC=C(Cl)CN1\n",
      "RDKit INFO: [07:25:31] New largest fragment: O=S1(=O)NCCCCCc2ccccc2SC=CC=CC=CC=C(Cl)CN1 (52)\n",
      "RDKit INFO: [07:25:31] Running LargestFragmentChooser\n",
      "RDKit INFO: [07:25:31] Fragment: O=C1CN(Cc2cccc(F)c2Nc2ncccn2)C(=O)c2cccc(c2)N1\n",
      "RDKit INFO: [07:25:31] New largest fragment: O=C1CN(Cc2cccc(F)c2Nc2ncccn2)C(=O)c2cccc(c2)N1 (44)\n",
      "RDKit INFO: [07:25:31] Running LargestFragmentChooser\n",
      "RDKit INFO: [07:25:31] Fragment: CC(=O)Nc1cccc(C(=O)N2Cc3ccccc3Nc3nc(C)nc(c3F)NN=C2C#N)c1\n"
     ]
    },
    {
     "data": {
      "text/plain": [
       "['CCC(=O)NCc1ccnn1[SH]1C=C(c2ccccc2F)NN1',\n",
       " 'CCC(=O)N1CC2C1CC2(C#N)S(=O)c1ccccn1',\n",
       " 'CCC(=O)N1c2ccn(-c3ncnc(C#N)c3C)c2[SH]1C']"
      ]
     },
     "execution_count": 7,
     "metadata": {},
     "output_type": "execute_result"
    },
    {
     "name": "stdout",
     "output_type": "stream",
     "text": [
      "w largest fragment: CCC(=O)NC1C=C2C=CC3CC=CC(=N3)N2C1C (38)\n",
      "[07:25:31] Running LargestFragmentChooser\n",
      "[07:25:31] Fragment: CCC(=O)NCc1ccnn1N1NC2=C(NO)C1CC2C\n",
      "[07:25:31] New largest fragment: CCC(=O)NCc1ccnn1N1NC2=C(NO)C1CC2C (41)\n",
      "[07:25:31] Running LargestFragmentChooser\n",
      "[07:25:31] Fragment: CCC(=O)NCC=C1C=CNC(Cc2n[nH]c3c2CCO3)=N1\n",
      "[07:25:31] New largest fragment: CCC(=O)NCC=C1C=CNC(Cc2n[nH]c3c2CCO3)=N1 (41)\n",
      "[07:25:31] Running LargestFragmentChooser\n",
      "[07:25:31] Fragment: CCC(=O)NCC1C(N)=NC1c1n[nH]cc1C(C)(C)O\n",
      "[07:25:31] New largest fragment: CCC(=O)NCC1C(N)=NC1c1n[nH]cc1C(C)(C)O (41)\n",
      "[07:25:31] Running LargestFragmentChooser\n",
      "[07:25:31] Fragment: CC(C1=CC=C[SH]1N)C1=NN=CC=CCNC(=O)CC1\n",
      "[07:25:31] New largest fragment: CC(C1=CC=C[SH]1N)C1=NN=CC=CCNC(=O)CC1 (40)\n",
      "[07:25:31] Running LargestFragmentChooser\n",
      "[07:25:31] Fragment: CCC(=O)NC1CC(c2n[nH]cc2C(C)=C=N)O1\n",
      "[07:25:31] New largest fragment: CCC(=O)NC1CC(c2n[nH]cc2C(C)=C=N)O1 (34)\n",
      "[07:25:31] Running LargestFragmentChooser\n",
      "[07:25:31] Fragment: CCC(=O)NCc1ccnn1S1=NNC(c2ccccc2F)=C1\n",
      "[07:25:31] New largest fragment: CCC(=O)NCc1ccnn1S1=NNC(c2ccccc2F)=C1 (39)\n",
      "[07:25:31] Running LargestFragmentChooser\n",
      "[07:25:31] Fragment: C=S(=O)(C(C)C)C1(C#N)C=NSN(C(=O)CC)CC1\n",
      "[07:25:31] New largest fragment: C=S(=O)(C(C)C)C1(C#N)C=NSN(C(=O)CC)CC1 (38)\n",
      "[07:25:31] Running LargestFragmentChooser\n",
      "[07:25:31] Fragment: Cc1cccc(C(=O)Cc2nc(Cl)cc3cccnc23)c1\n",
      "[07:25:31] New largest fragment: Cc1cccc(C(=O)Cc2nc(Cl)cc3cccnc23)c1 (34)\n",
      "[07:25:31] Running LargestFragmentChooser\n",
      "[07:25:31] Fragment: Cc1cccc(C(=O)Nc2cc(-c3ccccc3)no2)c1\n",
      "[07:25:31] New largest fragment: Cc1cccc(C(=O)Nc2cc(-c3ccccc3)no2)c1 (35)\n",
      "[07:25:31] Running LargestFragmentChooser\n",
      "[07:25:31] Fragment: Cc1cccc(C(=O)Cc2nc(Cc3ccco3)cs2)c1\n",
      "[07:25:31] New largest fragment: Cc1cccc(C(=O)Cc2nc(Cc3ccco3)cs2)c1 (36)\n",
      "[07:25:31] Running LargestFragmentChooser\n",
      "[07:25:31] Fragment: N#CCC1CCC2CCCN3CC=CC=CC=C1C2=CCOC#CNO3\n",
      "[07:25:31] New largest fragment: N#CCC1CCC2CCCN3CC=CC=CC=C1C2=CCOC#CNO3 (51)\n",
      "[07:25:31] Running LargestFragmentChooser\n",
      "[07:25:31] Fragment: N#CCC1CCC2CCCN3CC=CC=CC=C1C2=CCOC=CNO3\n",
      "[07:25:31] New largest fragment: N#CCC1CCC2CCCN3CC=CC=CC=C1C2=CCOC=CNO3 (53)\n",
      "[07:25:31] Running LargestFragmentChooser\n",
      "[07:25:31] Fragment: CNS(=O)(=O)N1CC2CCCC=Cc3ccccc3SC=CC=CC=CC2O1\n",
      "[07:25:31] New largest fragment: CNS(=O)(=O)N1CC2CCCC=Cc3ccccc3SC=CC=CC=CC2O1 (54)\n",
      "[07:25:31] Running LargestFragmentChooser\n",
      "[07:25:31] Fragment: CNON1CCCC2OC3OCCC(=CC=CC=CNC1)CCCCCC23\n",
      "[07:25:31] New largest fragment: CNON1CCCC2OC3OCCC(=CC=CC=CNC1)CCCCCC23 (62)\n",
      "[07:25:31] Running LargestFragmentChooser\n",
      "[07:25:31] Fragment: O=S1(=O)NCCCCCc2ccccc2SC=CC=CC=CC=C(Cl)CN1\n",
      "[07:25:31] New largest fragment: O=S1(=O)NCCCCCc2ccccc2SC=CC=CC=CC=C(Cl)CN1 (52)\n",
      "[07:25:31] Running LargestFragmentChooser\n",
      "[07:25:31] Fragment: O=C1CN(Cc2cccc(F)c2Nc2ncccn2)C(=O)c2cccc(c2)N1\n",
      "[07:25:31] New largest fragment: O=C1CN(Cc2cccc(F)c2Nc2ncccn2)C(=O)c2cccc(c2)N1 (44)\n",
      "[07:25:31] Running LargestFragmentChooser\n",
      "[07:25:31] Fragment: CC(=O)Nc1cccc(C(=O)N2Cc3ccccc3Nc3nc(C)nc(c3F)NN=C2C#N)c1\n",
      "[07:25:31] New largest fragment: CC(=O)Nc1cccc(C(=O)N2Cc3ccc"
     ]
    }
   ],
   "source": [
    "largest_Fragment = rdMolStandardize.LargestFragmentChooser()\n",
    "to_check_in_PUBCHEM = []\n",
    "standarized_mols = []\n",
    "for smi in output_smi:\n",
    "    largest_mol = largest_Fragment.choose(smi) #Mol object is returned\n",
    "    cannonical = Chem.MolToSmiles(largest_mol, isomericSmiles=False)\n",
    "    standarized_mols.append(cannonical)\n",
    "    to_check_in_PUBCHEM.append(cannonical)\n",
    "standarized_mols[0:3]"
   ]
  },
  {
   "cell_type": "code",
   "execution_count": 8,
   "id": "a516d8d0",
   "metadata": {},
   "outputs": [],
   "source": [
    "def get_similarity(mol, smi_list):\n",
    "    sim0 = mol\n",
    "    sim1 = [Chem.MolFromSmiles(smiles) for smiles in smi_list]\n",
    "    sim00 = Chem.RDKFingerprint(sim0)\n",
    "    sim11 = [Chem.RDKFingerprint(x) for x in sim1]\n",
    "    result = [TanimotoSimilarity(sim00,y) for y in sim11]\n",
    "    return result"
   ]
  },
  {
   "cell_type": "code",
   "execution_count": 9,
   "id": "0f3711d4",
   "metadata": {},
   "outputs": [
    {
     "data": {
      "image/png": "[encoded data removed]",
      "text/plain": [
       "<rdkit.Chem.rdchem.Mol at 0x7f71c5224040>"
      ]
     },
     "execution_count": 9,
     "metadata": {},
     "output_type": "execute_result"
    }
   ],
   "source": [
    "initial_mol[0]"
   ]
  },
  {
   "cell_type": "code",
   "execution_count": 10,
   "id": "3e433866",
   "metadata": {},
   "outputs": [],
   "source": [
    "first_structure_similarity = get_similarity(initial_mol[0], standarized_mols)"
   ]
  },
  {
   "cell_type": "code",
   "execution_count": 11,
   "id": "8c7cebdd",
   "metadata": {},
   "outputs": [
    {
     "data": {
      "text/plain": [
       "0.29185185185185186"
      ]
     },
     "execution_count": 11,
     "metadata": {},
     "output_type": "execute_result"
    }
   ],
   "source": [
    "max(first_structure_similarity)"
   ]
  },
  {
   "cell_type": "code",
   "execution_count": 12,
   "id": "9e1ff27c",
   "metadata": {},
   "outputs": [],
   "source": [
    "def get_similarity_lists_of_mols(mol_list, smi_list): #first list - mols, second smiles\n",
    "    sim0 = mol_list\n",
    "    sim1 = [Chem.MolFromSmiles(smiles) for smiles in smi_list]\n",
    "    sim00 = [Chem.RDKFingerprint(x) for x in sim0]\n",
    "    sim11 = [Chem.RDKFingerprint(x) for x in sim1]\n",
    "    result = []\n",
    "    for finger in sim00:\n",
    "        for finger_2 in sim11:\n",
    "            similarity = TanimotoSimilarity(finger,finger_2)\n",
    "            result.append(similarity)\n",
    "    return result"
   ]
  },
  {
   "cell_type": "code",
   "execution_count": 13,
   "id": "b74d9719",
   "metadata": {},
   "outputs": [],
   "source": [
    "dataframe__ = get_similarity_lists_of_mols(initial_mol, standarized_mols)"
   ]
  },
  {
   "cell_type": "code",
   "execution_count": 14,
   "id": "6fa0c977",
   "metadata": {},
   "outputs": [],
   "source": [
    "dataframe = pd.DataFrame(dataframe__, columns=['Tanimoto similarity generated structures with ROR-y activ distribution'])"
   ]
  },
  {
   "cell_type": "code",
   "execution_count": 15,
   "id": "14ff1bea",
   "metadata": {},
   "outputs": [
    {
     "name": "stdout",
     "output_type": "stream",
     "text": [
      "MIN similarity: 0.13992172211350293\n",
      "MAX similarity: 1.0\n"
     ]
    },
    {
     "data": {
      "image/png": "[encoded data removed]",
      "text/plain": [
       "<Figure size 432x288 with 1 Axes>"
      ]
     },
     "metadata": {
      "needs_background": "light"
     },
     "output_type": "display_data"
    }
   ],
   "source": [
    "dataframe.hist()\n",
    "print(\"MIN similarity: \"+str(min(dataframe__)))\n",
    "print(\"MAX similarity: \"+str(max(dataframe__)))\n"
   ]
  },
  {
   "cell_type": "code",
   "execution_count": 16,
   "id": "c9863471",
   "metadata": {},
   "outputs": [
    {
     "data": {
      "image/png": "[encoded data removed]",
      "text/plain": [
       "<Figure size 432x288 with 1 Axes>"
      ]
     },
     "metadata": {
      "needs_background": "light"
     },
     "output_type": "display_data"
    },
    {
     "name": "stdout",
     "output_type": "stream",
     "text": [
      "count    210.000000\n",
      "mean       0.266964\n",
      "std        0.095095\n",
      "min        0.139922\n",
      "25%        0.213183\n",
      "50%        0.247592\n",
      "75%        0.284167\n",
      "max        1.000000\n",
      "Name: Tanimoto similarity generated structures with ROR-y activ distribution, dtype: float64\n"
     ]
    }
   ],
   "source": [
    "plt.hist(dataframe['Tanimoto similarity generated structures with ROR-y activ distribution'],bins=100)\n",
    "plt.xlabel('Tanimoto similarity')\n",
    "plt.ylabel('Frequency')\n",
    "plt.title('Histogram of Tanimoto similarity distribution')\n",
    "#plt.axvline(x=0.0, color='r')\n",
    "plt.grid(True)\n",
    "plt.show()\n",
    "\n",
    "print(dataframe['Tanimoto similarity generated structures with ROR-y activ distribution'].describe())"
   ]
  },
  {
   "cell_type": "code",
   "execution_count": 17,
   "id": "959cb79a",
   "metadata": {},
   "outputs": [
    {
     "name": "stdout",
     "output_type": "stream",
     "text": [
      "[]\n"
     ]
    }
   ],
   "source": [
    "print(dataframe[dataframe['Tanimoto similarity generated structures with ROR-y activ distribution']<0.02].index.values)"
   ]
  },
  {
   "cell_type": "code",
   "execution_count": 18,
   "id": "41fc74d4",
   "metadata": {},
   "outputs": [
    {
     "data": {
      "text/html": [
       "<div>\n",
       "<style scoped>\n",
       "    .dataframe tbody tr th:only-of-type {\n",
       "        vertical-align: middle;\n",
       "    }\n",
       "\n",
       "    .dataframe tbody tr th {\n",
       "        vertical-align: top;\n",
       "    }\n",
       "\n",
       "    .dataframe thead th {\n",
       "        text-align: right;\n",
       "    }\n",
       "</style>\n",
       "<table border=\"1\" class=\"dataframe\">\n",
       "  <thead>\n",
       "    <tr style=\"text-align: right;\">\n",
       "      <th></th>\n",
       "      <th>Tanimoto similarity generated structures with ROR-y activ distribution</th>\n",
       "    </tr>\n",
       "  </thead>\n",
       "  <tbody>\n",
       "  </tbody>\n",
       "</table>\n",
       "</div>"
      ],
      "text/plain": [
       "Empty DataFrame\n",
       "Columns: [Tanimoto similarity generated structures with ROR-y activ distribution]\n",
       "Index: []"
      ]
     },
     "execution_count": 18,
     "metadata": {},
     "output_type": "execute_result"
    }
   ],
   "source": [
    "dataframe[dataframe['Tanimoto similarity generated structures with ROR-y activ distribution']<0.02].head()"
   ]
  },
  {
   "cell_type": "markdown",
   "id": "c1cdb969",
   "metadata": {},
   "source": [
    "## Similarity among docked molecules"
   ]
  },
  {
   "cell_type": "code",
   "execution_count": 19,
   "id": "6b40407a",
   "metadata": {},
   "outputs": [],
   "source": [
    "#docked_mols are at the beginning of the notebook"
   ]
  },
  {
   "cell_type": "code",
   "execution_count": 20,
   "id": "809ea8df",
   "metadata": {},
   "outputs": [],
   "source": [
    "initial_docked_similarity = get_similarity_lists_of_mols(initial_mol, docked_mols)"
   ]
  },
  {
   "cell_type": "code",
   "execution_count": 21,
   "id": "a7507cfa",
   "metadata": {},
   "outputs": [],
   "source": [
    "dataframe_docked = pd.DataFrame(initial_docked_similarity, columns=['Tanimoto similarity among docked molecules distribution'])"
   ]
  },
  {
   "cell_type": "code",
   "execution_count": 22,
   "id": "16d8a0b4",
   "metadata": {},
   "outputs": [
    {
     "name": "stdout",
     "output_type": "stream",
     "text": [
      "MIN similarity: 0.13992172211350293\n",
      "MAX similarity: 1.0\n"
     ]
    },
    {
     "data": {
      "image/png": "[encoded data removed]",
      "text/plain": [
       "<Figure size 432x288 with 1 Axes>"
      ]
     },
     "metadata": {
      "needs_background": "light"
     },
     "output_type": "display_data"
    }
   ],
   "source": [
    "dataframe_docked.hist()\n",
    "print(\"MIN similarity: \"+str(min(initial_docked_similarity)))\n",
    "print(\"MAX similarity: \"+str(max(initial_docked_similarity)))"
   ]
  },
  {
   "cell_type": "code",
   "execution_count": 23,
   "id": "8f95959b",
   "metadata": {},
   "outputs": [
    {
     "data": {
      "text/plain": [
       "[]"
      ]
     },
     "execution_count": 23,
     "metadata": {},
     "output_type": "execute_result"
    }
   ],
   "source": [
    "list_to_be_ = []\n",
    "list_to_be_"
   ]
  },
  {
   "cell_type": "code",
   "execution_count": 24,
   "id": "219c0999",
   "metadata": {},
   "outputs": [],
   "source": [
    "for mol in range(len(standarized_mols)): #comparision between generated mols\n",
    "    simil = get_similarity(Chem.MolFromSmiles(standarized_mols[mol]), standarized_mols)\n",
    "    list_to_be_.append(simil)"
   ]
  },
  {
   "cell_type": "code",
   "execution_count": 25,
   "id": "477ee8f4",
   "metadata": {},
   "outputs": [
    {
     "data": {
      "text/plain": [
       "[1.0,\n",
       " 0.3179384203480589,\n",
       " 0.4188635032220269,\n",
       " 0.28144654088050314,\n",
       " 0.5684438040345822]"
      ]
     },
     "execution_count": 25,
     "metadata": {},
     "output_type": "execute_result"
    }
   ],
   "source": [
    "list_to_be_[0][0:5]"
   ]
  },
  {
   "cell_type": "code",
   "execution_count": 26,
   "id": "81daa56f",
   "metadata": {},
   "outputs": [],
   "source": [
    "NEC = standarized_mols.copy()\n",
    "KMV = standarized_mols.copy()"
   ]
  },
  {
   "cell_type": "code",
   "execution_count": 27,
   "id": "ee1136e3",
   "metadata": {},
   "outputs": [],
   "source": [
    "for elem in range(len(standarized_mols)):\n",
    "    NEC[elem] = pd.DataFrame(list_to_be_[elem], columns=[standarized_mols[elem]])"
   ]
  },
  {
   "cell_type": "code",
   "execution_count": 28,
   "id": "f060e75a",
   "metadata": {},
   "outputs": [],
   "source": [
    "frames = (NEC)"
   ]
  },
  {
   "cell_type": "code",
   "execution_count": 29,
   "id": "061c0848",
   "metadata": {},
   "outputs": [
    {
     "data": {
      "text/html": [
       "<div>\n",
       "<style scoped>\n",
       "    .dataframe tbody tr th:only-of-type {\n",
       "        vertical-align: middle;\n",
       "    }\n",
       "\n",
       "    .dataframe tbody tr th {\n",
       "        vertical-align: top;\n",
       "    }\n",
       "\n",
       "    .dataframe thead th {\n",
       "        text-align: right;\n",
       "    }\n",
       "</style>\n",
       "<table border=\"1\" class=\"dataframe\">\n",
       "  <thead>\n",
       "    <tr style=\"text-align: right;\">\n",
       "      <th></th>\n",
       "      <th>CCC(=O)NCc1ccnn1[SH]1C=C(c2ccccc2F)NN1</th>\n",
       "      <th>CCC(=O)N1CC2C1CC2(C#N)S(=O)c1ccccn1</th>\n",
       "      <th>CCC(=O)N1c2ccn(-c3ncnc(C#N)c3C)c2[SH]1C</th>\n",
       "      <th>CCC(=O)NCC1=NN=C(c2ccc(C)c(CF)c2)SC1</th>\n",
       "      <th>CCC(=O)NCc1ccnn1S1=C(C)NC(c2ccccc2F)=C1</th>\n",
       "      <th>CCC(=O)NC1C=C2C=CC3CC=CC(=N3)N2C1C</th>\n",
       "      <th>CCC(=O)NCc1ccnn1N1NC2=C(NO)C1CC2C</th>\n",
       "      <th>CCC(=O)NCC=C1C=CNC(Cc2n[nH]c3c2CCO3)=N1</th>\n",
       "      <th>CCC(=O)NCC1C(N)=NC1c1n[nH]cc1C(C)(C)O</th>\n",
       "      <th>CC(C1=CC=C[SH]1N)C1=NN=CC=CCNC(=O)CC1</th>\n",
       "      <th>...</th>\n",
       "      <th>CCC(=O)NC=CC(C)=NN([NH])c1c(F)cccc1Cl</th>\n",
       "      <th>Cc1cccc(C(=O)Cc2nc(Cc3ccoc3)cs2)c1</th>\n",
       "      <th>CC1=CC=CC(C(=O)Nc2cc(Cl)c(Cl)c(Cl)c2)=CO1</th>\n",
       "      <th>CC1=CC=CC(CC(=O)N=S(C)c2ccc(Cl)cc2)=NO1</th>\n",
       "      <th>N#CC1CCC2CCCCN3CNC=CC=CC=C1C2=C1OC1NO3</th>\n",
       "      <th>N#CC1C2=CC=C3OCNON4CC=CC=CC=C2C1CCCCC3C4</th>\n",
       "      <th>N#CCC1CCC2CCCN3CC=CC=CC=C1C2=CC=C1OC1NO3</th>\n",
       "      <th>CC(=O)Nc1cccc(C(=O)N2NC(F)=NNCC3C2Cc2cccc(CN)c2N3C)c1</th>\n",
       "      <th>CC(=O)COCCC1=NC=CC(C(F)(F)F)=Nc2cnc[nH]nccc2OCCCOCCN1C</th>\n",
       "      <th>CCC1=NCCc2cncn2-c2cc(F)ccc2CCN(C(=O)c2cccc(NC(C)=O)c2)NN1</th>\n",
       "    </tr>\n",
       "  </thead>\n",
       "  <tbody>\n",
       "    <tr>\n",
       "      <th>0</th>\n",
       "      <td>1.000000</td>\n",
       "      <td>0.317938</td>\n",
       "      <td>0.418864</td>\n",
       "      <td>0.281447</td>\n",
       "      <td>0.568444</td>\n",
       "      <td>0.321233</td>\n",
       "      <td>0.427774</td>\n",
       "      <td>0.324176</td>\n",
       "      <td>0.345788</td>\n",
       "      <td>0.248132</td>\n",
       "      <td>...</td>\n",
       "      <td>0.235390</td>\n",
       "      <td>0.242176</td>\n",
       "      <td>0.230649</td>\n",
       "      <td>0.245342</td>\n",
       "      <td>0.305322</td>\n",
       "      <td>0.301779</td>\n",
       "      <td>0.241911</td>\n",
       "      <td>0.405615</td>\n",
       "      <td>0.293447</td>\n",
       "      <td>0.383832</td>\n",
       "    </tr>\n",
       "    <tr>\n",
       "      <th>1</th>\n",
       "      <td>0.317938</td>\n",
       "      <td>1.000000</td>\n",
       "      <td>0.395882</td>\n",
       "      <td>0.272947</td>\n",
       "      <td>0.338365</td>\n",
       "      <td>0.318373</td>\n",
       "      <td>0.375229</td>\n",
       "      <td>0.303956</td>\n",
       "      <td>0.338877</td>\n",
       "      <td>0.267396</td>\n",
       "      <td>...</td>\n",
       "      <td>0.220381</td>\n",
       "      <td>0.247494</td>\n",
       "      <td>0.227858</td>\n",
       "      <td>0.235107</td>\n",
       "      <td>0.307637</td>\n",
       "      <td>0.301170</td>\n",
       "      <td>0.241461</td>\n",
       "      <td>0.373882</td>\n",
       "      <td>0.286963</td>\n",
       "      <td>0.352642</td>\n",
       "    </tr>\n",
       "    <tr>\n",
       "      <th>2</th>\n",
       "      <td>0.418864</td>\n",
       "      <td>0.395882</td>\n",
       "      <td>1.000000</td>\n",
       "      <td>0.275235</td>\n",
       "      <td>0.461495</td>\n",
       "      <td>0.392836</td>\n",
       "      <td>0.493929</td>\n",
       "      <td>0.376623</td>\n",
       "      <td>0.398007</td>\n",
       "      <td>0.297872</td>\n",
       "      <td>...</td>\n",
       "      <td>0.232246</td>\n",
       "      <td>0.291147</td>\n",
       "      <td>0.271208</td>\n",
       "      <td>0.261307</td>\n",
       "      <td>0.350000</td>\n",
       "      <td>0.337927</td>\n",
       "      <td>0.260788</td>\n",
       "      <td>0.496743</td>\n",
       "      <td>0.334937</td>\n",
       "      <td>0.469783</td>\n",
       "    </tr>\n",
       "    <tr>\n",
       "      <th>3</th>\n",
       "      <td>0.281447</td>\n",
       "      <td>0.272947</td>\n",
       "      <td>0.275235</td>\n",
       "      <td>1.000000</td>\n",
       "      <td>0.266997</td>\n",
       "      <td>0.248784</td>\n",
       "      <td>0.259868</td>\n",
       "      <td>0.250000</td>\n",
       "      <td>0.263283</td>\n",
       "      <td>0.203756</td>\n",
       "      <td>...</td>\n",
       "      <td>0.207668</td>\n",
       "      <td>0.225096</td>\n",
       "      <td>0.197980</td>\n",
       "      <td>0.198030</td>\n",
       "      <td>0.206868</td>\n",
       "      <td>0.198835</td>\n",
       "      <td>0.175793</td>\n",
       "      <td>0.289370</td>\n",
       "      <td>0.234226</td>\n",
       "      <td>0.247207</td>\n",
       "    </tr>\n",
       "    <tr>\n",
       "      <th>4</th>\n",
       "      <td>0.568444</td>\n",
       "      <td>0.338365</td>\n",
       "      <td>0.461495</td>\n",
       "      <td>0.266997</td>\n",
       "      <td>1.000000</td>\n",
       "      <td>0.347097</td>\n",
       "      <td>0.458531</td>\n",
       "      <td>0.356957</td>\n",
       "      <td>0.372675</td>\n",
       "      <td>0.288028</td>\n",
       "      <td>...</td>\n",
       "      <td>0.245185</td>\n",
       "      <td>0.261050</td>\n",
       "      <td>0.238742</td>\n",
       "      <td>0.252131</td>\n",
       "      <td>0.314490</td>\n",
       "      <td>0.294271</td>\n",
       "      <td>0.235007</td>\n",
       "      <td>0.469006</td>\n",
       "      <td>0.327285</td>\n",
       "      <td>0.442795</td>\n",
       "    </tr>\n",
       "  </tbody>\n",
       "</table>\n",
       "<p>5 rows × 42 columns</p>\n",
       "</div>"
      ],
      "text/plain": [
       "   CCC(=O)NCc1ccnn1[SH]1C=C(c2ccccc2F)NN1  \\\n",
       "0                                1.000000   \n",
       "1                                0.317938   \n",
       "2                                0.418864   \n",
       "3                                0.281447   \n",
       "4                                0.568444   \n",
       "\n",
       "   CCC(=O)N1CC2C1CC2(C#N)S(=O)c1ccccn1  \\\n",
       "0                             0.317938   \n",
       "1                             1.000000   \n",
       "2                             0.395882   \n",
       "3                             0.272947   \n",
       "4                             0.338365   \n",
       "\n",
       "   CCC(=O)N1c2ccn(-c3ncnc(C#N)c3C)c2[SH]1C  \\\n",
       "0                                 0.418864   \n",
       "1                                 0.395882   \n",
       "2                                 1.000000   \n",
       "3                                 0.275235   \n",
       "4                                 0.461495   \n",
       "\n",
       "   CCC(=O)NCC1=NN=C(c2ccc(C)c(CF)c2)SC1  \\\n",
       "0                              0.281447   \n",
       "1                              0.272947   \n",
       "2                              0.275235   \n",
       "3                              1.000000   \n",
       "4                              0.266997   \n",
       "\n",
       "   CCC(=O)NCc1ccnn1S1=C(C)NC(c2ccccc2F)=C1  \\\n",
       "0                                 0.568444   \n",
       "1                                 0.338365   \n",
       "2                                 0.461495   \n",
       "3                                 0.266997   \n",
       "4                                 1.000000   \n",
       "\n",
       "   CCC(=O)NC1C=C2C=CC3CC=CC(=N3)N2C1C  CCC(=O)NCc1ccnn1N1NC2=C(NO)C1CC2C  \\\n",
       "0                            0.321233                           0.427774   \n",
       "1                            0.318373                           0.375229   \n",
       "2                            0.392836                           0.493929   \n",
       "3                            0.248784                           0.259868   \n",
       "4                            0.347097                           0.458531   \n",
       "\n",
       "   CCC(=O)NCC=C1C=CNC(Cc2n[nH]c3c2CCO3)=N1  \\\n",
       "0                                 0.324176   \n",
       "1                                 0.303956   \n",
       "2                                 0.376623   \n",
       "3                                 0.250000   \n",
       "4                                 0.356957   \n",
       "\n",
       "   CCC(=O)NCC1C(N)=NC1c1n[nH]cc1C(C)(C)O  \\\n",
       "0                               0.345788   \n",
       "1                               0.338877   \n",
       "2                               0.398007   \n",
       "3                               0.263283   \n",
       "4                               0.372675   \n",
       "\n",
       "   CC(C1=CC=C[SH]1N)C1=NN=CC=CCNC(=O)CC1  ...  \\\n",
       "0                               0.248132  ...   \n",
       "1                               0.267396  ...   \n",
       "2                               0.297872  ...   \n",
       "3                               0.203756  ...   \n",
       "4                               0.288028  ...   \n",
       "\n",
       "   CCC(=O)NC=CC(C)=NN([NH])c1c(F)cccc1Cl  Cc1cccc(C(=O)Cc2nc(Cc3ccoc3)cs2)c1  \\\n",
       "0                               0.235390                            0.242176   \n",
       "1                               0.220381                            0.247494   \n",
       "2                               0.232246                            0.291147   \n",
       "3                               0.207668                            0.225096   \n",
       "4                               0.245185                            0.261050   \n",
       "\n",
       "   CC1=CC=CC(C(=O)Nc2cc(Cl)c(Cl)c(Cl)c2)=CO1  \\\n",
       "0                                   0.230649   \n",
       "1                                   0.227858   \n",
       "2                                   0.271208   \n",
       "3                                   0.197980   \n",
       "4                                   0.238742   \n",
       "\n",
       "   CC1=CC=CC(CC(=O)N=S(C)c2ccc(Cl)cc2)=NO1  \\\n",
       "0                                 0.245342   \n",
       "1                                 0.235107   \n",
       "2                                 0.261307   \n",
       "3                                 0.198030   \n",
       "4                                 0.252131   \n",
       "\n",
       "   N#CC1CCC2CCCCN3CNC=CC=CC=C1C2=C1OC1NO3  \\\n",
       "0                                0.305322   \n",
       "1                                0.307637   \n",
       "2                                0.350000   \n",
       "3                                0.206868   \n",
       "4                                0.314490   \n",
       "\n",
       "   N#CC1C2=CC=C3OCNON4CC=CC=CC=C2C1CCCCC3C4  \\\n",
       "0                                  0.301779   \n",
       "1                                  0.301170   \n",
       "2                                  0.337927   \n",
       "3                                  0.198835   \n",
       "4                                  0.294271   \n",
       "\n",
       "   N#CCC1CCC2CCCN3CC=CC=CC=C1C2=CC=C1OC1NO3  \\\n",
       "0                                  0.241911   \n",
       "1                                  0.241461   \n",
       "2                                  0.260788   \n",
       "3                                  0.175793   \n",
       "4                                  0.235007   \n",
       "\n",
       "   CC(=O)Nc1cccc(C(=O)N2NC(F)=NNCC3C2Cc2cccc(CN)c2N3C)c1  \\\n",
       "0                                           0.405615       \n",
       "1                                           0.373882       \n",
       "2                                           0.496743       \n",
       "3                                           0.289370       \n",
       "4                                           0.469006       \n",
       "\n",
       "   CC(=O)COCCC1=NC=CC(C(F)(F)F)=Nc2cnc[nH]nccc2OCCCOCCN1C  \\\n",
       "0                                           0.293447        \n",
       "1                                           0.286963        \n",
       "2                                           0.334937        \n",
       "3                                           0.234226        \n",
       "4                                           0.327285        \n",
       "\n",
       "   CCC1=NCCc2cncn2-c2cc(F)ccc2CCN(C(=O)c2cccc(NC(C)=O)c2)NN1  \n",
       "0                                           0.383832          \n",
       "1                                           0.352642          \n",
       "2                                           0.469783          \n",
       "3                                           0.247207          \n",
       "4                                           0.442795          \n",
       "\n",
       "[5 rows x 42 columns]"
      ]
     },
     "execution_count": 29,
     "metadata": {},
     "output_type": "execute_result"
    }
   ],
   "source": [
    "Final = pd.concat(frames, axis=1)\n",
    "Final.head()"
   ]
  },
  {
   "cell_type": "code",
   "execution_count": 30,
   "id": "31d2a4b3",
   "metadata": {},
   "outputs": [
    {
     "data": {
      "image/png": "[encoded data removed]",
      "text/plain": [
       "<Figure size 2160x1440 with 2 Axes>"
      ]
     },
     "metadata": {
      "needs_background": "light"
     },
     "output_type": "display_data"
    }
   ],
   "source": [
    "import matplotlib.pyplot as plt\n",
    "plt.figure(figsize = (30, 20))\n",
    "plt.imshow(Final, interpolation='nearest')\n",
    "ax = plt.gca()\n",
    "ax.set_xticks(range(0,len(standarized_mols),1))\n",
    "ax.set_yticks(range(0,len(standarized_mols), 2))\n",
    "plt.colorbar()\n",
    "plt.show()"
   ]
  },
  {
   "cell_type": "code",
   "execution_count": 31,
   "id": "8813d5c6",
   "metadata": {},
   "outputs": [],
   "source": [
    "## ASK if this should be present in master TH"
   ]
  },
  {
   "cell_type": "markdown",
   "id": "f1fab316",
   "metadata": {},
   "source": [
    "## Checking if the data created is very similar to training data"
   ]
  },
  {
   "cell_type": "code",
   "execution_count": 32,
   "id": "5276a9d6",
   "metadata": {},
   "outputs": [],
   "source": [
    "whole_data_set = pd.read_parquet('../model/data/zinc20_selected_to_create_model_processed.parquet')"
   ]
  },
  {
   "cell_type": "code",
   "execution_count": 33,
   "id": "82f083d2",
   "metadata": {},
   "outputs": [
    {
     "data": {
      "text/html": [
       "<div>\n",
       "<style scoped>\n",
       "    .dataframe tbody tr th:only-of-type {\n",
       "        vertical-align: middle;\n",
       "    }\n",
       "\n",
       "    .dataframe tbody tr th {\n",
       "        vertical-align: top;\n",
       "    }\n",
       "\n",
       "    .dataframe thead th {\n",
       "        text-align: right;\n",
       "    }\n",
       "</style>\n",
       "<table border=\"1\" class=\"dataframe\">\n",
       "  <thead>\n",
       "    <tr style=\"text-align: right;\">\n",
       "      <th></th>\n",
       "      <th>index</th>\n",
       "      <th>smiles</th>\n",
       "      <th>SELFIES</th>\n",
       "      <th>SELFIES_length</th>\n",
       "      <th>SMILES_canonical</th>\n",
       "      <th>SELFIES_canonical</th>\n",
       "      <th>SELFIES_length_canonical</th>\n",
       "    </tr>\n",
       "  </thead>\n",
       "  <tbody>\n",
       "    <tr>\n",
       "      <th>0</th>\n",
       "      <td>563932204</td>\n",
       "      <td>CNC(=O)CCCN1CCN(S(C)(=O)=O)[C@@H](C)C1</td>\n",
       "      <td>[C][N][C][=Branch1][C][=O][C][C][C][N][C][C][N...</td>\n",
       "      <td>30</td>\n",
       "      <td>CNC(=O)CCCN1CCN(S(C)(=O)=O)C(C)C1</td>\n",
       "      <td>[C][N][C][=Branch1][C][=O][C][C][C][N][C][C][N...</td>\n",
       "      <td>30</td>\n",
       "    </tr>\n",
       "    <tr>\n",
       "      <th>1</th>\n",
       "      <td>51885268</td>\n",
       "      <td>O=C(Cn1cc([N+](=O)[O-])cn1)N1CC[C@@H](CO)C1</td>\n",
       "      <td>[O][=C][Branch1][S][C][N][C][=C][Branch1][=Bra...</td>\n",
       "      <td>30</td>\n",
       "      <td>O=C(Cn1cc([N+](=O)[O-])cn1)N1CCC(CO)C1</td>\n",
       "      <td>[O][=C][Branch1][S][C][N][C][=C][Branch1][=Bra...</td>\n",
       "      <td>30</td>\n",
       "    </tr>\n",
       "    <tr>\n",
       "      <th>2</th>\n",
       "      <td>1099938503</td>\n",
       "      <td>COCCCN1CC[C@@H](NC(=O)c2cnco2)[C@H](O)C1</td>\n",
       "      <td>[C][O][C][C][C][N][C][C][C@@H1][Branch1][=N][N...</td>\n",
       "      <td>30</td>\n",
       "      <td>COCCCN1CCC(NC(=O)c2cnco2)C(O)C1</td>\n",
       "      <td>[C][O][C][C][C][N][C][C][C][Branch1][=N][N][C]...</td>\n",
       "      <td>30</td>\n",
       "    </tr>\n",
       "    <tr>\n",
       "      <th>3</th>\n",
       "      <td>1368537405</td>\n",
       "      <td>C[C@@H](O)CNC[C@H]1CN(C(=O)Cc2cnc[nH]2)CCO1</td>\n",
       "      <td>[C][C@@H1][Branch1][C][O][C][N][C][C@H1][C][N]...</td>\n",
       "      <td>30</td>\n",
       "      <td>CC(O)CNCC1CN(C(=O)Cc2cnc[nH]2)CCO1</td>\n",
       "      <td>[C][C][Branch1][C][O][C][N][C][C][C][N][Branch...</td>\n",
       "      <td>30</td>\n",
       "    </tr>\n",
       "    <tr>\n",
       "      <th>4</th>\n",
       "      <td>1379339000</td>\n",
       "      <td>C[C@H](CNCc1cn(C)nn1)NC(=O)COCC1CC1</td>\n",
       "      <td>[C][C@H1][Branch1][=C][C][N][C][C][=C][N][Bran...</td>\n",
       "      <td>30</td>\n",
       "      <td>CC(CNCc1cn(C)nn1)NC(=O)COCC1CC1</td>\n",
       "      <td>[C][C][Branch1][=C][C][N][C][C][=C][N][Branch1...</td>\n",
       "      <td>30</td>\n",
       "    </tr>\n",
       "  </tbody>\n",
       "</table>\n",
       "</div>"
      ],
      "text/plain": [
       "        index                                       smiles  \\\n",
       "0   563932204       CNC(=O)CCCN1CCN(S(C)(=O)=O)[C@@H](C)C1   \n",
       "1    51885268  O=C(Cn1cc([N+](=O)[O-])cn1)N1CC[C@@H](CO)C1   \n",
       "2  1099938503     COCCCN1CC[C@@H](NC(=O)c2cnco2)[C@H](O)C1   \n",
       "3  1368537405  C[C@@H](O)CNC[C@H]1CN(C(=O)Cc2cnc[nH]2)CCO1   \n",
       "4  1379339000          C[C@H](CNCc1cn(C)nn1)NC(=O)COCC1CC1   \n",
       "\n",
       "                                             SELFIES  SELFIES_length  \\\n",
       "0  [C][N][C][=Branch1][C][=O][C][C][C][N][C][C][N...              30   \n",
       "1  [O][=C][Branch1][S][C][N][C][=C][Branch1][=Bra...              30   \n",
       "2  [C][O][C][C][C][N][C][C][C@@H1][Branch1][=N][N...              30   \n",
       "3  [C][C@@H1][Branch1][C][O][C][N][C][C@H1][C][N]...              30   \n",
       "4  [C][C@H1][Branch1][=C][C][N][C][C][=C][N][Bran...              30   \n",
       "\n",
       "                         SMILES_canonical  \\\n",
       "0       CNC(=O)CCCN1CCN(S(C)(=O)=O)C(C)C1   \n",
       "1  O=C(Cn1cc([N+](=O)[O-])cn1)N1CCC(CO)C1   \n",
       "2         COCCCN1CCC(NC(=O)c2cnco2)C(O)C1   \n",
       "3      CC(O)CNCC1CN(C(=O)Cc2cnc[nH]2)CCO1   \n",
       "4         CC(CNCc1cn(C)nn1)NC(=O)COCC1CC1   \n",
       "\n",
       "                                   SELFIES_canonical  SELFIES_length_canonical  \n",
       "0  [C][N][C][=Branch1][C][=O][C][C][C][N][C][C][N...                        30  \n",
       "1  [O][=C][Branch1][S][C][N][C][=C][Branch1][=Bra...                        30  \n",
       "2  [C][O][C][C][C][N][C][C][C][Branch1][=N][N][C]...                        30  \n",
       "3  [C][C][Branch1][C][O][C][N][C][C][C][N][Branch...                        30  \n",
       "4  [C][C][Branch1][=C][C][N][C][C][=C][N][Branch1...                        30  "
      ]
     },
     "execution_count": 33,
     "metadata": {},
     "output_type": "execute_result"
    }
   ],
   "source": [
    "whole_data_set.head()"
   ]
  },
  {
   "cell_type": "markdown",
   "id": "528a2f61",
   "metadata": {},
   "source": [
    "## Training was done on 121,000 of molecules\n",
    "### Tanimoto simalirity distribution among newly generated and trained SMILES"
   ]
  },
  {
   "cell_type": "code",
   "execution_count": 34,
   "id": "2ca4174c",
   "metadata": {},
   "outputs": [],
   "source": [
    "whole_data_set = whole_data_set['SMILES_canonical']"
   ]
  },
  {
   "cell_type": "code",
   "execution_count": 35,
   "id": "e04ba2fb",
   "metadata": {},
   "outputs": [
    {
     "data": {
      "text/plain": [
       "121000"
      ]
     },
     "execution_count": 35,
     "metadata": {},
     "output_type": "execute_result"
    }
   ],
   "source": [
    "len(whole_data_set)"
   ]
  },
  {
   "cell_type": "code",
   "execution_count": 36,
   "id": "f245d954",
   "metadata": {},
   "outputs": [],
   "source": [
    "whole_data_set_smi = [Chem.MolFromSmiles(smi) for smi in whole_data_set]"
   ]
  },
  {
   "cell_type": "code",
   "execution_count": 37,
   "id": "b45c2dbd",
   "metadata": {},
   "outputs": [
    {
     "data": {
      "image/png": "[encoded data removed]",
      "text/plain": [
       "<rdkit.Chem.rdchem.Mol at 0x7f71b8d473a0>"
      ]
     },
     "execution_count": 37,
     "metadata": {},
     "output_type": "execute_result"
    }
   ],
   "source": [
    "whole_data_set_smi[0]"
   ]
  },
  {
   "cell_type": "code",
   "execution_count": 38,
   "id": "a076cef1",
   "metadata": {},
   "outputs": [
    {
     "data": {
      "text/plain": [
       "['CNC(=O)CCCN1CCN(S(C)(=O)=O)C(C)C1',\n",
       " 'O=C(Cn1cc([N+](=O)[O-])cn1)N1CCC(CO)C1',\n",
       " 'COCCCN1CCC(NC(=O)c2cnco2)C(O)C1']"
      ]
     },
     "execution_count": 38,
     "metadata": {},
     "output_type": "execute_result"
    }
   ],
   "source": [
    "#isomeric SMILES to canonical SMILES\n",
    "whole_data_set_smi_cannonical = []\n",
    "for mol in whole_data_set_smi:\n",
    "    cannonical = Chem.MolToSmiles(mol, isomericSmiles=False)\n",
    "    whole_data_set_smi_cannonical.append(cannonical)\n",
    "whole_data_set_smi_cannonical[0:3]"
   ]
  },
  {
   "cell_type": "code",
   "execution_count": 39,
   "id": "476d1a67",
   "metadata": {},
   "outputs": [
    {
     "data": {
      "image/png": "[encoded data removed]",
      "text/plain": [
       "<rdkit.Chem.rdchem.Mol at 0x7f71b8d473a0>"
      ]
     },
     "execution_count": 39,
     "metadata": {},
     "output_type": "execute_result"
    }
   ],
   "source": [
    "whole_data_set_smi[0]"
   ]
  },
  {
   "cell_type": "code",
   "execution_count": 40,
   "id": "cfd70d9c",
   "metadata": {},
   "outputs": [
    {
     "data": {
      "text/plain": [
       "'CNC(=O)CCCN1CCN(S(C)(=O)=O)C(C)C1'"
      ]
     },
     "execution_count": 40,
     "metadata": {},
     "output_type": "execute_result"
    }
   ],
   "source": [
    "whole_data_set_smi_cannonical[0]"
   ]
  },
  {
   "cell_type": "code",
   "execution_count": 41,
   "id": "9290cdb1",
   "metadata": {},
   "outputs": [
    {
     "data": {
      "image/png": "[encoded data removed]",
      "text/plain": [
       "<rdkit.Chem.rdchem.Mol at 0x7f71c110f5e0>"
      ]
     },
     "execution_count": 41,
     "metadata": {},
     "output_type": "execute_result"
    }
   ],
   "source": [
    "whole_data_set_smi_cannonical_mol = [Chem.MolFromSmiles(smi) for smi in whole_data_set_smi_cannonical]\n",
    "whole_data_set_smi_cannonical_mol[0]"
   ]
  },
  {
   "cell_type": "code",
   "execution_count": 42,
   "id": "aa752221",
   "metadata": {},
   "outputs": [],
   "source": [
    "df = get_similarity_lists_of_mols(whole_data_set_smi_cannonical_mol, docked_mols) #second param as list of SMILES"
   ]
  },
  {
   "cell_type": "code",
   "execution_count": 43,
   "id": "eedf633d",
   "metadata": {},
   "outputs": [],
   "source": [
    "dataframe_train = pd.DataFrame(df, columns=['Tanimoto simalirity distribution among newly generated and trained SMILES'])"
   ]
  },
  {
   "cell_type": "code",
   "execution_count": 44,
   "id": "99c395b5",
   "metadata": {},
   "outputs": [
    {
     "name": "stdout",
     "output_type": "stream",
     "text": [
      "MIN similarity: 0.023952095808383235\n",
      "MAX similarity: 0.6454682023034551\n"
     ]
    },
    {
     "data": {
      "image/png": "[encoded data removed]",
      "text/plain": [
       "<Figure size 432x288 with 1 Axes>"
      ]
     },
     "metadata": {
      "needs_background": "light"
     },
     "output_type": "display_data"
    }
   ],
   "source": [
    "dataframe_train.hist()\n",
    "print(\"MIN similarity: \"+str(min(df)))\n",
    "print(\"MAX similarity: \"+str(max(df)))"
   ]
  },
  {
   "cell_type": "code",
   "execution_count": 45,
   "id": "b607fa1b",
   "metadata": {},
   "outputs": [
    {
     "data": {
      "image/png": "[encoded data removed]",
      "text/plain": [
       "<Figure size 432x288 with 1 Axes>"
      ]
     },
     "metadata": {
      "needs_background": "light"
     },
     "output_type": "display_data"
    },
    {
     "name": "stdout",
     "output_type": "stream",
     "text": [
      "count    5.082000e+06\n",
      "mean     2.484944e-01\n",
      "std      6.081470e-02\n",
      "min      2.395210e-02\n",
      "25%      2.040976e-01\n",
      "50%      2.418136e-01\n",
      "75%      2.867967e-01\n",
      "max      6.454682e-01\n",
      "Name: Tanimoto simalirity distribution among newly generated and trained SMILES, dtype: float64\n"
     ]
    }
   ],
   "source": [
    "plt.hist(dataframe_train['Tanimoto simalirity distribution among newly generated and trained SMILES'],bins=100)\n",
    "plt.xlabel('Tanimoto similarity')\n",
    "plt.ylabel('Frequency')\n",
    "plt.title('Histogram of Tanimoto similarity distribution')\n",
    "#plt.axvline(x=0.0, color='r')\n",
    "plt.grid(True)\n",
    "plt.show()\n",
    "\n",
    "print(dataframe_train['Tanimoto simalirity distribution among newly generated and trained SMILES'].describe())"
   ]
  },
  {
   "cell_type": "code",
   "execution_count": 46,
   "id": "184234ec",
   "metadata": {},
   "outputs": [],
   "source": [
    "new_ = dataframe_train[dataframe_train['Tanimoto simalirity distribution among newly generated and trained SMILES']>0.5]"
   ]
  },
  {
   "cell_type": "code",
   "execution_count": 47,
   "id": "fbf0261d",
   "metadata": {},
   "outputs": [
    {
     "data": {
      "text/plain": [
       "983"
      ]
     },
     "execution_count": 47,
     "metadata": {},
     "output_type": "execute_result"
    }
   ],
   "source": [
    "len(new_['Tanimoto simalirity distribution among newly generated and trained SMILES'])"
   ]
  },
  {
   "cell_type": "markdown",
   "id": "6f88af3d",
   "metadata": {},
   "source": [
    "## Check if initial SMILES is present in PUBCHEM database (ROR-y activ)"
   ]
  },
  {
   "cell_type": "code",
   "execution_count": 48,
   "id": "eb4b1585",
   "metadata": {},
   "outputs": [],
   "source": [
    "def find_smiles_in_PUBCHEM(smiles):\n",
    "    compounds = []\n",
    "    try:\n",
    "        compound = pcp.get_compounds(smiles, 'smiles')\n",
    "        compounds.append(compound)\n",
    "    except:\n",
    "        print(\"Not found : \"+ str(smiles))\n",
    "    return compounds"
   ]
  },
  {
   "cell_type": "code",
   "execution_count": 49,
   "id": "59687cc0",
   "metadata": {},
   "outputs": [],
   "source": [
    "test_if_initial_data_can_be_found = [find_smiles_in_PUBCHEM(smiles) for smiles in initial_smi['SMILES']]"
   ]
  },
  {
   "cell_type": "code",
   "execution_count": 50,
   "id": "5ce21b72",
   "metadata": {},
   "outputs": [
    {
     "data": {
      "text/plain": [
       "[[[Compound(807146)]],\n",
       " [[Compound(16445174)]],\n",
       " [[Compound(71470549)]],\n",
       " [[Compound(71811962)]],\n",
       " [[Compound(135337558)]]]"
      ]
     },
     "execution_count": 50,
     "metadata": {},
     "output_type": "execute_result"
    }
   ],
   "source": [
    "test_if_initial_data_can_be_found"
   ]
  },
  {
   "cell_type": "markdown",
   "id": "2baad6c2",
   "metadata": {},
   "source": [
    "## Check if newly generated SMILES is present in PUBCHEM database"
   ]
  },
  {
   "cell_type": "code",
   "execution_count": 51,
   "id": "125de021",
   "metadata": {},
   "outputs": [
    {
     "name": "stdout",
     "output_type": "stream",
     "text": [
      "Not found : CCC(=O)NCc1ccnn1[SH]1C=C(c2ccccc2F)NN1\n",
      "Not found : CCC(=O)N1c2ccn(-c3ncnc(C#N)c3C)c2[SH]1C\n",
      "Not found : CC(C1=CC=C[SH]1N)C1=NN=CC=CCNC(=O)CC1\n"
     ]
    }
   ],
   "source": [
    "test_if_newly_generated_data_can_be_found = [find_smiles_in_PUBCHEM(smiles) for smiles in to_check_in_PUBCHEM]"
   ]
  },
  {
   "cell_type": "code",
   "execution_count": 52,
   "id": "a61fe42c",
   "metadata": {},
   "outputs": [
    {
     "data": {
      "text/plain": [
       "[[],\n",
       " [[Compound()]],\n",
       " [],\n",
       " [[Compound()]],\n",
       " [[Compound()]],\n",
       " [[Compound()]],\n",
       " [[Compound()]],\n",
       " [[Compound()]],\n",
       " [[Compound()]],\n",
       " [],\n",
       " [[Compound()]],\n",
       " [[Compound()]],\n",
       " [[Compound()]],\n",
       " [[Compound()]],\n",
       " [[Compound(16445174)]],\n",
       " [[Compound()]],\n",
       " [[Compound()]],\n",
       " [[Compound()]],\n",
       " [[Compound()]],\n",
       " [[Compound()]],\n",
       " [[Compound()]],\n",
       " [[Compound()]],\n",
       " [[Compound()]],\n",
       " [[Compound()]],\n",
       " [[Compound()]],\n",
       " [[Compound()]],\n",
       " [[Compound()]],\n",
       " [[Compound()]],\n",
       " [[Compound()]],\n",
       " [[Compound()]],\n",
       " [[Compound()]],\n",
       " [[Compound()]],\n",
       " [[Compound()]],\n",
       " [[Compound()]],\n",
       " [[Compound()]],\n",
       " [[Compound()]],\n",
       " [[Compound()]],\n",
       " [[Compound()]],\n",
       " [[Compound()]],\n",
       " [[Compound()]],\n",
       " [[Compound()]],\n",
       " [[Compound()]]]"
      ]
     },
     "execution_count": 52,
     "metadata": {},
     "output_type": "execute_result"
    }
   ],
   "source": [
    "test_if_newly_generated_data_can_be_found"
   ]
  },
  {
   "cell_type": "code",
   "execution_count": null,
   "id": "da07e960",
   "metadata": {},
   "outputs": [],
   "source": []
  }
 ],
 "metadata": {
  "kernelspec": {
   "display_name": "Python 3 (ipykernel)",
   "language": "python",
   "name": "python3"
  },
  "language_info": {
   "codemirror_mode": {
    "name": "ipython",
    "version": 3
   },
   "file_extension": ".py",
   "mimetype": "text/x-python",
   "name": "python",
   "nbconvert_exporter": "python",
   "pygments_lexer": "ipython3",
   "version": "3.8.12"
  }
 },
 "nbformat": 4,
 "nbformat_minor": 5
}
