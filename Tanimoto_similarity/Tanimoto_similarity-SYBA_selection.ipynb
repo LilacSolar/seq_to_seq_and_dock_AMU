{
 "cells": [
  {
   "cell_type": "code",
   "execution_count": 1,
   "id": "28d559dd",
   "metadata": {},
   "outputs": [],
   "source": [
    "from rdkit import Chem\n",
    "from rdkit.DataStructs.cDataStructs import TanimotoSimilarity\n",
    "from rdkit.Chem.MolStandardize import rdMolStandardize\n",
    "import pubchempy as pcp\n",
    "import pandas as pd\n",
    "import matplotlib.pyplot as plt"
   ]
  },
  {
   "cell_type": "code",
   "execution_count": 2,
   "id": "e3be37e4",
   "metadata": {
    "scrolled": true
   },
   "outputs": [
    {
     "name": "stdout",
     "output_type": "stream",
     "text": [
      "Initial data description: \n",
      "                                      SMILES\n",
      "count                                      5\n",
      "unique                                     5\n",
      "top     CCC(=O)Nc1ccc2nn(-c3ccc(CC)cc3)nc2c1\n",
      "freq                                       1\n",
      "SMILES used to predict new molecules description: \n",
      "                                      SMILES\n",
      "count                                      5\n",
      "unique                                     5\n",
      "top     CCC(=O)Nc1ccc2nn(-c3ccc(CC)cc3)nc2c1\n",
      "freq                                       1\n",
      "Examples of initial structures: \n",
      "                                              SMILES\n",
      "0               CCC(=O)Nc1ccc2nn(-c3ccc(CC)cc3)nc2c1\n",
      "1                Cc1cccc(C(=O)Nc2cc(-c3ccccc3)no2)c1\n",
      "2  CC(=O)N1CCN(Cc2ccc(-c3ccc(C(O)(C(F)(F)F)C(F)(F...\n"
     ]
    }
   ],
   "source": [
    "initial_smi = pd.read_excel(r'../prediction_and_selection/Prediction_initializers_ROR_activ.xlsx')\n",
    "initial_smi = list(initial_smi['SMILES'])\n",
    "initial_smi = pd.DataFrame(initial_smi, columns=['SMILES'])\n",
    "print(\"Initial data description: \")\n",
    "print(initial_smi.describe())\n",
    "\n",
    "print(\"SMILES used to predict new molecules description: \")\n",
    "print(initial_smi.describe())\n",
    "\n",
    "print(\"Examples of initial structures: \")\n",
    "print(initial_smi[0:3])"
   ]
  },
  {
   "cell_type": "code",
   "execution_count": 3,
   "id": "d584bff0",
   "metadata": {},
   "outputs": [
    {
     "data": {
      "text/plain": [
       "['CC1=CC=CC(C(=O)CC2=NC(Cl)=CC3=CC=CN=C23)=C1',\n",
       " 'CC1=CC=CC(C(=O)NC2=CC(C3=CC=CC=C3)=NO2)=C1',\n",
       " 'CC1=CC=CC(C(=O)CC2=NC(CC3=CC=CO3)=CS2)=C1']"
      ]
     },
     "execution_count": 3,
     "metadata": {},
     "output_type": "execute_result"
    }
   ],
   "source": [
    "output_smi = pd.read_excel(r'../prediction_and_selection/All_generated_SMILES_SYBA_filtration.xlsx')\n",
    "output_smi = list(output_smi['SMILES'])\n",
    "docked_mols = output_smi.copy()\n",
    "output_smi[0:3]"
   ]
  },
  {
   "cell_type": "code",
   "execution_count": 4,
   "id": "74d0eab3",
   "metadata": {},
   "outputs": [],
   "source": [
    "#all_generated = pd.read_excel(r'../prediction_and_selection/)"
   ]
  },
  {
   "cell_type": "code",
   "execution_count": 5,
   "id": "69fb045d",
   "metadata": {},
   "outputs": [],
   "source": [
    "initial_mol = [Chem.MolFromSmiles(smi) for smi in initial_smi['SMILES']]"
   ]
  },
  {
   "cell_type": "code",
   "execution_count": 6,
   "id": "6e11c0f5",
   "metadata": {},
   "outputs": [],
   "source": [
    "output_smi = [Chem.MolFromSmiles(smi) for smi in output_smi]"
   ]
  },
  {
   "cell_type": "code",
   "execution_count": 7,
   "id": "00169331",
   "metadata": {},
   "outputs": [
    {
     "data": {
      "image/png": "[encoded data removed]",
      "text/plain": [
       "<rdkit.Chem.rdchem.Mol at 0x7f3be6d7e2e0>"
      ]
     },
     "execution_count": 7,
     "metadata": {},
     "output_type": "execute_result"
    }
   ],
   "source": [
    "output_smi[0]"
   ]
  },
  {
   "cell_type": "code",
   "execution_count": 8,
   "id": "c574642f",
   "metadata": {},
   "outputs": [
    {
     "data": {
      "text/plain": [
       "['Cc1cccc(C(=O)Cc2nc(Cl)cc3cccnc23)c1',\n",
       " 'Cc1cccc(C(=O)Nc2cc(-c3ccccc3)no2)c1',\n",
       " 'Cc1cccc(C(=O)Cc2nc(Cc3ccco3)cs2)c1']"
      ]
     },
     "execution_count": 8,
     "metadata": {},
     "output_type": "execute_result"
    }
   ],
   "source": [
    "largest_Fragment = rdMolStandardize.LargestFragmentChooser()\n",
    "to_check_in_PUBCHEM = []\n",
    "standarized_mols = []\n",
    "for smi in output_smi:\n",
    "    largest_mol = largest_Fragment.choose(smi) #Mol object is returned\n",
    "    cannonical = Chem.MolToSmiles(largest_mol, isomericSmiles=False)\n",
    "    standarized_mols.append(cannonical)\n",
    "    to_check_in_PUBCHEM.append(cannonical)\n",
    "standarized_mols[0:3]"
   ]
  },
  {
   "cell_type": "code",
   "execution_count": 9,
   "id": "a516d8d0",
   "metadata": {},
   "outputs": [],
   "source": [
    "def get_similarity(mol, smi_list):\n",
    "    sim0 = mol\n",
    "    sim1 = [Chem.MolFromSmiles(smiles) for smiles in smi_list]\n",
    "    sim00 = Chem.RDKFingerprint(sim0)\n",
    "    sim11 = [Chem.RDKFingerprint(x) for x in sim1]\n",
    "    result = [TanimotoSimilarity(sim00,y) for y in sim11]\n",
    "    return result"
   ]
  },
  {
   "cell_type": "code",
   "execution_count": 10,
   "id": "0f3711d4",
   "metadata": {},
   "outputs": [
    {
     "data": {
      "image/png": "[encoded data removed]",
      "text/plain": [
       "<rdkit.Chem.rdchem.Mol at 0x7f3be6db4e80>"
      ]
     },
     "execution_count": 10,
     "metadata": {},
     "output_type": "execute_result"
    }
   ],
   "source": [
    "initial_mol[0]"
   ]
  },
  {
   "cell_type": "code",
   "execution_count": 11,
   "id": "3e433866",
   "metadata": {},
   "outputs": [],
   "source": [
    "first_structure_similarity = get_similarity(initial_mol[0], standarized_mols)"
   ]
  },
  {
   "cell_type": "code",
   "execution_count": 12,
   "id": "8c7cebdd",
   "metadata": {},
   "outputs": [
    {
     "data": {
      "text/plain": [
       "0.29185185185185186"
      ]
     },
     "execution_count": 12,
     "metadata": {},
     "output_type": "execute_result"
    }
   ],
   "source": [
    "max(first_structure_similarity)"
   ]
  },
  {
   "cell_type": "code",
   "execution_count": 13,
   "id": "9e1ff27c",
   "metadata": {},
   "outputs": [],
   "source": [
    "def get_similarity_lists_of_mols(mol_list, smi_list): #first list - mols, second smiles\n",
    "    sim0 = mol_list\n",
    "    sim1 = [Chem.MolFromSmiles(smiles) for smiles in smi_list]\n",
    "    sim00 = [Chem.RDKFingerprint(x) for x in sim0]\n",
    "    sim11 = [Chem.RDKFingerprint(x) for x in sim1]\n",
    "    result = []\n",
    "    for finger in sim00:\n",
    "        for finger_2 in sim11:\n",
    "            similarity = TanimotoSimilarity(finger,finger_2)\n",
    "            result.append(similarity)\n",
    "    return result"
   ]
  },
  {
   "cell_type": "code",
   "execution_count": 14,
   "id": "b74d9719",
   "metadata": {},
   "outputs": [],
   "source": [
    "dataframe__ = get_similarity_lists_of_mols(initial_mol, standarized_mols)"
   ]
  },
  {
   "cell_type": "code",
   "execution_count": 15,
   "id": "6fa0c977",
   "metadata": {},
   "outputs": [],
   "source": [
    "dataframe = pd.DataFrame(dataframe__, columns=['Tanimoto similarity: generated structures with initial ROR-y activ distribution'])"
   ]
  },
  {
   "cell_type": "code",
   "execution_count": 16,
   "id": "14ff1bea",
   "metadata": {},
   "outputs": [
    {
     "name": "stdout",
     "output_type": "stream",
     "text": [
      "MIN similarity: 0.1969147005444646\n",
      "MAX similarity: 1.0\n"
     ]
    },
    {
     "data": {
      "image/png": "[encoded data removed]",
      "text/plain": [
       "<Figure size 432x288 with 1 Axes>"
      ]
     },
     "metadata": {
      "needs_background": "light"
     },
     "output_type": "display_data"
    }
   ],
   "source": [
    "dataframe.hist()\n",
    "print(\"MIN similarity: \"+str(min(dataframe__)))\n",
    "print(\"MAX similarity: \"+str(max(dataframe__)))\n"
   ]
  },
  {
   "cell_type": "code",
   "execution_count": 17,
   "id": "ff698140",
   "metadata": {},
   "outputs": [
    {
     "data": {
      "image/png": "[encoded data removed]",
      "text/plain": [
       "<Figure size 432x288 with 1 Axes>"
      ]
     },
     "metadata": {
      "needs_background": "light"
     },
     "output_type": "display_data"
    },
    {
     "name": "stdout",
     "output_type": "stream",
     "text": [
      "count    60.000000\n",
      "mean      0.303381\n",
      "std       0.121414\n",
      "min       0.196915\n",
      "25%       0.241008\n",
      "50%       0.269833\n",
      "75%       0.307928\n",
      "max       1.000000\n",
      "Name: Tanimoto similarity: generated structures with initial ROR-y activ distribution, dtype: float64\n"
     ]
    }
   ],
   "source": [
    "plt.hist(dataframe['Tanimoto similarity: generated structures with initial ROR-y activ distribution'],bins=100)\n",
    "plt.xlabel('Tanimoto similarity')\n",
    "plt.ylabel('Frequency')\n",
    "plt.title('Histogram of Tanimoto similarity distribution')\n",
    "#plt.axvline(x=0.0, color='r')\n",
    "plt.grid(True)\n",
    "plt.show()\n",
    "\n",
    "print(dataframe['Tanimoto similarity: generated structures with initial ROR-y activ distribution'].describe())\n",
    "#print('Kurtosis:')\n",
    "#print(round(whole_data_after_QED_Lipinski['SYBA_score'].kurtosis(),4))\n",
    "#print('Skewness:')\n",
    "#print(round(whole_data_after_QED_Lipinski['SYBA_score'].skew(),4))"
   ]
  },
  {
   "cell_type": "code",
   "execution_count": 18,
   "id": "959cb79a",
   "metadata": {},
   "outputs": [
    {
     "name": "stdout",
     "output_type": "stream",
     "text": [
      "[]\n"
     ]
    }
   ],
   "source": [
    "print(dataframe[dataframe['Tanimoto similarity: generated structures with initial ROR-y activ distribution']<0.02].index.values)"
   ]
  },
  {
   "cell_type": "code",
   "execution_count": 19,
   "id": "41fc74d4",
   "metadata": {},
   "outputs": [
    {
     "data": {
      "text/html": [
       "<div>\n",
       "<style scoped>\n",
       "    .dataframe tbody tr th:only-of-type {\n",
       "        vertical-align: middle;\n",
       "    }\n",
       "\n",
       "    .dataframe tbody tr th {\n",
       "        vertical-align: top;\n",
       "    }\n",
       "\n",
       "    .dataframe thead th {\n",
       "        text-align: right;\n",
       "    }\n",
       "</style>\n",
       "<table border=\"1\" class=\"dataframe\">\n",
       "  <thead>\n",
       "    <tr style=\"text-align: right;\">\n",
       "      <th></th>\n",
       "      <th>Tanimoto similarity: generated structures with initial ROR-y activ distribution</th>\n",
       "    </tr>\n",
       "  </thead>\n",
       "  <tbody>\n",
       "  </tbody>\n",
       "</table>\n",
       "</div>"
      ],
      "text/plain": [
       "Empty DataFrame\n",
       "Columns: [Tanimoto similarity: generated structures with initial ROR-y activ distribution]\n",
       "Index: []"
      ]
     },
     "execution_count": 19,
     "metadata": {},
     "output_type": "execute_result"
    }
   ],
   "source": [
    "dataframe[dataframe['Tanimoto similarity: generated structures with initial ROR-y activ distribution']<0.1].head()"
   ]
  },
  {
   "cell_type": "markdown",
   "id": "c1cdb969",
   "metadata": {},
   "source": [
    "## Similarity among docked molecules"
   ]
  },
  {
   "cell_type": "code",
   "execution_count": 20,
   "id": "6b40407a",
   "metadata": {},
   "outputs": [],
   "source": [
    "#docked_mols are at the beginning of the notebook"
   ]
  },
  {
   "cell_type": "code",
   "execution_count": 21,
   "id": "809ea8df",
   "metadata": {},
   "outputs": [],
   "source": [
    "initial_docked_similarity = get_similarity_lists_of_mols([Chem.MolFromSmiles(smi) for smi in docked_mols], docked_mols)"
   ]
  },
  {
   "cell_type": "code",
   "execution_count": 22,
   "id": "a7507cfa",
   "metadata": {},
   "outputs": [],
   "source": [
    "dataframe_docked = pd.DataFrame(initial_docked_similarity, columns=['Tanimoto similarity among docked molecules distribution'])"
   ]
  },
  {
   "cell_type": "code",
   "execution_count": 23,
   "id": "16d8a0b4",
   "metadata": {},
   "outputs": [
    {
     "name": "stdout",
     "output_type": "stream",
     "text": [
      "MIN similarity: 0.2179372197309417\n",
      "MAX similarity: 1.0\n"
     ]
    },
    {
     "data": {
      "image/png": "[encoded data removed]",
      "text/plain": [
       "<Figure size 432x288 with 1 Axes>"
      ]
     },
     "metadata": {
      "needs_background": "light"
     },
     "output_type": "display_data"
    }
   ],
   "source": [
    "dataframe_docked.hist()\n",
    "print(\"MIN similarity: \"+str(min(initial_docked_similarity)))\n",
    "print(\"MAX similarity: \"+str(max(initial_docked_similarity)))"
   ]
  },
  {
   "cell_type": "code",
   "execution_count": 24,
   "id": "8f95959b",
   "metadata": {},
   "outputs": [
    {
     "data": {
      "text/plain": [
       "[]"
      ]
     },
     "execution_count": 24,
     "metadata": {},
     "output_type": "execute_result"
    }
   ],
   "source": [
    "list_to_be_ = []\n",
    "list_to_be_"
   ]
  },
  {
   "cell_type": "code",
   "execution_count": 25,
   "id": "219c0999",
   "metadata": {},
   "outputs": [],
   "source": [
    "for mol in range(len(standarized_mols)): #comparision between generated mols\n",
    "    simil = get_similarity(Chem.MolFromSmiles(standarized_mols[mol]), standarized_mols)\n",
    "    list_to_be_.append(simil)"
   ]
  },
  {
   "cell_type": "code",
   "execution_count": 26,
   "id": "477ee8f4",
   "metadata": {},
   "outputs": [
    {
     "data": {
      "text/plain": [
       "[1.0,\n",
       " 0.25889679715302494,\n",
       " 0.32332155477031804,\n",
       " 0.34838274932614555,\n",
       " 0.33102143757881464]"
      ]
     },
     "execution_count": 26,
     "metadata": {},
     "output_type": "execute_result"
    }
   ],
   "source": [
    "list_to_be_[0][0:5]"
   ]
  },
  {
   "cell_type": "code",
   "execution_count": 27,
   "id": "81daa56f",
   "metadata": {},
   "outputs": [],
   "source": [
    "NEC = standarized_mols.copy()\n",
    "KMV = standarized_mols.copy()"
   ]
  },
  {
   "cell_type": "code",
   "execution_count": 28,
   "id": "ee1136e3",
   "metadata": {},
   "outputs": [],
   "source": [
    "for elem in range(len(standarized_mols)):\n",
    "    NEC[elem] = pd.DataFrame(list_to_be_[elem], columns=[standarized_mols[elem]])"
   ]
  },
  {
   "cell_type": "code",
   "execution_count": 29,
   "id": "f060e75a",
   "metadata": {},
   "outputs": [],
   "source": [
    "frames = (NEC)"
   ]
  },
  {
   "cell_type": "code",
   "execution_count": 30,
   "id": "061c0848",
   "metadata": {},
   "outputs": [
    {
     "data": {
      "text/html": [
       "<div>\n",
       "<style scoped>\n",
       "    .dataframe tbody tr th:only-of-type {\n",
       "        vertical-align: middle;\n",
       "    }\n",
       "\n",
       "    .dataframe tbody tr th {\n",
       "        vertical-align: top;\n",
       "    }\n",
       "\n",
       "    .dataframe thead th {\n",
       "        text-align: right;\n",
       "    }\n",
       "</style>\n",
       "<table border=\"1\" class=\"dataframe\">\n",
       "  <thead>\n",
       "    <tr style=\"text-align: right;\">\n",
       "      <th></th>\n",
       "      <th>Cc1cccc(C(=O)Cc2nc(Cl)cc3cccnc23)c1</th>\n",
       "      <th>Cc1cccc(C(=O)Nc2cc(-c3ccccc3)no2)c1</th>\n",
       "      <th>Cc1cccc(C(=O)Cc2nc(Cc3ccco3)cs2)c1</th>\n",
       "      <th>CC(=O)Nc1cccc(C(=O)N2Cc3ccccc3Nc3nc(C)nc(c3F)NN=C2C#N)c1</th>\n",
       "      <th>CC(=O)Nc1cccc(C(=O)N(Cc2cccc3c2N2C(C)=NNC2N3)c2nnc(C)s2)c1</th>\n",
       "      <th>CC(=O)Nc1cccc(C(=O)NCC=CC2C=CN(C)C=C(F)C=NC=C2C)c1</th>\n",
       "      <th>CCC(=O)NCC(F)c1nsc(-c2ccccn2)n1</th>\n",
       "      <th>CC1OCCN1Cc1nnc(-c2ccc(Br)cc2N)n1CO</th>\n",
       "      <th>CCCN1C(NC(=O)CC)C=CN1c1ncc(C#N)cc1C</th>\n",
       "      <th>Cc1cccc(C(=O)Cc2nc(Cc3ccoc3)cs2)c1</th>\n",
       "      <th>CC(=O)Nc1cccc(C(=O)N2NC(F)=NNCC3C2Cc2cccc(CN)c2N3C)c1</th>\n",
       "      <th>CCC1=NCCc2cncn2-c2cc(F)ccc2CCN(C(=O)c2cccc(NC(C)=O)c2)NN1</th>\n",
       "    </tr>\n",
       "  </thead>\n",
       "  <tbody>\n",
       "    <tr>\n",
       "      <th>0</th>\n",
       "      <td>1.000000</td>\n",
       "      <td>0.258897</td>\n",
       "      <td>0.323322</td>\n",
       "      <td>0.348383</td>\n",
       "      <td>0.331021</td>\n",
       "      <td>0.229974</td>\n",
       "      <td>0.226656</td>\n",
       "      <td>0.297872</td>\n",
       "      <td>0.297753</td>\n",
       "      <td>0.311993</td>\n",
       "      <td>0.335621</td>\n",
       "      <td>0.324781</td>\n",
       "    </tr>\n",
       "    <tr>\n",
       "      <th>1</th>\n",
       "      <td>0.258897</td>\n",
       "      <td>1.000000</td>\n",
       "      <td>0.243167</td>\n",
       "      <td>0.285815</td>\n",
       "      <td>0.282017</td>\n",
       "      <td>0.247752</td>\n",
       "      <td>0.217937</td>\n",
       "      <td>0.264916</td>\n",
       "      <td>0.243666</td>\n",
       "      <td>0.223394</td>\n",
       "      <td>0.291639</td>\n",
       "      <td>0.278136</td>\n",
       "    </tr>\n",
       "    <tr>\n",
       "      <th>2</th>\n",
       "      <td>0.323322</td>\n",
       "      <td>0.243167</td>\n",
       "      <td>1.000000</td>\n",
       "      <td>0.310179</td>\n",
       "      <td>0.316993</td>\n",
       "      <td>0.243697</td>\n",
       "      <td>0.243313</td>\n",
       "      <td>0.262642</td>\n",
       "      <td>0.256815</td>\n",
       "      <td>0.735632</td>\n",
       "      <td>0.318504</td>\n",
       "      <td>0.292244</td>\n",
       "    </tr>\n",
       "    <tr>\n",
       "      <th>3</th>\n",
       "      <td>0.348383</td>\n",
       "      <td>0.285815</td>\n",
       "      <td>0.310179</td>\n",
       "      <td>1.000000</td>\n",
       "      <td>0.517782</td>\n",
       "      <td>0.368382</td>\n",
       "      <td>0.284016</td>\n",
       "      <td>0.351553</td>\n",
       "      <td>0.414680</td>\n",
       "      <td>0.305750</td>\n",
       "      <td>0.496183</td>\n",
       "      <td>0.493695</td>\n",
       "    </tr>\n",
       "    <tr>\n",
       "      <th>4</th>\n",
       "      <td>0.331021</td>\n",
       "      <td>0.282017</td>\n",
       "      <td>0.316993</td>\n",
       "      <td>0.517782</td>\n",
       "      <td>1.000000</td>\n",
       "      <td>0.346953</td>\n",
       "      <td>0.309114</td>\n",
       "      <td>0.382940</td>\n",
       "      <td>0.420420</td>\n",
       "      <td>0.297368</td>\n",
       "      <td>0.532872</td>\n",
       "      <td>0.479117</td>\n",
       "    </tr>\n",
       "  </tbody>\n",
       "</table>\n",
       "</div>"
      ],
      "text/plain": [
       "   Cc1cccc(C(=O)Cc2nc(Cl)cc3cccnc23)c1  Cc1cccc(C(=O)Nc2cc(-c3ccccc3)no2)c1  \\\n",
       "0                             1.000000                             0.258897   \n",
       "1                             0.258897                             1.000000   \n",
       "2                             0.323322                             0.243167   \n",
       "3                             0.348383                             0.285815   \n",
       "4                             0.331021                             0.282017   \n",
       "\n",
       "   Cc1cccc(C(=O)Cc2nc(Cc3ccco3)cs2)c1  \\\n",
       "0                            0.323322   \n",
       "1                            0.243167   \n",
       "2                            1.000000   \n",
       "3                            0.310179   \n",
       "4                            0.316993   \n",
       "\n",
       "   CC(=O)Nc1cccc(C(=O)N2Cc3ccccc3Nc3nc(C)nc(c3F)NN=C2C#N)c1  \\\n",
       "0                                           0.348383          \n",
       "1                                           0.285815          \n",
       "2                                           0.310179          \n",
       "3                                           1.000000          \n",
       "4                                           0.517782          \n",
       "\n",
       "   CC(=O)Nc1cccc(C(=O)N(Cc2cccc3c2N2C(C)=NNC2N3)c2nnc(C)s2)c1  \\\n",
       "0                                           0.331021            \n",
       "1                                           0.282017            \n",
       "2                                           0.316993            \n",
       "3                                           0.517782            \n",
       "4                                           1.000000            \n",
       "\n",
       "   CC(=O)Nc1cccc(C(=O)NCC=CC2C=CN(C)C=C(F)C=NC=C2C)c1  \\\n",
       "0                                           0.229974    \n",
       "1                                           0.247752    \n",
       "2                                           0.243697    \n",
       "3                                           0.368382    \n",
       "4                                           0.346953    \n",
       "\n",
       "   CCC(=O)NCC(F)c1nsc(-c2ccccn2)n1  CC1OCCN1Cc1nnc(-c2ccc(Br)cc2N)n1CO  \\\n",
       "0                         0.226656                            0.297872   \n",
       "1                         0.217937                            0.264916   \n",
       "2                         0.243313                            0.262642   \n",
       "3                         0.284016                            0.351553   \n",
       "4                         0.309114                            0.382940   \n",
       "\n",
       "   CCCN1C(NC(=O)CC)C=CN1c1ncc(C#N)cc1C  Cc1cccc(C(=O)Cc2nc(Cc3ccoc3)cs2)c1  \\\n",
       "0                             0.297753                            0.311993   \n",
       "1                             0.243666                            0.223394   \n",
       "2                             0.256815                            0.735632   \n",
       "3                             0.414680                            0.305750   \n",
       "4                             0.420420                            0.297368   \n",
       "\n",
       "   CC(=O)Nc1cccc(C(=O)N2NC(F)=NNCC3C2Cc2cccc(CN)c2N3C)c1  \\\n",
       "0                                           0.335621       \n",
       "1                                           0.291639       \n",
       "2                                           0.318504       \n",
       "3                                           0.496183       \n",
       "4                                           0.532872       \n",
       "\n",
       "   CCC1=NCCc2cncn2-c2cc(F)ccc2CCN(C(=O)c2cccc(NC(C)=O)c2)NN1  \n",
       "0                                           0.324781          \n",
       "1                                           0.278136          \n",
       "2                                           0.292244          \n",
       "3                                           0.493695          \n",
       "4                                           0.479117          "
      ]
     },
     "execution_count": 30,
     "metadata": {},
     "output_type": "execute_result"
    }
   ],
   "source": [
    "Final = pd.concat(frames, axis=1)\n",
    "Final.head()"
   ]
  },
  {
   "cell_type": "code",
   "execution_count": 31,
   "id": "31d2a4b3",
   "metadata": {},
   "outputs": [
    {
     "data": {
      "image/png": "[encoded data removed]",
      "text/plain": [
       "<Figure size 2160x1440 with 2 Axes>"
      ]
     },
     "metadata": {
      "needs_background": "light"
     },
     "output_type": "display_data"
    }
   ],
   "source": [
    "import matplotlib.pyplot as plt\n",
    "plt.figure(figsize = (30, 20))\n",
    "plt.imshow(Final, interpolation='nearest')\n",
    "ax = plt.gca()\n",
    "ax.set_xticks(range(0,len(standarized_mols),1))\n",
    "ax.set_yticks(range(0,len(standarized_mols),1))\n",
    "plt.colorbar()\n",
    "plt.show()"
   ]
  },
  {
   "cell_type": "code",
   "execution_count": null,
   "id": "8813d5c6",
   "metadata": {},
   "outputs": [],
   "source": []
  },
  {
   "cell_type": "markdown",
   "id": "f1fab316",
   "metadata": {},
   "source": [
    "## Checking if the data created is very similar to training data"
   ]
  },
  {
   "cell_type": "code",
   "execution_count": 32,
   "id": "5276a9d6",
   "metadata": {},
   "outputs": [],
   "source": [
    "whole_data_set = pd.read_parquet('../model/data/zinc20_FK_DC_BB_JA_HE_GA_KG_IC_CB_HJ_processed.parquet')"
   ]
  },
  {
   "cell_type": "code",
   "execution_count": 33,
   "id": "82f083d2",
   "metadata": {},
   "outputs": [
    {
     "data": {
      "text/html": [
       "<div>\n",
       "<style scoped>\n",
       "    .dataframe tbody tr th:only-of-type {\n",
       "        vertical-align: middle;\n",
       "    }\n",
       "\n",
       "    .dataframe tbody tr th {\n",
       "        vertical-align: top;\n",
       "    }\n",
       "\n",
       "    .dataframe thead th {\n",
       "        text-align: right;\n",
       "    }\n",
       "</style>\n",
       "<table border=\"1\" class=\"dataframe\">\n",
       "  <thead>\n",
       "    <tr style=\"text-align: right;\">\n",
       "      <th></th>\n",
       "      <th>smiles</th>\n",
       "    </tr>\n",
       "  </thead>\n",
       "  <tbody>\n",
       "    <tr>\n",
       "      <th>336474016</th>\n",
       "      <td>CC1(C)COCCN1C(=O)CCNC(N)=O</td>\n",
       "    </tr>\n",
       "    <tr>\n",
       "      <th>1086464356</th>\n",
       "      <td>CCN[C@H]1C[C@H](CNC(=O)[C@@H]2CNC(=O)N2)C1</td>\n",
       "    </tr>\n",
       "    <tr>\n",
       "      <th>248404898</th>\n",
       "      <td>CO[C@H](C)CN1CCOC[C@H]1C(N)=O</td>\n",
       "    </tr>\n",
       "    <tr>\n",
       "      <th>1574709678</th>\n",
       "      <td>O=C(O)CCNC(=O)c1ccc(CO)nc1</td>\n",
       "    </tr>\n",
       "    <tr>\n",
       "      <th>1119650207</th>\n",
       "      <td>C[C@@H](CC(=O)O)C(=O)N1C[C@H](O)C[C@H]1CO</td>\n",
       "    </tr>\n",
       "  </tbody>\n",
       "</table>\n",
       "</div>"
      ],
      "text/plain": [
       "                                                smiles\n",
       "336474016                   CC1(C)COCCN1C(=O)CCNC(N)=O\n",
       "1086464356  CCN[C@H]1C[C@H](CNC(=O)[C@@H]2CNC(=O)N2)C1\n",
       "248404898                CO[C@H](C)CN1CCOC[C@H]1C(N)=O\n",
       "1574709678                  O=C(O)CCNC(=O)c1ccc(CO)nc1\n",
       "1119650207   C[C@@H](CC(=O)O)C(=O)N1C[C@H](O)C[C@H]1CO"
      ]
     },
     "execution_count": 33,
     "metadata": {},
     "output_type": "execute_result"
    }
   ],
   "source": [
    "whole_data_set.head()"
   ]
  },
  {
   "cell_type": "markdown",
   "id": "528a2f61",
   "metadata": {},
   "source": [
    "## Training was done on 250,000 of molecules\n",
    "### Tanimoto simalirity distribution among newly generated and trained SMILES"
   ]
  },
  {
   "cell_type": "code",
   "execution_count": 34,
   "id": "d5bc4625",
   "metadata": {},
   "outputs": [],
   "source": [
    "whole_data_set__100 = whole_data_set['smiles'] #will be used later, almost 1M structures"
   ]
  },
  {
   "cell_type": "code",
   "execution_count": 35,
   "id": "2ca4174c",
   "metadata": {},
   "outputs": [],
   "source": [
    "whole_data_set = whole_data_set['smiles'][:250000]"
   ]
  },
  {
   "cell_type": "code",
   "execution_count": 36,
   "id": "e04ba2fb",
   "metadata": {},
   "outputs": [
    {
     "data": {
      "text/plain": [
       "250000"
      ]
     },
     "execution_count": 36,
     "metadata": {},
     "output_type": "execute_result"
    }
   ],
   "source": [
    "len(whole_data_set)"
   ]
  },
  {
   "cell_type": "code",
   "execution_count": 37,
   "id": "f245d954",
   "metadata": {},
   "outputs": [],
   "source": [
    "whole_data_set_smi = [Chem.MolFromSmiles(smi) for smi in whole_data_set]"
   ]
  },
  {
   "cell_type": "code",
   "execution_count": 38,
   "id": "b45c2dbd",
   "metadata": {},
   "outputs": [
    {
     "data": {
      "image/png": "[encoded data removed]",
      "text/plain": [
       "<rdkit.Chem.rdchem.Mol at 0x7f3bada33700>"
      ]
     },
     "execution_count": 38,
     "metadata": {},
     "output_type": "execute_result"
    }
   ],
   "source": [
    "whole_data_set_smi[0]"
   ]
  },
  {
   "cell_type": "code",
   "execution_count": 39,
   "id": "32e6a93a",
   "metadata": {},
   "outputs": [
    {
     "data": {
      "text/plain": [
       "['CC1(C)COCCN1C(=O)CCNC(N)=O',\n",
       " 'CCNC1CC(CNC(=O)C2CNC(=O)N2)C1',\n",
       " 'COC(C)CN1CCOCC1C(N)=O']"
      ]
     },
     "execution_count": 39,
     "metadata": {},
     "output_type": "execute_result"
    }
   ],
   "source": [
    "#isomeric SMILES to canonical SMILES\n",
    "whole_data_set_smi_cannonical = []\n",
    "for mol in whole_data_set_smi:\n",
    "    cannonical = Chem.MolToSmiles(mol, isomericSmiles=False)\n",
    "    whole_data_set_smi_cannonical.append(cannonical)\n",
    "whole_data_set_smi_cannonical[0:3]"
   ]
  },
  {
   "cell_type": "code",
   "execution_count": 40,
   "id": "476d1a67",
   "metadata": {},
   "outputs": [
    {
     "data": {
      "image/png": "[encoded data removed]",
      "text/plain": [
       "<rdkit.Chem.rdchem.Mol at 0x7f3bada33700>"
      ]
     },
     "execution_count": 40,
     "metadata": {},
     "output_type": "execute_result"
    }
   ],
   "source": [
    "whole_data_set_smi[0]"
   ]
  },
  {
   "cell_type": "code",
   "execution_count": 41,
   "id": "cfd70d9c",
   "metadata": {},
   "outputs": [
    {
     "data": {
      "text/plain": [
       "'CC1(C)COCCN1C(=O)CCNC(N)=O'"
      ]
     },
     "execution_count": 41,
     "metadata": {},
     "output_type": "execute_result"
    }
   ],
   "source": [
    "whole_data_set_smi_cannonical[0]"
   ]
  },
  {
   "cell_type": "code",
   "execution_count": 42,
   "id": "9290cdb1",
   "metadata": {},
   "outputs": [
    {
     "data": {
      "image/png": "[encoded data removed]",
      "text/plain": [
       "<rdkit.Chem.rdchem.Mol at 0x7f3d2456d100>"
      ]
     },
     "execution_count": 42,
     "metadata": {},
     "output_type": "execute_result"
    }
   ],
   "source": [
    "whole_data_set_smi_cannonical_mol = [Chem.MolFromSmiles(smi) for smi in whole_data_set_smi_cannonical]\n",
    "whole_data_set_smi_cannonical_mol[0]"
   ]
  },
  {
   "cell_type": "code",
   "execution_count": 43,
   "id": "aa752221",
   "metadata": {},
   "outputs": [],
   "source": [
    "df = get_similarity_lists_of_mols(whole_data_set_smi_cannonical_mol, docked_mols) #second param as list of SMILES"
   ]
  },
  {
   "cell_type": "code",
   "execution_count": 44,
   "id": "eedf633d",
   "metadata": {},
   "outputs": [],
   "source": [
    "dataframe_train = pd.DataFrame(df, columns=['Tanimoto simalirity distribution among newly generated and trained SMILES'])"
   ]
  },
  {
   "cell_type": "code",
   "execution_count": 45,
   "id": "99c395b5",
   "metadata": {},
   "outputs": [
    {
     "name": "stdout",
     "output_type": "stream",
     "text": [
      "MIN similarity: 0.013782542113323124\n",
      "MAX similarity: 0.564889606892838\n"
     ]
    },
    {
     "data": {
      "image/png": "[encoded data removed]",
      "text/plain": [
       "<Figure size 432x288 with 1 Axes>"
      ]
     },
     "metadata": {
      "needs_background": "light"
     },
     "output_type": "display_data"
    }
   ],
   "source": [
    "dataframe_train.hist()\n",
    "print(\"MIN similarity: \"+str(min(df)))\n",
    "print(\"MAX similarity: \"+str(max(df)))"
   ]
  },
  {
   "cell_type": "code",
   "execution_count": 46,
   "id": "b847ff57",
   "metadata": {},
   "outputs": [
    {
     "data": {
      "image/png": "[encoded data removed]",
      "text/plain": [
       "<Figure size 432x288 with 1 Axes>"
      ]
     },
     "metadata": {
      "needs_background": "light"
     },
     "output_type": "display_data"
    },
    {
     "name": "stdout",
     "output_type": "stream",
     "text": [
      "count    3.000000e+06\n",
      "mean     1.901376e-01\n",
      "std      6.144361e-02\n",
      "min      1.378254e-02\n",
      "25%      1.448692e-01\n",
      "50%      1.841831e-01\n",
      "75%      2.283688e-01\n",
      "max      5.648896e-01\n",
      "Name: Tanimoto simalirity distribution among newly generated and trained SMILES, dtype: float64\n"
     ]
    }
   ],
   "source": [
    "plt.hist(dataframe_train['Tanimoto simalirity distribution among newly generated and trained SMILES'],bins=100)\n",
    "plt.xlabel('Tanimoto similarity')\n",
    "plt.ylabel('Frequency')\n",
    "plt.title('Histogram of Tanimoto similarity distribution')\n",
    "#plt.axvline(x=0.0, color='r')\n",
    "plt.grid(True)\n",
    "plt.show()\n",
    "\n",
    "print(dataframe_train['Tanimoto simalirity distribution among newly generated and trained SMILES'].describe())"
   ]
  },
  {
   "cell_type": "code",
   "execution_count": 47,
   "id": "184234ec",
   "metadata": {},
   "outputs": [],
   "source": [
    "new_ = dataframe_train[dataframe_train['Tanimoto simalirity distribution among newly generated and trained SMILES']>0.5]"
   ]
  },
  {
   "cell_type": "code",
   "execution_count": 48,
   "id": "fbf0261d",
   "metadata": {},
   "outputs": [
    {
     "data": {
      "text/plain": [
       "46"
      ]
     },
     "execution_count": 48,
     "metadata": {},
     "output_type": "execute_result"
    }
   ],
   "source": [
    "len(new_['Tanimoto simalirity distribution among newly generated and trained SMILES'])"
   ]
  },
  {
   "cell_type": "markdown",
   "id": "6f88af3d",
   "metadata": {},
   "source": [
    "## Check if initial SMILES is present in PUBCHEM database (Kiniase inhibitors)"
   ]
  },
  {
   "cell_type": "code",
   "execution_count": 49,
   "id": "eb4b1585",
   "metadata": {},
   "outputs": [],
   "source": [
    "def find_smiles_in_PUBCHEM(smiles):\n",
    "    compounds = []\n",
    "    try:\n",
    "        compound = pcp.get_compounds(smiles, 'smiles')\n",
    "        compounds.append(compound)\n",
    "    except:\n",
    "        print(\"Not found : \"+ str(smiles))\n",
    "    return compounds"
   ]
  },
  {
   "cell_type": "code",
   "execution_count": 50,
   "id": "59687cc0",
   "metadata": {},
   "outputs": [],
   "source": [
    "test_if_initial_data_can_be_found = [find_smiles_in_PUBCHEM(smiles) for smiles in initial_smi['SMILES']]"
   ]
  },
  {
   "cell_type": "code",
   "execution_count": 51,
   "id": "55132cce",
   "metadata": {},
   "outputs": [
    {
     "data": {
      "text/plain": [
       "5"
      ]
     },
     "execution_count": 51,
     "metadata": {},
     "output_type": "execute_result"
    }
   ],
   "source": [
    "len(test_if_initial_data_can_be_found)"
   ]
  },
  {
   "cell_type": "code",
   "execution_count": 52,
   "id": "5ce21b72",
   "metadata": {},
   "outputs": [
    {
     "data": {
      "text/plain": [
       "[[[Compound(807146)]],\n",
       " [[Compound(16445174)]],\n",
       " [[Compound(71470549)]],\n",
       " [[Compound(71811962)]],\n",
       " [[Compound(135337558)]]]"
      ]
     },
     "execution_count": 52,
     "metadata": {},
     "output_type": "execute_result"
    }
   ],
   "source": [
    "test_if_initial_data_can_be_found"
   ]
  },
  {
   "cell_type": "markdown",
   "id": "2baad6c2",
   "metadata": {},
   "source": [
    "## Check if newly generated SMILES is present in PUBCHEM database"
   ]
  },
  {
   "cell_type": "code",
   "execution_count": 53,
   "id": "125de021",
   "metadata": {},
   "outputs": [],
   "source": [
    "test_if_newly_generated_data_can_be_found = [find_smiles_in_PUBCHEM(smiles) for smiles in to_check_in_PUBCHEM]"
   ]
  },
  {
   "cell_type": "code",
   "execution_count": 54,
   "id": "a61fe42c",
   "metadata": {},
   "outputs": [
    {
     "data": {
      "text/plain": [
       "[[[Compound()]],\n",
       " [[Compound(16445174)]],\n",
       " [[Compound()]],\n",
       " [[Compound()]],\n",
       " [[Compound()]],\n",
       " [[Compound()]],\n",
       " [[Compound()]],\n",
       " [[Compound()]],\n",
       " [[Compound()]],\n",
       " [[Compound()]],\n",
       " [[Compound()]],\n",
       " [[Compound()]]]"
      ]
     },
     "execution_count": 54,
     "metadata": {},
     "output_type": "execute_result"
    }
   ],
   "source": [
    "test_if_newly_generated_data_can_be_found"
   ]
  },
  {
   "cell_type": "code",
   "execution_count": 55,
   "id": "6567126f",
   "metadata": {},
   "outputs": [
    {
     "data": {
      "text/plain": [
       "['CC1=CC(=CC=C1)C(=O)NC2=CC(=NO2)C3=CC=CC=C3']"
      ]
     },
     "execution_count": 55,
     "metadata": {},
     "output_type": "execute_result"
    }
   ],
   "source": [
    "smiles_found_in_pubchem = []\n",
    "for i in range(len(test_if_newly_generated_data_can_be_found)):\n",
    "    try:\n",
    "        smiles_found_in_pubchem.append(test_if_newly_generated_data_can_be_found[i][0][0].canonical_smiles)\n",
    "    except:\n",
    "        pass\n",
    "smiles_found_in_pubchem_1 = []\n",
    "for val in smiles_found_in_pubchem:\n",
    "    if val != None :\n",
    "        smiles_found_in_pubchem_1.append(val)\n",
    "smiles_found_in_pubchem_1"
   ]
  },
  {
   "cell_type": "code",
   "execution_count": null,
   "id": "83ccc875",
   "metadata": {},
   "outputs": [],
   "source": []
  }
 ],
 "metadata": {
  "kernelspec": {
   "display_name": "Python 3 (ipykernel)",
   "language": "python",
   "name": "python3"
  },
  "language_info": {
   "codemirror_mode": {
    "name": "ipython",
    "version": 3
   },
   "file_extension": ".py",
   "mimetype": "text/x-python",
   "name": "python",
   "nbconvert_exporter": "python",
   "pygments_lexer": "ipython3",
   "version": "3.8.12"
  }
 },
 "nbformat": 4,
 "nbformat_minor": 5
}
