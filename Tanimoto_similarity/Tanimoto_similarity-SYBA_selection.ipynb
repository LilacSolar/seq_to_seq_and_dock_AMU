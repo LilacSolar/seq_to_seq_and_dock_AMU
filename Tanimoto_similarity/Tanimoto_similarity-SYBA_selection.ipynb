{
 "cells": [
  {
   "cell_type": "code",
   "execution_count": 1,
   "metadata": {},
   "outputs": [],
   "source": [
    "from rdkit import Chem\n",
    "from rdkit.DataStructs.cDataStructs import TanimotoSimilarity\n",
    "from rdkit.Chem.MolStandardize import rdMolStandardize\n",
    "import pubchempy as pcp\n",
    "import pandas as pd\n",
    "import matplotlib.pyplot as plt"
   ]
  },
  {
   "cell_type": "code",
   "execution_count": 2,
   "metadata": {
    "scrolled": true
   },
   "outputs": [
    {
     "name": "stdout",
     "output_type": "stream",
     "text": [
      "Initial data description: \n",
      "                                      SMILES\n",
      "count                                      5\n",
      "unique                                     5\n",
      "top     CCC(=O)Nc1ccc2nn(-c3ccc(CC)cc3)nc2c1\n",
      "freq                                       1\n",
      "SMILES used to predict new molecules description: \n",
      "                                      SMILES\n",
      "count                                      5\n",
      "unique                                     5\n",
      "top     CCC(=O)Nc1ccc2nn(-c3ccc(CC)cc3)nc2c1\n",
      "freq                                       1\n",
      "Examples of initial structures: \n",
      "                                              SMILES\n",
      "0               CCC(=O)Nc1ccc2nn(-c3ccc(CC)cc3)nc2c1\n",
      "1                Cc1cccc(C(=O)Nc2cc(-c3ccccc3)no2)c1\n",
      "2  CC(=O)N1CCN(Cc2ccc(-c3ccc(C(O)(C(F)(F)F)C(F)(F...\n"
     ]
    }
   ],
   "source": [
    "initial_smi = pd.read_excel(r'../prediction_and_selection/Prediction_initializers_ROR_activ.xlsx')\n",
    "initial_smi = list(initial_smi['SMILES'])\n",
    "initial_smi = pd.DataFrame(initial_smi, columns=['SMILES'])\n",
    "print(\"Initial data description: \")\n",
    "print(initial_smi.describe())\n",
    "\n",
    "print(\"SMILES used to predict new molecules description: \")\n",
    "print(initial_smi.describe())\n",
    "\n",
    "print(\"Examples of initial structures: \")\n",
    "print(initial_smi[0:3])"
   ]
  },
  {
   "cell_type": "code",
   "execution_count": 3,
   "metadata": {},
   "outputs": [
    {
     "data": {
      "text/plain": [
       "['CCC(=O)NCC1=CC=NN1S=2C=C(C3=CC=CC=C3F)NC=2C',\n",
       " 'CCC(=O)NCC1C(C2=N[NH1]C=C2C(C)(C)O)N=C1N',\n",
       " 'CCC(=O)NCC1=CC=NN1S=2C=C(C3=CC=CC=C3F)[NH1]N=2']"
      ]
     },
     "execution_count": 3,
     "metadata": {},
     "output_type": "execute_result"
    }
   ],
   "source": [
    "output_smi = pd.read_excel(r'../prediction_and_selection/All_generated_SMILES_SYBA_filtration.xlsx')\n",
    "output_smi = list(output_smi['SMILES'])\n",
    "docked_mols = output_smi.copy()\n",
    "output_smi[0:3]"
   ]
  },
  {
   "cell_type": "code",
   "execution_count": 4,
   "metadata": {},
   "outputs": [],
   "source": [
    "#all_generated = pd.read_excel(r'../prediction_and_selection/)"
   ]
  },
  {
   "cell_type": "code",
   "execution_count": 5,
   "metadata": {},
   "outputs": [],
   "source": [
    "initial_mol = [Chem.MolFromSmiles(smi) for smi in initial_smi['SMILES']]"
   ]
  },
  {
   "cell_type": "code",
   "execution_count": 6,
   "metadata": {},
   "outputs": [],
   "source": [
    "output_smi = [Chem.MolFromSmiles(smi) for smi in output_smi]"
   ]
  },
  {
   "cell_type": "code",
   "execution_count": 7,
   "metadata": {},
   "outputs": [
    {
     "data": {
      "image/png": "[encoded data removed]",
      "text/plain": [
       "<rdkit.Chem.rdchem.Mol at 0x14e9b47b880>"
      ]
     },
     "execution_count": 7,
     "metadata": {},
     "output_type": "execute_result"
    }
   ],
   "source": [
    "output_smi[0]"
   ]
  },
  {
   "cell_type": "code",
   "execution_count": 8,
   "metadata": {},
   "outputs": [
    {
     "data": {
      "text/plain": [
       "['CCC(=O)NCc1ccnn1S1=C(C)NC(c2ccccc2F)=C1',\n",
       " 'CCC(=O)NCC1C(N)=NC1c1n[nH]cc1C(C)(C)O',\n",
       " 'CCC(=O)NCc1ccnn1S1=NNC(c2ccccc2F)=C1']"
      ]
     },
     "execution_count": 8,
     "metadata": {},
     "output_type": "execute_result"
    }
   ],
   "source": [
    "largest_Fragment = rdMolStandardize.LargestFragmentChooser()\n",
    "to_check_in_PUBCHEM = []\n",
    "standarized_mols = []\n",
    "for smi in output_smi:\n",
    "    largest_mol = largest_Fragment.choose(smi) #Mol object is returned\n",
    "    cannonical = Chem.MolToSmiles(largest_mol, isomericSmiles=False)\n",
    "    standarized_mols.append(cannonical)\n",
    "    to_check_in_PUBCHEM.append(cannonical)\n",
    "standarized_mols[0:3]"
   ]
  },
  {
   "cell_type": "code",
   "execution_count": 9,
   "metadata": {},
   "outputs": [],
   "source": [
    "def get_similarity(mol, smi_list):\n",
    "    sim0 = mol\n",
    "    sim1 = [Chem.MolFromSmiles(smiles) for smiles in smi_list]\n",
    "    sim00 = Chem.RDKFingerprint(sim0)\n",
    "    sim11 = [Chem.RDKFingerprint(x) for x in sim1]\n",
    "    result = [TanimotoSimilarity(sim00,y) for y in sim11]\n",
    "    return result"
   ]
  },
  {
   "cell_type": "code",
   "execution_count": 10,
   "metadata": {},
   "outputs": [
    {
     "data": {
      "image/png": "[encoded data removed]",
      "text/plain": [
       "<rdkit.Chem.rdchem.Mol at 0x14e9b47bbe0>"
      ]
     },
     "execution_count": 10,
     "metadata": {},
     "output_type": "execute_result"
    }
   ],
   "source": [
    "initial_mol[0]"
   ]
  },
  {
   "cell_type": "code",
   "execution_count": 11,
   "metadata": {},
   "outputs": [],
   "source": [
    "first_structure_similarity = get_similarity(initial_mol[0], standarized_mols)"
   ]
  },
  {
   "cell_type": "code",
   "execution_count": 12,
   "metadata": {},
   "outputs": [
    {
     "data": {
      "text/plain": [
       "0.29185185185185186"
      ]
     },
     "execution_count": 12,
     "metadata": {},
     "output_type": "execute_result"
    }
   ],
   "source": [
    "max(first_structure_similarity)"
   ]
  },
  {
   "cell_type": "code",
   "execution_count": 13,
   "metadata": {},
   "outputs": [],
   "source": [
    "def get_similarity_lists_of_mols(mol_list, smi_list): #first list - mols, second smiles\n",
    "    sim0 = mol_list\n",
    "    sim1 = [Chem.MolFromSmiles(smiles) for smiles in smi_list]\n",
    "    sim00 = [Chem.RDKFingerprint(x) for x in sim0]\n",
    "    sim11 = [Chem.RDKFingerprint(x) for x in sim1]\n",
    "    result = []\n",
    "    for finger in sim00:\n",
    "        for finger_2 in sim11:\n",
    "            similarity = TanimotoSimilarity(finger,finger_2)\n",
    "            result.append(similarity)\n",
    "    return result"
   ]
  },
  {
   "cell_type": "code",
   "execution_count": 14,
   "metadata": {},
   "outputs": [],
   "source": [
    "dataframe__ = get_similarity_lists_of_mols(initial_mol, standarized_mols)"
   ]
  },
  {
   "cell_type": "code",
   "execution_count": 15,
   "metadata": {},
   "outputs": [],
   "source": [
    "dataframe = pd.DataFrame(dataframe__, columns=['Tanimoto similarity: generated structures with initial ROR-y activ distribution'])"
   ]
  },
  {
   "cell_type": "code",
   "execution_count": 16,
   "metadata": {},
   "outputs": [
    {
     "name": "stdout",
     "output_type": "stream",
     "text": [
      "MIN similarity: 0.17202072538860103\n",
      "MAX similarity: 1.0\n"
     ]
    },
    {
     "data": {
      "image/png": "[encoded data removed]",
      "text/plain": [
       "<Figure size 432x288 with 1 Axes>"
      ]
     },
     "metadata": {
      "needs_background": "light"
     },
     "output_type": "display_data"
    }
   ],
   "source": [
    "dataframe.hist()\n",
    "print(\"MIN similarity: \"+str(min(dataframe__)))\n",
    "print(\"MAX similarity: \"+str(max(dataframe__)))\n"
   ]
  },
  {
   "cell_type": "code",
   "execution_count": 17,
   "metadata": {},
   "outputs": [
    {
     "data": {
      "image/png": "[encoded data removed]",
      "text/plain": [
       "<Figure size 432x288 with 1 Axes>"
      ]
     },
     "metadata": {
      "needs_background": "light"
     },
     "output_type": "display_data"
    },
    {
     "name": "stdout",
     "output_type": "stream",
     "text": [
      "count    80.000000\n",
      "mean      0.296395\n",
      "std       0.113661\n",
      "min       0.172021\n",
      "25%       0.234058\n",
      "50%       0.266908\n",
      "75%       0.307928\n",
      "max       1.000000\n",
      "Name: Tanimoto similarity: generated structures with initial ROR-y activ distribution, dtype: float64\n"
     ]
    }
   ],
   "source": [
    "plt.hist(dataframe['Tanimoto similarity: generated structures with initial ROR-y activ distribution'],bins=100)\n",
    "plt.xlabel('Tanimoto similarity')\n",
    "plt.ylabel('Frequency')\n",
    "plt.title('Histogram of Tanimoto similarity distribution')\n",
    "#plt.axvline(x=0.0, color='r')\n",
    "plt.grid(True)\n",
    "plt.show()\n",
    "\n",
    "print(dataframe['Tanimoto similarity: generated structures with initial ROR-y activ distribution'].describe())\n",
    "#print('Kurtosis:')\n",
    "#print(round(whole_data_after_QED_Lipinski['SYBA_score'].kurtosis(),4))\n",
    "#print('Skewness:')\n",
    "#print(round(whole_data_after_QED_Lipinski['SYBA_score'].skew(),4))"
   ]
  },
  {
   "cell_type": "code",
   "execution_count": 18,
   "metadata": {},
   "outputs": [
    {
     "name": "stdout",
     "output_type": "stream",
     "text": [
      "[]\n"
     ]
    }
   ],
   "source": [
    "print(dataframe[dataframe['Tanimoto similarity: generated structures with initial ROR-y activ distribution']<0.02].index.values)"
   ]
  },
  {
   "cell_type": "code",
   "execution_count": 19,
   "metadata": {},
   "outputs": [
    {
     "data": {
      "text/html": [
       "<div>\n",
       "<style scoped>\n",
       "    .dataframe tbody tr th:only-of-type {\n",
       "        vertical-align: middle;\n",
       "    }\n",
       "\n",
       "    .dataframe tbody tr th {\n",
       "        vertical-align: top;\n",
       "    }\n",
       "\n",
       "    .dataframe thead th {\n",
       "        text-align: right;\n",
       "    }\n",
       "</style>\n",
       "<table border=\"1\" class=\"dataframe\">\n",
       "  <thead>\n",
       "    <tr style=\"text-align: right;\">\n",
       "      <th></th>\n",
       "      <th>Tanimoto similarity: generated structures with initial ROR-y activ distribution</th>\n",
       "    </tr>\n",
       "  </thead>\n",
       "  <tbody>\n",
       "  </tbody>\n",
       "</table>\n",
       "</div>"
      ],
      "text/plain": [
       "Empty DataFrame\n",
       "Columns: [Tanimoto similarity: generated structures with initial ROR-y activ distribution]\n",
       "Index: []"
      ]
     },
     "execution_count": 19,
     "metadata": {},
     "output_type": "execute_result"
    }
   ],
   "source": [
    "dataframe[dataframe['Tanimoto similarity: generated structures with initial ROR-y activ distribution']<0.1].head()"
   ]
  },
  {
   "cell_type": "markdown",
   "metadata": {},
   "source": [
    "## Similarity among docked molecules"
   ]
  },
  {
   "cell_type": "code",
   "execution_count": 20,
   "metadata": {},
   "outputs": [],
   "source": [
    "#docked_mols are at the beginning of the notebook"
   ]
  },
  {
   "cell_type": "code",
   "execution_count": 20,
   "metadata": {},
   "outputs": [],
   "source": [
    "initial_docked_similarity = get_similarity_lists_of_mols([Chem.MolFromSmiles(smi) for smi in docked_mols], docked_mols)"
   ]
  },
  {
   "cell_type": "code",
   "execution_count": 21,
   "metadata": {},
   "outputs": [],
   "source": [
    "dataframe_docked = pd.DataFrame(initial_docked_similarity, columns=['Tanimoto similarity among docked molecules distribution'])"
   ]
  },
  {
   "cell_type": "code",
   "execution_count": 22,
   "metadata": {},
   "outputs": [
    {
     "name": "stdout",
     "output_type": "stream",
     "text": [
      "MIN similarity: 0.17202072538860103\n",
      "MAX similarity: 1.0\n"
     ]
    },
    {
     "data": {
      "image/png": "[encoded data removed]",
      "text/plain": [
       "<Figure size 432x288 with 1 Axes>"
      ]
     },
     "metadata": {
      "needs_background": "light"
     },
     "output_type": "display_data"
    }
   ],
   "source": [
    "dataframe_docked.hist()\n",
    "print(\"MIN similarity: \"+str(min(initial_docked_similarity)))\n",
    "print(\"MAX similarity: \"+str(max(initial_docked_similarity)))"
   ]
  },
  {
   "cell_type": "code",
   "execution_count": 23,
   "metadata": {},
   "outputs": [
    {
     "data": {
      "text/plain": [
       "[]"
      ]
     },
     "execution_count": 23,
     "metadata": {},
     "output_type": "execute_result"
    }
   ],
   "source": [
    "list_to_be_ = []\n",
    "list_to_be_"
   ]
  },
  {
   "cell_type": "code",
   "execution_count": 24,
   "metadata": {},
   "outputs": [],
   "source": [
    "for mol in range(len(standarized_mols)): #comparision between generated mols\n",
    "    simil = get_similarity(Chem.MolFromSmiles(standarized_mols[mol]), standarized_mols)\n",
    "    list_to_be_.append(simil)"
   ]
  },
  {
   "cell_type": "code",
   "execution_count": 25,
   "metadata": {},
   "outputs": [
    {
     "data": {
      "text/plain": [
       "[1.0,\n",
       " 0.372674791533034,\n",
       " 0.5727665706051873,\n",
       " 0.30825565912117175,\n",
       " 0.26936744847192606]"
      ]
     },
     "execution_count": 25,
     "metadata": {},
     "output_type": "execute_result"
    }
   ],
   "source": [
    "list_to_be_[0][0:5]"
   ]
  },
  {
   "cell_type": "code",
   "execution_count": 26,
   "metadata": {},
   "outputs": [],
   "source": [
    "NEC = standarized_mols.copy()\n",
    "KMV = standarized_mols.copy()"
   ]
  },
  {
   "cell_type": "code",
   "execution_count": 27,
   "metadata": {},
   "outputs": [],
   "source": [
    "for elem in range(len(standarized_mols)):\n",
    "    NEC[elem] = pd.DataFrame(list_to_be_[elem], columns=[standarized_mols[elem]])"
   ]
  },
  {
   "cell_type": "code",
   "execution_count": 28,
   "metadata": {},
   "outputs": [],
   "source": [
    "frames = (NEC)"
   ]
  },
  {
   "cell_type": "code",
   "execution_count": 29,
   "metadata": {},
   "outputs": [
    {
     "data": {
      "text/html": [
       "<div>\n",
       "<style scoped>\n",
       "    .dataframe tbody tr th:only-of-type {\n",
       "        vertical-align: middle;\n",
       "    }\n",
       "\n",
       "    .dataframe tbody tr th {\n",
       "        vertical-align: top;\n",
       "    }\n",
       "\n",
       "    .dataframe thead th {\n",
       "        text-align: right;\n",
       "    }\n",
       "</style>\n",
       "<table border=\"1\" class=\"dataframe\">\n",
       "  <thead>\n",
       "    <tr style=\"text-align: right;\">\n",
       "      <th></th>\n",
       "      <th>CCC(=O)NCc1ccnn1S1=C(C)NC(c2ccccc2F)=C1</th>\n",
       "      <th>CCC(=O)NCC1C(N)=NC1c1n[nH]cc1C(C)(C)O</th>\n",
       "      <th>CCC(=O)NCc1ccnn1S1=NNC(c2ccccc2F)=C1</th>\n",
       "      <th>Cc1cccc(C(=O)Cc2nc(Cl)cc3cccnc23)c1</th>\n",
       "      <th>Cc1cccc(C(=O)Nc2cc(-c3ccccc3)no2)c1</th>\n",
       "      <th>Cc1cccc(C(=O)Cc2nc(Cc3ccco3)cs2)c1</th>\n",
       "      <th>CC(=O)Nc1cccc(C(=O)N2Cc3ccccc3Nc3nc(C)nc(c3F)NN=C2C#N)c1</th>\n",
       "      <th>CC(=O)Nc1cccc(C(=O)N(Cc2cccc3c2N2C(C)=NNC2N3)c2nnc(C)s2)c1</th>\n",
       "      <th>CC(=O)Nc1cccc(C(=O)NCC=CC2C=CN(C)C=C(F)C=NC=C2C)c1</th>\n",
       "      <th>CCC(=O)NCC(F)c1nsc(-c2ccccn2)n1</th>\n",
       "      <th>CC1OCCN1Cc1nnc(-c2ccc(Br)cc2N)n1CO</th>\n",
       "      <th>CCCN1C(NC(=O)CC)C=CN1c1ncc(C#N)cc1C</th>\n",
       "      <th>CCC(=O)NC=CC(C)=NN([NH])c1c(F)cccc1Cl</th>\n",
       "      <th>Cc1cccc(C(=O)Cc2nc(Cc3ccoc3)cs2)c1</th>\n",
       "      <th>CC(=O)Nc1cccc(C(=O)N2NC(F)=NNCC3C2Cc2cccc(CN)c2N3C)c1</th>\n",
       "      <th>CCC1=NCCc2cncn2-c2cc(F)ccc2CCN(C(=O)c2cccc(NC(C)=O)c2)NN1</th>\n",
       "    </tr>\n",
       "  </thead>\n",
       "  <tbody>\n",
       "    <tr>\n",
       "      <th>0</th>\n",
       "      <td>1.000000</td>\n",
       "      <td>0.372675</td>\n",
       "      <td>0.572767</td>\n",
       "      <td>0.308256</td>\n",
       "      <td>0.269367</td>\n",
       "      <td>0.279261</td>\n",
       "      <td>0.433233</td>\n",
       "      <td>0.463443</td>\n",
       "      <td>0.282252</td>\n",
       "      <td>0.300613</td>\n",
       "      <td>0.357868</td>\n",
       "      <td>0.378261</td>\n",
       "      <td>0.245185</td>\n",
       "      <td>0.261050</td>\n",
       "      <td>0.469006</td>\n",
       "      <td>0.442795</td>\n",
       "    </tr>\n",
       "    <tr>\n",
       "      <th>1</th>\n",
       "      <td>0.372675</td>\n",
       "      <td>1.000000</td>\n",
       "      <td>0.343475</td>\n",
       "      <td>0.302651</td>\n",
       "      <td>0.231603</td>\n",
       "      <td>0.247576</td>\n",
       "      <td>0.353234</td>\n",
       "      <td>0.396457</td>\n",
       "      <td>0.255286</td>\n",
       "      <td>0.273810</td>\n",
       "      <td>0.326057</td>\n",
       "      <td>0.345080</td>\n",
       "      <td>0.211256</td>\n",
       "      <td>0.244275</td>\n",
       "      <td>0.399396</td>\n",
       "      <td>0.368118</td>\n",
       "    </tr>\n",
       "    <tr>\n",
       "      <th>2</th>\n",
       "      <td>0.572767</td>\n",
       "      <td>0.343475</td>\n",
       "      <td>1.000000</td>\n",
       "      <td>0.283286</td>\n",
       "      <td>0.257121</td>\n",
       "      <td>0.249818</td>\n",
       "      <td>0.375697</td>\n",
       "      <td>0.397121</td>\n",
       "      <td>0.268105</td>\n",
       "      <td>0.287601</td>\n",
       "      <td>0.333557</td>\n",
       "      <td>0.354754</td>\n",
       "      <td>0.229284</td>\n",
       "      <td>0.248507</td>\n",
       "      <td>0.400000</td>\n",
       "      <td>0.387651</td>\n",
       "    </tr>\n",
       "    <tr>\n",
       "      <th>3</th>\n",
       "      <td>0.308256</td>\n",
       "      <td>0.302651</td>\n",
       "      <td>0.283286</td>\n",
       "      <td>1.000000</td>\n",
       "      <td>0.258897</td>\n",
       "      <td>0.323322</td>\n",
       "      <td>0.348383</td>\n",
       "      <td>0.331021</td>\n",
       "      <td>0.229974</td>\n",
       "      <td>0.226656</td>\n",
       "      <td>0.297872</td>\n",
       "      <td>0.297753</td>\n",
       "      <td>0.205152</td>\n",
       "      <td>0.311993</td>\n",
       "      <td>0.335621</td>\n",
       "      <td>0.324781</td>\n",
       "    </tr>\n",
       "    <tr>\n",
       "      <th>4</th>\n",
       "      <td>0.269367</td>\n",
       "      <td>0.231603</td>\n",
       "      <td>0.257121</td>\n",
       "      <td>0.258897</td>\n",
       "      <td>1.000000</td>\n",
       "      <td>0.243167</td>\n",
       "      <td>0.285815</td>\n",
       "      <td>0.282017</td>\n",
       "      <td>0.247752</td>\n",
       "      <td>0.217937</td>\n",
       "      <td>0.264916</td>\n",
       "      <td>0.243666</td>\n",
       "      <td>0.172021</td>\n",
       "      <td>0.223394</td>\n",
       "      <td>0.291639</td>\n",
       "      <td>0.278136</td>\n",
       "    </tr>\n",
       "  </tbody>\n",
       "</table>\n",
       "</div>"
      ],
      "text/plain": [
       "   CCC(=O)NCc1ccnn1S1=C(C)NC(c2ccccc2F)=C1  \\\n",
       "0                                 1.000000   \n",
       "1                                 0.372675   \n",
       "2                                 0.572767   \n",
       "3                                 0.308256   \n",
       "4                                 0.269367   \n",
       "\n",
       "   CCC(=O)NCC1C(N)=NC1c1n[nH]cc1C(C)(C)O  \\\n",
       "0                               0.372675   \n",
       "1                               1.000000   \n",
       "2                               0.343475   \n",
       "3                               0.302651   \n",
       "4                               0.231603   \n",
       "\n",
       "   CCC(=O)NCc1ccnn1S1=NNC(c2ccccc2F)=C1  Cc1cccc(C(=O)Cc2nc(Cl)cc3cccnc23)c1  \\\n",
       "0                              0.572767                             0.308256   \n",
       "1                              0.343475                             0.302651   \n",
       "2                              1.000000                             0.283286   \n",
       "3                              0.283286                             1.000000   \n",
       "4                              0.257121                             0.258897   \n",
       "\n",
       "   Cc1cccc(C(=O)Nc2cc(-c3ccccc3)no2)c1  Cc1cccc(C(=O)Cc2nc(Cc3ccco3)cs2)c1  \\\n",
       "0                             0.269367                            0.279261   \n",
       "1                             0.231603                            0.247576   \n",
       "2                             0.257121                            0.249818   \n",
       "3                             0.258897                            0.323322   \n",
       "4                             1.000000                            0.243167   \n",
       "\n",
       "   CC(=O)Nc1cccc(C(=O)N2Cc3ccccc3Nc3nc(C)nc(c3F)NN=C2C#N)c1  \\\n",
       "0                                           0.433233          \n",
       "1                                           0.353234          \n",
       "2                                           0.375697          \n",
       "3                                           0.348383          \n",
       "4                                           0.285815          \n",
       "\n",
       "   CC(=O)Nc1cccc(C(=O)N(Cc2cccc3c2N2C(C)=NNC2N3)c2nnc(C)s2)c1  \\\n",
       "0                                           0.463443            \n",
       "1                                           0.396457            \n",
       "2                                           0.397121            \n",
       "3                                           0.331021            \n",
       "4                                           0.282017            \n",
       "\n",
       "   CC(=O)Nc1cccc(C(=O)NCC=CC2C=CN(C)C=C(F)C=NC=C2C)c1  \\\n",
       "0                                           0.282252    \n",
       "1                                           0.255286    \n",
       "2                                           0.268105    \n",
       "3                                           0.229974    \n",
       "4                                           0.247752    \n",
       "\n",
       "   CCC(=O)NCC(F)c1nsc(-c2ccccn2)n1  CC1OCCN1Cc1nnc(-c2ccc(Br)cc2N)n1CO  \\\n",
       "0                         0.300613                            0.357868   \n",
       "1                         0.273810                            0.326057   \n",
       "2                         0.287601                            0.333557   \n",
       "3                         0.226656                            0.297872   \n",
       "4                         0.217937                            0.264916   \n",
       "\n",
       "   CCCN1C(NC(=O)CC)C=CN1c1ncc(C#N)cc1C  CCC(=O)NC=CC(C)=NN([NH])c1c(F)cccc1Cl  \\\n",
       "0                             0.378261                               0.245185   \n",
       "1                             0.345080                               0.211256   \n",
       "2                             0.354754                               0.229284   \n",
       "3                             0.297753                               0.205152   \n",
       "4                             0.243666                               0.172021   \n",
       "\n",
       "   Cc1cccc(C(=O)Cc2nc(Cc3ccoc3)cs2)c1  \\\n",
       "0                            0.261050   \n",
       "1                            0.244275   \n",
       "2                            0.248507   \n",
       "3                            0.311993   \n",
       "4                            0.223394   \n",
       "\n",
       "   CC(=O)Nc1cccc(C(=O)N2NC(F)=NNCC3C2Cc2cccc(CN)c2N3C)c1  \\\n",
       "0                                           0.469006       \n",
       "1                                           0.399396       \n",
       "2                                           0.400000       \n",
       "3                                           0.335621       \n",
       "4                                           0.291639       \n",
       "\n",
       "   CCC1=NCCc2cncn2-c2cc(F)ccc2CCN(C(=O)c2cccc(NC(C)=O)c2)NN1  \n",
       "0                                           0.442795          \n",
       "1                                           0.368118          \n",
       "2                                           0.387651          \n",
       "3                                           0.324781          \n",
       "4                                           0.278136          "
      ]
     },
     "execution_count": 29,
     "metadata": {},
     "output_type": "execute_result"
    }
   ],
   "source": [
    "Final = pd.concat(frames, axis=1)\n",
    "Final.head()"
   ]
  },
  {
   "cell_type": "code",
   "execution_count": 30,
   "metadata": {},
   "outputs": [
    {
     "data": {
      "image/png": "[encoded data removed]",
      "text/plain": [
       "<Figure size 2160x1440 with 2 Axes>"
      ]
     },
     "metadata": {
      "needs_background": "light"
     },
     "output_type": "display_data"
    }
   ],
   "source": [
    "import matplotlib.pyplot as plt\n",
    "plt.figure(figsize = (30, 20))\n",
    "plt.imshow(Final, interpolation='nearest')\n",
    "ax = plt.gca()\n",
    "ax.set_xticks(range(0,len(standarized_mols),1))\n",
    "ax.set_yticks(range(0,len(standarized_mols),1))\n",
    "plt.colorbar()\n",
    "plt.show()"
   ]
  },
  {
   "cell_type": "code",
   "execution_count": null,
   "metadata": {},
   "outputs": [],
   "source": []
  },
  {
   "cell_type": "markdown",
   "metadata": {},
   "source": [
    "## Checking if the data created is very similar to training data"
   ]
  },
  {
   "cell_type": "code",
   "execution_count": 31,
   "metadata": {},
   "outputs": [],
   "source": [
    "whole_data_set = pd.read_parquet('../model/data/zinc20_selected_to_create_model_processed.parquet')"
   ]
  },
  {
   "cell_type": "code",
   "execution_count": 32,
   "metadata": {},
   "outputs": [
    {
     "data": {
      "text/html": [
       "<div>\n",
       "<style scoped>\n",
       "    .dataframe tbody tr th:only-of-type {\n",
       "        vertical-align: middle;\n",
       "    }\n",
       "\n",
       "    .dataframe tbody tr th {\n",
       "        vertical-align: top;\n",
       "    }\n",
       "\n",
       "    .dataframe thead th {\n",
       "        text-align: right;\n",
       "    }\n",
       "</style>\n",
       "<table border=\"1\" class=\"dataframe\">\n",
       "  <thead>\n",
       "    <tr style=\"text-align: right;\">\n",
       "      <th></th>\n",
       "      <th>index</th>\n",
       "      <th>smiles</th>\n",
       "      <th>SELFIES</th>\n",
       "      <th>SELFIES_length</th>\n",
       "      <th>SMILES_canonical</th>\n",
       "      <th>SELFIES_canonical</th>\n",
       "      <th>SELFIES_length_canonical</th>\n",
       "    </tr>\n",
       "  </thead>\n",
       "  <tbody>\n",
       "    <tr>\n",
       "      <th>0</th>\n",
       "      <td>563932204</td>\n",
       "      <td>CNC(=O)CCCN1CCN(S(C)(=O)=O)[C@@H](C)C1</td>\n",
       "      <td>[C][N][C][=Branch1][C][=O][C][C][C][N][C][C][N...</td>\n",
       "      <td>30</td>\n",
       "      <td>CNC(=O)CCCN1CCN(S(C)(=O)=O)C(C)C1</td>\n",
       "      <td>[C][N][C][=Branch1][C][=O][C][C][C][N][C][C][N...</td>\n",
       "      <td>30</td>\n",
       "    </tr>\n",
       "    <tr>\n",
       "      <th>1</th>\n",
       "      <td>51885268</td>\n",
       "      <td>O=C(Cn1cc([N+](=O)[O-])cn1)N1CC[C@@H](CO)C1</td>\n",
       "      <td>[O][=C][Branch1][S][C][N][C][=C][Branch1][=Bra...</td>\n",
       "      <td>30</td>\n",
       "      <td>O=C(Cn1cc([N+](=O)[O-])cn1)N1CCC(CO)C1</td>\n",
       "      <td>[O][=C][Branch1][S][C][N][C][=C][Branch1][=Bra...</td>\n",
       "      <td>30</td>\n",
       "    </tr>\n",
       "    <tr>\n",
       "      <th>2</th>\n",
       "      <td>1099938503</td>\n",
       "      <td>COCCCN1CC[C@@H](NC(=O)c2cnco2)[C@H](O)C1</td>\n",
       "      <td>[C][O][C][C][C][N][C][C][C@@H1][Branch1][=N][N...</td>\n",
       "      <td>30</td>\n",
       "      <td>COCCCN1CCC(NC(=O)c2cnco2)C(O)C1</td>\n",
       "      <td>[C][O][C][C][C][N][C][C][C][Branch1][=N][N][C]...</td>\n",
       "      <td>30</td>\n",
       "    </tr>\n",
       "    <tr>\n",
       "      <th>3</th>\n",
       "      <td>1368537405</td>\n",
       "      <td>C[C@@H](O)CNC[C@H]1CN(C(=O)Cc2cnc[nH]2)CCO1</td>\n",
       "      <td>[C][C@@H1][Branch1][C][O][C][N][C][C@H1][C][N]...</td>\n",
       "      <td>30</td>\n",
       "      <td>CC(O)CNCC1CN(C(=O)Cc2cnc[nH]2)CCO1</td>\n",
       "      <td>[C][C][Branch1][C][O][C][N][C][C][C][N][Branch...</td>\n",
       "      <td>30</td>\n",
       "    </tr>\n",
       "    <tr>\n",
       "      <th>4</th>\n",
       "      <td>1379339000</td>\n",
       "      <td>C[C@H](CNCc1cn(C)nn1)NC(=O)COCC1CC1</td>\n",
       "      <td>[C][C@H1][Branch1][=C][C][N][C][C][=C][N][Bran...</td>\n",
       "      <td>30</td>\n",
       "      <td>CC(CNCc1cn(C)nn1)NC(=O)COCC1CC1</td>\n",
       "      <td>[C][C][Branch1][=C][C][N][C][C][=C][N][Branch1...</td>\n",
       "      <td>30</td>\n",
       "    </tr>\n",
       "  </tbody>\n",
       "</table>\n",
       "</div>"
      ],
      "text/plain": [
       "        index                                       smiles  \\\n",
       "0   563932204       CNC(=O)CCCN1CCN(S(C)(=O)=O)[C@@H](C)C1   \n",
       "1    51885268  O=C(Cn1cc([N+](=O)[O-])cn1)N1CC[C@@H](CO)C1   \n",
       "2  1099938503     COCCCN1CC[C@@H](NC(=O)c2cnco2)[C@H](O)C1   \n",
       "3  1368537405  C[C@@H](O)CNC[C@H]1CN(C(=O)Cc2cnc[nH]2)CCO1   \n",
       "4  1379339000          C[C@H](CNCc1cn(C)nn1)NC(=O)COCC1CC1   \n",
       "\n",
       "                                             SELFIES  SELFIES_length  \\\n",
       "0  [C][N][C][=Branch1][C][=O][C][C][C][N][C][C][N...              30   \n",
       "1  [O][=C][Branch1][S][C][N][C][=C][Branch1][=Bra...              30   \n",
       "2  [C][O][C][C][C][N][C][C][C@@H1][Branch1][=N][N...              30   \n",
       "3  [C][C@@H1][Branch1][C][O][C][N][C][C@H1][C][N]...              30   \n",
       "4  [C][C@H1][Branch1][=C][C][N][C][C][=C][N][Bran...              30   \n",
       "\n",
       "                         SMILES_canonical  \\\n",
       "0       CNC(=O)CCCN1CCN(S(C)(=O)=O)C(C)C1   \n",
       "1  O=C(Cn1cc([N+](=O)[O-])cn1)N1CCC(CO)C1   \n",
       "2         COCCCN1CCC(NC(=O)c2cnco2)C(O)C1   \n",
       "3      CC(O)CNCC1CN(C(=O)Cc2cnc[nH]2)CCO1   \n",
       "4         CC(CNCc1cn(C)nn1)NC(=O)COCC1CC1   \n",
       "\n",
       "                                   SELFIES_canonical  SELFIES_length_canonical  \n",
       "0  [C][N][C][=Branch1][C][=O][C][C][C][N][C][C][N...                        30  \n",
       "1  [O][=C][Branch1][S][C][N][C][=C][Branch1][=Bra...                        30  \n",
       "2  [C][O][C][C][C][N][C][C][C][Branch1][=N][N][C]...                        30  \n",
       "3  [C][C][Branch1][C][O][C][N][C][C][C][N][Branch...                        30  \n",
       "4  [C][C][Branch1][=C][C][N][C][C][=C][N][Branch1...                        30  "
      ]
     },
     "execution_count": 32,
     "metadata": {},
     "output_type": "execute_result"
    }
   ],
   "source": [
    "whole_data_set.head()"
   ]
  },
  {
   "cell_type": "markdown",
   "metadata": {},
   "source": [
    "## Training was done on 121,000 of molecules\n",
    "### Tanimoto simalirity distribution among newly generated and trained SMILES"
   ]
  },
  {
   "cell_type": "code",
   "execution_count": 33,
   "metadata": {},
   "outputs": [],
   "source": [
    "whole_data_set = whole_data_set['SMILES_canonical']"
   ]
  },
  {
   "cell_type": "code",
   "execution_count": 34,
   "metadata": {},
   "outputs": [
    {
     "data": {
      "text/plain": [
       "121000"
      ]
     },
     "execution_count": 34,
     "metadata": {},
     "output_type": "execute_result"
    }
   ],
   "source": [
    "len(whole_data_set)"
   ]
  },
  {
   "cell_type": "code",
   "execution_count": 35,
   "metadata": {},
   "outputs": [],
   "source": [
    "whole_data_set_smi = [Chem.MolFromSmiles(smi) for smi in whole_data_set]"
   ]
  },
  {
   "cell_type": "code",
   "execution_count": 36,
   "metadata": {},
   "outputs": [
    {
     "data": {
      "image/png": "[encoded data removed]",
      "text/plain": [
       "<rdkit.Chem.rdchem.Mol at 0x14ea1fcef40>"
      ]
     },
     "execution_count": 36,
     "metadata": {},
     "output_type": "execute_result"
    }
   ],
   "source": [
    "whole_data_set_smi[0]"
   ]
  },
  {
   "cell_type": "code",
   "execution_count": 37,
   "metadata": {},
   "outputs": [
    {
     "data": {
      "text/plain": [
       "['CNC(=O)CCCN1CCN(S(C)(=O)=O)C(C)C1',\n",
       " 'O=C(Cn1cc([N+](=O)[O-])cn1)N1CCC(CO)C1',\n",
       " 'COCCCN1CCC(NC(=O)c2cnco2)C(O)C1']"
      ]
     },
     "execution_count": 37,
     "metadata": {},
     "output_type": "execute_result"
    }
   ],
   "source": [
    "#isomeric SMILES to canonical SMILES\n",
    "whole_data_set_smi_cannonical = []\n",
    "for mol in whole_data_set_smi:\n",
    "    cannonical = Chem.MolToSmiles(mol, isomericSmiles=False)\n",
    "    whole_data_set_smi_cannonical.append(cannonical)\n",
    "whole_data_set_smi_cannonical[0:3]"
   ]
  },
  {
   "cell_type": "code",
   "execution_count": 38,
   "metadata": {},
   "outputs": [
    {
     "data": {
      "image/png": "[encoded data removed]",
      "text/plain": [
       "<rdkit.Chem.rdchem.Mol at 0x14ea1fcef40>"
      ]
     },
     "execution_count": 38,
     "metadata": {},
     "output_type": "execute_result"
    }
   ],
   "source": [
    "whole_data_set_smi[0]"
   ]
  },
  {
   "cell_type": "code",
   "execution_count": 39,
   "metadata": {},
   "outputs": [
    {
     "data": {
      "text/plain": [
       "'CNC(=O)CCCN1CCN(S(C)(=O)=O)C(C)C1'"
      ]
     },
     "execution_count": 39,
     "metadata": {},
     "output_type": "execute_result"
    }
   ],
   "source": [
    "whole_data_set_smi_cannonical[0]"
   ]
  },
  {
   "cell_type": "code",
   "execution_count": 40,
   "metadata": {},
   "outputs": [
    {
     "data": {
      "image/png": "[encoded data removed]",
      "text/plain": [
       "<rdkit.Chem.rdchem.Mol at 0x14f24c4c5e0>"
      ]
     },
     "execution_count": 40,
     "metadata": {},
     "output_type": "execute_result"
    }
   ],
   "source": [
    "whole_data_set_smi_cannonical_mol = [Chem.MolFromSmiles(smi) for smi in whole_data_set_smi_cannonical]\n",
    "whole_data_set_smi_cannonical_mol[0]"
   ]
  },
  {
   "cell_type": "code",
   "execution_count": 41,
   "metadata": {},
   "outputs": [],
   "source": [
    "df = get_similarity_lists_of_mols(whole_data_set_smi_cannonical_mol, docked_mols) #second param as list of SMILES"
   ]
  },
  {
   "cell_type": "code",
   "execution_count": 43,
   "metadata": {},
   "outputs": [],
   "source": [
    "dataframe_train = pd.DataFrame(df, columns=['Tanimoto simalirity distribution among newly generated and trained SMILES'])"
   ]
  },
  {
   "cell_type": "code",
   "execution_count": 44,
   "metadata": {},
   "outputs": [
    {
     "name": "stdout",
     "output_type": "stream",
     "text": [
      "MIN similarity: 0.023952095808383235\n",
      "MAX similarity: 0.6222894604135148\n"
     ]
    },
    {
     "data": {
      "image/png": "[encoded data removed]",
      "text/plain": [
       "<Figure size 432x288 with 1 Axes>"
      ]
     },
     "metadata": {
      "needs_background": "light"
     },
     "output_type": "display_data"
    }
   ],
   "source": [
    "dataframe_train.hist()\n",
    "print(\"MIN similarity: \"+str(min(df)))\n",
    "print(\"MAX similarity: \"+str(max(df)))"
   ]
  },
  {
   "cell_type": "code",
   "execution_count": 45,
   "metadata": {},
   "outputs": [
    {
     "data": {
      "image/png": "[encoded data removed]",
      "text/plain": [
       "<Figure size 432x288 with 1 Axes>"
      ]
     },
     "metadata": {
      "needs_background": "light"
     },
     "output_type": "display_data"
    },
    {
     "name": "stdout",
     "output_type": "stream",
     "text": [
      "count    1.936000e+06\n",
      "mean     2.608791e-01\n",
      "std      6.611035e-02\n",
      "min      2.395210e-02\n",
      "25%      2.138365e-01\n",
      "50%      2.560000e-01\n",
      "75%      3.031293e-01\n",
      "max      6.222895e-01\n",
      "Name: Tanimoto simalirity distribution among newly generated and trained SMILES, dtype: float64\n"
     ]
    }
   ],
   "source": [
    "plt.hist(dataframe_train['Tanimoto simalirity distribution among newly generated and trained SMILES'],bins=100)\n",
    "plt.xlabel('Tanimoto similarity')\n",
    "plt.ylabel('Frequency')\n",
    "plt.title('Histogram of Tanimoto similarity distribution')\n",
    "#plt.axvline(x=0.0, color='r')\n",
    "plt.grid(True)\n",
    "plt.show()\n",
    "\n",
    "print(dataframe_train['Tanimoto simalirity distribution among newly generated and trained SMILES'].describe())"
   ]
  },
  {
   "cell_type": "code",
   "execution_count": 46,
   "metadata": {},
   "outputs": [],
   "source": [
    "new_ = dataframe_train[dataframe_train['Tanimoto simalirity distribution among newly generated and trained SMILES']>0.5]"
   ]
  },
  {
   "cell_type": "code",
   "execution_count": 47,
   "metadata": {},
   "outputs": [
    {
     "data": {
      "text/plain": [
       "568"
      ]
     },
     "execution_count": 47,
     "metadata": {},
     "output_type": "execute_result"
    }
   ],
   "source": [
    "len(new_['Tanimoto simalirity distribution among newly generated and trained SMILES'])"
   ]
  },
  {
   "cell_type": "markdown",
   "metadata": {},
   "source": [
    "## Check if initial SMILES is present in PUBCHEM database (ROR-y activ)"
   ]
  },
  {
   "cell_type": "code",
   "execution_count": 48,
   "metadata": {},
   "outputs": [],
   "source": [
    "def find_smiles_in_PUBCHEM(smiles):\n",
    "    compounds = []\n",
    "    try:\n",
    "        compound = pcp.get_compounds(smiles, 'smiles')\n",
    "        compounds.append(compound)\n",
    "    except:\n",
    "        print(\"Not found : \"+ str(smiles))\n",
    "    return compounds"
   ]
  },
  {
   "cell_type": "code",
   "execution_count": 49,
   "metadata": {},
   "outputs": [],
   "source": [
    "test_if_initial_data_can_be_found = [find_smiles_in_PUBCHEM(smiles) for smiles in initial_smi['SMILES']]"
   ]
  },
  {
   "cell_type": "code",
   "execution_count": 50,
   "metadata": {},
   "outputs": [
    {
     "data": {
      "text/plain": [
       "5"
      ]
     },
     "execution_count": 50,
     "metadata": {},
     "output_type": "execute_result"
    }
   ],
   "source": [
    "len(test_if_initial_data_can_be_found)"
   ]
  },
  {
   "cell_type": "code",
   "execution_count": 51,
   "metadata": {},
   "outputs": [
    {
     "data": {
      "text/plain": [
       "[[[Compound(807146)]],\n",
       " [[Compound(16445174)]],\n",
       " [[Compound(71470549)]],\n",
       " [[Compound(71811962)]],\n",
       " [[Compound(135337558)]]]"
      ]
     },
     "execution_count": 51,
     "metadata": {},
     "output_type": "execute_result"
    }
   ],
   "source": [
    "test_if_initial_data_can_be_found"
   ]
  },
  {
   "cell_type": "markdown",
   "metadata": {},
   "source": [
    "## Check if newly generated SMILES is present in PUBCHEM database"
   ]
  },
  {
   "cell_type": "code",
   "execution_count": 52,
   "metadata": {},
   "outputs": [],
   "source": [
    "test_if_newly_generated_data_can_be_found = [find_smiles_in_PUBCHEM(smiles) for smiles in to_check_in_PUBCHEM]"
   ]
  },
  {
   "cell_type": "code",
   "execution_count": 53,
   "metadata": {},
   "outputs": [
    {
     "data": {
      "text/plain": [
       "[[[Compound()]],\n",
       " [[Compound()]],\n",
       " [[Compound()]],\n",
       " [[Compound()]],\n",
       " [[Compound(16445174)]],\n",
       " [[Compound()]],\n",
       " [[Compound()]],\n",
       " [[Compound()]],\n",
       " [[Compound()]],\n",
       " [[Compound()]],\n",
       " [[Compound()]],\n",
       " [[Compound()]],\n",
       " [[Compound()]],\n",
       " [[Compound()]],\n",
       " [[Compound()]],\n",
       " [[Compound()]]]"
      ]
     },
     "execution_count": 53,
     "metadata": {},
     "output_type": "execute_result"
    }
   ],
   "source": [
    "test_if_newly_generated_data_can_be_found"
   ]
  },
  {
   "cell_type": "code",
   "execution_count": 54,
   "metadata": {},
   "outputs": [
    {
     "data": {
      "text/plain": [
       "['CC1=CC(=CC=C1)C(=O)NC2=CC(=NO2)C3=CC=CC=C3']"
      ]
     },
     "execution_count": 54,
     "metadata": {},
     "output_type": "execute_result"
    }
   ],
   "source": [
    "smiles_found_in_pubchem = []\n",
    "for i in range(len(test_if_newly_generated_data_can_be_found)):\n",
    "    try:\n",
    "        smiles_found_in_pubchem.append(test_if_newly_generated_data_can_be_found[i][0][0].canonical_smiles)\n",
    "    except:\n",
    "        pass\n",
    "smiles_found_in_pubchem_1 = []\n",
    "for val in smiles_found_in_pubchem:\n",
    "    if val != None :\n",
    "        smiles_found_in_pubchem_1.append(val)\n",
    "smiles_found_in_pubchem_1"
   ]
  },
  {
   "cell_type": "code",
   "execution_count": null,
   "metadata": {},
   "outputs": [],
   "source": []
  }
 ],
 "metadata": {
  "kernelspec": {
   "display_name": "Python 3",
   "language": "python",
   "name": "python3"
  },
  "language_info": {
   "codemirror_mode": {
    "name": "ipython",
    "version": 3
   },
   "file_extension": ".py",
   "mimetype": "text/x-python",
   "name": "python",
   "nbconvert_exporter": "python",
   "pygments_lexer": "ipython3",
   "version": "3.8.5"
  }
 },
 "nbformat": 4,
 "nbformat_minor": 5
}
