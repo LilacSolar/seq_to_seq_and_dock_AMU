{
 "cells": [
  {
   "cell_type": "code",
   "execution_count": 1,
   "id": "28d559dd",
   "metadata": {},
   "outputs": [],
   "source": [
    "from rdkit import Chem\n",
    "from rdkit.DataStructs.cDataStructs import TanimotoSimilarity\n",
    "from rdkit.Chem.MolStandardize import rdMolStandardize\n",
    "import pubchempy as pcp\n",
    "import pandas as pd\n",
    "import matplotlib.pyplot as plt"
   ]
  },
  {
   "cell_type": "code",
   "execution_count": 2,
   "id": "e3be37e4",
   "metadata": {
    "scrolled": true
   },
   "outputs": [
    {
     "name": "stdout",
     "output_type": "stream",
     "text": [
      "Initial data description: \n",
      "                                     SMILES\n",
      "count                                     5\n",
      "unique                                    5\n",
      "top     Cc1cccc(C(=O)Nc2cc(-c3ccccc3)no2)c1\n",
      "freq                                      1\n",
      "SMILES used to predict new molecules description: \n",
      "                                     SMILES\n",
      "count                                     5\n",
      "unique                                    5\n",
      "top     Cc1cccc(C(=O)Nc2cc(-c3ccccc3)no2)c1\n",
      "freq                                      1\n",
      "Examples of initial structures: \n",
      "                                              SMILES\n",
      "0               CCC(=O)Nc1ccc2nn(-c3ccc(CC)cc3)nc2c1\n",
      "1                Cc1cccc(C(=O)Nc2cc(-c3ccccc3)no2)c1\n",
      "2  CC(=O)N1CCN(Cc2ccc(-c3ccc(C(O)(C(F)(F)F)C(F)(F...\n"
     ]
    }
   ],
   "source": [
    "initial_smi = pd.read_excel(r'../prediction_and_selection/Prediction_initializers_ROR_activ.xlsx')\n",
    "initial_smi = list(initial_smi['SMILES'])\n",
    "initial_smi = pd.DataFrame(initial_smi, columns=['SMILES'])\n",
    "print(\"Initial data description: \")\n",
    "print(initial_smi.describe())\n",
    "\n",
    "print(\"SMILES used to predict new molecules description: \")\n",
    "print(initial_smi.describe())\n",
    "\n",
    "print(\"Examples of initial structures: \")\n",
    "print(initial_smi[0:3])"
   ]
  },
  {
   "cell_type": "code",
   "execution_count": 3,
   "id": "d584bff0",
   "metadata": {},
   "outputs": [
    {
     "data": {
      "text/plain": [
       "['CCC(=O)NCC1=CC=NN1S2C=C(C3=CC=CC=C3F)N[NH1]2',\n",
       " 'CCC(=O)N1CC2C(C#N)(S(=O)C3=CC=CC=N3)CC12',\n",
       " 'CCC(=O)N1C=2C=CN(C3=NC=NC(C#N)=C3C)C=2S1C']"
      ]
     },
     "execution_count": 3,
     "metadata": {},
     "output_type": "execute_result"
    }
   ],
   "source": [
    "output_smi = pd.read_excel(r'../prediction_and_selection/All_generated_SMILES_SYBA_filtration.xlsx')\n",
    "output_smi = list(output_smi['SMILES'])\n",
    "docked_mols = output_smi.copy()\n",
    "output_smi[0:3]"
   ]
  },
  {
   "cell_type": "code",
   "execution_count": 4,
   "id": "74d0eab3",
   "metadata": {},
   "outputs": [],
   "source": [
    "#all_generated = pd.read_excel(r'../prediction_and_selection/)"
   ]
  },
  {
   "cell_type": "code",
   "execution_count": 5,
   "id": "69fb045d",
   "metadata": {},
   "outputs": [],
   "source": [
    "initial_mol = [Chem.MolFromSmiles(smi) for smi in initial_smi['SMILES']]"
   ]
  },
  {
   "cell_type": "code",
   "execution_count": 6,
   "id": "6e11c0f5",
   "metadata": {},
   "outputs": [],
   "source": [
    "output_smi = [Chem.MolFromSmiles(smi) for smi in output_smi]"
   ]
  },
  {
   "cell_type": "code",
   "execution_count": 7,
   "id": "00169331",
   "metadata": {},
   "outputs": [
    {
     "data": {
      "image/png": "[encoded data removed]",
      "text/plain": [
       "<rdkit.Chem.rdchem.Mol at 0x7f05aeea7b20>"
      ]
     },
     "execution_count": 7,
     "metadata": {},
     "output_type": "execute_result"
    }
   ],
   "source": [
    "output_smi[0]"
   ]
  },
  {
   "cell_type": "code",
   "execution_count": 8,
   "id": "c574642f",
   "metadata": {},
   "outputs": [
    {
     "data": {
      "text/plain": [
       "['CCC(=O)NCc1ccnn1[SH]1C=C(c2ccccc2F)NN1',\n",
       " 'CCC(=O)N1CC2C1CC2(C#N)S(=O)c1ccccn1',\n",
       " 'CCC(=O)N1c2ccn(-c3ncnc(C#N)c3C)c2[SH]1C']"
      ]
     },
     "execution_count": 8,
     "metadata": {},
     "output_type": "execute_result"
    }
   ],
   "source": [
    "largest_Fragment = rdMolStandardize.LargestFragmentChooser()\n",
    "to_check_in_PUBCHEM = []\n",
    "standarized_mols = []\n",
    "for smi in output_smi:\n",
    "    largest_mol = largest_Fragment.choose(smi) #Mol object is returned\n",
    "    cannonical = Chem.MolToSmiles(largest_mol, isomericSmiles=False)\n",
    "    standarized_mols.append(cannonical)\n",
    "    to_check_in_PUBCHEM.append(cannonical)\n",
    "standarized_mols[0:3]"
   ]
  },
  {
   "cell_type": "code",
   "execution_count": 9,
   "id": "a516d8d0",
   "metadata": {},
   "outputs": [],
   "source": [
    "def get_similarity(mol, smi_list):\n",
    "    sim0 = mol\n",
    "    sim1 = [Chem.MolFromSmiles(smiles) for smiles in smi_list]\n",
    "    sim00 = Chem.RDKFingerprint(sim0)\n",
    "    sim11 = [Chem.RDKFingerprint(x) for x in sim1]\n",
    "    result = [TanimotoSimilarity(sim00,y) for y in sim11]\n",
    "    return result"
   ]
  },
  {
   "cell_type": "code",
   "execution_count": 10,
   "id": "0f3711d4",
   "metadata": {},
   "outputs": [
    {
     "data": {
      "image/png": "[encoded data removed]",
      "text/plain": [
       "<rdkit.Chem.rdchem.Mol at 0x7f05b2f09e80>"
      ]
     },
     "execution_count": 10,
     "metadata": {},
     "output_type": "execute_result"
    }
   ],
   "source": [
    "initial_mol[0]"
   ]
  },
  {
   "cell_type": "code",
   "execution_count": 11,
   "id": "3e433866",
   "metadata": {},
   "outputs": [],
   "source": [
    "first_structure_similarity = get_similarity(initial_mol[0], standarized_mols)"
   ]
  },
  {
   "cell_type": "code",
   "execution_count": 12,
   "id": "8c7cebdd",
   "metadata": {},
   "outputs": [
    {
     "data": {
      "text/plain": [
       "0.29185185185185186"
      ]
     },
     "execution_count": 12,
     "metadata": {},
     "output_type": "execute_result"
    }
   ],
   "source": [
    "max(first_structure_similarity)"
   ]
  },
  {
   "cell_type": "code",
   "execution_count": 13,
   "id": "9e1ff27c",
   "metadata": {},
   "outputs": [],
   "source": [
    "def get_similarity_lists_of_mols(mol_list, smi_list): #first list - mols, second smiles\n",
    "    sim0 = mol_list\n",
    "    sim1 = [Chem.MolFromSmiles(smiles) for smiles in smi_list]\n",
    "    sim00 = [Chem.RDKFingerprint(x) for x in sim0]\n",
    "    sim11 = [Chem.RDKFingerprint(x) for x in sim1]\n",
    "    result = []\n",
    "    for finger in sim00:\n",
    "        for finger_2 in sim11:\n",
    "            similarity = TanimotoSimilarity(finger,finger_2)\n",
    "            result.append(similarity)\n",
    "    return result"
   ]
  },
  {
   "cell_type": "code",
   "execution_count": 14,
   "id": "b74d9719",
   "metadata": {},
   "outputs": [],
   "source": [
    "dataframe__ = get_similarity_lists_of_mols(initial_mol, standarized_mols)"
   ]
  },
  {
   "cell_type": "code",
   "execution_count": 15,
   "id": "6fa0c977",
   "metadata": {},
   "outputs": [],
   "source": [
    "dataframe = pd.DataFrame(dataframe__, columns=['Tanimoto similarity: generated structures with initial ROR-y activ distribution'])"
   ]
  },
  {
   "cell_type": "code",
   "execution_count": 16,
   "id": "14ff1bea",
   "metadata": {},
   "outputs": [
    {
     "name": "stdout",
     "output_type": "stream",
     "text": [
      "MIN similarity: 0.17202072538860103\n",
      "MAX similarity: 1.0\n"
     ]
    },
    {
     "data": {
      "image/png": "[encoded data removed]",
      "text/plain": [
       "<Figure size 432x288 with 1 Axes>"
      ]
     },
     "metadata": {
      "needs_background": "light"
     },
     "output_type": "display_data"
    }
   ],
   "source": [
    "dataframe.hist()\n",
    "print(\"MIN similarity: \"+str(min(dataframe__)))\n",
    "print(\"MAX similarity: \"+str(max(dataframe__)))\n"
   ]
  },
  {
   "cell_type": "code",
   "execution_count": 17,
   "id": "ff698140",
   "metadata": {},
   "outputs": [
    {
     "data": {
      "image/png": "[encoded data removed]",
      "text/plain": [
       "<Figure size 720x360 with 1 Axes>"
      ]
     },
     "metadata": {
      "needs_background": "light"
     },
     "output_type": "display_data"
    },
    {
     "name": "stdout",
     "output_type": "stream",
     "text": [
      "count    100.000000\n",
      "mean       0.297244\n",
      "std        0.109379\n",
      "min        0.172021\n",
      "25%        0.234439\n",
      "50%        0.267045\n",
      "75%        0.311089\n",
      "max        1.000000\n",
      "Name: Tanimoto similarity: generated structures with initial ROR-y activ distribution, dtype: float64\n"
     ]
    }
   ],
   "source": [
    "plt.figure(figsize=(10,5))\n",
    "plt.hist(dataframe['Tanimoto similarity: generated structures with initial ROR-y activ distribution'],bins=100)\n",
    "plt.xlabel('Tanimoto similarity', fontsize=14)\n",
    "plt.ylabel('Frequency', fontsize=14)\n",
    "#plt.title('Histogram of Tanimoto similarity distribution')\n",
    "plt.grid(True)\n",
    "plt.show()\n",
    "\n",
    "print(dataframe['Tanimoto similarity: generated structures with initial ROR-y activ distribution'].describe())"
   ]
  },
  {
   "cell_type": "code",
   "execution_count": 18,
   "id": "959cb79a",
   "metadata": {},
   "outputs": [
    {
     "name": "stdout",
     "output_type": "stream",
     "text": [
      "[]\n"
     ]
    }
   ],
   "source": [
    "print(dataframe[dataframe['Tanimoto similarity: generated structures with initial ROR-y activ distribution']<0.02].index.values)"
   ]
  },
  {
   "cell_type": "code",
   "execution_count": 19,
   "id": "41fc74d4",
   "metadata": {},
   "outputs": [
    {
     "data": {
      "text/html": [
       "<div>\n",
       "<style scoped>\n",
       "    .dataframe tbody tr th:only-of-type {\n",
       "        vertical-align: middle;\n",
       "    }\n",
       "\n",
       "    .dataframe tbody tr th {\n",
       "        vertical-align: top;\n",
       "    }\n",
       "\n",
       "    .dataframe thead th {\n",
       "        text-align: right;\n",
       "    }\n",
       "</style>\n",
       "<table border=\"1\" class=\"dataframe\">\n",
       "  <thead>\n",
       "    <tr style=\"text-align: right;\">\n",
       "      <th></th>\n",
       "      <th>Tanimoto similarity: generated structures with initial ROR-y activ distribution</th>\n",
       "    </tr>\n",
       "  </thead>\n",
       "  <tbody>\n",
       "  </tbody>\n",
       "</table>\n",
       "</div>"
      ],
      "text/plain": [
       "Empty DataFrame\n",
       "Columns: [Tanimoto similarity: generated structures with initial ROR-y activ distribution]\n",
       "Index: []"
      ]
     },
     "execution_count": 19,
     "metadata": {},
     "output_type": "execute_result"
    }
   ],
   "source": [
    "dataframe[dataframe['Tanimoto similarity: generated structures with initial ROR-y activ distribution']<0.1].head()"
   ]
  },
  {
   "cell_type": "markdown",
   "id": "c1cdb969",
   "metadata": {},
   "source": [
    "## Similarity among docked molecules"
   ]
  },
  {
   "cell_type": "markdown",
   "id": "4a9a8018",
   "metadata": {},
   "source": [
    "#docked_mols are at the beginning of the notebook"
   ]
  },
  {
   "cell_type": "code",
   "execution_count": 20,
   "id": "809ea8df",
   "metadata": {},
   "outputs": [],
   "source": [
    "initial_docked_similarity = get_similarity_lists_of_mols([Chem.MolFromSmiles(smi) for smi in docked_mols], docked_mols)"
   ]
  },
  {
   "cell_type": "code",
   "execution_count": 21,
   "id": "a7507cfa",
   "metadata": {},
   "outputs": [],
   "source": [
    "dataframe_docked = pd.DataFrame(initial_docked_similarity, columns=['Tanimoto similarity among docked molecules distribution'])"
   ]
  },
  {
   "cell_type": "code",
   "execution_count": 22,
   "id": "16d8a0b4",
   "metadata": {},
   "outputs": [
    {
     "name": "stdout",
     "output_type": "stream",
     "text": [
      "MIN similarity: 0.17202072538860103\n",
      "MAX similarity: 1.0\n"
     ]
    },
    {
     "data": {
      "image/png": "[encoded data removed]",
      "text/plain": [
       "<Figure size 432x288 with 1 Axes>"
      ]
     },
     "metadata": {
      "needs_background": "light"
     },
     "output_type": "display_data"
    }
   ],
   "source": [
    "dataframe_docked.hist()\n",
    "print(\"MIN similarity: \"+str(min(initial_docked_similarity)))\n",
    "print(\"MAX similarity: \"+str(max(initial_docked_similarity)))"
   ]
  },
  {
   "cell_type": "code",
   "execution_count": 23,
   "id": "8f95959b",
   "metadata": {},
   "outputs": [
    {
     "data": {
      "text/plain": [
       "[]"
      ]
     },
     "execution_count": 23,
     "metadata": {},
     "output_type": "execute_result"
    }
   ],
   "source": [
    "list_to_be_ = []\n",
    "list_to_be_"
   ]
  },
  {
   "cell_type": "code",
   "execution_count": 24,
   "id": "219c0999",
   "metadata": {},
   "outputs": [],
   "source": [
    "for mol in range(len(standarized_mols)): #comparision between generated mols\n",
    "    simil = get_similarity(Chem.MolFromSmiles(standarized_mols[mol]), standarized_mols)\n",
    "    list_to_be_.append(simil)"
   ]
  },
  {
   "cell_type": "code",
   "execution_count": 25,
   "id": "477ee8f4",
   "metadata": {},
   "outputs": [
    {
     "data": {
      "text/plain": [
       "[1.0,\n",
       " 0.3179384203480589,\n",
       " 0.4188635032220269,\n",
       " 0.5684438040345822,\n",
       " 0.34578804347826086]"
      ]
     },
     "execution_count": 25,
     "metadata": {},
     "output_type": "execute_result"
    }
   ],
   "source": [
    "list_to_be_[0][0:5]"
   ]
  },
  {
   "cell_type": "code",
   "execution_count": 26,
   "id": "81daa56f",
   "metadata": {},
   "outputs": [],
   "source": [
    "NEC = standarized_mols.copy()\n",
    "KMV = standarized_mols.copy()"
   ]
  },
  {
   "cell_type": "code",
   "execution_count": 27,
   "id": "ee1136e3",
   "metadata": {},
   "outputs": [],
   "source": [
    "for elem in range(len(standarized_mols)):\n",
    "    NEC[elem] = pd.DataFrame(list_to_be_[elem], columns=[standarized_mols[elem]])"
   ]
  },
  {
   "cell_type": "code",
   "execution_count": 28,
   "id": "f060e75a",
   "metadata": {},
   "outputs": [],
   "source": [
    "frames = (NEC)"
   ]
  },
  {
   "cell_type": "code",
   "execution_count": 29,
   "id": "061c0848",
   "metadata": {},
   "outputs": [
    {
     "data": {
      "text/html": [
       "<div>\n",
       "<style scoped>\n",
       "    .dataframe tbody tr th:only-of-type {\n",
       "        vertical-align: middle;\n",
       "    }\n",
       "\n",
       "    .dataframe tbody tr th {\n",
       "        vertical-align: top;\n",
       "    }\n",
       "\n",
       "    .dataframe thead th {\n",
       "        text-align: right;\n",
       "    }\n",
       "</style>\n",
       "<table border=\"1\" class=\"dataframe\">\n",
       "  <thead>\n",
       "    <tr style=\"text-align: right;\">\n",
       "      <th></th>\n",
       "      <th>CCC(=O)NCc1ccnn1[SH]1C=C(c2ccccc2F)NN1</th>\n",
       "      <th>CCC(=O)N1CC2C1CC2(C#N)S(=O)c1ccccn1</th>\n",
       "      <th>CCC(=O)N1c2ccn(-c3ncnc(C#N)c3C)c2[SH]1C</th>\n",
       "      <th>CCC(=O)NCc1ccnn1S1=C(C)NC(c2ccccc2F)=C1</th>\n",
       "      <th>CCC(=O)NCC1C(N)=NC1c1n[nH]cc1C(C)(C)O</th>\n",
       "      <th>CCC(=O)NCc1ccnn1S1=NNC(c2ccccc2F)=C1</th>\n",
       "      <th>Cc1cccc(C(=O)Cc2nc(Cl)cc3cccnc23)c1</th>\n",
       "      <th>Cc1cccc(C(=O)Nc2cc(-c3ccccc3)no2)c1</th>\n",
       "      <th>Cc1cccc(C(=O)Cc2nc(Cc3ccco3)cs2)c1</th>\n",
       "      <th>CC(=O)Nc1cccc(C(=O)N2Cc3ccccc3Nc3nc(C)nc(c3F)NN=C2C#N)c1</th>\n",
       "      <th>CC(=O)Nc1cccc(C(=O)N(Cc2cccc3c2N2C(C)=NNC2N3)c2nnc(C)s2)c1</th>\n",
       "      <th>CC(=O)Nc1cccc(C(=O)NCC=CC2C=CN(C)C=C(F)C=NC=C2C)c1</th>\n",
       "      <th>CCC(=O)NCc1c2nc(Cc3n[nH]c(C)c3Cl)n1CC2</th>\n",
       "      <th>CCC(=O)NCC(F)c1nsc(-c2ccccn2)n1</th>\n",
       "      <th>CC1OCCN1Cc1nnc(-c2ccc(Br)cc2N)n1CO</th>\n",
       "      <th>CCCN1C(NC(=O)CC)C=CN1c1ncc(C#N)cc1C</th>\n",
       "      <th>CCC(=O)NC=CC(C)=NN([NH])c1c(F)cccc1Cl</th>\n",
       "      <th>Cc1cccc(C(=O)Cc2nc(Cc3ccoc3)cs2)c1</th>\n",
       "      <th>CC(=O)Nc1cccc(C(=O)N2NC(F)=NNCC3C2Cc2cccc(CN)c2N3C)c1</th>\n",
       "      <th>CCC1=NCCc2cncn2-c2cc(F)ccc2CCN(C(=O)c2cccc(NC(C)=O)c2)NN1</th>\n",
       "    </tr>\n",
       "  </thead>\n",
       "  <tbody>\n",
       "    <tr>\n",
       "      <th>0</th>\n",
       "      <td>1.000000</td>\n",
       "      <td>0.317938</td>\n",
       "      <td>0.418864</td>\n",
       "      <td>0.568444</td>\n",
       "      <td>0.345788</td>\n",
       "      <td>0.645528</td>\n",
       "      <td>0.281760</td>\n",
       "      <td>0.267134</td>\n",
       "      <td>0.258278</td>\n",
       "      <td>0.387461</td>\n",
       "      <td>0.395195</td>\n",
       "      <td>0.260569</td>\n",
       "      <td>0.363758</td>\n",
       "      <td>0.285084</td>\n",
       "      <td>0.347619</td>\n",
       "      <td>0.357049</td>\n",
       "      <td>0.235390</td>\n",
       "      <td>0.242176</td>\n",
       "      <td>0.405615</td>\n",
       "      <td>0.383832</td>\n",
       "    </tr>\n",
       "    <tr>\n",
       "      <th>1</th>\n",
       "      <td>0.317938</td>\n",
       "      <td>1.000000</td>\n",
       "      <td>0.395882</td>\n",
       "      <td>0.338365</td>\n",
       "      <td>0.338877</td>\n",
       "      <td>0.307081</td>\n",
       "      <td>0.285296</td>\n",
       "      <td>0.247431</td>\n",
       "      <td>0.264079</td>\n",
       "      <td>0.361006</td>\n",
       "      <td>0.397664</td>\n",
       "      <td>0.234290</td>\n",
       "      <td>0.328198</td>\n",
       "      <td>0.272455</td>\n",
       "      <td>0.334254</td>\n",
       "      <td>0.345151</td>\n",
       "      <td>0.220381</td>\n",
       "      <td>0.247494</td>\n",
       "      <td>0.373882</td>\n",
       "      <td>0.352642</td>\n",
       "    </tr>\n",
       "    <tr>\n",
       "      <th>2</th>\n",
       "      <td>0.418864</td>\n",
       "      <td>0.395882</td>\n",
       "      <td>1.000000</td>\n",
       "      <td>0.461495</td>\n",
       "      <td>0.398007</td>\n",
       "      <td>0.419053</td>\n",
       "      <td>0.336155</td>\n",
       "      <td>0.274953</td>\n",
       "      <td>0.309789</td>\n",
       "      <td>0.457127</td>\n",
       "      <td>0.500000</td>\n",
       "      <td>0.275905</td>\n",
       "      <td>0.421237</td>\n",
       "      <td>0.312805</td>\n",
       "      <td>0.389860</td>\n",
       "      <td>0.428406</td>\n",
       "      <td>0.232246</td>\n",
       "      <td>0.291147</td>\n",
       "      <td>0.496743</td>\n",
       "      <td>0.469783</td>\n",
       "    </tr>\n",
       "    <tr>\n",
       "      <th>3</th>\n",
       "      <td>0.568444</td>\n",
       "      <td>0.338365</td>\n",
       "      <td>0.461495</td>\n",
       "      <td>1.000000</td>\n",
       "      <td>0.372675</td>\n",
       "      <td>0.572767</td>\n",
       "      <td>0.308256</td>\n",
       "      <td>0.269367</td>\n",
       "      <td>0.279261</td>\n",
       "      <td>0.433233</td>\n",
       "      <td>0.463443</td>\n",
       "      <td>0.282252</td>\n",
       "      <td>0.393766</td>\n",
       "      <td>0.300613</td>\n",
       "      <td>0.357868</td>\n",
       "      <td>0.378261</td>\n",
       "      <td>0.245185</td>\n",
       "      <td>0.261050</td>\n",
       "      <td>0.469006</td>\n",
       "      <td>0.442795</td>\n",
       "    </tr>\n",
       "    <tr>\n",
       "      <th>4</th>\n",
       "      <td>0.345788</td>\n",
       "      <td>0.338877</td>\n",
       "      <td>0.398007</td>\n",
       "      <td>0.372675</td>\n",
       "      <td>1.000000</td>\n",
       "      <td>0.343475</td>\n",
       "      <td>0.302651</td>\n",
       "      <td>0.231603</td>\n",
       "      <td>0.247576</td>\n",
       "      <td>0.353234</td>\n",
       "      <td>0.396457</td>\n",
       "      <td>0.255286</td>\n",
       "      <td>0.347063</td>\n",
       "      <td>0.273810</td>\n",
       "      <td>0.326057</td>\n",
       "      <td>0.345080</td>\n",
       "      <td>0.211256</td>\n",
       "      <td>0.244275</td>\n",
       "      <td>0.399396</td>\n",
       "      <td>0.368118</td>\n",
       "    </tr>\n",
       "  </tbody>\n",
       "</table>\n",
       "</div>"
      ],
      "text/plain": [
       "   CCC(=O)NCc1ccnn1[SH]1C=C(c2ccccc2F)NN1  \\\n",
       "0                                1.000000   \n",
       "1                                0.317938   \n",
       "2                                0.418864   \n",
       "3                                0.568444   \n",
       "4                                0.345788   \n",
       "\n",
       "   CCC(=O)N1CC2C1CC2(C#N)S(=O)c1ccccn1  \\\n",
       "0                             0.317938   \n",
       "1                             1.000000   \n",
       "2                             0.395882   \n",
       "3                             0.338365   \n",
       "4                             0.338877   \n",
       "\n",
       "   CCC(=O)N1c2ccn(-c3ncnc(C#N)c3C)c2[SH]1C  \\\n",
       "0                                 0.418864   \n",
       "1                                 0.395882   \n",
       "2                                 1.000000   \n",
       "3                                 0.461495   \n",
       "4                                 0.398007   \n",
       "\n",
       "   CCC(=O)NCc1ccnn1S1=C(C)NC(c2ccccc2F)=C1  \\\n",
       "0                                 0.568444   \n",
       "1                                 0.338365   \n",
       "2                                 0.461495   \n",
       "3                                 1.000000   \n",
       "4                                 0.372675   \n",
       "\n",
       "   CCC(=O)NCC1C(N)=NC1c1n[nH]cc1C(C)(C)O  \\\n",
       "0                               0.345788   \n",
       "1                               0.338877   \n",
       "2                               0.398007   \n",
       "3                               0.372675   \n",
       "4                               1.000000   \n",
       "\n",
       "   CCC(=O)NCc1ccnn1S1=NNC(c2ccccc2F)=C1  Cc1cccc(C(=O)Cc2nc(Cl)cc3cccnc23)c1  \\\n",
       "0                              0.645528                             0.281760   \n",
       "1                              0.307081                             0.285296   \n",
       "2                              0.419053                             0.336155   \n",
       "3                              0.572767                             0.308256   \n",
       "4                              0.343475                             0.302651   \n",
       "\n",
       "   Cc1cccc(C(=O)Nc2cc(-c3ccccc3)no2)c1  Cc1cccc(C(=O)Cc2nc(Cc3ccco3)cs2)c1  \\\n",
       "0                             0.267134                            0.258278   \n",
       "1                             0.247431                            0.264079   \n",
       "2                             0.274953                            0.309789   \n",
       "3                             0.269367                            0.279261   \n",
       "4                             0.231603                            0.247576   \n",
       "\n",
       "   CC(=O)Nc1cccc(C(=O)N2Cc3ccccc3Nc3nc(C)nc(c3F)NN=C2C#N)c1  \\\n",
       "0                                           0.387461          \n",
       "1                                           0.361006          \n",
       "2                                           0.457127          \n",
       "3                                           0.433233          \n",
       "4                                           0.353234          \n",
       "\n",
       "   CC(=O)Nc1cccc(C(=O)N(Cc2cccc3c2N2C(C)=NNC2N3)c2nnc(C)s2)c1  \\\n",
       "0                                           0.395195            \n",
       "1                                           0.397664            \n",
       "2                                           0.500000            \n",
       "3                                           0.463443            \n",
       "4                                           0.396457            \n",
       "\n",
       "   CC(=O)Nc1cccc(C(=O)NCC=CC2C=CN(C)C=C(F)C=NC=C2C)c1  \\\n",
       "0                                           0.260569    \n",
       "1                                           0.234290    \n",
       "2                                           0.275905    \n",
       "3                                           0.282252    \n",
       "4                                           0.255286    \n",
       "\n",
       "   CCC(=O)NCc1c2nc(Cc3n[nH]c(C)c3Cl)n1CC2  CCC(=O)NCC(F)c1nsc(-c2ccccn2)n1  \\\n",
       "0                                0.363758                         0.285084   \n",
       "1                                0.328198                         0.272455   \n",
       "2                                0.421237                         0.312805   \n",
       "3                                0.393766                         0.300613   \n",
       "4                                0.347063                         0.273810   \n",
       "\n",
       "   CC1OCCN1Cc1nnc(-c2ccc(Br)cc2N)n1CO  CCCN1C(NC(=O)CC)C=CN1c1ncc(C#N)cc1C  \\\n",
       "0                            0.347619                             0.357049   \n",
       "1                            0.334254                             0.345151   \n",
       "2                            0.389860                             0.428406   \n",
       "3                            0.357868                             0.378261   \n",
       "4                            0.326057                             0.345080   \n",
       "\n",
       "   CCC(=O)NC=CC(C)=NN([NH])c1c(F)cccc1Cl  Cc1cccc(C(=O)Cc2nc(Cc3ccoc3)cs2)c1  \\\n",
       "0                               0.235390                            0.242176   \n",
       "1                               0.220381                            0.247494   \n",
       "2                               0.232246                            0.291147   \n",
       "3                               0.245185                            0.261050   \n",
       "4                               0.211256                            0.244275   \n",
       "\n",
       "   CC(=O)Nc1cccc(C(=O)N2NC(F)=NNCC3C2Cc2cccc(CN)c2N3C)c1  \\\n",
       "0                                           0.405615       \n",
       "1                                           0.373882       \n",
       "2                                           0.496743       \n",
       "3                                           0.469006       \n",
       "4                                           0.399396       \n",
       "\n",
       "   CCC1=NCCc2cncn2-c2cc(F)ccc2CCN(C(=O)c2cccc(NC(C)=O)c2)NN1  \n",
       "0                                           0.383832          \n",
       "1                                           0.352642          \n",
       "2                                           0.469783          \n",
       "3                                           0.442795          \n",
       "4                                           0.368118          "
      ]
     },
     "execution_count": 29,
     "metadata": {},
     "output_type": "execute_result"
    }
   ],
   "source": [
    "Final = pd.concat(frames, axis=1)\n",
    "Final.head()"
   ]
  },
  {
   "cell_type": "code",
   "execution_count": 30,
   "id": "2a2373ce",
   "metadata": {},
   "outputs": [
    {
     "data": {
      "text/plain": [
       "1.0"
      ]
     },
     "execution_count": 30,
     "metadata": {},
     "output_type": "execute_result"
    }
   ],
   "source": [
    "Final['CCC(=O)NCc1ccnn1[SH]1C=C(c2ccccc2F)NN1'][0]"
   ]
  },
  {
   "cell_type": "code",
   "execution_count": 31,
   "id": "31d2a4b3",
   "metadata": {},
   "outputs": [
    {
     "data": {
      "image/png": "[encoded data removed]",
      "text/plain": [
       "<Figure size 2160x1440 with 2 Axes>"
      ]
     },
     "metadata": {
      "needs_background": "light"
     },
     "output_type": "display_data"
    }
   ],
   "source": [
    "import matplotlib.pyplot as plt\n",
    "plt.figure(figsize = (30, 20))\n",
    "plt.imshow(Final, interpolation='nearest')\n",
    "ax = plt.gca()\n",
    "ax.set_xticks(range(0,len(standarized_mols),1))\n",
    "ax.set_yticks(range(0,len(standarized_mols),1))\n",
    "plt.colorbar()\n",
    "stg = Final.columns.values.tolist()\n",
    "for i in range(len(standarized_mols)):\n",
    "    for j in range(len(standarized_mols)):\n",
    "        text = ax.text(j, i, round(Final[stg[i]][j],2), ha=\"center\", va=\"center\", color=\"w\")\n",
    "plt.show()"
   ]
  },
  {
   "cell_type": "code",
   "execution_count": 32,
   "id": "8813d5c6",
   "metadata": {},
   "outputs": [
    {
     "data": {
      "text/html": [
       "<div>\n",
       "<style scoped>\n",
       "    .dataframe tbody tr th:only-of-type {\n",
       "        vertical-align: middle;\n",
       "    }\n",
       "\n",
       "    .dataframe tbody tr th {\n",
       "        vertical-align: top;\n",
       "    }\n",
       "\n",
       "    .dataframe thead th {\n",
       "        text-align: right;\n",
       "    }\n",
       "</style>\n",
       "<table border=\"1\" class=\"dataframe\">\n",
       "  <thead>\n",
       "    <tr style=\"text-align: right;\">\n",
       "      <th></th>\n",
       "      <th>CCC(=O)NCc1ccnn1[SH]1C=C(c2ccccc2F)NN1</th>\n",
       "      <th>CCC(=O)N1CC2C1CC2(C#N)S(=O)c1ccccn1</th>\n",
       "      <th>CCC(=O)N1c2ccn(-c3ncnc(C#N)c3C)c2[SH]1C</th>\n",
       "      <th>CCC(=O)NCc1ccnn1S1=C(C)NC(c2ccccc2F)=C1</th>\n",
       "      <th>CCC(=O)NCC1C(N)=NC1c1n[nH]cc1C(C)(C)O</th>\n",
       "      <th>CCC(=O)NCc1ccnn1S1=NNC(c2ccccc2F)=C1</th>\n",
       "      <th>Cc1cccc(C(=O)Cc2nc(Cl)cc3cccnc23)c1</th>\n",
       "      <th>Cc1cccc(C(=O)Nc2cc(-c3ccccc3)no2)c1</th>\n",
       "      <th>Cc1cccc(C(=O)Cc2nc(Cc3ccco3)cs2)c1</th>\n",
       "      <th>CC(=O)Nc1cccc(C(=O)N2Cc3ccccc3Nc3nc(C)nc(c3F)NN=C2C#N)c1</th>\n",
       "      <th>CC(=O)Nc1cccc(C(=O)N(Cc2cccc3c2N2C(C)=NNC2N3)c2nnc(C)s2)c1</th>\n",
       "      <th>CC(=O)Nc1cccc(C(=O)NCC=CC2C=CN(C)C=C(F)C=NC=C2C)c1</th>\n",
       "      <th>CCC(=O)NCc1c2nc(Cc3n[nH]c(C)c3Cl)n1CC2</th>\n",
       "      <th>CCC(=O)NCC(F)c1nsc(-c2ccccn2)n1</th>\n",
       "      <th>CC1OCCN1Cc1nnc(-c2ccc(Br)cc2N)n1CO</th>\n",
       "      <th>CCCN1C(NC(=O)CC)C=CN1c1ncc(C#N)cc1C</th>\n",
       "      <th>CCC(=O)NC=CC(C)=NN([NH])c1c(F)cccc1Cl</th>\n",
       "      <th>Cc1cccc(C(=O)Cc2nc(Cc3ccoc3)cs2)c1</th>\n",
       "      <th>CC(=O)Nc1cccc(C(=O)N2NC(F)=NNCC3C2Cc2cccc(CN)c2N3C)c1</th>\n",
       "      <th>CCC1=NCCc2cncn2-c2cc(F)ccc2CCN(C(=O)c2cccc(NC(C)=O)c2)NN1</th>\n",
       "    </tr>\n",
       "  </thead>\n",
       "  <tbody>\n",
       "    <tr>\n",
       "      <th>0</th>\n",
       "      <td>1.000000</td>\n",
       "      <td>0.317938</td>\n",
       "      <td>0.418864</td>\n",
       "      <td>0.568444</td>\n",
       "      <td>0.345788</td>\n",
       "      <td>0.645528</td>\n",
       "      <td>0.281760</td>\n",
       "      <td>0.267134</td>\n",
       "      <td>0.258278</td>\n",
       "      <td>0.387461</td>\n",
       "      <td>0.395195</td>\n",
       "      <td>0.260569</td>\n",
       "      <td>0.363758</td>\n",
       "      <td>0.285084</td>\n",
       "      <td>0.347619</td>\n",
       "      <td>0.357049</td>\n",
       "      <td>0.235390</td>\n",
       "      <td>0.242176</td>\n",
       "      <td>0.405615</td>\n",
       "      <td>0.383832</td>\n",
       "    </tr>\n",
       "    <tr>\n",
       "      <th>1</th>\n",
       "      <td>0.317938</td>\n",
       "      <td>1.000000</td>\n",
       "      <td>0.395882</td>\n",
       "      <td>0.338365</td>\n",
       "      <td>0.338877</td>\n",
       "      <td>0.307081</td>\n",
       "      <td>0.285296</td>\n",
       "      <td>0.247431</td>\n",
       "      <td>0.264079</td>\n",
       "      <td>0.361006</td>\n",
       "      <td>0.397664</td>\n",
       "      <td>0.234290</td>\n",
       "      <td>0.328198</td>\n",
       "      <td>0.272455</td>\n",
       "      <td>0.334254</td>\n",
       "      <td>0.345151</td>\n",
       "      <td>0.220381</td>\n",
       "      <td>0.247494</td>\n",
       "      <td>0.373882</td>\n",
       "      <td>0.352642</td>\n",
       "    </tr>\n",
       "    <tr>\n",
       "      <th>2</th>\n",
       "      <td>0.418864</td>\n",
       "      <td>0.395882</td>\n",
       "      <td>1.000000</td>\n",
       "      <td>0.461495</td>\n",
       "      <td>0.398007</td>\n",
       "      <td>0.419053</td>\n",
       "      <td>0.336155</td>\n",
       "      <td>0.274953</td>\n",
       "      <td>0.309789</td>\n",
       "      <td>0.457127</td>\n",
       "      <td>0.500000</td>\n",
       "      <td>0.275905</td>\n",
       "      <td>0.421237</td>\n",
       "      <td>0.312805</td>\n",
       "      <td>0.389860</td>\n",
       "      <td>0.428406</td>\n",
       "      <td>0.232246</td>\n",
       "      <td>0.291147</td>\n",
       "      <td>0.496743</td>\n",
       "      <td>0.469783</td>\n",
       "    </tr>\n",
       "    <tr>\n",
       "      <th>3</th>\n",
       "      <td>0.568444</td>\n",
       "      <td>0.338365</td>\n",
       "      <td>0.461495</td>\n",
       "      <td>1.000000</td>\n",
       "      <td>0.372675</td>\n",
       "      <td>0.572767</td>\n",
       "      <td>0.308256</td>\n",
       "      <td>0.269367</td>\n",
       "      <td>0.279261</td>\n",
       "      <td>0.433233</td>\n",
       "      <td>0.463443</td>\n",
       "      <td>0.282252</td>\n",
       "      <td>0.393766</td>\n",
       "      <td>0.300613</td>\n",
       "      <td>0.357868</td>\n",
       "      <td>0.378261</td>\n",
       "      <td>0.245185</td>\n",
       "      <td>0.261050</td>\n",
       "      <td>0.469006</td>\n",
       "      <td>0.442795</td>\n",
       "    </tr>\n",
       "    <tr>\n",
       "      <th>4</th>\n",
       "      <td>0.345788</td>\n",
       "      <td>0.338877</td>\n",
       "      <td>0.398007</td>\n",
       "      <td>0.372675</td>\n",
       "      <td>1.000000</td>\n",
       "      <td>0.343475</td>\n",
       "      <td>0.302651</td>\n",
       "      <td>0.231603</td>\n",
       "      <td>0.247576</td>\n",
       "      <td>0.353234</td>\n",
       "      <td>0.396457</td>\n",
       "      <td>0.255286</td>\n",
       "      <td>0.347063</td>\n",
       "      <td>0.273810</td>\n",
       "      <td>0.326057</td>\n",
       "      <td>0.345080</td>\n",
       "      <td>0.211256</td>\n",
       "      <td>0.244275</td>\n",
       "      <td>0.399396</td>\n",
       "      <td>0.368118</td>\n",
       "    </tr>\n",
       "    <tr>\n",
       "      <th>5</th>\n",
       "      <td>0.645528</td>\n",
       "      <td>0.307081</td>\n",
       "      <td>0.419053</td>\n",
       "      <td>0.572767</td>\n",
       "      <td>0.343475</td>\n",
       "      <td>1.000000</td>\n",
       "      <td>0.283286</td>\n",
       "      <td>0.257121</td>\n",
       "      <td>0.249818</td>\n",
       "      <td>0.375697</td>\n",
       "      <td>0.397121</td>\n",
       "      <td>0.268105</td>\n",
       "      <td>0.368704</td>\n",
       "      <td>0.287601</td>\n",
       "      <td>0.333557</td>\n",
       "      <td>0.354754</td>\n",
       "      <td>0.229284</td>\n",
       "      <td>0.248507</td>\n",
       "      <td>0.400000</td>\n",
       "      <td>0.387651</td>\n",
       "    </tr>\n",
       "    <tr>\n",
       "      <th>6</th>\n",
       "      <td>0.281760</td>\n",
       "      <td>0.285296</td>\n",
       "      <td>0.336155</td>\n",
       "      <td>0.308256</td>\n",
       "      <td>0.302651</td>\n",
       "      <td>0.283286</td>\n",
       "      <td>1.000000</td>\n",
       "      <td>0.258897</td>\n",
       "      <td>0.323322</td>\n",
       "      <td>0.348383</td>\n",
       "      <td>0.331021</td>\n",
       "      <td>0.229974</td>\n",
       "      <td>0.294452</td>\n",
       "      <td>0.226656</td>\n",
       "      <td>0.297872</td>\n",
       "      <td>0.297753</td>\n",
       "      <td>0.205152</td>\n",
       "      <td>0.311993</td>\n",
       "      <td>0.335621</td>\n",
       "      <td>0.324781</td>\n",
       "    </tr>\n",
       "    <tr>\n",
       "      <th>7</th>\n",
       "      <td>0.267134</td>\n",
       "      <td>0.247431</td>\n",
       "      <td>0.274953</td>\n",
       "      <td>0.269367</td>\n",
       "      <td>0.231603</td>\n",
       "      <td>0.257121</td>\n",
       "      <td>0.258897</td>\n",
       "      <td>1.000000</td>\n",
       "      <td>0.243167</td>\n",
       "      <td>0.285815</td>\n",
       "      <td>0.282017</td>\n",
       "      <td>0.247752</td>\n",
       "      <td>0.248858</td>\n",
       "      <td>0.217937</td>\n",
       "      <td>0.264916</td>\n",
       "      <td>0.243666</td>\n",
       "      <td>0.172021</td>\n",
       "      <td>0.223394</td>\n",
       "      <td>0.291639</td>\n",
       "      <td>0.278136</td>\n",
       "    </tr>\n",
       "    <tr>\n",
       "      <th>8</th>\n",
       "      <td>0.258278</td>\n",
       "      <td>0.264079</td>\n",
       "      <td>0.309789</td>\n",
       "      <td>0.279261</td>\n",
       "      <td>0.247576</td>\n",
       "      <td>0.249818</td>\n",
       "      <td>0.323322</td>\n",
       "      <td>0.243167</td>\n",
       "      <td>1.000000</td>\n",
       "      <td>0.310179</td>\n",
       "      <td>0.316993</td>\n",
       "      <td>0.243697</td>\n",
       "      <td>0.277984</td>\n",
       "      <td>0.243313</td>\n",
       "      <td>0.262642</td>\n",
       "      <td>0.256815</td>\n",
       "      <td>0.179786</td>\n",
       "      <td>0.735632</td>\n",
       "      <td>0.318504</td>\n",
       "      <td>0.292244</td>\n",
       "    </tr>\n",
       "    <tr>\n",
       "      <th>9</th>\n",
       "      <td>0.387461</td>\n",
       "      <td>0.361006</td>\n",
       "      <td>0.457127</td>\n",
       "      <td>0.433233</td>\n",
       "      <td>0.353234</td>\n",
       "      <td>0.375697</td>\n",
       "      <td>0.348383</td>\n",
       "      <td>0.285815</td>\n",
       "      <td>0.310179</td>\n",
       "      <td>1.000000</td>\n",
       "      <td>0.517782</td>\n",
       "      <td>0.368382</td>\n",
       "      <td>0.385812</td>\n",
       "      <td>0.284016</td>\n",
       "      <td>0.351553</td>\n",
       "      <td>0.414680</td>\n",
       "      <td>0.244203</td>\n",
       "      <td>0.305750</td>\n",
       "      <td>0.496183</td>\n",
       "      <td>0.493695</td>\n",
       "    </tr>\n",
       "    <tr>\n",
       "      <th>10</th>\n",
       "      <td>0.395195</td>\n",
       "      <td>0.397664</td>\n",
       "      <td>0.500000</td>\n",
       "      <td>0.463443</td>\n",
       "      <td>0.396457</td>\n",
       "      <td>0.397121</td>\n",
       "      <td>0.331021</td>\n",
       "      <td>0.282017</td>\n",
       "      <td>0.316993</td>\n",
       "      <td>0.517782</td>\n",
       "      <td>1.000000</td>\n",
       "      <td>0.346953</td>\n",
       "      <td>0.396892</td>\n",
       "      <td>0.309114</td>\n",
       "      <td>0.382940</td>\n",
       "      <td>0.420420</td>\n",
       "      <td>0.236130</td>\n",
       "      <td>0.297368</td>\n",
       "      <td>0.532872</td>\n",
       "      <td>0.479117</td>\n",
       "    </tr>\n",
       "    <tr>\n",
       "      <th>11</th>\n",
       "      <td>0.260569</td>\n",
       "      <td>0.234290</td>\n",
       "      <td>0.275905</td>\n",
       "      <td>0.282252</td>\n",
       "      <td>0.255286</td>\n",
       "      <td>0.268105</td>\n",
       "      <td>0.229974</td>\n",
       "      <td>0.247752</td>\n",
       "      <td>0.243697</td>\n",
       "      <td>0.368382</td>\n",
       "      <td>0.346953</td>\n",
       "      <td>1.000000</td>\n",
       "      <td>0.262595</td>\n",
       "      <td>0.221925</td>\n",
       "      <td>0.264196</td>\n",
       "      <td>0.277145</td>\n",
       "      <td>0.230108</td>\n",
       "      <td>0.246615</td>\n",
       "      <td>0.361130</td>\n",
       "      <td>0.393328</td>\n",
       "    </tr>\n",
       "    <tr>\n",
       "      <th>12</th>\n",
       "      <td>0.363758</td>\n",
       "      <td>0.328198</td>\n",
       "      <td>0.421237</td>\n",
       "      <td>0.393766</td>\n",
       "      <td>0.347063</td>\n",
       "      <td>0.368704</td>\n",
       "      <td>0.294452</td>\n",
       "      <td>0.248858</td>\n",
       "      <td>0.277984</td>\n",
       "      <td>0.385812</td>\n",
       "      <td>0.396892</td>\n",
       "      <td>0.262595</td>\n",
       "      <td>1.000000</td>\n",
       "      <td>0.283115</td>\n",
       "      <td>0.352542</td>\n",
       "      <td>0.350260</td>\n",
       "      <td>0.217116</td>\n",
       "      <td>0.267722</td>\n",
       "      <td>0.433677</td>\n",
       "      <td>0.390973</td>\n",
       "    </tr>\n",
       "    <tr>\n",
       "      <th>13</th>\n",
       "      <td>0.285084</td>\n",
       "      <td>0.272455</td>\n",
       "      <td>0.312805</td>\n",
       "      <td>0.300613</td>\n",
       "      <td>0.273810</td>\n",
       "      <td>0.287601</td>\n",
       "      <td>0.226656</td>\n",
       "      <td>0.217937</td>\n",
       "      <td>0.243313</td>\n",
       "      <td>0.284016</td>\n",
       "      <td>0.309114</td>\n",
       "      <td>0.221925</td>\n",
       "      <td>0.283115</td>\n",
       "      <td>1.000000</td>\n",
       "      <td>0.296970</td>\n",
       "      <td>0.290346</td>\n",
       "      <td>0.192198</td>\n",
       "      <td>0.233892</td>\n",
       "      <td>0.306583</td>\n",
       "      <td>0.295037</td>\n",
       "    </tr>\n",
       "    <tr>\n",
       "      <th>14</th>\n",
       "      <td>0.347619</td>\n",
       "      <td>0.334254</td>\n",
       "      <td>0.389860</td>\n",
       "      <td>0.357868</td>\n",
       "      <td>0.326057</td>\n",
       "      <td>0.333557</td>\n",
       "      <td>0.297872</td>\n",
       "      <td>0.264916</td>\n",
       "      <td>0.262642</td>\n",
       "      <td>0.351553</td>\n",
       "      <td>0.382940</td>\n",
       "      <td>0.264196</td>\n",
       "      <td>0.352542</td>\n",
       "      <td>0.296970</td>\n",
       "      <td>1.000000</td>\n",
       "      <td>0.340623</td>\n",
       "      <td>0.214227</td>\n",
       "      <td>0.250000</td>\n",
       "      <td>0.401937</td>\n",
       "      <td>0.366368</td>\n",
       "    </tr>\n",
       "    <tr>\n",
       "      <th>15</th>\n",
       "      <td>0.357049</td>\n",
       "      <td>0.345151</td>\n",
       "      <td>0.428406</td>\n",
       "      <td>0.378261</td>\n",
       "      <td>0.345080</td>\n",
       "      <td>0.354754</td>\n",
       "      <td>0.297753</td>\n",
       "      <td>0.243666</td>\n",
       "      <td>0.256815</td>\n",
       "      <td>0.414680</td>\n",
       "      <td>0.420420</td>\n",
       "      <td>0.277145</td>\n",
       "      <td>0.350260</td>\n",
       "      <td>0.290346</td>\n",
       "      <td>0.340623</td>\n",
       "      <td>1.000000</td>\n",
       "      <td>0.215229</td>\n",
       "      <td>0.241104</td>\n",
       "      <td>0.424747</td>\n",
       "      <td>0.391086</td>\n",
       "    </tr>\n",
       "    <tr>\n",
       "      <th>16</th>\n",
       "      <td>0.235390</td>\n",
       "      <td>0.220381</td>\n",
       "      <td>0.232246</td>\n",
       "      <td>0.245185</td>\n",
       "      <td>0.211256</td>\n",
       "      <td>0.229284</td>\n",
       "      <td>0.205152</td>\n",
       "      <td>0.172021</td>\n",
       "      <td>0.179786</td>\n",
       "      <td>0.244203</td>\n",
       "      <td>0.236130</td>\n",
       "      <td>0.230108</td>\n",
       "      <td>0.217116</td>\n",
       "      <td>0.192198</td>\n",
       "      <td>0.214227</td>\n",
       "      <td>0.215229</td>\n",
       "      <td>1.000000</td>\n",
       "      <td>0.175703</td>\n",
       "      <td>0.245473</td>\n",
       "      <td>0.237463</td>\n",
       "    </tr>\n",
       "    <tr>\n",
       "      <th>17</th>\n",
       "      <td>0.242176</td>\n",
       "      <td>0.247494</td>\n",
       "      <td>0.291147</td>\n",
       "      <td>0.261050</td>\n",
       "      <td>0.244275</td>\n",
       "      <td>0.248507</td>\n",
       "      <td>0.311993</td>\n",
       "      <td>0.223394</td>\n",
       "      <td>0.735632</td>\n",
       "      <td>0.305750</td>\n",
       "      <td>0.297368</td>\n",
       "      <td>0.246615</td>\n",
       "      <td>0.267722</td>\n",
       "      <td>0.233892</td>\n",
       "      <td>0.250000</td>\n",
       "      <td>0.241104</td>\n",
       "      <td>0.175703</td>\n",
       "      <td>1.000000</td>\n",
       "      <td>0.311067</td>\n",
       "      <td>0.289250</td>\n",
       "    </tr>\n",
       "    <tr>\n",
       "      <th>18</th>\n",
       "      <td>0.405615</td>\n",
       "      <td>0.373882</td>\n",
       "      <td>0.496743</td>\n",
       "      <td>0.469006</td>\n",
       "      <td>0.399396</td>\n",
       "      <td>0.400000</td>\n",
       "      <td>0.335621</td>\n",
       "      <td>0.291639</td>\n",
       "      <td>0.318504</td>\n",
       "      <td>0.496183</td>\n",
       "      <td>0.532872</td>\n",
       "      <td>0.361130</td>\n",
       "      <td>0.433677</td>\n",
       "      <td>0.306583</td>\n",
       "      <td>0.401937</td>\n",
       "      <td>0.424747</td>\n",
       "      <td>0.245473</td>\n",
       "      <td>0.311067</td>\n",
       "      <td>1.000000</td>\n",
       "      <td>0.523376</td>\n",
       "    </tr>\n",
       "    <tr>\n",
       "      <th>19</th>\n",
       "      <td>0.383832</td>\n",
       "      <td>0.352642</td>\n",
       "      <td>0.469783</td>\n",
       "      <td>0.442795</td>\n",
       "      <td>0.368118</td>\n",
       "      <td>0.387651</td>\n",
       "      <td>0.324781</td>\n",
       "      <td>0.278136</td>\n",
       "      <td>0.292244</td>\n",
       "      <td>0.493695</td>\n",
       "      <td>0.479117</td>\n",
       "      <td>0.393328</td>\n",
       "      <td>0.390973</td>\n",
       "      <td>0.295037</td>\n",
       "      <td>0.366368</td>\n",
       "      <td>0.391086</td>\n",
       "      <td>0.237463</td>\n",
       "      <td>0.289250</td>\n",
       "      <td>0.523376</td>\n",
       "      <td>1.000000</td>\n",
       "    </tr>\n",
       "  </tbody>\n",
       "</table>\n",
       "</div>"
      ],
      "text/plain": [
       "    CCC(=O)NCc1ccnn1[SH]1C=C(c2ccccc2F)NN1  \\\n",
       "0                                 1.000000   \n",
       "1                                 0.317938   \n",
       "2                                 0.418864   \n",
       "3                                 0.568444   \n",
       "4                                 0.345788   \n",
       "5                                 0.645528   \n",
       "6                                 0.281760   \n",
       "7                                 0.267134   \n",
       "8                                 0.258278   \n",
       "9                                 0.387461   \n",
       "10                                0.395195   \n",
       "11                                0.260569   \n",
       "12                                0.363758   \n",
       "13                                0.285084   \n",
       "14                                0.347619   \n",
       "15                                0.357049   \n",
       "16                                0.235390   \n",
       "17                                0.242176   \n",
       "18                                0.405615   \n",
       "19                                0.383832   \n",
       "\n",
       "    CCC(=O)N1CC2C1CC2(C#N)S(=O)c1ccccn1  \\\n",
       "0                              0.317938   \n",
       "1                              1.000000   \n",
       "2                              0.395882   \n",
       "3                              0.338365   \n",
       "4                              0.338877   \n",
       "5                              0.307081   \n",
       "6                              0.285296   \n",
       "7                              0.247431   \n",
       "8                              0.264079   \n",
       "9                              0.361006   \n",
       "10                             0.397664   \n",
       "11                             0.234290   \n",
       "12                             0.328198   \n",
       "13                             0.272455   \n",
       "14                             0.334254   \n",
       "15                             0.345151   \n",
       "16                             0.220381   \n",
       "17                             0.247494   \n",
       "18                             0.373882   \n",
       "19                             0.352642   \n",
       "\n",
       "    CCC(=O)N1c2ccn(-c3ncnc(C#N)c3C)c2[SH]1C  \\\n",
       "0                                  0.418864   \n",
       "1                                  0.395882   \n",
       "2                                  1.000000   \n",
       "3                                  0.461495   \n",
       "4                                  0.398007   \n",
       "5                                  0.419053   \n",
       "6                                  0.336155   \n",
       "7                                  0.274953   \n",
       "8                                  0.309789   \n",
       "9                                  0.457127   \n",
       "10                                 0.500000   \n",
       "11                                 0.275905   \n",
       "12                                 0.421237   \n",
       "13                                 0.312805   \n",
       "14                                 0.389860   \n",
       "15                                 0.428406   \n",
       "16                                 0.232246   \n",
       "17                                 0.291147   \n",
       "18                                 0.496743   \n",
       "19                                 0.469783   \n",
       "\n",
       "    CCC(=O)NCc1ccnn1S1=C(C)NC(c2ccccc2F)=C1  \\\n",
       "0                                  0.568444   \n",
       "1                                  0.338365   \n",
       "2                                  0.461495   \n",
       "3                                  1.000000   \n",
       "4                                  0.372675   \n",
       "5                                  0.572767   \n",
       "6                                  0.308256   \n",
       "7                                  0.269367   \n",
       "8                                  0.279261   \n",
       "9                                  0.433233   \n",
       "10                                 0.463443   \n",
       "11                                 0.282252   \n",
       "12                                 0.393766   \n",
       "13                                 0.300613   \n",
       "14                                 0.357868   \n",
       "15                                 0.378261   \n",
       "16                                 0.245185   \n",
       "17                                 0.261050   \n",
       "18                                 0.469006   \n",
       "19                                 0.442795   \n",
       "\n",
       "    CCC(=O)NCC1C(N)=NC1c1n[nH]cc1C(C)(C)O  \\\n",
       "0                                0.345788   \n",
       "1                                0.338877   \n",
       "2                                0.398007   \n",
       "3                                0.372675   \n",
       "4                                1.000000   \n",
       "5                                0.343475   \n",
       "6                                0.302651   \n",
       "7                                0.231603   \n",
       "8                                0.247576   \n",
       "9                                0.353234   \n",
       "10                               0.396457   \n",
       "11                               0.255286   \n",
       "12                               0.347063   \n",
       "13                               0.273810   \n",
       "14                               0.326057   \n",
       "15                               0.345080   \n",
       "16                               0.211256   \n",
       "17                               0.244275   \n",
       "18                               0.399396   \n",
       "19                               0.368118   \n",
       "\n",
       "    CCC(=O)NCc1ccnn1S1=NNC(c2ccccc2F)=C1  Cc1cccc(C(=O)Cc2nc(Cl)cc3cccnc23)c1  \\\n",
       "0                               0.645528                             0.281760   \n",
       "1                               0.307081                             0.285296   \n",
       "2                               0.419053                             0.336155   \n",
       "3                               0.572767                             0.308256   \n",
       "4                               0.343475                             0.302651   \n",
       "5                               1.000000                             0.283286   \n",
       "6                               0.283286                             1.000000   \n",
       "7                               0.257121                             0.258897   \n",
       "8                               0.249818                             0.323322   \n",
       "9                               0.375697                             0.348383   \n",
       "10                              0.397121                             0.331021   \n",
       "11                              0.268105                             0.229974   \n",
       "12                              0.368704                             0.294452   \n",
       "13                              0.287601                             0.226656   \n",
       "14                              0.333557                             0.297872   \n",
       "15                              0.354754                             0.297753   \n",
       "16                              0.229284                             0.205152   \n",
       "17                              0.248507                             0.311993   \n",
       "18                              0.400000                             0.335621   \n",
       "19                              0.387651                             0.324781   \n",
       "\n",
       "    Cc1cccc(C(=O)Nc2cc(-c3ccccc3)no2)c1  Cc1cccc(C(=O)Cc2nc(Cc3ccco3)cs2)c1  \\\n",
       "0                              0.267134                            0.258278   \n",
       "1                              0.247431                            0.264079   \n",
       "2                              0.274953                            0.309789   \n",
       "3                              0.269367                            0.279261   \n",
       "4                              0.231603                            0.247576   \n",
       "5                              0.257121                            0.249818   \n",
       "6                              0.258897                            0.323322   \n",
       "7                              1.000000                            0.243167   \n",
       "8                              0.243167                            1.000000   \n",
       "9                              0.285815                            0.310179   \n",
       "10                             0.282017                            0.316993   \n",
       "11                             0.247752                            0.243697   \n",
       "12                             0.248858                            0.277984   \n",
       "13                             0.217937                            0.243313   \n",
       "14                             0.264916                            0.262642   \n",
       "15                             0.243666                            0.256815   \n",
       "16                             0.172021                            0.179786   \n",
       "17                             0.223394                            0.735632   \n",
       "18                             0.291639                            0.318504   \n",
       "19                             0.278136                            0.292244   \n",
       "\n",
       "    CC(=O)Nc1cccc(C(=O)N2Cc3ccccc3Nc3nc(C)nc(c3F)NN=C2C#N)c1  \\\n",
       "0                                            0.387461          \n",
       "1                                            0.361006          \n",
       "2                                            0.457127          \n",
       "3                                            0.433233          \n",
       "4                                            0.353234          \n",
       "5                                            0.375697          \n",
       "6                                            0.348383          \n",
       "7                                            0.285815          \n",
       "8                                            0.310179          \n",
       "9                                            1.000000          \n",
       "10                                           0.517782          \n",
       "11                                           0.368382          \n",
       "12                                           0.385812          \n",
       "13                                           0.284016          \n",
       "14                                           0.351553          \n",
       "15                                           0.414680          \n",
       "16                                           0.244203          \n",
       "17                                           0.305750          \n",
       "18                                           0.496183          \n",
       "19                                           0.493695          \n",
       "\n",
       "    CC(=O)Nc1cccc(C(=O)N(Cc2cccc3c2N2C(C)=NNC2N3)c2nnc(C)s2)c1  \\\n",
       "0                                            0.395195            \n",
       "1                                            0.397664            \n",
       "2                                            0.500000            \n",
       "3                                            0.463443            \n",
       "4                                            0.396457            \n",
       "5                                            0.397121            \n",
       "6                                            0.331021            \n",
       "7                                            0.282017            \n",
       "8                                            0.316993            \n",
       "9                                            0.517782            \n",
       "10                                           1.000000            \n",
       "11                                           0.346953            \n",
       "12                                           0.396892            \n",
       "13                                           0.309114            \n",
       "14                                           0.382940            \n",
       "15                                           0.420420            \n",
       "16                                           0.236130            \n",
       "17                                           0.297368            \n",
       "18                                           0.532872            \n",
       "19                                           0.479117            \n",
       "\n",
       "    CC(=O)Nc1cccc(C(=O)NCC=CC2C=CN(C)C=C(F)C=NC=C2C)c1  \\\n",
       "0                                            0.260569    \n",
       "1                                            0.234290    \n",
       "2                                            0.275905    \n",
       "3                                            0.282252    \n",
       "4                                            0.255286    \n",
       "5                                            0.268105    \n",
       "6                                            0.229974    \n",
       "7                                            0.247752    \n",
       "8                                            0.243697    \n",
       "9                                            0.368382    \n",
       "10                                           0.346953    \n",
       "11                                           1.000000    \n",
       "12                                           0.262595    \n",
       "13                                           0.221925    \n",
       "14                                           0.264196    \n",
       "15                                           0.277145    \n",
       "16                                           0.230108    \n",
       "17                                           0.246615    \n",
       "18                                           0.361130    \n",
       "19                                           0.393328    \n",
       "\n",
       "    CCC(=O)NCc1c2nc(Cc3n[nH]c(C)c3Cl)n1CC2  CCC(=O)NCC(F)c1nsc(-c2ccccn2)n1  \\\n",
       "0                                 0.363758                         0.285084   \n",
       "1                                 0.328198                         0.272455   \n",
       "2                                 0.421237                         0.312805   \n",
       "3                                 0.393766                         0.300613   \n",
       "4                                 0.347063                         0.273810   \n",
       "5                                 0.368704                         0.287601   \n",
       "6                                 0.294452                         0.226656   \n",
       "7                                 0.248858                         0.217937   \n",
       "8                                 0.277984                         0.243313   \n",
       "9                                 0.385812                         0.284016   \n",
       "10                                0.396892                         0.309114   \n",
       "11                                0.262595                         0.221925   \n",
       "12                                1.000000                         0.283115   \n",
       "13                                0.283115                         1.000000   \n",
       "14                                0.352542                         0.296970   \n",
       "15                                0.350260                         0.290346   \n",
       "16                                0.217116                         0.192198   \n",
       "17                                0.267722                         0.233892   \n",
       "18                                0.433677                         0.306583   \n",
       "19                                0.390973                         0.295037   \n",
       "\n",
       "    CC1OCCN1Cc1nnc(-c2ccc(Br)cc2N)n1CO  CCCN1C(NC(=O)CC)C=CN1c1ncc(C#N)cc1C  \\\n",
       "0                             0.347619                             0.357049   \n",
       "1                             0.334254                             0.345151   \n",
       "2                             0.389860                             0.428406   \n",
       "3                             0.357868                             0.378261   \n",
       "4                             0.326057                             0.345080   \n",
       "5                             0.333557                             0.354754   \n",
       "6                             0.297872                             0.297753   \n",
       "7                             0.264916                             0.243666   \n",
       "8                             0.262642                             0.256815   \n",
       "9                             0.351553                             0.414680   \n",
       "10                            0.382940                             0.420420   \n",
       "11                            0.264196                             0.277145   \n",
       "12                            0.352542                             0.350260   \n",
       "13                            0.296970                             0.290346   \n",
       "14                            1.000000                             0.340623   \n",
       "15                            0.340623                             1.000000   \n",
       "16                            0.214227                             0.215229   \n",
       "17                            0.250000                             0.241104   \n",
       "18                            0.401937                             0.424747   \n",
       "19                            0.366368                             0.391086   \n",
       "\n",
       "    CCC(=O)NC=CC(C)=NN([NH])c1c(F)cccc1Cl  Cc1cccc(C(=O)Cc2nc(Cc3ccoc3)cs2)c1  \\\n",
       "0                                0.235390                            0.242176   \n",
       "1                                0.220381                            0.247494   \n",
       "2                                0.232246                            0.291147   \n",
       "3                                0.245185                            0.261050   \n",
       "4                                0.211256                            0.244275   \n",
       "5                                0.229284                            0.248507   \n",
       "6                                0.205152                            0.311993   \n",
       "7                                0.172021                            0.223394   \n",
       "8                                0.179786                            0.735632   \n",
       "9                                0.244203                            0.305750   \n",
       "10                               0.236130                            0.297368   \n",
       "11                               0.230108                            0.246615   \n",
       "12                               0.217116                            0.267722   \n",
       "13                               0.192198                            0.233892   \n",
       "14                               0.214227                            0.250000   \n",
       "15                               0.215229                            0.241104   \n",
       "16                               1.000000                            0.175703   \n",
       "17                               0.175703                            1.000000   \n",
       "18                               0.245473                            0.311067   \n",
       "19                               0.237463                            0.289250   \n",
       "\n",
       "    CC(=O)Nc1cccc(C(=O)N2NC(F)=NNCC3C2Cc2cccc(CN)c2N3C)c1  \\\n",
       "0                                            0.405615       \n",
       "1                                            0.373882       \n",
       "2                                            0.496743       \n",
       "3                                            0.469006       \n",
       "4                                            0.399396       \n",
       "5                                            0.400000       \n",
       "6                                            0.335621       \n",
       "7                                            0.291639       \n",
       "8                                            0.318504       \n",
       "9                                            0.496183       \n",
       "10                                           0.532872       \n",
       "11                                           0.361130       \n",
       "12                                           0.433677       \n",
       "13                                           0.306583       \n",
       "14                                           0.401937       \n",
       "15                                           0.424747       \n",
       "16                                           0.245473       \n",
       "17                                           0.311067       \n",
       "18                                           1.000000       \n",
       "19                                           0.523376       \n",
       "\n",
       "    CCC1=NCCc2cncn2-c2cc(F)ccc2CCN(C(=O)c2cccc(NC(C)=O)c2)NN1  \n",
       "0                                            0.383832          \n",
       "1                                            0.352642          \n",
       "2                                            0.469783          \n",
       "3                                            0.442795          \n",
       "4                                            0.368118          \n",
       "5                                            0.387651          \n",
       "6                                            0.324781          \n",
       "7                                            0.278136          \n",
       "8                                            0.292244          \n",
       "9                                            0.493695          \n",
       "10                                           0.479117          \n",
       "11                                           0.393328          \n",
       "12                                           0.390973          \n",
       "13                                           0.295037          \n",
       "14                                           0.366368          \n",
       "15                                           0.391086          \n",
       "16                                           0.237463          \n",
       "17                                           0.289250          \n",
       "18                                           0.523376          \n",
       "19                                           1.000000          "
      ]
     },
     "execution_count": 32,
     "metadata": {},
     "output_type": "execute_result"
    }
   ],
   "source": [
    "Final"
   ]
  },
  {
   "cell_type": "markdown",
   "id": "f1fab316",
   "metadata": {},
   "source": [
    "## Checking if the data created is very similar to training data"
   ]
  },
  {
   "cell_type": "code",
   "execution_count": 33,
   "id": "5276a9d6",
   "metadata": {},
   "outputs": [],
   "source": [
    "whole_data_set = pd.read_parquet('../model/data/zinc20_selected_to_create_model_processed.parquet')"
   ]
  },
  {
   "cell_type": "code",
   "execution_count": 34,
   "id": "82f083d2",
   "metadata": {},
   "outputs": [
    {
     "data": {
      "text/html": [
       "<div>\n",
       "<style scoped>\n",
       "    .dataframe tbody tr th:only-of-type {\n",
       "        vertical-align: middle;\n",
       "    }\n",
       "\n",
       "    .dataframe tbody tr th {\n",
       "        vertical-align: top;\n",
       "    }\n",
       "\n",
       "    .dataframe thead th {\n",
       "        text-align: right;\n",
       "    }\n",
       "</style>\n",
       "<table border=\"1\" class=\"dataframe\">\n",
       "  <thead>\n",
       "    <tr style=\"text-align: right;\">\n",
       "      <th></th>\n",
       "      <th>index</th>\n",
       "      <th>smiles</th>\n",
       "      <th>SELFIES</th>\n",
       "      <th>SELFIES_length</th>\n",
       "      <th>SMILES_canonical</th>\n",
       "      <th>SELFIES_canonical</th>\n",
       "      <th>SELFIES_length_canonical</th>\n",
       "    </tr>\n",
       "  </thead>\n",
       "  <tbody>\n",
       "    <tr>\n",
       "      <th>0</th>\n",
       "      <td>563932204</td>\n",
       "      <td>CNC(=O)CCCN1CCN(S(C)(=O)=O)[C@@H](C)C1</td>\n",
       "      <td>[C][N][C][=Branch1][C][=O][C][C][C][N][C][C][N...</td>\n",
       "      <td>30</td>\n",
       "      <td>CNC(=O)CCCN1CCN(S(C)(=O)=O)C(C)C1</td>\n",
       "      <td>[C][N][C][=Branch1][C][=O][C][C][C][N][C][C][N...</td>\n",
       "      <td>30</td>\n",
       "    </tr>\n",
       "    <tr>\n",
       "      <th>1</th>\n",
       "      <td>51885268</td>\n",
       "      <td>O=C(Cn1cc([N+](=O)[O-])cn1)N1CC[C@@H](CO)C1</td>\n",
       "      <td>[O][=C][Branch1][S][C][N][C][=C][Branch1][=Bra...</td>\n",
       "      <td>30</td>\n",
       "      <td>O=C(Cn1cc([N+](=O)[O-])cn1)N1CCC(CO)C1</td>\n",
       "      <td>[O][=C][Branch1][S][C][N][C][=C][Branch1][=Bra...</td>\n",
       "      <td>30</td>\n",
       "    </tr>\n",
       "    <tr>\n",
       "      <th>2</th>\n",
       "      <td>1099938503</td>\n",
       "      <td>COCCCN1CC[C@@H](NC(=O)c2cnco2)[C@H](O)C1</td>\n",
       "      <td>[C][O][C][C][C][N][C][C][C@@H1][Branch1][=N][N...</td>\n",
       "      <td>30</td>\n",
       "      <td>COCCCN1CCC(NC(=O)c2cnco2)C(O)C1</td>\n",
       "      <td>[C][O][C][C][C][N][C][C][C][Branch1][=N][N][C]...</td>\n",
       "      <td>30</td>\n",
       "    </tr>\n",
       "    <tr>\n",
       "      <th>3</th>\n",
       "      <td>1368537405</td>\n",
       "      <td>C[C@@H](O)CNC[C@H]1CN(C(=O)Cc2cnc[nH]2)CCO1</td>\n",
       "      <td>[C][C@@H1][Branch1][C][O][C][N][C][C@H1][C][N]...</td>\n",
       "      <td>30</td>\n",
       "      <td>CC(O)CNCC1CN(C(=O)Cc2cnc[nH]2)CCO1</td>\n",
       "      <td>[C][C][Branch1][C][O][C][N][C][C][C][N][Branch...</td>\n",
       "      <td>30</td>\n",
       "    </tr>\n",
       "    <tr>\n",
       "      <th>4</th>\n",
       "      <td>1379339000</td>\n",
       "      <td>C[C@H](CNCc1cn(C)nn1)NC(=O)COCC1CC1</td>\n",
       "      <td>[C][C@H1][Branch1][=C][C][N][C][C][=C][N][Bran...</td>\n",
       "      <td>30</td>\n",
       "      <td>CC(CNCc1cn(C)nn1)NC(=O)COCC1CC1</td>\n",
       "      <td>[C][C][Branch1][=C][C][N][C][C][=C][N][Branch1...</td>\n",
       "      <td>30</td>\n",
       "    </tr>\n",
       "  </tbody>\n",
       "</table>\n",
       "</div>"
      ],
      "text/plain": [
       "        index                                       smiles  \\\n",
       "0   563932204       CNC(=O)CCCN1CCN(S(C)(=O)=O)[C@@H](C)C1   \n",
       "1    51885268  O=C(Cn1cc([N+](=O)[O-])cn1)N1CC[C@@H](CO)C1   \n",
       "2  1099938503     COCCCN1CC[C@@H](NC(=O)c2cnco2)[C@H](O)C1   \n",
       "3  1368537405  C[C@@H](O)CNC[C@H]1CN(C(=O)Cc2cnc[nH]2)CCO1   \n",
       "4  1379339000          C[C@H](CNCc1cn(C)nn1)NC(=O)COCC1CC1   \n",
       "\n",
       "                                             SELFIES  SELFIES_length  \\\n",
       "0  [C][N][C][=Branch1][C][=O][C][C][C][N][C][C][N...              30   \n",
       "1  [O][=C][Branch1][S][C][N][C][=C][Branch1][=Bra...              30   \n",
       "2  [C][O][C][C][C][N][C][C][C@@H1][Branch1][=N][N...              30   \n",
       "3  [C][C@@H1][Branch1][C][O][C][N][C][C@H1][C][N]...              30   \n",
       "4  [C][C@H1][Branch1][=C][C][N][C][C][=C][N][Bran...              30   \n",
       "\n",
       "                         SMILES_canonical  \\\n",
       "0       CNC(=O)CCCN1CCN(S(C)(=O)=O)C(C)C1   \n",
       "1  O=C(Cn1cc([N+](=O)[O-])cn1)N1CCC(CO)C1   \n",
       "2         COCCCN1CCC(NC(=O)c2cnco2)C(O)C1   \n",
       "3      CC(O)CNCC1CN(C(=O)Cc2cnc[nH]2)CCO1   \n",
       "4         CC(CNCc1cn(C)nn1)NC(=O)COCC1CC1   \n",
       "\n",
       "                                   SELFIES_canonical  SELFIES_length_canonical  \n",
       "0  [C][N][C][=Branch1][C][=O][C][C][C][N][C][C][N...                        30  \n",
       "1  [O][=C][Branch1][S][C][N][C][=C][Branch1][=Bra...                        30  \n",
       "2  [C][O][C][C][C][N][C][C][C][Branch1][=N][N][C]...                        30  \n",
       "3  [C][C][Branch1][C][O][C][N][C][C][C][N][Branch...                        30  \n",
       "4  [C][C][Branch1][=C][C][N][C][C][=C][N][Branch1...                        30  "
      ]
     },
     "execution_count": 34,
     "metadata": {},
     "output_type": "execute_result"
    }
   ],
   "source": [
    "whole_data_set.head()"
   ]
  },
  {
   "cell_type": "markdown",
   "id": "528a2f61",
   "metadata": {},
   "source": [
    "## Training was done on 121,000 of molecules\n",
    "### Tanimoto simalirity distribution among newly generated and trained SMILES"
   ]
  },
  {
   "cell_type": "code",
   "execution_count": 35,
   "id": "d5bc4625",
   "metadata": {},
   "outputs": [],
   "source": [
    "whole_data_set = whole_data_set['SMILES_canonical']"
   ]
  },
  {
   "cell_type": "code",
   "execution_count": 36,
   "id": "e04ba2fb",
   "metadata": {},
   "outputs": [
    {
     "data": {
      "text/plain": [
       "121000"
      ]
     },
     "execution_count": 36,
     "metadata": {},
     "output_type": "execute_result"
    }
   ],
   "source": [
    "len(whole_data_set)"
   ]
  },
  {
   "cell_type": "code",
   "execution_count": 37,
   "id": "f245d954",
   "metadata": {},
   "outputs": [],
   "source": [
    "whole_data_set_smi = [Chem.MolFromSmiles(smi) for smi in whole_data_set]"
   ]
  },
  {
   "cell_type": "code",
   "execution_count": 38,
   "id": "b45c2dbd",
   "metadata": {},
   "outputs": [
    {
     "data": {
      "image/png": "[encoded data removed]",
      "text/plain": [
       "<rdkit.Chem.rdchem.Mol at 0x7f054dd047c0>"
      ]
     },
     "execution_count": 38,
     "metadata": {},
     "output_type": "execute_result"
    }
   ],
   "source": [
    "whole_data_set_smi[0]"
   ]
  },
  {
   "cell_type": "code",
   "execution_count": 39,
   "id": "32e6a93a",
   "metadata": {},
   "outputs": [
    {
     "data": {
      "text/plain": [
       "['CNC(=O)CCCN1CCN(S(C)(=O)=O)C(C)C1',\n",
       " 'O=C(Cn1cc([N+](=O)[O-])cn1)N1CCC(CO)C1',\n",
       " 'COCCCN1CCC(NC(=O)c2cnco2)C(O)C1']"
      ]
     },
     "execution_count": 39,
     "metadata": {},
     "output_type": "execute_result"
    }
   ],
   "source": [
    "#isomeric SMILES to canonical SMILES\n",
    "whole_data_set_smi_cannonical = []\n",
    "for mol in whole_data_set_smi:\n",
    "    cannonical = Chem.MolToSmiles(mol, isomericSmiles=False)\n",
    "    whole_data_set_smi_cannonical.append(cannonical)\n",
    "whole_data_set_smi_cannonical[0:3]"
   ]
  },
  {
   "cell_type": "code",
   "execution_count": 40,
   "id": "476d1a67",
   "metadata": {},
   "outputs": [
    {
     "data": {
      "image/png": "[encoded data removed]",
      "text/plain": [
       "<rdkit.Chem.rdchem.Mol at 0x7f054dd047c0>"
      ]
     },
     "execution_count": 40,
     "metadata": {},
     "output_type": "execute_result"
    }
   ],
   "source": [
    "whole_data_set_smi[0]"
   ]
  },
  {
   "cell_type": "code",
   "execution_count": 41,
   "id": "cfd70d9c",
   "metadata": {},
   "outputs": [
    {
     "data": {
      "text/plain": [
       "'CNC(=O)CCCN1CCN(S(C)(=O)=O)C(C)C1'"
      ]
     },
     "execution_count": 41,
     "metadata": {},
     "output_type": "execute_result"
    }
   ],
   "source": [
    "whole_data_set_smi_cannonical[0]"
   ]
  },
  {
   "cell_type": "code",
   "execution_count": 42,
   "id": "9290cdb1",
   "metadata": {},
   "outputs": [
    {
     "data": {
      "image/png": "[encoded data removed]",
      "text/plain": [
       "<rdkit.Chem.rdchem.Mol at 0x7f05a5d59880>"
      ]
     },
     "execution_count": 42,
     "metadata": {},
     "output_type": "execute_result"
    }
   ],
   "source": [
    "whole_data_set_smi_cannonical_mol = [Chem.MolFromSmiles(smi) for smi in whole_data_set_smi_cannonical]\n",
    "whole_data_set_smi_cannonical_mol[0]"
   ]
  },
  {
   "cell_type": "code",
   "execution_count": 43,
   "id": "aa752221",
   "metadata": {},
   "outputs": [],
   "source": [
    "df = get_similarity_lists_of_mols(whole_data_set_smi_cannonical_mol, docked_mols) #second param as list of SMILES"
   ]
  },
  {
   "cell_type": "code",
   "execution_count": 44,
   "id": "eedf633d",
   "metadata": {},
   "outputs": [],
   "source": [
    "dataframe_train = pd.DataFrame(df, columns=['Tanimoto simalirity distribution among newly generated and trained SMILES'])"
   ]
  },
  {
   "cell_type": "code",
   "execution_count": 45,
   "id": "99c395b5",
   "metadata": {},
   "outputs": [
    {
     "name": "stdout",
     "output_type": "stream",
     "text": [
      "MIN similarity: 0.023952095808383235\n",
      "MAX similarity: 0.6454682023034551\n"
     ]
    },
    {
     "data": {
      "image/png": "[encoded data removed]",
      "text/plain": [
       "<Figure size 432x288 with 1 Axes>"
      ]
     },
     "metadata": {
      "needs_background": "light"
     },
     "output_type": "display_data"
    }
   ],
   "source": [
    "dataframe_train.hist()\n",
    "print(\"MIN similarity: \"+str(min(df)))\n",
    "print(\"MAX similarity: \"+str(max(df)))"
   ]
  },
  {
   "cell_type": "code",
   "execution_count": 46,
   "id": "b847ff57",
   "metadata": {},
   "outputs": [
    {
     "data": {
      "image/png": "[encoded data removed]",
      "text/plain": [
       "<Figure size 720x360 with 1 Axes>"
      ]
     },
     "metadata": {
      "needs_background": "light"
     },
     "output_type": "display_data"
    },
    {
     "name": "stdout",
     "output_type": "stream",
     "text": [
      "count    2.420000e+06\n",
      "mean     2.657276e-01\n",
      "std      6.570245e-02\n",
      "min      2.395210e-02\n",
      "25%      2.190476e-01\n",
      "50%      2.622821e-01\n",
      "75%      3.087379e-01\n",
      "max      6.454682e-01\n",
      "Name: Tanimoto simalirity distribution among newly generated and trained SMILES, dtype: float64\n"
     ]
    }
   ],
   "source": [
    "plt.figure(figsize=(10,5))\n",
    "plt.hist(dataframe_train['Tanimoto simalirity distribution among newly generated and trained SMILES'],bins=100)\n",
    "plt.xlabel('Tanimoto similarity', fontsize=14)\n",
    "plt.ylabel('Frequency', fontsize=14)\n",
    "#plt.title('Histogram of Tanimoto similarity distribution')\n",
    "plt.grid(True)\n",
    "plt.show()\n",
    "\n",
    "print(dataframe_train['Tanimoto simalirity distribution among newly generated and trained SMILES'].describe())"
   ]
  },
  {
   "cell_type": "code",
   "execution_count": 47,
   "id": "184234ec",
   "metadata": {},
   "outputs": [],
   "source": [
    "new_ = dataframe_train[dataframe_train['Tanimoto simalirity distribution among newly generated and trained SMILES']>0.5]"
   ]
  },
  {
   "cell_type": "code",
   "execution_count": 48,
   "id": "fbf0261d",
   "metadata": {},
   "outputs": [
    {
     "data": {
      "text/plain": [
       "888"
      ]
     },
     "execution_count": 48,
     "metadata": {},
     "output_type": "execute_result"
    }
   ],
   "source": [
    "len(new_['Tanimoto simalirity distribution among newly generated and trained SMILES'])"
   ]
  },
  {
   "cell_type": "markdown",
   "id": "6f88af3d",
   "metadata": {},
   "source": [
    "## Check if initial SMILES is present in PUBCHEM database (ROR-gamma active)"
   ]
  },
  {
   "cell_type": "code",
   "execution_count": 49,
   "id": "eb4b1585",
   "metadata": {},
   "outputs": [],
   "source": [
    "def find_smiles_in_PUBCHEM(smiles):\n",
    "    compounds = []\n",
    "    try:\n",
    "        compound = pcp.get_compounds(smiles, 'smiles')\n",
    "        compounds.append(compound)\n",
    "    except:\n",
    "        print(\"Not found : \"+ str(smiles))\n",
    "    return compounds"
   ]
  },
  {
   "cell_type": "code",
   "execution_count": 50,
   "id": "59687cc0",
   "metadata": {},
   "outputs": [],
   "source": [
    "test_if_initial_data_can_be_found = [find_smiles_in_PUBCHEM(smiles) for smiles in initial_smi['SMILES']]"
   ]
  },
  {
   "cell_type": "code",
   "execution_count": 51,
   "id": "55132cce",
   "metadata": {},
   "outputs": [
    {
     "data": {
      "text/plain": [
       "5"
      ]
     },
     "execution_count": 51,
     "metadata": {},
     "output_type": "execute_result"
    }
   ],
   "source": [
    "len(test_if_initial_data_can_be_found)"
   ]
  },
  {
   "cell_type": "code",
   "execution_count": 52,
   "id": "5ce21b72",
   "metadata": {},
   "outputs": [
    {
     "data": {
      "text/plain": [
       "[[[Compound(807146)]],\n",
       " [[Compound(16445174)]],\n",
       " [[Compound(71470549)]],\n",
       " [[Compound(71811962)]],\n",
       " [[Compound(135337558)]]]"
      ]
     },
     "execution_count": 52,
     "metadata": {},
     "output_type": "execute_result"
    }
   ],
   "source": [
    "test_if_initial_data_can_be_found"
   ]
  },
  {
   "cell_type": "markdown",
   "id": "2baad6c2",
   "metadata": {},
   "source": [
    "## Check if newly generated SMILES is present in PUBCHEM database"
   ]
  },
  {
   "cell_type": "code",
   "execution_count": 53,
   "id": "125de021",
   "metadata": {},
   "outputs": [
    {
     "name": "stdout",
     "output_type": "stream",
     "text": [
      "Not found : CCC(=O)NCc1ccnn1[SH]1C=C(c2ccccc2F)NN1\n",
      "Not found : CCC(=O)N1c2ccn(-c3ncnc(C#N)c3C)c2[SH]1C\n"
     ]
    }
   ],
   "source": [
    "test_if_newly_generated_data_can_be_found = [find_smiles_in_PUBCHEM(smiles) for smiles in to_check_in_PUBCHEM]"
   ]
  },
  {
   "cell_type": "code",
   "execution_count": 54,
   "id": "a61fe42c",
   "metadata": {},
   "outputs": [
    {
     "data": {
      "text/plain": [
       "[[],\n",
       " [[Compound()]],\n",
       " [],\n",
       " [[Compound()]],\n",
       " [[Compound()]],\n",
       " [[Compound()]],\n",
       " [[Compound()]],\n",
       " [[Compound(16445174)]],\n",
       " [[Compound()]],\n",
       " [[Compound()]],\n",
       " [[Compound()]],\n",
       " [[Compound()]],\n",
       " [[Compound()]],\n",
       " [[Compound()]],\n",
       " [[Compound()]],\n",
       " [[Compound()]],\n",
       " [[Compound()]],\n",
       " [[Compound()]],\n",
       " [[Compound()]],\n",
       " [[Compound()]]]"
      ]
     },
     "execution_count": 54,
     "metadata": {},
     "output_type": "execute_result"
    }
   ],
   "source": [
    "test_if_newly_generated_data_can_be_found"
   ]
  },
  {
   "cell_type": "code",
   "execution_count": 55,
   "id": "6567126f",
   "metadata": {},
   "outputs": [
    {
     "data": {
      "text/plain": [
       "['CC1=CC(=CC=C1)C(=O)NC2=CC(=NO2)C3=CC=CC=C3']"
      ]
     },
     "execution_count": 55,
     "metadata": {},
     "output_type": "execute_result"
    }
   ],
   "source": [
    "smiles_found_in_pubchem = []\n",
    "for i in range(len(test_if_newly_generated_data_can_be_found)):\n",
    "    try:\n",
    "        smiles_found_in_pubchem.append(test_if_newly_generated_data_can_be_found[i][0][0].canonical_smiles)\n",
    "    except:\n",
    "        pass\n",
    "smiles_found_in_pubchem_1 = []\n",
    "for val in smiles_found_in_pubchem:\n",
    "    if val != None :\n",
    "        smiles_found_in_pubchem_1.append(val)\n",
    "smiles_found_in_pubchem_1"
   ]
  },
  {
   "cell_type": "code",
   "execution_count": null,
   "id": "83ccc875",
   "metadata": {},
   "outputs": [],
   "source": []
  }
 ],
 "metadata": {
  "kernelspec": {
   "display_name": "Python 3 (ipykernel)",
   "language": "python",
   "name": "python3"
  },
  "language_info": {
   "codemirror_mode": {
    "name": "ipython",
    "version": 3
   },
   "file_extension": ".py",
   "mimetype": "text/x-python",
   "name": "python",
   "nbconvert_exporter": "python",
   "pygments_lexer": "ipython3",
   "version": "3.8.12"
  }
 },
 "nbformat": 4,
 "nbformat_minor": 5
}
