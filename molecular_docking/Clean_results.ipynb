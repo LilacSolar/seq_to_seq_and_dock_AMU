{
 "cells": [
  {
   "cell_type": "code",
   "execution_count": 1,
   "metadata": {},
   "outputs": [],
   "source": [
    "import pandas as pd\n",
    "import warnings\n",
    "warnings.filterwarnings('ignore')"
   ]
  },
  {
   "cell_type": "code",
   "execution_count": 2,
   "metadata": {},
   "outputs": [],
   "source": [
    "to_be_clean = pd.read_excel('dockingResults_ROR_gamma_SYBA_selected.xlsx')"
   ]
  },
  {
   "cell_type": "code",
   "execution_count": 3,
   "metadata": {},
   "outputs": [
    {
     "data": {
      "text/html": [
       "<div>\n",
       "<style scoped>\n",
       "    .dataframe tbody tr th:only-of-type {\n",
       "        vertical-align: middle;\n",
       "    }\n",
       "\n",
       "    .dataframe tbody tr th {\n",
       "        vertical-align: top;\n",
       "    }\n",
       "\n",
       "    .dataframe thead th {\n",
       "        text-align: right;\n",
       "    }\n",
       "</style>\n",
       "<table border=\"1\" class=\"dataframe\">\n",
       "  <thead>\n",
       "    <tr style=\"text-align: right;\">\n",
       "      <th></th>\n",
       "      <th>Unnamed: 0</th>\n",
       "      <th>smiles</th>\n",
       "      <th>7npc</th>\n",
       "      <th>7np5</th>\n",
       "      <th>7kxd</th>\n",
       "    </tr>\n",
       "  </thead>\n",
       "  <tbody>\n",
       "    <tr>\n",
       "      <th>0</th>\n",
       "      <td>NaN</td>\n",
       "      <td>CCC(=O)NCC1=CC=NN1S=2C=C(C3=CC=CC=C3F)NC=2C</td>\n",
       "      <td>(-7.9, [-1.5603076923076924, -32.6824615384615...</td>\n",
       "      <td>(-8.2, [-1.6278846153846152, 32.52484615384615...</td>\n",
       "      <td>(-8.6, [-3.5059615384615386, 26.17238461538462...</td>\n",
       "    </tr>\n",
       "    <tr>\n",
       "      <th>1</th>\n",
       "      <td>NaN</td>\n",
       "      <td>CCC(=O)NCC1C(C2=N[NH1]C=C2C(C)(C)O)N=C1N</td>\n",
       "      <td>(-6.5, [6.566520000000001, -50.055200000000006...</td>\n",
       "      <td>(-6.9, [0.018399999999999944, 33.2057999999999...</td>\n",
       "      <td>(-6.7, [-1.2255999999999998, 25.08835999999999...</td>\n",
       "    </tr>\n",
       "    <tr>\n",
       "      <th>2</th>\n",
       "      <td>NaN</td>\n",
       "      <td>CCC(=O)NCC1=CC=NN1S=2C=C(C3=CC=CC=C3F)[NH1]N=2</td>\n",
       "      <td>(-8.6, [-6.91092, -35.7778, -5.566839999999998])</td>\n",
       "      <td>(-8.1, [-6.647, 35.882400000000004, 5.65964000...</td>\n",
       "      <td>(-8.7, [-3.5684800000000005, 25.92992000000000...</td>\n",
       "    </tr>\n",
       "    <tr>\n",
       "      <th>3</th>\n",
       "      <td>NaN</td>\n",
       "      <td>CC1=CC=CC(C(=O)CC2=NC(Cl)=CC3=CC=CN=C23)=C1</td>\n",
       "      <td>(-9.2, [-7.255761904761905, -35.67042857142856...</td>\n",
       "      <td>(-10.9, [-1.9836190476190476, 44.1005714285714...</td>\n",
       "      <td>(-8.7, [-4.162761904761905, 26.858333333333338...</td>\n",
       "    </tr>\n",
       "    <tr>\n",
       "      <th>4</th>\n",
       "      <td>NaN</td>\n",
       "      <td>CC1=CC=CC(C(=O)NC2=CC(C3=CC=CC=C3)=NO2)=C1</td>\n",
       "      <td>(-8.8, [-2.549909090909092, -33.33081818181818...</td>\n",
       "      <td>(-9.0, [-6.642318181818182, 36.212090909090904...</td>\n",
       "      <td>(-9.2, [-2.9607272727272727, 26.67727272727272...</td>\n",
       "    </tr>\n",
       "  </tbody>\n",
       "</table>\n",
       "</div>"
      ],
      "text/plain": [
       "   Unnamed: 0                                          smiles  \\\n",
       "0         NaN     CCC(=O)NCC1=CC=NN1S=2C=C(C3=CC=CC=C3F)NC=2C   \n",
       "1         NaN        CCC(=O)NCC1C(C2=N[NH1]C=C2C(C)(C)O)N=C1N   \n",
       "2         NaN  CCC(=O)NCC1=CC=NN1S=2C=C(C3=CC=CC=C3F)[NH1]N=2   \n",
       "3         NaN     CC1=CC=CC(C(=O)CC2=NC(Cl)=CC3=CC=CN=C23)=C1   \n",
       "4         NaN      CC1=CC=CC(C(=O)NC2=CC(C3=CC=CC=C3)=NO2)=C1   \n",
       "\n",
       "                                                7npc  \\\n",
       "0  (-7.9, [-1.5603076923076924, -32.6824615384615...   \n",
       "1  (-6.5, [6.566520000000001, -50.055200000000006...   \n",
       "2   (-8.6, [-6.91092, -35.7778, -5.566839999999998])   \n",
       "3  (-9.2, [-7.255761904761905, -35.67042857142856...   \n",
       "4  (-8.8, [-2.549909090909092, -33.33081818181818...   \n",
       "\n",
       "                                                7np5  \\\n",
       "0  (-8.2, [-1.6278846153846152, 32.52484615384615...   \n",
       "1  (-6.9, [0.018399999999999944, 33.2057999999999...   \n",
       "2  (-8.1, [-6.647, 35.882400000000004, 5.65964000...   \n",
       "3  (-10.9, [-1.9836190476190476, 44.1005714285714...   \n",
       "4  (-9.0, [-6.642318181818182, 36.212090909090904...   \n",
       "\n",
       "                                                7kxd  \n",
       "0  (-8.6, [-3.5059615384615386, 26.17238461538462...  \n",
       "1  (-6.7, [-1.2255999999999998, 25.08835999999999...  \n",
       "2  (-8.7, [-3.5684800000000005, 25.92992000000000...  \n",
       "3  (-8.7, [-4.162761904761905, 26.858333333333338...  \n",
       "4  (-9.2, [-2.9607272727272727, 26.67727272727272...  "
      ]
     },
     "execution_count": 3,
     "metadata": {},
     "output_type": "execute_result"
    }
   ],
   "source": [
    "to_be_clean.head()"
   ]
  },
  {
   "cell_type": "code",
   "execution_count": 4,
   "metadata": {},
   "outputs": [
    {
     "data": {
      "text/plain": [
       "'-7.9'"
      ]
     },
     "execution_count": 4,
     "metadata": {},
     "output_type": "execute_result"
    }
   ],
   "source": [
    "to_be_clean['7npc'][0][1:5]"
   ]
  },
  {
   "cell_type": "code",
   "execution_count": 5,
   "metadata": {},
   "outputs": [],
   "source": [
    "new_dataframe = pd.DataFrame(to_be_clean['smiles'])"
   ]
  },
  {
   "cell_type": "code",
   "execution_count": 6,
   "metadata": {},
   "outputs": [],
   "source": [
    "new_dataframe['7npc'] = [to_be_clean['7npc'][i][1:5] for i in range(len(to_be_clean['7npc']))]\n",
    "new_dataframe['7np5'] = [to_be_clean['7np5'][i][1:5] for i in range(len(to_be_clean['7np5']))]\n",
    "new_dataframe['7kxd'] = [to_be_clean['7kxd'][i][1:5] for i in range(len(to_be_clean['7kxd']))]"
   ]
  },
  {
   "cell_type": "code",
   "execution_count": 7,
   "metadata": {},
   "outputs": [
    {
     "data": {
      "text/html": [
       "<div>\n",
       "<style scoped>\n",
       "    .dataframe tbody tr th:only-of-type {\n",
       "        vertical-align: middle;\n",
       "    }\n",
       "\n",
       "    .dataframe tbody tr th {\n",
       "        vertical-align: top;\n",
       "    }\n",
       "\n",
       "    .dataframe thead th {\n",
       "        text-align: right;\n",
       "    }\n",
       "</style>\n",
       "<table border=\"1\" class=\"dataframe\">\n",
       "  <thead>\n",
       "    <tr style=\"text-align: right;\">\n",
       "      <th></th>\n",
       "      <th>smiles</th>\n",
       "      <th>7npc</th>\n",
       "      <th>7np5</th>\n",
       "      <th>7kxd</th>\n",
       "    </tr>\n",
       "  </thead>\n",
       "  <tbody>\n",
       "    <tr>\n",
       "      <th>0</th>\n",
       "      <td>CCC(=O)NCC1=CC=NN1S=2C=C(C3=CC=CC=C3F)NC=2C</td>\n",
       "      <td>-7.9</td>\n",
       "      <td>-8.2</td>\n",
       "      <td>-8.6</td>\n",
       "    </tr>\n",
       "    <tr>\n",
       "      <th>1</th>\n",
       "      <td>CCC(=O)NCC1C(C2=N[NH1]C=C2C(C)(C)O)N=C1N</td>\n",
       "      <td>-6.5</td>\n",
       "      <td>-6.9</td>\n",
       "      <td>-6.7</td>\n",
       "    </tr>\n",
       "    <tr>\n",
       "      <th>2</th>\n",
       "      <td>CCC(=O)NCC1=CC=NN1S=2C=C(C3=CC=CC=C3F)[NH1]N=2</td>\n",
       "      <td>-8.6</td>\n",
       "      <td>-8.1</td>\n",
       "      <td>-8.7</td>\n",
       "    </tr>\n",
       "    <tr>\n",
       "      <th>3</th>\n",
       "      <td>CC1=CC=CC(C(=O)CC2=NC(Cl)=CC3=CC=CN=C23)=C1</td>\n",
       "      <td>-9.2</td>\n",
       "      <td>-10.</td>\n",
       "      <td>-8.7</td>\n",
       "    </tr>\n",
       "    <tr>\n",
       "      <th>4</th>\n",
       "      <td>CC1=CC=CC(C(=O)NC2=CC(C3=CC=CC=C3)=NO2)=C1</td>\n",
       "      <td>-8.8</td>\n",
       "      <td>-9.0</td>\n",
       "      <td>-9.2</td>\n",
       "    </tr>\n",
       "  </tbody>\n",
       "</table>\n",
       "</div>"
      ],
      "text/plain": [
       "                                           smiles  7npc  7np5  7kxd\n",
       "0     CCC(=O)NCC1=CC=NN1S=2C=C(C3=CC=CC=C3F)NC=2C  -7.9  -8.2  -8.6\n",
       "1        CCC(=O)NCC1C(C2=N[NH1]C=C2C(C)(C)O)N=C1N  -6.5  -6.9  -6.7\n",
       "2  CCC(=O)NCC1=CC=NN1S=2C=C(C3=CC=CC=C3F)[NH1]N=2  -8.6  -8.1  -8.7\n",
       "3     CC1=CC=CC(C(=O)CC2=NC(Cl)=CC3=CC=CN=C23)=C1  -9.2  -10.  -8.7\n",
       "4      CC1=CC=CC(C(=O)NC2=CC(C3=CC=CC=C3)=NO2)=C1  -8.8  -9.0  -9.2"
      ]
     },
     "execution_count": 7,
     "metadata": {},
     "output_type": "execute_result"
    }
   ],
   "source": [
    "new_dataframe.head()"
   ]
  },
  {
   "cell_type": "code",
   "execution_count": 8,
   "metadata": {},
   "outputs": [],
   "source": [
    "new_dataframe.to_excel('dockingResults_ROR_gamma_SYBA_CLEAN.xlsx')"
   ]
  }
 ],
 "metadata": {
  "kernelspec": {
   "display_name": "Python 3",
   "language": "python",
   "name": "python3"
  },
  "language_info": {
   "codemirror_mode": {
    "name": "ipython",
    "version": 3
   },
   "file_extension": ".py",
   "mimetype": "text/x-python",
   "name": "python",
   "nbconvert_exporter": "python",
   "pygments_lexer": "ipython3",
   "version": "3.8.5"
  }
 },
 "nbformat": 4,
 "nbformat_minor": 5
}
