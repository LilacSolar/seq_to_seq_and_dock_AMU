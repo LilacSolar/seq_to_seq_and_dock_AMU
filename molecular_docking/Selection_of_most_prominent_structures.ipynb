{
 "cells": [
  {
   "cell_type": "code",
   "execution_count": 1,
   "id": "90743522",
   "metadata": {},
   "outputs": [],
   "source": [
    "import pandas as pd"
   ]
  },
  {
   "cell_type": "code",
   "execution_count": 2,
   "id": "18af2217",
   "metadata": {},
   "outputs": [],
   "source": [
    "results = pd.read_excel('dockingResults_ROR_gamma_SYBA_CLEAN.xlsx')\n",
    "results = results.iloc[:-2]"
   ]
  },
  {
   "cell_type": "code",
   "execution_count": 3,
   "id": "d40f0b74",
   "metadata": {},
   "outputs": [
    {
     "data": {
      "text/html": [
       "<div>\n",
       "<style scoped>\n",
       "    .dataframe tbody tr th:only-of-type {\n",
       "        vertical-align: middle;\n",
       "    }\n",
       "\n",
       "    .dataframe tbody tr th {\n",
       "        vertical-align: top;\n",
       "    }\n",
       "\n",
       "    .dataframe thead th {\n",
       "        text-align: right;\n",
       "    }\n",
       "</style>\n",
       "<table border=\"1\" class=\"dataframe\">\n",
       "  <thead>\n",
       "    <tr style=\"text-align: right;\">\n",
       "      <th></th>\n",
       "      <th>smiles</th>\n",
       "      <th>7npc</th>\n",
       "      <th>7np5</th>\n",
       "      <th>7kxd</th>\n",
       "    </tr>\n",
       "  </thead>\n",
       "  <tbody>\n",
       "    <tr>\n",
       "      <th>0</th>\n",
       "      <td>CCC(=O)NCC1=CC=NN1S=2C=C(C3=CC=CC=C3F)NC=2C</td>\n",
       "      <td>-7.9</td>\n",
       "      <td>-8.2</td>\n",
       "      <td>-8.6</td>\n",
       "    </tr>\n",
       "    <tr>\n",
       "      <th>1</th>\n",
       "      <td>CCC(=O)NCC1C(C2=N[NH1]C=C2C(C)(C)O)N=C1N</td>\n",
       "      <td>-6.5</td>\n",
       "      <td>-6.9</td>\n",
       "      <td>-6.7</td>\n",
       "    </tr>\n",
       "    <tr>\n",
       "      <th>2</th>\n",
       "      <td>CCC(=O)NCC1=CC=NN1S=2C=C(C3=CC=CC=C3F)[NH1]N=2</td>\n",
       "      <td>-8.6</td>\n",
       "      <td>-8.1</td>\n",
       "      <td>-8.7</td>\n",
       "    </tr>\n",
       "    <tr>\n",
       "      <th>3</th>\n",
       "      <td>CC1=CC=CC(C(=O)CC2=NC(Cl)=CC3=CC=CN=C23)=C1</td>\n",
       "      <td>-9.2</td>\n",
       "      <td>-10.0</td>\n",
       "      <td>-8.7</td>\n",
       "    </tr>\n",
       "    <tr>\n",
       "      <th>4</th>\n",
       "      <td>CC1=CC=CC(C(=O)NC2=CC(C3=CC=CC=C3)=NO2)=C1</td>\n",
       "      <td>-8.8</td>\n",
       "      <td>-9.0</td>\n",
       "      <td>-9.2</td>\n",
       "    </tr>\n",
       "  </tbody>\n",
       "</table>\n",
       "</div>"
      ],
      "text/plain": [
       "                                           smiles  7npc  7np5  7kxd\n",
       "0     CCC(=O)NCC1=CC=NN1S=2C=C(C3=CC=CC=C3F)NC=2C  -7.9  -8.2  -8.6\n",
       "1        CCC(=O)NCC1C(C2=N[NH1]C=C2C(C)(C)O)N=C1N  -6.5  -6.9  -6.7\n",
       "2  CCC(=O)NCC1=CC=NN1S=2C=C(C3=CC=CC=C3F)[NH1]N=2  -8.6  -8.1  -8.7\n",
       "3     CC1=CC=CC(C(=O)CC2=NC(Cl)=CC3=CC=CN=C23)=C1  -9.2 -10.0  -8.7\n",
       "4      CC1=CC=CC(C(=O)NC2=CC(C3=CC=CC=C3)=NO2)=C1  -8.8  -9.0  -9.2"
      ]
     },
     "execution_count": 3,
     "metadata": {},
     "output_type": "execute_result"
    }
   ],
   "source": [
    "results[['smiles','7npc','7np5','7kxd']].head()"
   ]
  },
  {
   "cell_type": "code",
   "execution_count": 4,
   "id": "c8dcac1b",
   "metadata": {},
   "outputs": [
    {
     "data": {
      "text/plain": [
       "Unnamed: 0                                                    0\n",
       "smiles        CC(=O)NC1=CC=CC(=C1)C(=O)N(C2CC3=CC=CC(CN)=C3N...\n",
       "7npc                                                      -10.0\n",
       "7np5                                                      -10.0\n",
       "7kxd                                                      -10.0\n",
       "dtype: object"
      ]
     },
     "execution_count": 4,
     "metadata": {},
     "output_type": "execute_result"
    }
   ],
   "source": [
    "results.min() # this method is useful, but do not hash the useful results"
   ]
  },
  {
   "cell_type": "code",
   "execution_count": 5,
   "id": "965acd8a",
   "metadata": {},
   "outputs": [],
   "source": [
    "lowest_binding_energy = results[(results['7npc'] == results['7npc'].min()) | (results['7np5'] == results['7np5'].min()) | (results['7kxd'] == results['7kxd'].min())]"
   ]
  },
  {
   "cell_type": "code",
   "execution_count": 6,
   "id": "77d952ab",
   "metadata": {},
   "outputs": [
    {
     "data": {
      "text/html": [
       "<div>\n",
       "<style scoped>\n",
       "    .dataframe tbody tr th:only-of-type {\n",
       "        vertical-align: middle;\n",
       "    }\n",
       "\n",
       "    .dataframe tbody tr th {\n",
       "        vertical-align: top;\n",
       "    }\n",
       "\n",
       "    .dataframe thead th {\n",
       "        text-align: right;\n",
       "    }\n",
       "</style>\n",
       "<table border=\"1\" class=\"dataframe\">\n",
       "  <thead>\n",
       "    <tr style=\"text-align: right;\">\n",
       "      <th></th>\n",
       "      <th>Unnamed: 0</th>\n",
       "      <th>smiles</th>\n",
       "      <th>7npc</th>\n",
       "      <th>7np5</th>\n",
       "      <th>7kxd</th>\n",
       "    </tr>\n",
       "  </thead>\n",
       "  <tbody>\n",
       "    <tr>\n",
       "      <th>3</th>\n",
       "      <td>3</td>\n",
       "      <td>CC1=CC=CC(C(=O)CC2=NC(Cl)=CC3=CC=CN=C23)=C1</td>\n",
       "      <td>-9.2</td>\n",
       "      <td>-10.0</td>\n",
       "      <td>-8.7</td>\n",
       "    </tr>\n",
       "    <tr>\n",
       "      <th>6</th>\n",
       "      <td>6</td>\n",
       "      <td>CC(=O)NC1=CC=CC(=C1)C(=O)N(CC2=CC=CC=C2NC3=NC(...</td>\n",
       "      <td>-10.0</td>\n",
       "      <td>-9.1</td>\n",
       "      <td>-9.2</td>\n",
       "    </tr>\n",
       "    <tr>\n",
       "      <th>7</th>\n",
       "      <td>7</td>\n",
       "      <td>CC(=O)NC1=CC=CC(=C1)C(=O)N(CC2=CC=CC3=C2N4C(C)...</td>\n",
       "      <td>-8.7</td>\n",
       "      <td>-8.8</td>\n",
       "      <td>-10.0</td>\n",
       "    </tr>\n",
       "    <tr>\n",
       "      <th>8</th>\n",
       "      <td>8</td>\n",
       "      <td>CC(=O)NC1=CC=CC(=C1)C(=O)NCC=CC2C=CN(C)C=C(F)C...</td>\n",
       "      <td>-9.9</td>\n",
       "      <td>-9.5</td>\n",
       "      <td>-10.0</td>\n",
       "    </tr>\n",
       "    <tr>\n",
       "      <th>14</th>\n",
       "      <td>14</td>\n",
       "      <td>CC(=O)NC1=CC=CC(=C1)C(=O)N(C2CC3=CC=CC(CN)=C3N...</td>\n",
       "      <td>-8.8</td>\n",
       "      <td>-10.0</td>\n",
       "      <td>-10.0</td>\n",
       "    </tr>\n",
       "    <tr>\n",
       "      <th>15</th>\n",
       "      <td>15</td>\n",
       "      <td>CC(=O)NC1=CC=CC(=C1)C(=O)N(CCC2=CC=C(F)C=C2N3C...</td>\n",
       "      <td>-9.5</td>\n",
       "      <td>-10.0</td>\n",
       "      <td>-9.6</td>\n",
       "    </tr>\n",
       "  </tbody>\n",
       "</table>\n",
       "</div>"
      ],
      "text/plain": [
       "    Unnamed: 0                                             smiles  7npc  7np5  \\\n",
       "3            3        CC1=CC=CC(C(=O)CC2=NC(Cl)=CC3=CC=CN=C23)=C1  -9.2 -10.0   \n",
       "6            6  CC(=O)NC1=CC=CC(=C1)C(=O)N(CC2=CC=CC=C2NC3=NC(... -10.0  -9.1   \n",
       "7            7  CC(=O)NC1=CC=CC(=C1)C(=O)N(CC2=CC=CC3=C2N4C(C)...  -8.7  -8.8   \n",
       "8            8  CC(=O)NC1=CC=CC(=C1)C(=O)NCC=CC2C=CN(C)C=C(F)C...  -9.9  -9.5   \n",
       "14          14  CC(=O)NC1=CC=CC(=C1)C(=O)N(C2CC3=CC=CC(CN)=C3N...  -8.8 -10.0   \n",
       "15          15  CC(=O)NC1=CC=CC(=C1)C(=O)N(CCC2=CC=C(F)C=C2N3C...  -9.5 -10.0   \n",
       "\n",
       "    7kxd  \n",
       "3   -8.7  \n",
       "6   -9.2  \n",
       "7  -10.0  \n",
       "8  -10.0  \n",
       "14 -10.0  \n",
       "15  -9.6  "
      ]
     },
     "execution_count": 6,
     "metadata": {},
     "output_type": "execute_result"
    }
   ],
   "source": [
    "lowest_binding_energy"
   ]
  },
  {
   "cell_type": "code",
   "execution_count": 7,
   "id": "4be86101",
   "metadata": {},
   "outputs": [
    {
     "name": "stdout",
     "output_type": "stream",
     "text": [
      "The lowest binding energy to 7NP5: CC1=CC=CC(C(=O)CC2=NC(Cl)=CC3=CC=CN=C23)=C1 : -10.0 kcal/mol\n",
      "The lowest binding energy to 7NPC: CC(=O)NC1=CC=CC(=C1)C(=O)N(CC2=CC=CC=C2NC3=NC(C)=NC4=C3F)C(C#N)=N[NH1]4 : -10.0 kcal/mol\n",
      "The lowest binding energy to 7KXD: CC(=O)NC1=CC=CC(=C1)C(=O)N(CC2=CC=CC3=C2N4C(C)=N[NH1]C4[NH1]3)C5=NN=C(C)S5 : -10.0 kcal/mol\n",
      "The lowest binding energy to 7KXD: CC(=O)NC1=CC=CC(=C1)C(=O)NCC=CC2C=CN(C)C=C(F)C=NC=C2C : -10.0 kcal/mol\n",
      "The lowest binding energy to 7NP5: CC(=O)NC1=CC=CC(=C1)C(=O)N(C2CC3=CC=CC(CN)=C3N(C)C2C4)NC(F)=N[NH1]4 : -10.0 kcal/mol\n",
      "The lowest binding energy to 7KXD: CC(=O)NC1=CC=CC(=C1)C(=O)N(C2CC3=CC=CC(CN)=C3N(C)C2C4)NC(F)=N[NH1]4 : -10.0 kcal/mol\n",
      "The lowest binding energy to 7NP5: CC(=O)NC1=CC=CC(=C1)C(=O)N(CCC2=CC=C(F)C=C2N3C=NC=C3CC4)N[NH1]C(CC)=N4 : -10.0 kcal/mol\n"
     ]
    }
   ],
   "source": [
    "for i in range(len(results['smiles'])):\n",
    "    if results['7npc'][i] == results['7npc'].min():\n",
    "        print(\"The lowest binding energy to 7NPC: \"+str(results['smiles'][i])+' : '+str(results['7npc'][i])+' kcal/mol')\n",
    "    if results['7np5'][i] == results['7np5'].min():\n",
    "        print(\"The lowest binding energy to 7NP5: \"+str(results['smiles'][i])+' : '+str(results['7np5'][i])+' kcal/mol')\n",
    "    if results['7kxd'][i] == results['7kxd'].min():\n",
    "        print(\"The lowest binding energy to 7KXD: \"+str(results['smiles'][i])+' : '+str(results['7kxd'][i])+' kcal/mol')\n",
    "    else:\n",
    "        pass"
   ]
  },
  {
   "cell_type": "code",
   "execution_count": 8,
   "id": "bd37ba94",
   "metadata": {},
   "outputs": [
    {
     "data": {
      "text/plain": [
       "['CC1=CC=CC(C(=O)CC2=NC(Cl)=CC3=CC=CN=C23)=C1',\n",
       " 'CC(=O)NC1=CC=CC(=C1)C(=O)N(CC2=CC=CC=C2NC3=NC(C)=NC4=C3F)C(C#N)=N[NH1]4',\n",
       " 'CC(=O)NC1=CC=CC(=C1)C(=O)N(CC2=CC=CC3=C2N4C(C)=N[NH1]C4[NH1]3)C5=NN=C(C)S5',\n",
       " 'CC(=O)NC1=CC=CC(=C1)C(=O)NCC=CC2C=CN(C)C=C(F)C=NC=C2C',\n",
       " 'CC(=O)NC1=CC=CC(=C1)C(=O)N(C2CC3=CC=CC(CN)=C3N(C)C2C4)NC(F)=N[NH1]4',\n",
       " 'CC(=O)NC1=CC=CC(=C1)C(=O)N(CCC2=CC=C(F)C=C2N3C=NC=C3CC4)N[NH1]C(CC)=N4']"
      ]
     },
     "execution_count": 8,
     "metadata": {},
     "output_type": "execute_result"
    }
   ],
   "source": [
    "list(lowest_binding_energy['smiles'])"
   ]
  },
  {
   "cell_type": "code",
   "execution_count": 9,
   "id": "fba698d6",
   "metadata": {},
   "outputs": [],
   "source": [
    "from rdkit import Chem"
   ]
  },
  {
   "cell_type": "code",
   "execution_count": 10,
   "id": "210bc606",
   "metadata": {},
   "outputs": [
    {
     "data": {
      "image/png": "[encoded data removed]",
      "text/plain": [
       "<rdkit.Chem.rdchem.Mol at 0x7f00666e26a0>"
      ]
     },
     "execution_count": 10,
     "metadata": {},
     "output_type": "execute_result"
    }
   ],
   "source": [
    "Chem.MolFromSmiles(list(lowest_binding_energy['smiles'])[0])"
   ]
  },
  {
   "cell_type": "code",
   "execution_count": 11,
   "id": "4001d074",
   "metadata": {},
   "outputs": [
    {
     "data": {
      "image/png": "[encoded data removed]",
      "text/plain": [
       "<rdkit.Chem.rdchem.Mol at 0x7f00666e2880>"
      ]
     },
     "execution_count": 11,
     "metadata": {},
     "output_type": "execute_result"
    }
   ],
   "source": [
    "Chem.MolFromSmiles(list(lowest_binding_energy['smiles'])[1])"
   ]
  },
  {
   "cell_type": "code",
   "execution_count": 12,
   "id": "f79f5389",
   "metadata": {},
   "outputs": [
    {
     "data": {
      "image/png": "[encoded data removed]",
      "text/plain": [
       "<rdkit.Chem.rdchem.Mol at 0x7f00666e29a0>"
      ]
     },
     "execution_count": 12,
     "metadata": {},
     "output_type": "execute_result"
    }
   ],
   "source": [
    "Chem.MolFromSmiles(list(lowest_binding_energy['smiles'])[2])"
   ]
  },
  {
   "cell_type": "code",
   "execution_count": 13,
   "id": "1ee639ae",
   "metadata": {},
   "outputs": [
    {
     "data": {
      "image/png": "[encoded data removed]",
      "text/plain": [
       "<rdkit.Chem.rdchem.Mol at 0x7f00666e2ac0>"
      ]
     },
     "execution_count": 13,
     "metadata": {},
     "output_type": "execute_result"
    }
   ],
   "source": [
    "Chem.MolFromSmiles(list(lowest_binding_energy['smiles'])[3])"
   ]
  },
  {
   "cell_type": "markdown",
   "id": "fc196c12",
   "metadata": {},
   "source": [
    "## Calculate average binding energy of each potentia ligand"
   ]
  },
  {
   "cell_type": "code",
   "execution_count": 14,
   "id": "bc145314",
   "metadata": {},
   "outputs": [],
   "source": [
    "results['Average binding energy'] = round((results['7npc']+results['7np5']+results['7kxd'])/3,2)"
   ]
  },
  {
   "cell_type": "code",
   "execution_count": 15,
   "id": "192ee1cb",
   "metadata": {},
   "outputs": [
    {
     "data": {
      "text/html": [
       "<div>\n",
       "<style scoped>\n",
       "    .dataframe tbody tr th:only-of-type {\n",
       "        vertical-align: middle;\n",
       "    }\n",
       "\n",
       "    .dataframe tbody tr th {\n",
       "        vertical-align: top;\n",
       "    }\n",
       "\n",
       "    .dataframe thead th {\n",
       "        text-align: right;\n",
       "    }\n",
       "</style>\n",
       "<table border=\"1\" class=\"dataframe\">\n",
       "  <thead>\n",
       "    <tr style=\"text-align: right;\">\n",
       "      <th></th>\n",
       "      <th>Unnamed: 0</th>\n",
       "      <th>smiles</th>\n",
       "      <th>7npc</th>\n",
       "      <th>7np5</th>\n",
       "      <th>7kxd</th>\n",
       "      <th>Average binding energy</th>\n",
       "    </tr>\n",
       "  </thead>\n",
       "  <tbody>\n",
       "    <tr>\n",
       "      <th>0</th>\n",
       "      <td>0</td>\n",
       "      <td>CCC(=O)NCC1=CC=NN1S=2C=C(C3=CC=CC=C3F)NC=2C</td>\n",
       "      <td>-7.9</td>\n",
       "      <td>-8.2</td>\n",
       "      <td>-8.6</td>\n",
       "      <td>-8.23</td>\n",
       "    </tr>\n",
       "    <tr>\n",
       "      <th>1</th>\n",
       "      <td>1</td>\n",
       "      <td>CCC(=O)NCC1C(C2=N[NH1]C=C2C(C)(C)O)N=C1N</td>\n",
       "      <td>-6.5</td>\n",
       "      <td>-6.9</td>\n",
       "      <td>-6.7</td>\n",
       "      <td>-6.70</td>\n",
       "    </tr>\n",
       "    <tr>\n",
       "      <th>2</th>\n",
       "      <td>2</td>\n",
       "      <td>CCC(=O)NCC1=CC=NN1S=2C=C(C3=CC=CC=C3F)[NH1]N=2</td>\n",
       "      <td>-8.6</td>\n",
       "      <td>-8.1</td>\n",
       "      <td>-8.7</td>\n",
       "      <td>-8.47</td>\n",
       "    </tr>\n",
       "    <tr>\n",
       "      <th>3</th>\n",
       "      <td>3</td>\n",
       "      <td>CC1=CC=CC(C(=O)CC2=NC(Cl)=CC3=CC=CN=C23)=C1</td>\n",
       "      <td>-9.2</td>\n",
       "      <td>-10.0</td>\n",
       "      <td>-8.7</td>\n",
       "      <td>-9.30</td>\n",
       "    </tr>\n",
       "    <tr>\n",
       "      <th>4</th>\n",
       "      <td>4</td>\n",
       "      <td>CC1=CC=CC(C(=O)NC2=CC(C3=CC=CC=C3)=NO2)=C1</td>\n",
       "      <td>-8.8</td>\n",
       "      <td>-9.0</td>\n",
       "      <td>-9.2</td>\n",
       "      <td>-9.00</td>\n",
       "    </tr>\n",
       "  </tbody>\n",
       "</table>\n",
       "</div>"
      ],
      "text/plain": [
       "   Unnamed: 0                                          smiles  7npc  7np5  \\\n",
       "0           0     CCC(=O)NCC1=CC=NN1S=2C=C(C3=CC=CC=C3F)NC=2C  -7.9  -8.2   \n",
       "1           1        CCC(=O)NCC1C(C2=N[NH1]C=C2C(C)(C)O)N=C1N  -6.5  -6.9   \n",
       "2           2  CCC(=O)NCC1=CC=NN1S=2C=C(C3=CC=CC=C3F)[NH1]N=2  -8.6  -8.1   \n",
       "3           3     CC1=CC=CC(C(=O)CC2=NC(Cl)=CC3=CC=CN=C23)=C1  -9.2 -10.0   \n",
       "4           4      CC1=CC=CC(C(=O)NC2=CC(C3=CC=CC=C3)=NO2)=C1  -8.8  -9.0   \n",
       "\n",
       "   7kxd  Average binding energy  \n",
       "0  -8.6                   -8.23  \n",
       "1  -6.7                   -6.70  \n",
       "2  -8.7                   -8.47  \n",
       "3  -8.7                   -9.30  \n",
       "4  -9.2                   -9.00  "
      ]
     },
     "execution_count": 15,
     "metadata": {},
     "output_type": "execute_result"
    }
   ],
   "source": [
    "results.head()"
   ]
  },
  {
   "cell_type": "code",
   "execution_count": 16,
   "id": "8c9a65a9",
   "metadata": {},
   "outputs": [],
   "source": [
    "res = results.sort_values(by=['Average binding energy']).head()"
   ]
  },
  {
   "cell_type": "code",
   "execution_count": 17,
   "id": "66b2044a",
   "metadata": {},
   "outputs": [
    {
     "data": {
      "text/html": [
       "<div>\n",
       "<style scoped>\n",
       "    .dataframe tbody tr th:only-of-type {\n",
       "        vertical-align: middle;\n",
       "    }\n",
       "\n",
       "    .dataframe tbody tr th {\n",
       "        vertical-align: top;\n",
       "    }\n",
       "\n",
       "    .dataframe thead th {\n",
       "        text-align: right;\n",
       "    }\n",
       "</style>\n",
       "<table border=\"1\" class=\"dataframe\">\n",
       "  <thead>\n",
       "    <tr style=\"text-align: right;\">\n",
       "      <th></th>\n",
       "      <th>Unnamed: 0</th>\n",
       "      <th>smiles</th>\n",
       "      <th>7npc</th>\n",
       "      <th>7np5</th>\n",
       "      <th>7kxd</th>\n",
       "      <th>Average binding energy</th>\n",
       "    </tr>\n",
       "  </thead>\n",
       "  <tbody>\n",
       "    <tr>\n",
       "      <th>8</th>\n",
       "      <td>8</td>\n",
       "      <td>CC(=O)NC1=CC=CC(=C1)C(=O)NCC=CC2C=CN(C)C=C(F)C...</td>\n",
       "      <td>-9.9</td>\n",
       "      <td>-9.5</td>\n",
       "      <td>-10.0</td>\n",
       "      <td>-9.80</td>\n",
       "    </tr>\n",
       "    <tr>\n",
       "      <th>15</th>\n",
       "      <td>15</td>\n",
       "      <td>CC(=O)NC1=CC=CC(=C1)C(=O)N(CCC2=CC=C(F)C=C2N3C...</td>\n",
       "      <td>-9.5</td>\n",
       "      <td>-10.0</td>\n",
       "      <td>-9.6</td>\n",
       "      <td>-9.70</td>\n",
       "    </tr>\n",
       "    <tr>\n",
       "      <th>14</th>\n",
       "      <td>14</td>\n",
       "      <td>CC(=O)NC1=CC=CC(=C1)C(=O)N(C2CC3=CC=CC(CN)=C3N...</td>\n",
       "      <td>-8.8</td>\n",
       "      <td>-10.0</td>\n",
       "      <td>-10.0</td>\n",
       "      <td>-9.60</td>\n",
       "    </tr>\n",
       "    <tr>\n",
       "      <th>6</th>\n",
       "      <td>6</td>\n",
       "      <td>CC(=O)NC1=CC=CC(=C1)C(=O)N(CC2=CC=CC=C2NC3=NC(...</td>\n",
       "      <td>-10.0</td>\n",
       "      <td>-9.1</td>\n",
       "      <td>-9.2</td>\n",
       "      <td>-9.43</td>\n",
       "    </tr>\n",
       "    <tr>\n",
       "      <th>3</th>\n",
       "      <td>3</td>\n",
       "      <td>CC1=CC=CC(C(=O)CC2=NC(Cl)=CC3=CC=CN=C23)=C1</td>\n",
       "      <td>-9.2</td>\n",
       "      <td>-10.0</td>\n",
       "      <td>-8.7</td>\n",
       "      <td>-9.30</td>\n",
       "    </tr>\n",
       "  </tbody>\n",
       "</table>\n",
       "</div>"
      ],
      "text/plain": [
       "    Unnamed: 0                                             smiles  7npc  7np5  \\\n",
       "8            8  CC(=O)NC1=CC=CC(=C1)C(=O)NCC=CC2C=CN(C)C=C(F)C...  -9.9  -9.5   \n",
       "15          15  CC(=O)NC1=CC=CC(=C1)C(=O)N(CCC2=CC=C(F)C=C2N3C...  -9.5 -10.0   \n",
       "14          14  CC(=O)NC1=CC=CC(=C1)C(=O)N(C2CC3=CC=CC(CN)=C3N...  -8.8 -10.0   \n",
       "6            6  CC(=O)NC1=CC=CC(=C1)C(=O)N(CC2=CC=CC=C2NC3=NC(... -10.0  -9.1   \n",
       "3            3        CC1=CC=CC(C(=O)CC2=NC(Cl)=CC3=CC=CN=C23)=C1  -9.2 -10.0   \n",
       "\n",
       "    7kxd  Average binding energy  \n",
       "8  -10.0                   -9.80  \n",
       "15  -9.6                   -9.70  \n",
       "14 -10.0                   -9.60  \n",
       "6   -9.2                   -9.43  \n",
       "3   -8.7                   -9.30  "
      ]
     },
     "execution_count": 17,
     "metadata": {},
     "output_type": "execute_result"
    }
   ],
   "source": [
    "res.head()"
   ]
  },
  {
   "cell_type": "code",
   "execution_count": null,
   "id": "fa7ab9e7",
   "metadata": {},
   "outputs": [],
   "source": [
    "#visualize three structures with highest average binding energies"
   ]
  },
  {
   "cell_type": "code",
   "execution_count": 18,
   "id": "496a73c2",
   "metadata": {},
   "outputs": [
    {
     "name": "stdout",
     "output_type": "stream",
     "text": [
      "SMILES: CC(=O)NC1=CC=CC(=C1)C(=O)NCC=CC2C=CN(C)C=C(F)C=NC=C2C\n",
      "Structure: \n"
     ]
    },
    {
     "data": {
      "image/png": "[encoded data removed]",
      "text/plain": [
       "<rdkit.Chem.rdchem.Mol at 0x7f0066701100>"
      ]
     },
     "execution_count": 18,
     "metadata": {},
     "output_type": "execute_result"
    }
   ],
   "source": [
    "print(\"SMILES: \"+str(res['smiles'][8]))\n",
    "print(\"Structure: \")\n",
    "Chem.MolFromSmiles(res['smiles'][8])"
   ]
  },
  {
   "cell_type": "code",
   "execution_count": 19,
   "id": "f83aabe2",
   "metadata": {},
   "outputs": [
    {
     "name": "stdout",
     "output_type": "stream",
     "text": [
      "SMILES: CC(=O)NC1=CC=CC(=C1)C(=O)N(CCC2=CC=C(F)C=C2N3C=NC=C3CC4)N[NH1]C(CC)=N4\n",
      "Structure: \n"
     ]
    },
    {
     "data": {
      "image/png": "[encoded data removed]",
      "text/plain": [
       "<rdkit.Chem.rdchem.Mol at 0x7f0066701a60>"
      ]
     },
     "execution_count": 19,
     "metadata": {},
     "output_type": "execute_result"
    }
   ],
   "source": [
    "print(\"SMILES: \"+str(res['smiles'][15]))\n",
    "print(\"Structure: \")\n",
    "Chem.MolFromSmiles(res['smiles'][15])"
   ]
  },
  {
   "cell_type": "code",
   "execution_count": 20,
   "id": "e2c7cbac",
   "metadata": {},
   "outputs": [
    {
     "name": "stdout",
     "output_type": "stream",
     "text": [
      "SMILES: CC(=O)NC1=CC=CC(=C1)C(=O)N(C2CC3=CC=CC(CN)=C3N(C)C2C4)NC(F)=N[NH1]4\n",
      "Structure: \n"
     ]
    },
    {
     "data": {
      "image/png": "[encoded data removed]",
      "text/plain": [
       "<rdkit.Chem.rdchem.Mol at 0x7f0066701460>"
      ]
     },
     "execution_count": 20,
     "metadata": {},
     "output_type": "execute_result"
    }
   ],
   "source": [
    "print(\"SMILES: \"+str(res['smiles'][14]))\n",
    "print(\"Structure: \")\n",
    "Chem.MolFromSmiles(res['smiles'][14])"
   ]
  },
  {
   "cell_type": "code",
   "execution_count": 21,
   "id": "a079029d",
   "metadata": {},
   "outputs": [
    {
     "data": {
      "text/plain": [
       "['CC(=O)NC1=CC=CC(=C1)C(=O)NCC=CC2C=CN(C)C=C(F)C=NC=C2C',\n",
       " 'CC(=O)NC1=CC=CC(=C1)C(=O)N(CCC2=CC=C(F)C=C2N3C=NC=C3CC4)N[NH1]C(CC)=N4',\n",
       " 'CC(=O)NC1=CC=CC(=C1)C(=O)N(C2CC3=CC=CC(CN)=C3N(C)C2C4)NC(F)=N[NH1]4']"
      ]
     },
     "execution_count": 21,
     "metadata": {},
     "output_type": "execute_result"
    }
   ],
   "source": [
    "list(res['smiles'][[8,15,14]])"
   ]
  },
  {
   "cell_type": "markdown",
   "id": "ae3866f1",
   "metadata": {},
   "source": [
    "## These three molecules will be docked also manually"
   ]
  }
 ],
 "metadata": {
  "kernelspec": {
   "display_name": "Python 3 (ipykernel)",
   "language": "python",
   "name": "python3"
  },
  "language_info": {
   "codemirror_mode": {
    "name": "ipython",
    "version": 3
   },
   "file_extension": ".py",
   "mimetype": "text/x-python",
   "name": "python",
   "nbconvert_exporter": "python",
   "pygments_lexer": "ipython3",
   "version": "3.8.12"
  }
 },
 "nbformat": 4,
 "nbformat_minor": 5
}
