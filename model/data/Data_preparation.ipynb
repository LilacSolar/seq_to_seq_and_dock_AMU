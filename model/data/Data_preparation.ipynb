{
 "cells": [
  {
   "cell_type": "code",
   "execution_count": 1,
   "id": "f4c7ef0a",
   "metadata": {},
   "outputs": [],
   "source": [
    "import numpy as np\n",
    "import pandas as pd\n",
    "import os\n",
    "from pathlib import Path\n",
    "## COMMENT - code is as markdown and should be changed to code before running!!!"
   ]
  },
  {
   "cell_type": "markdown",
   "id": "387eb4d0",
   "metadata": {},
   "source": [
    "# Molecule retrieval from Zinc20 smi files"
   ]
  },
  {
   "cell_type": "code",
   "execution_count": 2,
   "id": "face5024",
   "metadata": {},
   "outputs": [],
   "source": [
    "Is_data_prepared = True\n",
    "if not Is_data_prepared:\n",
    "    \n",
    "    tranche_dirs = ['FK', 'DC', 'BB', 'JA', 'HE', 'GA', 'KG', 'IC', 'CB', 'HJ']"
   ]
  },
  {
   "cell_type": "markdown",
   "id": "fc732fff",
   "metadata": {},
   "source": [
    "### location of zinc20 files and resulting h5 store"
   ]
  },
  {
   "cell_type": "markdown",
   "id": "18af31de",
   "metadata": {},
   "source": [
    "### The files containing SMILES from ZINC 20 db can be download by running ```ZINC-downloader-2D-smi.wget``` - these requires a lot of free space"
   ]
  },
  {
   "cell_type": "code",
   "execution_count": 3,
   "id": "a2cb8936",
   "metadata": {},
   "outputs": [],
   "source": [
    "if not Is_data_prepared:\n",
    "    zinc20_path = Path(\"/storage/hdd1/smiles/zinc20/tranche_2.5_375/\") #Path to place where datasets are downloaded\n",
    "    tranches_name = \"_\".join(tranche_dirs)\n",
    "    store_path = Path(\"../data/zinc20_\"+tranches_name+\".h5\")"
   ]
  },
  {
   "cell_type": "markdown",
   "id": "286455b9",
   "metadata": {},
   "source": [
    "### main retrieval loop"
   ]
  },
  {
   "cell_type": "markdown",
   "id": "0fe6a981",
   "metadata": {},
   "source": [
    "#pip install tables"
   ]
  },
  {
   "cell_type": "code",
   "execution_count": 4,
   "id": "ca212b21",
   "metadata": {},
   "outputs": [],
   "source": [
    "if not Is_data_prepared:\n",
    "    from_raw_files = True\n",
    "    if from_raw_files:\n",
    "        store = pd.HDFStore(store_path.absolute().as_posix(), \"w\")\n",
    "        for subdir in tranche_dirs:\n",
    "            smiles_df = pd.DataFrame(columns=[\"smiles\"])\n",
    "            dir = (zinc20_path/subdir).absolute().as_posix()\n",
    "            smiles_files = os.listdir(dir)\n",
    "            for smiles_file in smiles_files:\n",
    "                path = (zinc20_path/subdir/smiles_file).absolute().as_posix()\n",
    "                try:\n",
    "                    df = pd.read_csv(path, sep=\" \").set_index(\"zinc_id\")\n",
    "                    smiles_df = pd.concat([smiles_df, df], axis=0)\n",
    "                except pd.errors.EmptyDataError:\n",
    "                    pass\n",
    "            store[subdir] = smiles_df\n",
    "        store.close()"
   ]
  },
  {
   "cell_type": "markdown",
   "id": "787c98fb",
   "metadata": {},
   "source": [
    "### data sampling, from each subdirectory certain number of compounds is randomly sampled"
   ]
  },
  {
   "cell_type": "code",
   "execution_count": 5,
   "id": "a15d48a8",
   "metadata": {},
   "outputs": [],
   "source": [
    "if not Is_data_prepared:\n",
    "    store = pd.HDFStore(store_path.absolute().as_posix(), \"r\")\n",
    "    smiles_df = pd.DataFrame(columns=[\"smiles\"])\n",
    "    n_sample = 100000\n",
    "    for tranche in store.keys():\n",
    "        df = store[tranche]\n",
    "        n_sample_ = min(df.shape[0], n_sample)\n",
    "        df = df.sample(n_sample_)\n",
    "        smiles_df = pd.concat([smiles_df, df], axis=0)\n",
    "    store.close()\n",
    "    del df"
   ]
  },
  {
   "cell_type": "code",
   "execution_count": 6,
   "id": "196ee324",
   "metadata": {},
   "outputs": [],
   "source": [
    "if not Is_data_prepared:\n",
    "    resulting_file_name = \"zinc20_\"+tranches_name+\"_processed.parquet\"\n",
    "    resulting_df_path = Path(\"../data\")/resulting_file_name\n",
    "    smiles_df.to_parquet(resulting_df_path.absolute().as_posix())"
   ]
  },
  {
   "cell_type": "code",
   "execution_count": 7,
   "id": "d53bcf6f",
   "metadata": {},
   "outputs": [],
   "source": [
    "if not Is_data_prepared:\n",
    "    os.remove(\"zinc20_FK_DC_BB_JA_HE_GA_KG_IC_CB_HJ.h5\")"
   ]
  },
  {
   "cell_type": "code",
   "execution_count": null,
   "id": "eb9c2629",
   "metadata": {},
   "outputs": [],
   "source": []
  },
  {
   "cell_type": "code",
   "execution_count": null,
   "id": "afa6bac2",
   "metadata": {},
   "outputs": [],
   "source": []
  },
  {
   "cell_type": "markdown",
   "id": "cd5a0ea0",
   "metadata": {},
   "source": [
    "### Check length of translated SELFIES"
   ]
  },
  {
   "cell_type": "code",
   "execution_count": 8,
   "id": "063d6fa7",
   "metadata": {},
   "outputs": [],
   "source": [
    "import selfies as sf\n",
    "from rdkit import Chem\n",
    "import pandas as pd"
   ]
  },
  {
   "cell_type": "code",
   "execution_count": 9,
   "id": "413ed31e",
   "metadata": {},
   "outputs": [],
   "source": [
    "data_to_read = pd.read_parquet('zinc20_FK_DC_BB_JA_HE_GA_KG_IC_CB_HJ_processed.parquet')"
   ]
  },
  {
   "cell_type": "code",
   "execution_count": 10,
   "id": "6cb54592",
   "metadata": {},
   "outputs": [],
   "source": [
    "data_to_read = data_to_read.reset_index()"
   ]
  },
  {
   "cell_type": "code",
   "execution_count": 11,
   "id": "73e208fa",
   "metadata": {},
   "outputs": [
    {
     "data": {
      "text/plain": [
       "(935512, 2)"
      ]
     },
     "execution_count": 11,
     "metadata": {},
     "output_type": "execute_result"
    }
   ],
   "source": [
    "data_to_read.shape"
   ]
  },
  {
   "cell_type": "code",
   "execution_count": 12,
   "id": "db4c404b",
   "metadata": {},
   "outputs": [],
   "source": [
    "data_to_read = data_to_read.drop_duplicates(subset=['smiles'])\n",
    "data_to_read = data_to_read.reset_index()\n",
    "del data_to_read['level_0']"
   ]
  },
  {
   "cell_type": "code",
   "execution_count": 13,
   "id": "19c9071f",
   "metadata": {},
   "outputs": [
    {
     "data": {
      "text/plain": [
       "(935475, 2)"
      ]
     },
     "execution_count": 13,
     "metadata": {},
     "output_type": "execute_result"
    }
   ],
   "source": [
    "data_to_read.shape"
   ]
  },
  {
   "cell_type": "code",
   "execution_count": 14,
   "id": "56597620",
   "metadata": {},
   "outputs": [
    {
     "data": {
      "text/html": [
       "<div>\n",
       "<style scoped>\n",
       "    .dataframe tbody tr th:only-of-type {\n",
       "        vertical-align: middle;\n",
       "    }\n",
       "\n",
       "    .dataframe tbody tr th {\n",
       "        vertical-align: top;\n",
       "    }\n",
       "\n",
       "    .dataframe thead th {\n",
       "        text-align: right;\n",
       "    }\n",
       "</style>\n",
       "<table border=\"1\" class=\"dataframe\">\n",
       "  <thead>\n",
       "    <tr style=\"text-align: right;\">\n",
       "      <th></th>\n",
       "      <th>index</th>\n",
       "      <th>smiles</th>\n",
       "    </tr>\n",
       "  </thead>\n",
       "  <tbody>\n",
       "    <tr>\n",
       "      <th>0</th>\n",
       "      <td>336474016</td>\n",
       "      <td>CC1(C)COCCN1C(=O)CCNC(N)=O</td>\n",
       "    </tr>\n",
       "    <tr>\n",
       "      <th>1</th>\n",
       "      <td>1086464356</td>\n",
       "      <td>CCN[C@H]1C[C@H](CNC(=O)[C@@H]2CNC(=O)N2)C1</td>\n",
       "    </tr>\n",
       "    <tr>\n",
       "      <th>2</th>\n",
       "      <td>248404898</td>\n",
       "      <td>CO[C@H](C)CN1CCOC[C@H]1C(N)=O</td>\n",
       "    </tr>\n",
       "    <tr>\n",
       "      <th>3</th>\n",
       "      <td>1574709678</td>\n",
       "      <td>O=C(O)CCNC(=O)c1ccc(CO)nc1</td>\n",
       "    </tr>\n",
       "    <tr>\n",
       "      <th>4</th>\n",
       "      <td>1119650207</td>\n",
       "      <td>C[C@@H](CC(=O)O)C(=O)N1C[C@H](O)C[C@H]1CO</td>\n",
       "    </tr>\n",
       "  </tbody>\n",
       "</table>\n",
       "</div>"
      ],
      "text/plain": [
       "        index                                      smiles\n",
       "0   336474016                  CC1(C)COCCN1C(=O)CCNC(N)=O\n",
       "1  1086464356  CCN[C@H]1C[C@H](CNC(=O)[C@@H]2CNC(=O)N2)C1\n",
       "2   248404898               CO[C@H](C)CN1CCOC[C@H]1C(N)=O\n",
       "3  1574709678                  O=C(O)CCNC(=O)c1ccc(CO)nc1\n",
       "4  1119650207   C[C@@H](CC(=O)O)C(=O)N1C[C@H](O)C[C@H]1CO"
      ]
     },
     "execution_count": 14,
     "metadata": {},
     "output_type": "execute_result"
    }
   ],
   "source": [
    "data_to_read.head()"
   ]
  },
  {
   "cell_type": "code",
   "execution_count": null,
   "id": "c8a669f7",
   "metadata": {},
   "outputs": [],
   "source": []
  },
  {
   "cell_type": "markdown",
   "id": "00574d85",
   "metadata": {},
   "source": [
    "## OLD code\n",
    "File_with_cannonical_SMILES_exist = True #change to false if file is not present\n",
    "if File_with_cannonical_SMILES_exist:\n",
    "    data_to_read = pd.read_parquet('zinc20_FK_DC_BB_JA_HE_GA_KG_IC_CB_HJ_processed_neutralized.parquet')\n",
    "    data_to_read['mol'] = [Chem.MolFromSmiles(smi) for smi in data_to_read['smiles']]\n",
    "    data_to_read['canonical_SMILES'] = data_to_read['mol']\n",
    "    for i in range(len(data_to_read['mol'])):\n",
    "        try:\n",
    "            \n",
    "            data_to_read['canonical_SMILES'][i] = Chem.MolToSmiles(data_to_read['mol'][i], isomericSmiles=False)\n",
    "        except:\n",
    "            data_to_read['canonical_SMILES'][i] = None\n",
    "    data_to_read = data_to_read[data_to_read.canonical_SMILES != None]\n",
    "    data_to_read = data_to_read.reset_index() #drop=True\n",
    "    print(data_to_read.shape)\n",
    "    data_to_read = data_to_read.drop_duplicates(subset=['canonical_SMILES'])\n",
    "    data_to_read = data_to_read.reset_index() #drop=True\n",
    "    print(data_to_read.shape)\n",
    "    del data_to_read['mol']\n",
    "    data_to_read.to_parquet('zinc20_FK_DC_BB_JA_HE_GA_KG_IC_CB_HJ_processed_canonical_.parquet')\n",
    "else:\n",
    "    data_to_read = pd.read_parquet('zinc20_FK_DC_BB_JA_HE_GA_KG_IC_CB_HJ_processed.parquet')\n",
    "    data_to_read = data_to_read.reset_index()\n",
    "    data_to_read['smiles'] = [Chem.MolToSmiles(get_parent_mol(Chem.MolFromSmiles(smiles), neutralize=True, check_exclusion=True, verbose=False)[0]) for smiles in data_to_read['smiles']]\n",
    "    print(data_to_read.shape)\n",
    "    data_to_read = data_to_read.drop_duplicates(subset=['smiles'])\n",
    "    print(data_to_read.shape)\n",
    "    data_to_read['mol'] = [Chem.MolFromSmiles(smi) for smi in data_to_read['smiles']]\n",
    "    data_to_read['canonical_SMILES'] = data_to_read['mol']\n",
    "    for i in range(len(data_to_read['mol'])):\n",
    "        try:\n",
    "            \n",
    "            data_to_read['canonical_SMILES'][i] = Chem.MolToSmiles(data_to_read['mol'][i], isomericSmiles=False)\n",
    "        except:\n",
    "            data_to_read['canonical_SMILES'][i] = None\n",
    "    data_to_read = data_to_read[data_to_read.canonical_SMILES != None]\n",
    "    data_to_read = data_to_read.reset_index() #drop=True\n",
    "    print(data_to_read.shape)\n",
    "    data_to_read = data_to_read.drop_duplicates(subset=['canonical_SMILES'])\n",
    "    data_to_read = data_to_read.reset_index() #drop=True\n",
    "    print(data_to_read.shape)\n",
    "    del data_to_read['mol']\n",
    "    data_to_read.to_parquet('zinc20_FK_DC_BB_JA_HE_GA_KG_IC_CB_HJ_processed_canonical_.parquet')\n",
    "    "
   ]
  },
  {
   "cell_type": "code",
   "execution_count": 15,
   "id": "3a59a484",
   "metadata": {},
   "outputs": [],
   "source": [
    "data_to_read['SELFIES'] = [sf.encoder(smiles) for smiles in data_to_read['smiles']]"
   ]
  },
  {
   "cell_type": "code",
   "execution_count": 16,
   "id": "3be80d4d",
   "metadata": {},
   "outputs": [
    {
     "data": {
      "text/plain": [
       "(935475, 3)"
      ]
     },
     "execution_count": 16,
     "metadata": {},
     "output_type": "execute_result"
    }
   ],
   "source": [
    "data_to_read.shape"
   ]
  },
  {
   "cell_type": "code",
   "execution_count": 17,
   "id": "832574aa",
   "metadata": {},
   "outputs": [],
   "source": [
    "def SELFIES_length(SELFIES_mol):\n",
    "    length_selfies = []\n",
    "    try:\n",
    "        length_selfies.append(SELFIES_mol.count('['))\n",
    "    except:\n",
    "        print('Something went wrong, check source code...')\n",
    "    return max(length_selfies)"
   ]
  },
  {
   "cell_type": "code",
   "execution_count": 18,
   "id": "692f36bc",
   "metadata": {},
   "outputs": [],
   "source": [
    "data_to_read['SELFIES_length'] = [SELFIES_length(SELFIES) for SELFIES in data_to_read['SELFIES']]"
   ]
  },
  {
   "cell_type": "code",
   "execution_count": 19,
   "id": "9e8dfcf5",
   "metadata": {},
   "outputs": [
    {
     "data": {
      "text/plain": [
       "<AxesSubplot:>"
      ]
     },
     "execution_count": 19,
     "metadata": {},
     "output_type": "execute_result"
    },
    {
     "data": {
      "image/png": "[encoded data removed]",
      "text/plain": [
       "<Figure size 432x288 with 1 Axes>"
      ]
     },
     "metadata": {
      "needs_background": "light"
     },
     "output_type": "display_data"
    }
   ],
   "source": [
    "data_to_read['SELFIES_length'].hist()"
   ]
  },
  {
   "cell_type": "code",
   "execution_count": 20,
   "id": "153650fc",
   "metadata": {},
   "outputs": [
    {
     "data": {
      "text/plain": [
       "130"
      ]
     },
     "execution_count": 20,
     "metadata": {},
     "output_type": "execute_result"
    }
   ],
   "source": [
    "data_to_read['SELFIES_length'].max()"
   ]
  },
  {
   "cell_type": "code",
   "execution_count": 21,
   "id": "a81d9c37",
   "metadata": {},
   "outputs": [
    {
     "data": {
      "text/plain": [
       "<AxesSubplot:>"
      ]
     },
     "execution_count": 21,
     "metadata": {},
     "output_type": "execute_result"
    },
    {
     "data": {
      "image/png": "[encoded data removed]",
      "text/plain": [
       "<Figure size 432x288 with 1 Axes>"
      ]
     },
     "metadata": {
      "needs_background": "light"
     },
     "output_type": "display_data"
    }
   ],
   "source": [
    "data_to_read['SELFIES_length'][:250000].hist()"
   ]
  },
  {
   "cell_type": "code",
   "execution_count": 22,
   "id": "ee79b0f3",
   "metadata": {},
   "outputs": [
    {
     "data": {
      "text/plain": [
       "47"
      ]
     },
     "execution_count": 22,
     "metadata": {},
     "output_type": "execute_result"
    }
   ],
   "source": [
    "data_to_read['SELFIES_length'][:250000].max()"
   ]
  },
  {
   "cell_type": "code",
   "execution_count": 23,
   "id": "157df0b3",
   "metadata": {},
   "outputs": [],
   "source": [
    "dataa = data_to_read[(data_to_read['SELFIES_length'] <= 50) & (data_to_read['SELFIES_length'] >= 30)]"
   ]
  },
  {
   "cell_type": "code",
   "execution_count": 24,
   "id": "91281491",
   "metadata": {},
   "outputs": [
    {
     "data": {
      "text/html": [
       "<div>\n",
       "<style scoped>\n",
       "    .dataframe tbody tr th:only-of-type {\n",
       "        vertical-align: middle;\n",
       "    }\n",
       "\n",
       "    .dataframe tbody tr th {\n",
       "        vertical-align: top;\n",
       "    }\n",
       "\n",
       "    .dataframe thead th {\n",
       "        text-align: right;\n",
       "    }\n",
       "</style>\n",
       "<table border=\"1\" class=\"dataframe\">\n",
       "  <thead>\n",
       "    <tr style=\"text-align: right;\">\n",
       "      <th></th>\n",
       "      <th>index</th>\n",
       "      <th>smiles</th>\n",
       "      <th>SELFIES</th>\n",
       "      <th>SELFIES_length</th>\n",
       "    </tr>\n",
       "  </thead>\n",
       "  <tbody>\n",
       "    <tr>\n",
       "      <th>15</th>\n",
       "      <td>635668639</td>\n",
       "      <td>CN1CCN(C(=O)[C@H]2C[C@@H](O)C2)C(C)(C)C1=O</td>\n",
       "      <td>[C][N][C][C][N][Branch1][=C][C][=Branch1][C][=...</td>\n",
       "      <td>31</td>\n",
       "    </tr>\n",
       "    <tr>\n",
       "      <th>30</th>\n",
       "      <td>281714625</td>\n",
       "      <td>C#CCN(C(=O)[C@@H]1CC[C@@H](C(N)=O)O1)C1CC1</td>\n",
       "      <td>[C][#C][C][N][Branch2][Ring1][Ring1][C][=Branc...</td>\n",
       "      <td>30</td>\n",
       "    </tr>\n",
       "    <tr>\n",
       "      <th>36</th>\n",
       "      <td>899336347</td>\n",
       "      <td>CN1C(=O)C(=Cc2ncnn2C)C(=O)N(C)C1=O</td>\n",
       "      <td>[C][N][C][=Branch1][C][=O][C][=Branch1][#Branc...</td>\n",
       "      <td>30</td>\n",
       "    </tr>\n",
       "    <tr>\n",
       "      <th>69</th>\n",
       "      <td>1602691393</td>\n",
       "      <td>C#CCN(CC(=O)O)C(=O)[C@@H]1C[C@@H]2O[C@H]1[C@H]...</td>\n",
       "      <td>[C][#C][C][N][Branch1][#Branch1][C][C][=Branch...</td>\n",
       "      <td>30</td>\n",
       "    </tr>\n",
       "    <tr>\n",
       "      <th>78</th>\n",
       "      <td>909304553</td>\n",
       "      <td>C=C[C@](C)(O)C(=O)N1CC[C@](F)(C(=O)O)C1</td>\n",
       "      <td>[C][=C][C@][Branch1][C][C][Branch1][C][O][C][=...</td>\n",
       "      <td>30</td>\n",
       "    </tr>\n",
       "    <tr>\n",
       "      <th>...</th>\n",
       "      <td>...</td>\n",
       "      <td>...</td>\n",
       "      <td>...</td>\n",
       "      <td>...</td>\n",
       "    </tr>\n",
       "    <tr>\n",
       "      <th>935322</th>\n",
       "      <td>514388722</td>\n",
       "      <td>CCOc1ccc(S(=O)(=O)N2CCCCC2)cc1NC(=O)CSc1nnnn1C...</td>\n",
       "      <td>[C][C][O][C][=C][C][=C][Branch1][S][S][=Branch...</td>\n",
       "      <td>50</td>\n",
       "    </tr>\n",
       "    <tr>\n",
       "      <th>935345</th>\n",
       "      <td>409101685</td>\n",
       "      <td>COC(=O)COc1c(I)cc(/C=N/Nc2ncccc2[N+](=O)[O-])cc1I</td>\n",
       "      <td>[C][O][C][=Branch1][C][=O][C][O][C][=C][Branch...</td>\n",
       "      <td>39</td>\n",
       "    </tr>\n",
       "    <tr>\n",
       "      <th>935372</th>\n",
       "      <td>409238714</td>\n",
       "      <td>CCOc1c(I)cc(/C=C2/NC(=O)N(CC)C2=O)cc1I</td>\n",
       "      <td>[C][C][O][C][=C][Branch1][C][I][C][=C][Branch1...</td>\n",
       "      <td>33</td>\n",
       "    </tr>\n",
       "    <tr>\n",
       "      <th>935386</th>\n",
       "      <td>710361</td>\n",
       "      <td>COc1ccc(NS(=O)(=O)c2ccc(NC(=O)c3cccc(I)c3)cc2)nn1</td>\n",
       "      <td>[C][O][C][=C][C][=C][Branch2][Ring2][Ring1][N]...</td>\n",
       "      <td>48</td>\n",
       "    </tr>\n",
       "    <tr>\n",
       "      <th>935467</th>\n",
       "      <td>409102040</td>\n",
       "      <td>C#CCOc1c(I)cc(/C=C2/SC(=O)N([C@H](C)C(=O)OC)C2...</td>\n",
       "      <td>[C][#C][C][O][C][=C][Branch1][C][I][C][=C][Bra...</td>\n",
       "      <td>46</td>\n",
       "    </tr>\n",
       "  </tbody>\n",
       "</table>\n",
       "<p>569205 rows × 4 columns</p>\n",
       "</div>"
      ],
      "text/plain": [
       "             index                                             smiles  \\\n",
       "15       635668639         CN1CCN(C(=O)[C@H]2C[C@@H](O)C2)C(C)(C)C1=O   \n",
       "30       281714625         C#CCN(C(=O)[C@@H]1CC[C@@H](C(N)=O)O1)C1CC1   \n",
       "36       899336347                 CN1C(=O)C(=Cc2ncnn2C)C(=O)N(C)C1=O   \n",
       "69      1602691393  C#CCN(CC(=O)O)C(=O)[C@@H]1C[C@@H]2O[C@H]1[C@H]...   \n",
       "78       909304553            C=C[C@](C)(O)C(=O)N1CC[C@](F)(C(=O)O)C1   \n",
       "...            ...                                                ...   \n",
       "935322   514388722  CCOc1ccc(S(=O)(=O)N2CCCCC2)cc1NC(=O)CSc1nnnn1C...   \n",
       "935345   409101685  COC(=O)COc1c(I)cc(/C=N/Nc2ncccc2[N+](=O)[O-])cc1I   \n",
       "935372   409238714             CCOc1c(I)cc(/C=C2/NC(=O)N(CC)C2=O)cc1I   \n",
       "935386      710361  COc1ccc(NS(=O)(=O)c2ccc(NC(=O)c3cccc(I)c3)cc2)nn1   \n",
       "935467   409102040  C#CCOc1c(I)cc(/C=C2/SC(=O)N([C@H](C)C(=O)OC)C2...   \n",
       "\n",
       "                                                  SELFIES  SELFIES_length  \n",
       "15      [C][N][C][C][N][Branch1][=C][C][=Branch1][C][=...              31  \n",
       "30      [C][#C][C][N][Branch2][Ring1][Ring1][C][=Branc...              30  \n",
       "36      [C][N][C][=Branch1][C][=O][C][=Branch1][#Branc...              30  \n",
       "69      [C][#C][C][N][Branch1][#Branch1][C][C][=Branch...              30  \n",
       "78      [C][=C][C@][Branch1][C][C][Branch1][C][O][C][=...              30  \n",
       "...                                                   ...             ...  \n",
       "935322  [C][C][O][C][=C][C][=C][Branch1][S][S][=Branch...              50  \n",
       "935345  [C][O][C][=Branch1][C][=O][C][O][C][=C][Branch...              39  \n",
       "935372  [C][C][O][C][=C][Branch1][C][I][C][=C][Branch1...              33  \n",
       "935386  [C][O][C][=C][C][=C][Branch2][Ring2][Ring1][N]...              48  \n",
       "935467  [C][#C][C][O][C][=C][Branch1][C][I][C][=C][Bra...              46  \n",
       "\n",
       "[569205 rows x 4 columns]"
      ]
     },
     "execution_count": 24,
     "metadata": {},
     "output_type": "execute_result"
    }
   ],
   "source": [
    "dataa"
   ]
  },
  {
   "cell_type": "code",
   "execution_count": 25,
   "id": "bfcc68b3",
   "metadata": {},
   "outputs": [
    {
     "data": {
      "text/plain": [
       "<AxesSubplot:>"
      ]
     },
     "execution_count": 25,
     "metadata": {},
     "output_type": "execute_result"
    },
    {
     "data": {
      "image/png": "[encoded data removed]",
      "text/plain": [
       "<Figure size 432x288 with 1 Axes>"
      ]
     },
     "metadata": {
      "needs_background": "light"
     },
     "output_type": "display_data"
    }
   ],
   "source": [
    "dataa['SELFIES_length'].hist()"
   ]
  },
  {
   "cell_type": "code",
   "execution_count": 26,
   "id": "728d303c",
   "metadata": {},
   "outputs": [],
   "source": [
    "data = dataa.sort_values(by=['SELFIES_length'], ascending=True)"
   ]
  },
  {
   "cell_type": "code",
   "execution_count": 27,
   "id": "1f0900e1",
   "metadata": {},
   "outputs": [],
   "source": [
    "data = data.reset_index()"
   ]
  },
  {
   "cell_type": "code",
   "execution_count": 28,
   "id": "ef825085",
   "metadata": {},
   "outputs": [],
   "source": [
    "del data['level_0']"
   ]
  },
  {
   "cell_type": "code",
   "execution_count": 29,
   "id": "eadfde8b",
   "metadata": {},
   "outputs": [],
   "source": [
    "data = data.drop_duplicates(subset=['smiles'])"
   ]
  },
  {
   "cell_type": "code",
   "execution_count": 30,
   "id": "9772a20a",
   "metadata": {},
   "outputs": [
    {
     "data": {
      "text/plain": [
       "(569205, 4)"
      ]
     },
     "execution_count": 30,
     "metadata": {},
     "output_type": "execute_result"
    }
   ],
   "source": [
    "data.shape"
   ]
  },
  {
   "cell_type": "code",
   "execution_count": 31,
   "id": "fa41fdf5",
   "metadata": {},
   "outputs": [
    {
     "data": {
      "text/html": [
       "<div>\n",
       "<style scoped>\n",
       "    .dataframe tbody tr th:only-of-type {\n",
       "        vertical-align: middle;\n",
       "    }\n",
       "\n",
       "    .dataframe tbody tr th {\n",
       "        vertical-align: top;\n",
       "    }\n",
       "\n",
       "    .dataframe thead th {\n",
       "        text-align: right;\n",
       "    }\n",
       "</style>\n",
       "<table border=\"1\" class=\"dataframe\">\n",
       "  <thead>\n",
       "    <tr style=\"text-align: right;\">\n",
       "      <th></th>\n",
       "      <th>index</th>\n",
       "      <th>smiles</th>\n",
       "      <th>SELFIES</th>\n",
       "      <th>SELFIES_length</th>\n",
       "    </tr>\n",
       "  </thead>\n",
       "  <tbody>\n",
       "    <tr>\n",
       "      <th>0</th>\n",
       "      <td>563932204</td>\n",
       "      <td>CNC(=O)CCCN1CCN(S(C)(=O)=O)[C@@H](C)C1</td>\n",
       "      <td>[C][N][C][=Branch1][C][=O][C][C][C][N][C][C][N...</td>\n",
       "      <td>30</td>\n",
       "    </tr>\n",
       "    <tr>\n",
       "      <th>1</th>\n",
       "      <td>1417550001</td>\n",
       "      <td>CCC[C@H](CNC(=O)CN1CCS(=O)(=O)CC1)OC</td>\n",
       "      <td>[C][C][C][C@H1][Branch2][Ring1][=Branch1][C][N...</td>\n",
       "      <td>30</td>\n",
       "    </tr>\n",
       "    <tr>\n",
       "      <th>2</th>\n",
       "      <td>1388389819</td>\n",
       "      <td>CCOCC(=O)NC[C@@H](C)CNC(=O)c1ccn(C)n1</td>\n",
       "      <td>[C][C][O][C][C][=Branch1][C][=O][N][C][C@@H1][...</td>\n",
       "      <td>30</td>\n",
       "    </tr>\n",
       "    <tr>\n",
       "      <th>3</th>\n",
       "      <td>1754026573</td>\n",
       "      <td>C[C@H](CCNCCO)NC(=O)c1ccc(C(N)=O)nc1</td>\n",
       "      <td>[C][C@H1][Branch1][#Branch1][C][C][N][C][C][O]...</td>\n",
       "      <td>30</td>\n",
       "    </tr>\n",
       "    <tr>\n",
       "      <th>4</th>\n",
       "      <td>282862635</td>\n",
       "      <td>CC(C)(C)[C@H](NS(C)(=O)=O)C(=O)NCC#CCO</td>\n",
       "      <td>[C][C][Branch1][C][C][Branch1][C][C][C@H1][Bra...</td>\n",
       "      <td>30</td>\n",
       "    </tr>\n",
       "    <tr>\n",
       "      <th>...</th>\n",
       "      <td>...</td>\n",
       "      <td>...</td>\n",
       "      <td>...</td>\n",
       "      <td>...</td>\n",
       "    </tr>\n",
       "    <tr>\n",
       "      <th>569200</th>\n",
       "      <td>1815649560</td>\n",
       "      <td>O=C(CNC(=O)c1ccco1)Nc1nc2c(s1)C[C@@H](NC(=O)[C...</td>\n",
       "      <td>[O][=C][Branch1][=C][C][N][C][=Branch1][C][=O]...</td>\n",
       "      <td>50</td>\n",
       "    </tr>\n",
       "    <tr>\n",
       "      <th>569201</th>\n",
       "      <td>1810328573</td>\n",
       "      <td>O=C(C#CC1(O)CCCCC1)NC[C@H]1CCN(C(=O)C2=NNC(=O)...</td>\n",
       "      <td>[O][=C][Branch1][=C][C][#C][C][Branch1][C][O][...</td>\n",
       "      <td>50</td>\n",
       "    </tr>\n",
       "    <tr>\n",
       "      <th>569202</th>\n",
       "      <td>1359817598</td>\n",
       "      <td>Cc1cc(N2C[C@@H](C(=O)N3CSC[C@@H]3C(=O)N(C)C(C)...</td>\n",
       "      <td>[C][C][=C][C][Branch2][Ring2][Branch1][N][C][C...</td>\n",
       "      <td>50</td>\n",
       "    </tr>\n",
       "    <tr>\n",
       "      <th>569203</th>\n",
       "      <td>1538624013</td>\n",
       "      <td>CCOC(=O)N1[C@@H](C(=O)N[C@H](C)c2cc3ccccc3o2)C...</td>\n",
       "      <td>[C][C][O][C][=Branch1][C][=O][N][C@@H1][Branch...</td>\n",
       "      <td>50</td>\n",
       "    </tr>\n",
       "    <tr>\n",
       "      <th>569204</th>\n",
       "      <td>1839077706</td>\n",
       "      <td>CC(C)O[C@@H](C)C(=O)N1CCOC[C@@]2(CN(C(=O)[C@@H...</td>\n",
       "      <td>[C][C][Branch1][C][C][O][C@@H1][Branch1][C][C]...</td>\n",
       "      <td>50</td>\n",
       "    </tr>\n",
       "  </tbody>\n",
       "</table>\n",
       "<p>569205 rows × 4 columns</p>\n",
       "</div>"
      ],
      "text/plain": [
       "             index                                             smiles  \\\n",
       "0        563932204             CNC(=O)CCCN1CCN(S(C)(=O)=O)[C@@H](C)C1   \n",
       "1       1417550001               CCC[C@H](CNC(=O)CN1CCS(=O)(=O)CC1)OC   \n",
       "2       1388389819              CCOCC(=O)NC[C@@H](C)CNC(=O)c1ccn(C)n1   \n",
       "3       1754026573               C[C@H](CCNCCO)NC(=O)c1ccc(C(N)=O)nc1   \n",
       "4        282862635             CC(C)(C)[C@H](NS(C)(=O)=O)C(=O)NCC#CCO   \n",
       "...            ...                                                ...   \n",
       "569200  1815649560  O=C(CNC(=O)c1ccco1)Nc1nc2c(s1)C[C@@H](NC(=O)[C...   \n",
       "569201  1810328573  O=C(C#CC1(O)CCCCC1)NC[C@H]1CCN(C(=O)C2=NNC(=O)...   \n",
       "569202  1359817598  Cc1cc(N2C[C@@H](C(=O)N3CSC[C@@H]3C(=O)N(C)C(C)...   \n",
       "569203  1538624013  CCOC(=O)N1[C@@H](C(=O)N[C@H](C)c2cc3ccccc3o2)C...   \n",
       "569204  1839077706  CC(C)O[C@@H](C)C(=O)N1CCOC[C@@]2(CN(C(=O)[C@@H...   \n",
       "\n",
       "                                                  SELFIES  SELFIES_length  \n",
       "0       [C][N][C][=Branch1][C][=O][C][C][C][N][C][C][N...              30  \n",
       "1       [C][C][C][C@H1][Branch2][Ring1][=Branch1][C][N...              30  \n",
       "2       [C][C][O][C][C][=Branch1][C][=O][N][C][C@@H1][...              30  \n",
       "3       [C][C@H1][Branch1][#Branch1][C][C][N][C][C][O]...              30  \n",
       "4       [C][C][Branch1][C][C][Branch1][C][C][C@H1][Bra...              30  \n",
       "...                                                   ...             ...  \n",
       "569200  [O][=C][Branch1][=C][C][N][C][=Branch1][C][=O]...              50  \n",
       "569201  [O][=C][Branch1][=C][C][#C][C][Branch1][C][O][...              50  \n",
       "569202  [C][C][=C][C][Branch2][Ring2][Branch1][N][C][C...              50  \n",
       "569203  [C][C][O][C][=Branch1][C][=O][N][C@@H1][Branch...              50  \n",
       "569204  [C][C][Branch1][C][C][O][C@@H1][Branch1][C][C]...              50  \n",
       "\n",
       "[569205 rows x 4 columns]"
      ]
     },
     "execution_count": 31,
     "metadata": {},
     "output_type": "execute_result"
    }
   ],
   "source": [
    "data"
   ]
  },
  {
   "cell_type": "markdown",
   "id": "1fabea88",
   "metadata": {},
   "source": [
    "## Gaussian distribution of tranining data"
   ]
  },
  {
   "cell_type": "code",
   "execution_count": 32,
   "id": "5ad78da7",
   "metadata": {},
   "outputs": [],
   "source": [
    "bins = []\n",
    "for i in range(11):\n",
    "    bins.append(i)"
   ]
  },
  {
   "cell_type": "code",
   "execution_count": 33,
   "id": "c478e7f7",
   "metadata": {},
   "outputs": [
    {
     "data": {
      "text/plain": [
       "[1, 2, 3, 4, 5, 6, 7, 8, 9, 10]"
      ]
     },
     "execution_count": 33,
     "metadata": {},
     "output_type": "execute_result"
    }
   ],
   "source": [
    "bins[1:]"
   ]
  },
  {
   "cell_type": "code",
   "execution_count": 34,
   "id": "f8eb903c",
   "metadata": {},
   "outputs": [],
   "source": [
    "one_part_size = []\n",
    "for element in bins[1:11]:\n",
    "    one_part_size.append(element*2)\n",
    "one_part_size.append(11)"
   ]
  },
  {
   "cell_type": "code",
   "execution_count": 35,
   "id": "ebf4e8b2",
   "metadata": {},
   "outputs": [
    {
     "data": {
      "text/plain": [
       "[2, 4, 6, 8, 10, 12, 14, 16, 18, 20, 11]"
      ]
     },
     "execution_count": 35,
     "metadata": {},
     "output_type": "execute_result"
    }
   ],
   "source": [
    "one_part_size"
   ]
  },
  {
   "cell_type": "code",
   "execution_count": 36,
   "id": "be13bdda",
   "metadata": {},
   "outputs": [
    {
     "data": {
      "text/plain": [
       "121"
      ]
     },
     "execution_count": 36,
     "metadata": {},
     "output_type": "execute_result"
    }
   ],
   "source": [
    "sum(one_part_size)"
   ]
  },
  {
   "cell_type": "code",
   "execution_count": 37,
   "id": "4485cfa5",
   "metadata": {},
   "outputs": [
    {
     "data": {
      "text/plain": [
       "2000.0"
      ]
     },
     "execution_count": 37,
     "metadata": {},
     "output_type": "execute_result"
    }
   ],
   "source": [
    "one_size = (2*121000)/sum(one_part_size)\n",
    "one_size"
   ]
  },
  {
   "cell_type": "code",
   "execution_count": 38,
   "id": "d1722c0d",
   "metadata": {},
   "outputs": [],
   "source": [
    "bins_SELFIES_length_half = []\n",
    "for i in range(30,40):\n",
    "    bins_SELFIES_length_half.append(i)"
   ]
  },
  {
   "cell_type": "code",
   "execution_count": 39,
   "id": "8759f982",
   "metadata": {},
   "outputs": [
    {
     "data": {
      "text/plain": [
       "[30, 31, 32, 33, 34, 35, 36, 37, 38, 39]"
      ]
     },
     "execution_count": 39,
     "metadata": {},
     "output_type": "execute_result"
    }
   ],
   "source": [
    "bins_SELFIES_length_half"
   ]
  },
  {
   "cell_type": "code",
   "execution_count": 40,
   "id": "5009b824",
   "metadata": {},
   "outputs": [],
   "source": [
    "bins_SELFIES_length_half_2 = []\n",
    "for i in range(41,51):\n",
    "    bins_SELFIES_length_half_2.append(i)"
   ]
  },
  {
   "cell_type": "code",
   "execution_count": 41,
   "id": "3dd3b4c7",
   "metadata": {},
   "outputs": [],
   "source": [
    "bins_SELFIES_length_half_2.reverse()"
   ]
  },
  {
   "cell_type": "code",
   "execution_count": 42,
   "id": "e09f6b1e",
   "metadata": {},
   "outputs": [
    {
     "data": {
      "text/plain": [
       "[50, 49, 48, 47, 46, 45, 44, 43, 42, 41]"
      ]
     },
     "execution_count": 42,
     "metadata": {},
     "output_type": "execute_result"
    }
   ],
   "source": [
    "bins_SELFIES_length_half_2"
   ]
  },
  {
   "cell_type": "code",
   "execution_count": 43,
   "id": "15e73e80",
   "metadata": {},
   "outputs": [],
   "source": [
    "center = 11 #size of median value"
   ]
  },
  {
   "cell_type": "code",
   "execution_count": 44,
   "id": "4b54ba9c",
   "metadata": {},
   "outputs": [],
   "source": [
    "first_bin = data[data['SELFIES_length'] == 30][:int(one_size)]"
   ]
  },
  {
   "cell_type": "code",
   "execution_count": 45,
   "id": "6a56041d",
   "metadata": {},
   "outputs": [
    {
     "data": {
      "text/plain": [
       "<AxesSubplot:>"
      ]
     },
     "execution_count": 45,
     "metadata": {},
     "output_type": "execute_result"
    },
    {
     "data": {
      "image/png": "[encoded data removed]",
      "text/plain": [
       "<Figure size 432x288 with 1 Axes>"
      ]
     },
     "metadata": {
      "needs_background": "light"
     },
     "output_type": "display_data"
    }
   ],
   "source": [
    "first_bin['SELFIES_length'].hist()"
   ]
  },
  {
   "cell_type": "markdown",
   "id": "548153e8",
   "metadata": {},
   "source": [
    "# Dataset to training"
   ]
  },
  {
   "cell_type": "code",
   "execution_count": 46,
   "id": "18399607",
   "metadata": {},
   "outputs": [],
   "source": [
    "bins_SELFIES_length_to_be_used_half = bins_SELFIES_length_half.copy()\n",
    "bins_SELFIES_length_to_be_used_half_2 = bins_SELFIES_length_half_2.copy()\n",
    "#bins_SELFIES_length_to_be_used_half_2.reverse()\n",
    "center_h = center"
   ]
  },
  {
   "cell_type": "code",
   "execution_count": 47,
   "id": "14605865",
   "metadata": {},
   "outputs": [],
   "source": [
    "for i, element in enumerate(bins[1:11]):\n",
    "    bins_SELFIES_length_to_be_used_half[i] = data[data['SELFIES_length'] == bins_SELFIES_length_half[i]][:int(one_size*element)]\n",
    "    bins_SELFIES_length_to_be_used_half_2[i] = data[data['SELFIES_length'] == bins_SELFIES_length_half_2[i]][:int(one_size*element)]\n",
    "    "
   ]
  },
  {
   "cell_type": "code",
   "execution_count": 48,
   "id": "2cae4873",
   "metadata": {},
   "outputs": [
    {
     "data": {
      "text/plain": [
       "(2000, 4)"
      ]
     },
     "execution_count": 48,
     "metadata": {},
     "output_type": "execute_result"
    }
   ],
   "source": [
    "bins_SELFIES_length_to_be_used_half[0].shape"
   ]
  },
  {
   "cell_type": "code",
   "execution_count": 49,
   "id": "7ed9e26c",
   "metadata": {},
   "outputs": [
    {
     "data": {
      "text/plain": [
       "(6000, 4)"
      ]
     },
     "execution_count": 49,
     "metadata": {},
     "output_type": "execute_result"
    }
   ],
   "source": [
    "bins_SELFIES_length_to_be_used_half[2].shape"
   ]
  },
  {
   "cell_type": "code",
   "execution_count": 50,
   "id": "34c8e8da",
   "metadata": {},
   "outputs": [
    {
     "data": {
      "text/plain": [
       "(2000, 4)"
      ]
     },
     "execution_count": 50,
     "metadata": {},
     "output_type": "execute_result"
    }
   ],
   "source": [
    "bins_SELFIES_length_to_be_used_half_2[0].shape"
   ]
  },
  {
   "cell_type": "code",
   "execution_count": 51,
   "id": "b98602cf",
   "metadata": {},
   "outputs": [],
   "source": [
    "center_h = data[data['SELFIES_length'] == 40][:int(one_size*center)]"
   ]
  },
  {
   "cell_type": "code",
   "execution_count": 52,
   "id": "511a5fae",
   "metadata": {},
   "outputs": [
    {
     "data": {
      "text/plain": [
       "(21956, 4)"
      ]
     },
     "execution_count": 52,
     "metadata": {},
     "output_type": "execute_result"
    }
   ],
   "source": [
    "center_h.shape"
   ]
  },
  {
   "cell_type": "code",
   "execution_count": 53,
   "id": "3632393f",
   "metadata": {},
   "outputs": [],
   "source": [
    "frames = (bins_SELFIES_length_to_be_used_half[0],\n",
    "          bins_SELFIES_length_to_be_used_half[1],\n",
    "          bins_SELFIES_length_to_be_used_half[2],\n",
    "          bins_SELFIES_length_to_be_used_half[3],\n",
    "          bins_SELFIES_length_to_be_used_half[4],\n",
    "          bins_SELFIES_length_to_be_used_half[5],\n",
    "          bins_SELFIES_length_to_be_used_half[6],\n",
    "          bins_SELFIES_length_to_be_used_half[7],\n",
    "          bins_SELFIES_length_to_be_used_half[8],\n",
    "          bins_SELFIES_length_to_be_used_half[9],\n",
    "          bins_SELFIES_length_to_be_used_half_2[0],\n",
    "          bins_SELFIES_length_to_be_used_half_2[1],\n",
    "          bins_SELFIES_length_to_be_used_half_2[2],\n",
    "          bins_SELFIES_length_to_be_used_half_2[3],\n",
    "          bins_SELFIES_length_to_be_used_half_2[4],\n",
    "          bins_SELFIES_length_to_be_used_half_2[5],\n",
    "          bins_SELFIES_length_to_be_used_half_2[6],\n",
    "          bins_SELFIES_length_to_be_used_half_2[7],\n",
    "          bins_SELFIES_length_to_be_used_half_2[8],\n",
    "          bins_SELFIES_length_to_be_used_half_2[9],\n",
    "          center_h)"
   ]
  },
  {
   "cell_type": "code",
   "execution_count": 54,
   "id": "bf20ce76",
   "metadata": {},
   "outputs": [],
   "source": [
    "data_to_training_and_validation = pd.concat(frames)"
   ]
  },
  {
   "cell_type": "code",
   "execution_count": 55,
   "id": "3c869c7f",
   "metadata": {},
   "outputs": [
    {
     "data": {
      "text/plain": [
       "(241956, 4)"
      ]
     },
     "execution_count": 55,
     "metadata": {},
     "output_type": "execute_result"
    }
   ],
   "source": [
    "data_to_training_and_validation.shape"
   ]
  },
  {
   "cell_type": "code",
   "execution_count": 56,
   "id": "27ebb1ff",
   "metadata": {},
   "outputs": [],
   "source": [
    "#data = data_to_training_and_validation.sort_values(by=['SELFIES_length'], ascending=True)"
   ]
  },
  {
   "cell_type": "code",
   "execution_count": 57,
   "id": "3fccfe6d",
   "metadata": {},
   "outputs": [],
   "source": [
    "data_to_training_and_validation = data_to_training_and_validation.reset_index()"
   ]
  },
  {
   "cell_type": "code",
   "execution_count": 58,
   "id": "356e1443",
   "metadata": {},
   "outputs": [],
   "source": [
    "del data_to_training_and_validation['level_0']"
   ]
  },
  {
   "cell_type": "code",
   "execution_count": 59,
   "id": "e10f3152",
   "metadata": {},
   "outputs": [
    {
     "data": {
      "text/plain": [
       "(241956, 4)"
      ]
     },
     "execution_count": 59,
     "metadata": {},
     "output_type": "execute_result"
    }
   ],
   "source": [
    "data_to_training_and_validation.shape"
   ]
  },
  {
   "cell_type": "code",
   "execution_count": 60,
   "id": "0b90651f",
   "metadata": {},
   "outputs": [
    {
     "data": {
      "text/plain": [
       "<AxesSubplot:>"
      ]
     },
     "execution_count": 60,
     "metadata": {},
     "output_type": "execute_result"
    },
    {
     "data": {
      "image/png": "[encoded data removed]",
      "text/plain": [
       "<Figure size 432x288 with 1 Axes>"
      ]
     },
     "metadata": {
      "needs_background": "light"
     },
     "output_type": "display_data"
    }
   ],
   "source": [
    "data_to_training_and_validation['SELFIES_length'].hist(bins=21)"
   ]
  },
  {
   "cell_type": "markdown",
   "id": "e649f84a",
   "metadata": {},
   "source": [
    "## Make use of canonical form of SMILES"
   ]
  },
  {
   "cell_type": "code",
   "execution_count": 61,
   "id": "08234213",
   "metadata": {},
   "outputs": [],
   "source": [
    "#Prepare molecule"
   ]
  },
  {
   "cell_type": "code",
   "execution_count": 62,
   "id": "2ff13a1c",
   "metadata": {},
   "outputs": [],
   "source": [
    "mols = [Chem.MolFromSmiles(smi) for smi in data_to_training_and_validation['smiles']]"
   ]
  },
  {
   "cell_type": "code",
   "execution_count": 65,
   "id": "343a409d",
   "metadata": {},
   "outputs": [],
   "source": [
    "data_to_training_and_validation['SMILES_canonical'] = [Chem.MolToSmiles(mol, isomericSmiles=False) for mol in mols]"
   ]
  },
  {
   "cell_type": "code",
   "execution_count": 66,
   "id": "c6ba0ba4",
   "metadata": {},
   "outputs": [
    {
     "data": {
      "text/html": [
       "<div>\n",
       "<style scoped>\n",
       "    .dataframe tbody tr th:only-of-type {\n",
       "        vertical-align: middle;\n",
       "    }\n",
       "\n",
       "    .dataframe tbody tr th {\n",
       "        vertical-align: top;\n",
       "    }\n",
       "\n",
       "    .dataframe thead th {\n",
       "        text-align: right;\n",
       "    }\n",
       "</style>\n",
       "<table border=\"1\" class=\"dataframe\">\n",
       "  <thead>\n",
       "    <tr style=\"text-align: right;\">\n",
       "      <th></th>\n",
       "      <th>index</th>\n",
       "      <th>smiles</th>\n",
       "      <th>SELFIES</th>\n",
       "      <th>SELFIES_length</th>\n",
       "      <th>SMILES_canonical</th>\n",
       "    </tr>\n",
       "  </thead>\n",
       "  <tbody>\n",
       "    <tr>\n",
       "      <th>0</th>\n",
       "      <td>563932204</td>\n",
       "      <td>CNC(=O)CCCN1CCN(S(C)(=O)=O)[C@@H](C)C1</td>\n",
       "      <td>[C][N][C][=Branch1][C][=O][C][C][C][N][C][C][N...</td>\n",
       "      <td>30</td>\n",
       "      <td>CNC(=O)CCCN1CCN(S(C)(=O)=O)C(C)C1</td>\n",
       "    </tr>\n",
       "    <tr>\n",
       "      <th>1</th>\n",
       "      <td>1417550001</td>\n",
       "      <td>CCC[C@H](CNC(=O)CN1CCS(=O)(=O)CC1)OC</td>\n",
       "      <td>[C][C][C][C@H1][Branch2][Ring1][=Branch1][C][N...</td>\n",
       "      <td>30</td>\n",
       "      <td>CCCC(CNC(=O)CN1CCS(=O)(=O)CC1)OC</td>\n",
       "    </tr>\n",
       "    <tr>\n",
       "      <th>2</th>\n",
       "      <td>1388389819</td>\n",
       "      <td>CCOCC(=O)NC[C@@H](C)CNC(=O)c1ccn(C)n1</td>\n",
       "      <td>[C][C][O][C][C][=Branch1][C][=O][N][C][C@@H1][...</td>\n",
       "      <td>30</td>\n",
       "      <td>CCOCC(=O)NCC(C)CNC(=O)c1ccn(C)n1</td>\n",
       "    </tr>\n",
       "    <tr>\n",
       "      <th>3</th>\n",
       "      <td>1754026573</td>\n",
       "      <td>C[C@H](CCNCCO)NC(=O)c1ccc(C(N)=O)nc1</td>\n",
       "      <td>[C][C@H1][Branch1][#Branch1][C][C][N][C][C][O]...</td>\n",
       "      <td>30</td>\n",
       "      <td>CC(CCNCCO)NC(=O)c1ccc(C(N)=O)nc1</td>\n",
       "    </tr>\n",
       "    <tr>\n",
       "      <th>4</th>\n",
       "      <td>282862635</td>\n",
       "      <td>CC(C)(C)[C@H](NS(C)(=O)=O)C(=O)NCC#CCO</td>\n",
       "      <td>[C][C][Branch1][C][C][Branch1][C][C][C@H1][Bra...</td>\n",
       "      <td>30</td>\n",
       "      <td>CC(C)(C)C(NS(C)(=O)=O)C(=O)NCC#CCO</td>\n",
       "    </tr>\n",
       "  </tbody>\n",
       "</table>\n",
       "</div>"
      ],
      "text/plain": [
       "        index                                  smiles  \\\n",
       "0   563932204  CNC(=O)CCCN1CCN(S(C)(=O)=O)[C@@H](C)C1   \n",
       "1  1417550001    CCC[C@H](CNC(=O)CN1CCS(=O)(=O)CC1)OC   \n",
       "2  1388389819   CCOCC(=O)NC[C@@H](C)CNC(=O)c1ccn(C)n1   \n",
       "3  1754026573    C[C@H](CCNCCO)NC(=O)c1ccc(C(N)=O)nc1   \n",
       "4   282862635  CC(C)(C)[C@H](NS(C)(=O)=O)C(=O)NCC#CCO   \n",
       "\n",
       "                                             SELFIES  SELFIES_length  \\\n",
       "0  [C][N][C][=Branch1][C][=O][C][C][C][N][C][C][N...              30   \n",
       "1  [C][C][C][C@H1][Branch2][Ring1][=Branch1][C][N...              30   \n",
       "2  [C][C][O][C][C][=Branch1][C][=O][N][C][C@@H1][...              30   \n",
       "3  [C][C@H1][Branch1][#Branch1][C][C][N][C][C][O]...              30   \n",
       "4  [C][C][Branch1][C][C][Branch1][C][C][C@H1][Bra...              30   \n",
       "\n",
       "                     SMILES_canonical  \n",
       "0   CNC(=O)CCCN1CCN(S(C)(=O)=O)C(C)C1  \n",
       "1    CCCC(CNC(=O)CN1CCS(=O)(=O)CC1)OC  \n",
       "2    CCOCC(=O)NCC(C)CNC(=O)c1ccn(C)n1  \n",
       "3    CC(CCNCCO)NC(=O)c1ccc(C(N)=O)nc1  \n",
       "4  CC(C)(C)C(NS(C)(=O)=O)C(=O)NCC#CCO  "
      ]
     },
     "execution_count": 66,
     "metadata": {},
     "output_type": "execute_result"
    }
   ],
   "source": [
    "data_to_training_and_validation.head()"
   ]
  },
  {
   "cell_type": "code",
   "execution_count": 67,
   "id": "fc05e0ab",
   "metadata": {},
   "outputs": [],
   "source": [
    "data_to_training_and_validation['SELFIES_canonical'] = [sf.encoder(smiles) for smiles in data_to_training_and_validation['SMILES_canonical']]"
   ]
  },
  {
   "cell_type": "code",
   "execution_count": 68,
   "id": "e203d12e",
   "metadata": {},
   "outputs": [],
   "source": [
    "data_to_training_and_validation['SELFIES_length_canonical'] = [SELFIES_length(SELFIES) for SELFIES in data_to_training_and_validation['SELFIES_canonical']]"
   ]
  },
  {
   "cell_type": "code",
   "execution_count": 69,
   "id": "b88c5dce",
   "metadata": {},
   "outputs": [
    {
     "data": {
      "text/plain": [
       "<AxesSubplot:>"
      ]
     },
     "execution_count": 69,
     "metadata": {},
     "output_type": "execute_result"
    },
    {
     "data": {
      "image/png": "[encoded data removed]",
      "text/plain": [
       "<Figure size 432x288 with 1 Axes>"
      ]
     },
     "metadata": {
      "needs_background": "light"
     },
     "output_type": "display_data"
    }
   ],
   "source": [
    "data_to_training_and_validation['SELFIES_length_canonical'].hist(bins=21)"
   ]
  },
  {
   "cell_type": "code",
   "execution_count": 70,
   "id": "73222f3c",
   "metadata": {},
   "outputs": [
    {
     "data": {
      "text/html": [
       "<div>\n",
       "<style scoped>\n",
       "    .dataframe tbody tr th:only-of-type {\n",
       "        vertical-align: middle;\n",
       "    }\n",
       "\n",
       "    .dataframe tbody tr th {\n",
       "        vertical-align: top;\n",
       "    }\n",
       "\n",
       "    .dataframe thead th {\n",
       "        text-align: right;\n",
       "    }\n",
       "</style>\n",
       "<table border=\"1\" class=\"dataframe\">\n",
       "  <thead>\n",
       "    <tr style=\"text-align: right;\">\n",
       "      <th></th>\n",
       "      <th>index</th>\n",
       "      <th>smiles</th>\n",
       "      <th>SELFIES</th>\n",
       "      <th>SELFIES_length</th>\n",
       "      <th>SMILES_canonical</th>\n",
       "      <th>SELFIES_canonical</th>\n",
       "      <th>SELFIES_length_canonical</th>\n",
       "    </tr>\n",
       "  </thead>\n",
       "  <tbody>\n",
       "    <tr>\n",
       "      <th>0</th>\n",
       "      <td>563932204</td>\n",
       "      <td>CNC(=O)CCCN1CCN(S(C)(=O)=O)[C@@H](C)C1</td>\n",
       "      <td>[C][N][C][=Branch1][C][=O][C][C][C][N][C][C][N...</td>\n",
       "      <td>30</td>\n",
       "      <td>CNC(=O)CCCN1CCN(S(C)(=O)=O)C(C)C1</td>\n",
       "      <td>[C][N][C][=Branch1][C][=O][C][C][C][N][C][C][N...</td>\n",
       "      <td>30</td>\n",
       "    </tr>\n",
       "    <tr>\n",
       "      <th>1</th>\n",
       "      <td>1417550001</td>\n",
       "      <td>CCC[C@H](CNC(=O)CN1CCS(=O)(=O)CC1)OC</td>\n",
       "      <td>[C][C][C][C@H1][Branch2][Ring1][=Branch1][C][N...</td>\n",
       "      <td>30</td>\n",
       "      <td>CCCC(CNC(=O)CN1CCS(=O)(=O)CC1)OC</td>\n",
       "      <td>[C][C][C][C][Branch2][Ring1][=Branch1][C][N][C...</td>\n",
       "      <td>30</td>\n",
       "    </tr>\n",
       "    <tr>\n",
       "      <th>2</th>\n",
       "      <td>1388389819</td>\n",
       "      <td>CCOCC(=O)NC[C@@H](C)CNC(=O)c1ccn(C)n1</td>\n",
       "      <td>[C][C][O][C][C][=Branch1][C][=O][N][C][C@@H1][...</td>\n",
       "      <td>30</td>\n",
       "      <td>CCOCC(=O)NCC(C)CNC(=O)c1ccn(C)n1</td>\n",
       "      <td>[C][C][O][C][C][=Branch1][C][=O][N][C][C][Bran...</td>\n",
       "      <td>30</td>\n",
       "    </tr>\n",
       "    <tr>\n",
       "      <th>3</th>\n",
       "      <td>1754026573</td>\n",
       "      <td>C[C@H](CCNCCO)NC(=O)c1ccc(C(N)=O)nc1</td>\n",
       "      <td>[C][C@H1][Branch1][#Branch1][C][C][N][C][C][O]...</td>\n",
       "      <td>30</td>\n",
       "      <td>CC(CCNCCO)NC(=O)c1ccc(C(N)=O)nc1</td>\n",
       "      <td>[C][C][Branch1][#Branch1][C][C][N][C][C][O][N]...</td>\n",
       "      <td>30</td>\n",
       "    </tr>\n",
       "    <tr>\n",
       "      <th>4</th>\n",
       "      <td>282862635</td>\n",
       "      <td>CC(C)(C)[C@H](NS(C)(=O)=O)C(=O)NCC#CCO</td>\n",
       "      <td>[C][C][Branch1][C][C][Branch1][C][C][C@H1][Bra...</td>\n",
       "      <td>30</td>\n",
       "      <td>CC(C)(C)C(NS(C)(=O)=O)C(=O)NCC#CCO</td>\n",
       "      <td>[C][C][Branch1][C][C][Branch1][C][C][C][Branch...</td>\n",
       "      <td>30</td>\n",
       "    </tr>\n",
       "  </tbody>\n",
       "</table>\n",
       "</div>"
      ],
      "text/plain": [
       "        index                                  smiles  \\\n",
       "0   563932204  CNC(=O)CCCN1CCN(S(C)(=O)=O)[C@@H](C)C1   \n",
       "1  1417550001    CCC[C@H](CNC(=O)CN1CCS(=O)(=O)CC1)OC   \n",
       "2  1388389819   CCOCC(=O)NC[C@@H](C)CNC(=O)c1ccn(C)n1   \n",
       "3  1754026573    C[C@H](CCNCCO)NC(=O)c1ccc(C(N)=O)nc1   \n",
       "4   282862635  CC(C)(C)[C@H](NS(C)(=O)=O)C(=O)NCC#CCO   \n",
       "\n",
       "                                             SELFIES  SELFIES_length  \\\n",
       "0  [C][N][C][=Branch1][C][=O][C][C][C][N][C][C][N...              30   \n",
       "1  [C][C][C][C@H1][Branch2][Ring1][=Branch1][C][N...              30   \n",
       "2  [C][C][O][C][C][=Branch1][C][=O][N][C][C@@H1][...              30   \n",
       "3  [C][C@H1][Branch1][#Branch1][C][C][N][C][C][O]...              30   \n",
       "4  [C][C][Branch1][C][C][Branch1][C][C][C@H1][Bra...              30   \n",
       "\n",
       "                     SMILES_canonical  \\\n",
       "0   CNC(=O)CCCN1CCN(S(C)(=O)=O)C(C)C1   \n",
       "1    CCCC(CNC(=O)CN1CCS(=O)(=O)CC1)OC   \n",
       "2    CCOCC(=O)NCC(C)CNC(=O)c1ccn(C)n1   \n",
       "3    CC(CCNCCO)NC(=O)c1ccc(C(N)=O)nc1   \n",
       "4  CC(C)(C)C(NS(C)(=O)=O)C(=O)NCC#CCO   \n",
       "\n",
       "                                   SELFIES_canonical  SELFIES_length_canonical  \n",
       "0  [C][N][C][=Branch1][C][=O][C][C][C][N][C][C][N...                        30  \n",
       "1  [C][C][C][C][Branch2][Ring1][=Branch1][C][N][C...                        30  \n",
       "2  [C][C][O][C][C][=Branch1][C][=O][N][C][C][Bran...                        30  \n",
       "3  [C][C][Branch1][#Branch1][C][C][N][C][C][O][N]...                        30  \n",
       "4  [C][C][Branch1][C][C][Branch1][C][C][C][Branch...                        30  "
      ]
     },
     "execution_count": 70,
     "metadata": {},
     "output_type": "execute_result"
    }
   ],
   "source": [
    "data_to_training_and_validation.head()"
   ]
  },
  {
   "cell_type": "code",
   "execution_count": 71,
   "id": "31b654cb",
   "metadata": {},
   "outputs": [],
   "source": [
    "#drop duplicates\n",
    "data_to_training_and_validation = data_to_training_and_validation.drop_duplicates(subset=['SMILES_canonical'])\n"
   ]
  },
  {
   "cell_type": "code",
   "execution_count": 72,
   "id": "fcbfe616",
   "metadata": {},
   "outputs": [],
   "source": [
    "data_to_training_and_validation = data_to_training_and_validation.reset_index()"
   ]
  },
  {
   "cell_type": "code",
   "execution_count": 73,
   "id": "e84032cd",
   "metadata": {},
   "outputs": [],
   "source": [
    "del data_to_training_and_validation['level_0']"
   ]
  },
  {
   "cell_type": "markdown",
   "id": "bfdb0488",
   "metadata": {},
   "source": [
    "### to be removed\n",
    "-> Sn\n",
    "\n",
    "-> Se\n",
    "\n",
    "-> B\n",
    "\n",
    "-> =P\n",
    "\n",
    "-> P\n"
   ]
  },
  {
   "cell_type": "code",
   "execution_count": 74,
   "id": "d8f66975",
   "metadata": {},
   "outputs": [],
   "source": [
    "data_to_training_and_validation = data_to_training_and_validation.reset_index()"
   ]
  },
  {
   "cell_type": "code",
   "execution_count": 75,
   "id": "713b488f",
   "metadata": {},
   "outputs": [],
   "source": [
    "del data_to_training_and_validation['level_0']"
   ]
  },
  {
   "cell_type": "code",
   "execution_count": 76,
   "id": "078887cf",
   "metadata": {},
   "outputs": [
    {
     "name": "stdout",
     "output_type": "stream",
     "text": [
      "(233694, 7)\n",
      "(233688, 7)\n",
      "(208691, 7)\n",
      "(208691, 7)\n",
      "(15513, 7)\n",
      "(193163, 7)\n",
      "(208676, 7)\n",
      "(208676, 7)\n"
     ]
    }
   ],
   "source": [
    "data_to_training_and_validation = data_to_training_and_validation[data_to_training_and_validation[\"SMILES_canonical\"].str.contains(\"Sn\") == False]\n",
    "print(data_to_training_and_validation.shape)\n",
    "\n",
    "data_to_training_and_validation = data_to_training_and_validation[data_to_training_and_validation[\"SMILES_canonical\"].str.contains(\"Si\") == False]\n",
    "print(data_to_training_and_validation.shape)\n",
    "\n",
    "data_to_training_and_validation = data_to_training_and_validation[data_to_training_and_validation[\"SELFIES_canonical\"].str.contains(\"P\") == False]\n",
    "print(data_to_training_and_validation.shape)\n",
    "\n",
    "data_to_training_and_validation = data_to_training_and_validation[data_to_training_and_validation[\"SELFIES_canonical\"].str.contains(\"=P\") == False]\n",
    "print(data_to_training_and_validation.shape)\n",
    "\n",
    "data_to_training_and_validation_bromium = data_to_training_and_validation[data_to_training_and_validation[\"SMILES_canonical\"].str.contains(\"Br\") == True]\n",
    "print(data_to_training_and_validation_bromium.shape)\n",
    "\n",
    "data_to_training_and_validation = data_to_training_and_validation[data_to_training_and_validation[\"SMILES_canonical\"].str.contains(\"B\") == False]\n",
    "print(data_to_training_and_validation.shape)\n",
    "\n",
    "frames = (data_to_training_and_validation, data_to_training_and_validation_bromium)\n",
    "data_to_training_and_validation_to_be_used = pd.concat(frames)\n",
    "print(data_to_training_and_validation_to_be_used.shape)\n",
    "\n",
    "\n",
    "\n",
    "data_to_training_and_validation_to_be_used = data_to_training_and_validation_to_be_used.reset_index()\n",
    "del data_to_training_and_validation_to_be_used['level_0']\n",
    "print(data_to_training_and_validation_to_be_used.shape)\n",
    "\n",
    "data_to_training_and_validation_to_be_used = data_to_training_and_validation_to_be_used.sort_values(by=['SELFIES_length'], ascending=True)"
   ]
  },
  {
   "cell_type": "code",
   "execution_count": 77,
   "id": "d2d00d07",
   "metadata": {},
   "outputs": [
    {
     "data": {
      "text/plain": [
       "1000.0"
      ]
     },
     "execution_count": 77,
     "metadata": {},
     "output_type": "execute_result"
    }
   ],
   "source": [
    "one_size = 121000/sum(one_part_size)\n",
    "one_size"
   ]
  },
  {
   "cell_type": "code",
   "execution_count": 78,
   "id": "dc1058f7",
   "metadata": {},
   "outputs": [],
   "source": [
    "bins_SELFIES_length_to_be_used_half = bins_SELFIES_length_half.copy()\n",
    "bins_SELFIES_length_to_be_used_half_2 = bins_SELFIES_length_half_2.copy()\n",
    "#bins_SELFIES_length_to_be_used_half_2.reverse()\n",
    "center_h = center"
   ]
  },
  {
   "cell_type": "code",
   "execution_count": 79,
   "id": "1b14635b",
   "metadata": {},
   "outputs": [],
   "source": [
    "for i, element in enumerate(bins[1:11]):\n",
    "    bins_SELFIES_length_to_be_used_half[i] = data_to_training_and_validation_to_be_used[data_to_training_and_validation_to_be_used['SELFIES_length_canonical'] == bins_SELFIES_length_half[i]][:int(one_size*element)]\n",
    "    bins_SELFIES_length_to_be_used_half_2[i] = data_to_training_and_validation_to_be_used[data_to_training_and_validation_to_be_used['SELFIES_length_canonical'] == bins_SELFIES_length_half_2[i]][:int(one_size*element)]\n",
    "    "
   ]
  },
  {
   "cell_type": "code",
   "execution_count": 80,
   "id": "0c7c91be",
   "metadata": {},
   "outputs": [],
   "source": [
    "center_h = data_to_training_and_validation_to_be_used[data_to_training_and_validation_to_be_used['SELFIES_length_canonical'] == 40][:int(one_size*center)]"
   ]
  },
  {
   "cell_type": "code",
   "execution_count": 81,
   "id": "c7482df5",
   "metadata": {},
   "outputs": [],
   "source": [
    "frames = (bins_SELFIES_length_to_be_used_half[0],\n",
    "          bins_SELFIES_length_to_be_used_half[1],\n",
    "          bins_SELFIES_length_to_be_used_half[2],\n",
    "          bins_SELFIES_length_to_be_used_half[3],\n",
    "          bins_SELFIES_length_to_be_used_half[4],\n",
    "          bins_SELFIES_length_to_be_used_half[5],\n",
    "          bins_SELFIES_length_to_be_used_half[6],\n",
    "          bins_SELFIES_length_to_be_used_half[7],\n",
    "          bins_SELFIES_length_to_be_used_half[8],\n",
    "          bins_SELFIES_length_to_be_used_half[9],\n",
    "          bins_SELFIES_length_to_be_used_half_2[0],\n",
    "          bins_SELFIES_length_to_be_used_half_2[1],\n",
    "          bins_SELFIES_length_to_be_used_half_2[2],\n",
    "          bins_SELFIES_length_to_be_used_half_2[3],\n",
    "          bins_SELFIES_length_to_be_used_half_2[4],\n",
    "          bins_SELFIES_length_to_be_used_half_2[5],\n",
    "          bins_SELFIES_length_to_be_used_half_2[6],\n",
    "          bins_SELFIES_length_to_be_used_half_2[7],\n",
    "          bins_SELFIES_length_to_be_used_half_2[8],\n",
    "          bins_SELFIES_length_to_be_used_half_2[9],\n",
    "          center_h)"
   ]
  },
  {
   "cell_type": "code",
   "execution_count": 82,
   "id": "207d0811",
   "metadata": {},
   "outputs": [],
   "source": [
    "data_to_training_and_validation = pd.concat(frames)"
   ]
  },
  {
   "cell_type": "code",
   "execution_count": 83,
   "id": "96402750",
   "metadata": {},
   "outputs": [
    {
     "data": {
      "text/html": [
       "<div>\n",
       "<style scoped>\n",
       "    .dataframe tbody tr th:only-of-type {\n",
       "        vertical-align: middle;\n",
       "    }\n",
       "\n",
       "    .dataframe tbody tr th {\n",
       "        vertical-align: top;\n",
       "    }\n",
       "\n",
       "    .dataframe thead th {\n",
       "        text-align: right;\n",
       "    }\n",
       "</style>\n",
       "<table border=\"1\" class=\"dataframe\">\n",
       "  <thead>\n",
       "    <tr style=\"text-align: right;\">\n",
       "      <th></th>\n",
       "      <th>index</th>\n",
       "      <th>smiles</th>\n",
       "      <th>SELFIES</th>\n",
       "      <th>SELFIES_length</th>\n",
       "      <th>SMILES_canonical</th>\n",
       "      <th>SELFIES_canonical</th>\n",
       "      <th>SELFIES_length_canonical</th>\n",
       "    </tr>\n",
       "  </thead>\n",
       "  <tbody>\n",
       "    <tr>\n",
       "      <th>0</th>\n",
       "      <td>563932204</td>\n",
       "      <td>CNC(=O)CCCN1CCN(S(C)(=O)=O)[C@@H](C)C1</td>\n",
       "      <td>[C][N][C][=Branch1][C][=O][C][C][C][N][C][C][N...</td>\n",
       "      <td>30</td>\n",
       "      <td>CNC(=O)CCCN1CCN(S(C)(=O)=O)C(C)C1</td>\n",
       "      <td>[C][N][C][=Branch1][C][=O][C][C][C][N][C][C][N...</td>\n",
       "      <td>30</td>\n",
       "    </tr>\n",
       "    <tr>\n",
       "      <th>1161</th>\n",
       "      <td>51885268</td>\n",
       "      <td>O=C(Cn1cc([N+](=O)[O-])cn1)N1CC[C@@H](CO)C1</td>\n",
       "      <td>[O][=C][Branch1][S][C][N][C][=C][Branch1][=Bra...</td>\n",
       "      <td>30</td>\n",
       "      <td>O=C(Cn1cc([N+](=O)[O-])cn1)N1CCC(CO)C1</td>\n",
       "      <td>[O][=C][Branch1][S][C][N][C][=C][Branch1][=Bra...</td>\n",
       "      <td>30</td>\n",
       "    </tr>\n",
       "    <tr>\n",
       "      <th>1160</th>\n",
       "      <td>1099938503</td>\n",
       "      <td>COCCCN1CC[C@@H](NC(=O)c2cnco2)[C@H](O)C1</td>\n",
       "      <td>[C][O][C][C][C][N][C][C][C@@H1][Branch1][=N][N...</td>\n",
       "      <td>30</td>\n",
       "      <td>COCCCN1CCC(NC(=O)c2cnco2)C(O)C1</td>\n",
       "      <td>[C][O][C][C][C][N][C][C][C][Branch1][=N][N][C]...</td>\n",
       "      <td>30</td>\n",
       "    </tr>\n",
       "    <tr>\n",
       "      <th>1159</th>\n",
       "      <td>1368537405</td>\n",
       "      <td>C[C@@H](O)CNC[C@H]1CN(C(=O)Cc2cnc[nH]2)CCO1</td>\n",
       "      <td>[C][C@@H1][Branch1][C][O][C][N][C][C@H1][C][N]...</td>\n",
       "      <td>30</td>\n",
       "      <td>CC(O)CNCC1CN(C(=O)Cc2cnc[nH]2)CCO1</td>\n",
       "      <td>[C][C][Branch1][C][O][C][N][C][C][C][N][Branch...</td>\n",
       "      <td>30</td>\n",
       "    </tr>\n",
       "    <tr>\n",
       "      <th>1158</th>\n",
       "      <td>1379339000</td>\n",
       "      <td>C[C@H](CNCc1cn(C)nn1)NC(=O)COCC1CC1</td>\n",
       "      <td>[C][C@H1][Branch1][=C][C][N][C][C][=C][N][Bran...</td>\n",
       "      <td>30</td>\n",
       "      <td>CC(CNCc1cn(C)nn1)NC(=O)COCC1CC1</td>\n",
       "      <td>[C][C][Branch1][=C][C][N][C][C][=C][N][Branch1...</td>\n",
       "      <td>30</td>\n",
       "    </tr>\n",
       "  </tbody>\n",
       "</table>\n",
       "</div>"
      ],
      "text/plain": [
       "           index                                       smiles  \\\n",
       "0      563932204       CNC(=O)CCCN1CCN(S(C)(=O)=O)[C@@H](C)C1   \n",
       "1161    51885268  O=C(Cn1cc([N+](=O)[O-])cn1)N1CC[C@@H](CO)C1   \n",
       "1160  1099938503     COCCCN1CC[C@@H](NC(=O)c2cnco2)[C@H](O)C1   \n",
       "1159  1368537405  C[C@@H](O)CNC[C@H]1CN(C(=O)Cc2cnc[nH]2)CCO1   \n",
       "1158  1379339000          C[C@H](CNCc1cn(C)nn1)NC(=O)COCC1CC1   \n",
       "\n",
       "                                                SELFIES  SELFIES_length  \\\n",
       "0     [C][N][C][=Branch1][C][=O][C][C][C][N][C][C][N...              30   \n",
       "1161  [O][=C][Branch1][S][C][N][C][=C][Branch1][=Bra...              30   \n",
       "1160  [C][O][C][C][C][N][C][C][C@@H1][Branch1][=N][N...              30   \n",
       "1159  [C][C@@H1][Branch1][C][O][C][N][C][C@H1][C][N]...              30   \n",
       "1158  [C][C@H1][Branch1][=C][C][N][C][C][=C][N][Bran...              30   \n",
       "\n",
       "                            SMILES_canonical  \\\n",
       "0          CNC(=O)CCCN1CCN(S(C)(=O)=O)C(C)C1   \n",
       "1161  O=C(Cn1cc([N+](=O)[O-])cn1)N1CCC(CO)C1   \n",
       "1160         COCCCN1CCC(NC(=O)c2cnco2)C(O)C1   \n",
       "1159      CC(O)CNCC1CN(C(=O)Cc2cnc[nH]2)CCO1   \n",
       "1158         CC(CNCc1cn(C)nn1)NC(=O)COCC1CC1   \n",
       "\n",
       "                                      SELFIES_canonical  \\\n",
       "0     [C][N][C][=Branch1][C][=O][C][C][C][N][C][C][N...   \n",
       "1161  [O][=C][Branch1][S][C][N][C][=C][Branch1][=Bra...   \n",
       "1160  [C][O][C][C][C][N][C][C][C][Branch1][=N][N][C]...   \n",
       "1159  [C][C][Branch1][C][O][C][N][C][C][C][N][Branch...   \n",
       "1158  [C][C][Branch1][=C][C][N][C][C][=C][N][Branch1...   \n",
       "\n",
       "      SELFIES_length_canonical  \n",
       "0                           30  \n",
       "1161                        30  \n",
       "1160                        30  \n",
       "1159                        30  \n",
       "1158                        30  "
      ]
     },
     "execution_count": 83,
     "metadata": {},
     "output_type": "execute_result"
    }
   ],
   "source": [
    "data_to_training_and_validation.head()"
   ]
  },
  {
   "cell_type": "code",
   "execution_count": 84,
   "id": "1b4705af",
   "metadata": {},
   "outputs": [
    {
     "data": {
      "text/plain": [
       "<AxesSubplot:>"
      ]
     },
     "execution_count": 84,
     "metadata": {},
     "output_type": "execute_result"
    },
    {
     "data": {
      "image/png": "[encoded data removed]",
      "text/plain": [
       "<Figure size 432x288 with 1 Axes>"
      ]
     },
     "metadata": {
      "needs_background": "light"
     },
     "output_type": "display_data"
    }
   ],
   "source": [
    "data_to_training_and_validation['SELFIES_length_canonical'].hist(bins=21)"
   ]
  },
  {
   "cell_type": "code",
   "execution_count": 85,
   "id": "8c697947",
   "metadata": {},
   "outputs": [],
   "source": [
    "data_to_training_and_validation = data_to_training_and_validation.reset_index()\n",
    "del data_to_training_and_validation['level_0']"
   ]
  },
  {
   "cell_type": "code",
   "execution_count": 86,
   "id": "61495139",
   "metadata": {},
   "outputs": [],
   "source": [
    "resulting_file_name = \"zinc20_\"+'selected_to_create_model'+\"_processed.parquet\"\n",
    "resulting_df_path = Path(\"../data\")/resulting_file_name ##Important bug\n",
    "data_to_training_and_validation.to_parquet(resulting_df_path.absolute().as_posix())"
   ]
  },
  {
   "cell_type": "markdown",
   "id": "e9ac4763",
   "metadata": {},
   "source": [
    "### RORgamma active compounds : doi: 10.1038/aps.2014.120"
   ]
  },
  {
   "cell_type": "code",
   "execution_count": 87,
   "id": "07279eb4",
   "metadata": {},
   "outputs": [],
   "source": [
    "list_of_compounds_names = ['20-Hydroxycholesterol', '22(R)-Hydroxy cholesterol', '25-Hydroxycholesterol','Ursolic acid','Digoxin','T0901317', \n",
    "                           'SR1001', 'SR1078', 'SR-1555', 'SR2211', 'ML209', 'N-(1-(4-(1,1,1,3,3,3-hexafluoro-2-hydroxypropan-2-yl)benzyl)-1,2,3,4-tetrahydroquinolin-6-yl)acetamide', '2,4-difluoro-N-(1-((4-fluorophenyl)sulfonyl)-1,2,3,4-tetrahydroquinolin-7-yl)benzenesulfonamide', \n",
    "                          '2-Chloro-6-fluoro-N-(1-((4-fluorophenyl)sulfonyl)-1,2,3,4-tetrahydroquinolin-7-yl)benzamide', '(S)-2-fluoro-N-(3-methyl-1-(m-tolylsulfonyl)-2,3-dihydro-1H-pyrido[2,3-b][1,4]oxazin-7-yl)-6-(trifluoromethyl)benzamide', \n",
    "                           '(S)-2-fluoro-N-(3-methyl-1-(m-tolylsulfonyl)-2,3-dihydro-1H-pyrido[2,3-b][1,4]oxazin-7-yl)-6-(trifluoromethyl)benzamide',\n",
    "                          '4-(1-(2-Chloro-6-cyclopropylbenzoyl)-7-fluoro-1H-indazol-3-yl)-3-fluorobenzoicacid', '4-(1-(2-Chloro-6-(trifluoromethyl)benzoyl)-7-fluoro-1H-indazol-3-yl)-2-hydroxycyclohex-3-enecarboxylic acid', 'GSK-1a', 'GSK-1b', 'GSK-1c', 'GSK-6a', 'GSK-8h', 'GSK-9g',\n",
    "                          'GSK-2', 'GSK-13', 'GSK-21', '2-(4-(Ethylsulfonyl)phenyl)-N-(6-(3-fluorophenoxy)-[1,1′-biphenyl]-3-yl)acetamide', 'N-(6-(3,5-difluorophenoxy)-3′-fluoro-[1,1′-biphenyl]-3-yl)-2-(4-(N-methylsulfamoyl)phenyl)acetamide',\n",
    "                          'N-(4-Ethylphenyl)-3-(hydroxymethyl)-Nisobutyl-4-((tetrahydro-2H-pyran-4-yl)methoxy)benzenesulfonamide', 'N-(4-chlorophenyl)-4-((3,5-dimethylisoxazol-4-yl)methoxy)-N-isobutylbenzenesulfonamide',\n",
    "                          'N-(2,4-dimethylphenyl)-4-(2-hydroxy2-(pyridin-4-yl)ethoxy)-N-isobutylbenzenesulfonamide', 'N-isobutyl-N-((5-(4-(methylsulfonyl)phenyl)thiophen-2-yl)methyl)-1-phenylmethanesulfonamide',\n",
    "                          'N-(4-(4-acetylpiperazin-1-yl)benzyl)-Nisobutyl-1-phenylmethanesulfonamide', 'N-(3,4-dimethoxyphenyl)-1-ethyl-2-oxo-1,2-dihydrobenzo[cd]indole-6-sulfonamide', 'JTE-151']"
   ]
  },
  {
   "cell_type": "code",
   "execution_count": 88,
   "id": "065b86f7",
   "metadata": {},
   "outputs": [],
   "source": [
    "list_of_compounds_smiles = ['CC(C)CCC[C@@](C)([C@H]1CC[C@@H]2[C@@]1(CC[C@H]3[C@H]2CC=C4[C@@]3(CC[C@@H](C4)O)C)C)O',\n",
    "                           'C[C@@H]([C@H]1CC[C@@H]2[C@@]1(CC[C@H]3[C@H]2CC=C4[C@@]3(CC[C@@H](C4)O)C)C)[C@@H](CCC(C)C)O',\n",
    "                           'C[C@H](CCCC(C)(C)O)[C@H]1CC[C@@H]2[C@@]1(CC[C@H]3[C@H]2CC=C4[C@@]3(CC[C@@H](C4)O)C)C',\n",
    "                           'C[C@@H]1CC[C@@]2(CC[C@@]3(C(=CC[C@H]4[C@]3(CC[C@@H]5[C@@]4(CC[C@@H](C5(C)C)O)C)C)[C@@H]2[C@H]1C)C)C(=O)O',\n",
    "                           'C[C@@H]1[C@H]([C@H](C[C@@H](O1)O[C@@H]2[C@H](O[C@H](C[C@@H]2O)O[C@@H]3[C@H](O[C@H](C[C@@H]3O)O[C@H]4CC[C@]5([C@@H](C4)CC[C@@H]6[C@@H]5C[C@H]([C@]7([C@@]6(CC[C@@H]7C8=CC(=O)OC8)O)C)O)C)C)C)O)O',\n",
    "                           'C1=CC=C(C=C1)S(=O)(=O)N(CC(F)(F)F)C2=CC=C(C=C2)C(C(F)(F)F)(C(F)(F)F)O',\n",
    "                           'CC1=C(SC(=N1)NC(=O)C)S(=O)(=O)NC2=CC=C(C=C2)C(C(F)(F)F)(C(F)(F)F)O',\n",
    "                           'C1=CC(=CC=C1C(=O)NC2=CC=C(C=C2)C(C(F)(F)F)(C(F)(F)F)O)C(F)(F)F',\n",
    "                           'CC(=O)N1CCN(CC1)CC2=CC=C(C=C2)C3=CC=C(C=C3)C(C(F)(F)F)(C(F)(F)F)O',\n",
    "                           'C1CN(CCN1CC2=CC=C(C=C2)C3=C(C=C(C=C3)C(C(F)(F)F)(C(F)(F)F)O)F)CC4=CC=NC=C4',\n",
    "                           'C[C@@H]1C[C@@H](CN(C1)C(=O)CC(C2=CC3=C(C=C2)OCO3)C4=C(C=C(C=C4OC)OC)O)C',\n",
    "                           'CC(=O)NC1=CC2=C(C=C1)N(CC1=CC=C(C=C1)C(O)(C(F)(F)F)C(F)(F)F)CCC2',\n",
    "                           'C1CC2=C(C=C(C=C2)NS(=O)(=O)C3=C(C=C(C=C3)F)F)N(C1)S(=O)(=O)C4=CC=C(C=C4)F',\n",
    "                           'C1CC2=C(C=C(C=C2)NC(=O)C3=C(C=CC=C3Cl)F)N(C1)S(=O)(=O)C4=CC=C(C=C4)F',\n",
    "                           'CC1CN(C2=C(O1)N=CC(NC(=O)C1=C(F)C=CC=C1C(F)(F)F)=C2)S(=O)(=O)C1=CC=CC(C)=C1',\n",
    "                           'OC(=O)C1=CC(F)=C(C=C1)C1=NN(C(=O)C2=C(C=CC=C2Cl)C2CC2)C2=C1C=CC=C2F',\n",
    "                           'OC1C=C(CCC1C(O)=O)C1=NN(C(=O)C2=C(Cl)C=CC=C2C(F)(F)F)C2=C1C=CC=C2F',\n",
    "                           'OC1C=C(CCC1C(O)=O)C1=NN(C(=O)C2=C(Cl)C=CC=C2C(F)(F)F)C2=C(F)C=CC=C12',\n",
    "                           'CC1=CC=CC(=C1)C(=O)NC1=CC(=NO1)C1=CC=CC=C1',\n",
    "                           'CC1=C(NC(=O)C2=NC3=C(C)C=C(C)C=C3S2)SC=C1',\n",
    "                           'CCC(=O)NC1=CC2=NN(N=C2C=C1)C1=CC=C(CC)C=C1',\n",
    "                           'CCS(=O)(=O)C1=CC=C(CC(=O)NC2=NC(=CS2)C2=CC(Cl)=CC=C2Cl)C=C1',\n",
    "                           'CCS(=O)(=O)C1=CC=C(CC(=O)NC2=NC(=C(S2)C(=O)C2=C(Cl)C=CC=C2)C2=CC=CC(Cl)=C2)C=C1',\n",
    "                           'CCS(=O)(=O)C1=CC=C(CC(=O)NC2=CC(=C(S2)C(=O)C2=CC(F)=CC=C2)C2=CC(Cl)=CC=C2)C=C1',\n",
    "                           'CCCN(CC1=CC=CC=C1)C1=CC=C(NC(=O)CC2=CC=C(C=C2)S(=O)(=O)CC)C=C1',\n",
    "                           'CCS(=O)(=O)C1=CC=C(CC(=O)NC2=CC=C3N(CCC4=CC=C(C=C4)C(F)(F)F)C=CC3=C2)C=C1',\n",
    "                           'CCS(=O)(=O)C1=CC=C(CC(=O)NC2=CC=C3N(CCC4=C(Cl)C=C(Cl)C=C4)C=CC3=C2)C=C1',\n",
    "                           'CCS(=O)(=O)C1=CC=C(CC(=O)NC2=CC(=C(OC3=CC=CC(F)=C3)C=C2)C2=CC=CC=C2)C=C1',\n",
    "                           'CNS(=O)(=O)C1=CC=C(CC(=O)NC2=CC(=C(OC3=CC(F)=CC(F)=C3)C=C2)C2=CC=CC(F)=C2)C=C1',\n",
    "                           'CCC1=CC=C(C=C1)N(CC(C)C)S(=O)(=O)C2=CC(=C(C=C2)OCC3CCOCC3)CO',\n",
    "                           'CC(C)CN(C1=CC=C(Cl)C=C1)S(=O)(=O)C1=CC=C(OCC2=C(C)ON=C2C)C=C1',\n",
    "                           'CC(C)CN(C1=CC=C(C)C=C1C)S(=O)(=O)C1=CC=C(OCC(O)C2=CC=NC=C2)C=C1',\n",
    "                           'CC(C)CN(CC1=CC=C(S1)C1=CC=C(C=C1)S(C)(=O)=O)S(=O)(=O)CC1=CC=CC=C1',\n",
    "                           'CC(C)CN(CC1=CC=C(C=C1)N1CCN(CC1)C(C)=O)S(=O)(=O)CC1=CC=CC=C1',\n",
    "                           'CCN1C(=O)C2=CC=CC3=C(C=CC1=C23)S(=O)(=O)NC1=CC(OC)=C(OC)C=C1',\n",
    "                           'CC(C)CC1=CC(=NO1)C1=C(C2CC2)C(=NO1)C(CCC(O)=O)CC(=O)NC1=CC=C(C)C=C1Cl']"
   ]
  },
  {
   "cell_type": "code",
   "execution_count": 89,
   "id": "d2fb287c",
   "metadata": {},
   "outputs": [
    {
     "data": {
      "text/plain": [
       "36"
      ]
     },
     "execution_count": 89,
     "metadata": {},
     "output_type": "execute_result"
    }
   ],
   "source": [
    "len(list_of_compounds_names)"
   ]
  },
  {
   "cell_type": "code",
   "execution_count": 90,
   "id": "96f7868f",
   "metadata": {},
   "outputs": [
    {
     "data": {
      "text/plain": [
       "36"
      ]
     },
     "execution_count": 90,
     "metadata": {},
     "output_type": "execute_result"
    }
   ],
   "source": [
    "len(list_of_compounds_smiles)"
   ]
  },
  {
   "cell_type": "code",
   "execution_count": 91,
   "id": "af7c252a",
   "metadata": {},
   "outputs": [
    {
     "data": {
      "text/plain": [
       "['20-Hydroxycholesterol',\n",
       " '22(R)-Hydroxy cholesterol',\n",
       " '25-Hydroxycholesterol',\n",
       " 'Ursolic acid',\n",
       " 'Digoxin',\n",
       " 'T0901317',\n",
       " 'SR1001',\n",
       " 'SR1078',\n",
       " 'SR-1555',\n",
       " 'SR2211',\n",
       " 'ML209',\n",
       " 'N-(1-(4-(1,1,1,3,3,3-hexafluoro-2-hydroxypropan-2-yl)benzyl)-1,2,3,4-tetrahydroquinolin-6-yl)acetamide',\n",
       " '2,4-difluoro-N-(1-((4-fluorophenyl)sulfonyl)-1,2,3,4-tetrahydroquinolin-7-yl)benzenesulfonamide',\n",
       " '2-Chloro-6-fluoro-N-(1-((4-fluorophenyl)sulfonyl)-1,2,3,4-tetrahydroquinolin-7-yl)benzamide',\n",
       " '(S)-2-fluoro-N-(3-methyl-1-(m-tolylsulfonyl)-2,3-dihydro-1H-pyrido[2,3-b][1,4]oxazin-7-yl)-6-(trifluoromethyl)benzamide',\n",
       " '(S)-2-fluoro-N-(3-methyl-1-(m-tolylsulfonyl)-2,3-dihydro-1H-pyrido[2,3-b][1,4]oxazin-7-yl)-6-(trifluoromethyl)benzamide',\n",
       " '4-(1-(2-Chloro-6-cyclopropylbenzoyl)-7-fluoro-1H-indazol-3-yl)-3-fluorobenzoicacid',\n",
       " '4-(1-(2-Chloro-6-(trifluoromethyl)benzoyl)-7-fluoro-1H-indazol-3-yl)-2-hydroxycyclohex-3-enecarboxylic acid',\n",
       " 'GSK-1a',\n",
       " 'GSK-1b',\n",
       " 'GSK-1c',\n",
       " 'GSK-6a',\n",
       " 'GSK-8h',\n",
       " 'GSK-9g',\n",
       " 'GSK-2',\n",
       " 'GSK-13',\n",
       " 'GSK-21',\n",
       " '2-(4-(Ethylsulfonyl)phenyl)-N-(6-(3-fluorophenoxy)-[1,1′-biphenyl]-3-yl)acetamide',\n",
       " 'N-(6-(3,5-difluorophenoxy)-3′-fluoro-[1,1′-biphenyl]-3-yl)-2-(4-(N-methylsulfamoyl)phenyl)acetamide',\n",
       " 'N-(4-Ethylphenyl)-3-(hydroxymethyl)-Nisobutyl-4-((tetrahydro-2H-pyran-4-yl)methoxy)benzenesulfonamide',\n",
       " 'N-(4-chlorophenyl)-4-((3,5-dimethylisoxazol-4-yl)methoxy)-N-isobutylbenzenesulfonamide',\n",
       " 'N-(2,4-dimethylphenyl)-4-(2-hydroxy2-(pyridin-4-yl)ethoxy)-N-isobutylbenzenesulfonamide',\n",
       " 'N-isobutyl-N-((5-(4-(methylsulfonyl)phenyl)thiophen-2-yl)methyl)-1-phenylmethanesulfonamide',\n",
       " 'N-(4-(4-acetylpiperazin-1-yl)benzyl)-Nisobutyl-1-phenylmethanesulfonamide',\n",
       " 'N-(3,4-dimethoxyphenyl)-1-ethyl-2-oxo-1,2-dihydrobenzo[cd]indole-6-sulfonamide',\n",
       " 'JTE-151']"
      ]
     },
     "execution_count": 91,
     "metadata": {},
     "output_type": "execute_result"
    }
   ],
   "source": [
    "list_of_compounds_names"
   ]
  },
  {
   "cell_type": "code",
   "execution_count": 92,
   "id": "5757ac0d",
   "metadata": {},
   "outputs": [
    {
     "data": {
      "text/plain": [
       "['CC(C)CCC[C@@](C)([C@H]1CC[C@@H]2[C@@]1(CC[C@H]3[C@H]2CC=C4[C@@]3(CC[C@@H](C4)O)C)C)O',\n",
       " 'C[C@@H]([C@H]1CC[C@@H]2[C@@]1(CC[C@H]3[C@H]2CC=C4[C@@]3(CC[C@@H](C4)O)C)C)[C@@H](CCC(C)C)O',\n",
       " 'C[C@H](CCCC(C)(C)O)[C@H]1CC[C@@H]2[C@@]1(CC[C@H]3[C@H]2CC=C4[C@@]3(CC[C@@H](C4)O)C)C',\n",
       " 'C[C@@H]1CC[C@@]2(CC[C@@]3(C(=CC[C@H]4[C@]3(CC[C@@H]5[C@@]4(CC[C@@H](C5(C)C)O)C)C)[C@@H]2[C@H]1C)C)C(=O)O',\n",
       " 'C[C@@H]1[C@H]([C@H](C[C@@H](O1)O[C@@H]2[C@H](O[C@H](C[C@@H]2O)O[C@@H]3[C@H](O[C@H](C[C@@H]3O)O[C@H]4CC[C@]5([C@@H](C4)CC[C@@H]6[C@@H]5C[C@H]([C@]7([C@@]6(CC[C@@H]7C8=CC(=O)OC8)O)C)O)C)C)C)O)O',\n",
       " 'C1=CC=C(C=C1)S(=O)(=O)N(CC(F)(F)F)C2=CC=C(C=C2)C(C(F)(F)F)(C(F)(F)F)O',\n",
       " 'CC1=C(SC(=N1)NC(=O)C)S(=O)(=O)NC2=CC=C(C=C2)C(C(F)(F)F)(C(F)(F)F)O',\n",
       " 'C1=CC(=CC=C1C(=O)NC2=CC=C(C=C2)C(C(F)(F)F)(C(F)(F)F)O)C(F)(F)F',\n",
       " 'CC(=O)N1CCN(CC1)CC2=CC=C(C=C2)C3=CC=C(C=C3)C(C(F)(F)F)(C(F)(F)F)O',\n",
       " 'C1CN(CCN1CC2=CC=C(C=C2)C3=C(C=C(C=C3)C(C(F)(F)F)(C(F)(F)F)O)F)CC4=CC=NC=C4',\n",
       " 'C[C@@H]1C[C@@H](CN(C1)C(=O)CC(C2=CC3=C(C=C2)OCO3)C4=C(C=C(C=C4OC)OC)O)C',\n",
       " 'CC(=O)NC1=CC2=C(C=C1)N(CC1=CC=C(C=C1)C(O)(C(F)(F)F)C(F)(F)F)CCC2',\n",
       " 'C1CC2=C(C=C(C=C2)NS(=O)(=O)C3=C(C=C(C=C3)F)F)N(C1)S(=O)(=O)C4=CC=C(C=C4)F',\n",
       " 'C1CC2=C(C=C(C=C2)NC(=O)C3=C(C=CC=C3Cl)F)N(C1)S(=O)(=O)C4=CC=C(C=C4)F',\n",
       " 'CC1CN(C2=C(O1)N=CC(NC(=O)C1=C(F)C=CC=C1C(F)(F)F)=C2)S(=O)(=O)C1=CC=CC(C)=C1',\n",
       " 'OC(=O)C1=CC(F)=C(C=C1)C1=NN(C(=O)C2=C(C=CC=C2Cl)C2CC2)C2=C1C=CC=C2F',\n",
       " 'OC1C=C(CCC1C(O)=O)C1=NN(C(=O)C2=C(Cl)C=CC=C2C(F)(F)F)C2=C1C=CC=C2F',\n",
       " 'OC1C=C(CCC1C(O)=O)C1=NN(C(=O)C2=C(Cl)C=CC=C2C(F)(F)F)C2=C(F)C=CC=C12',\n",
       " 'CC1=CC=CC(=C1)C(=O)NC1=CC(=NO1)C1=CC=CC=C1',\n",
       " 'CC1=C(NC(=O)C2=NC3=C(C)C=C(C)C=C3S2)SC=C1',\n",
       " 'CCC(=O)NC1=CC2=NN(N=C2C=C1)C1=CC=C(CC)C=C1',\n",
       " 'CCS(=O)(=O)C1=CC=C(CC(=O)NC2=NC(=CS2)C2=CC(Cl)=CC=C2Cl)C=C1',\n",
       " 'CCS(=O)(=O)C1=CC=C(CC(=O)NC2=NC(=C(S2)C(=O)C2=C(Cl)C=CC=C2)C2=CC=CC(Cl)=C2)C=C1',\n",
       " 'CCS(=O)(=O)C1=CC=C(CC(=O)NC2=CC(=C(S2)C(=O)C2=CC(F)=CC=C2)C2=CC(Cl)=CC=C2)C=C1',\n",
       " 'CCCN(CC1=CC=CC=C1)C1=CC=C(NC(=O)CC2=CC=C(C=C2)S(=O)(=O)CC)C=C1',\n",
       " 'CCS(=O)(=O)C1=CC=C(CC(=O)NC2=CC=C3N(CCC4=CC=C(C=C4)C(F)(F)F)C=CC3=C2)C=C1',\n",
       " 'CCS(=O)(=O)C1=CC=C(CC(=O)NC2=CC=C3N(CCC4=C(Cl)C=C(Cl)C=C4)C=CC3=C2)C=C1',\n",
       " 'CCS(=O)(=O)C1=CC=C(CC(=O)NC2=CC(=C(OC3=CC=CC(F)=C3)C=C2)C2=CC=CC=C2)C=C1',\n",
       " 'CNS(=O)(=O)C1=CC=C(CC(=O)NC2=CC(=C(OC3=CC(F)=CC(F)=C3)C=C2)C2=CC=CC(F)=C2)C=C1',\n",
       " 'CCC1=CC=C(C=C1)N(CC(C)C)S(=O)(=O)C2=CC(=C(C=C2)OCC3CCOCC3)CO',\n",
       " 'CC(C)CN(C1=CC=C(Cl)C=C1)S(=O)(=O)C1=CC=C(OCC2=C(C)ON=C2C)C=C1',\n",
       " 'CC(C)CN(C1=CC=C(C)C=C1C)S(=O)(=O)C1=CC=C(OCC(O)C2=CC=NC=C2)C=C1',\n",
       " 'CC(C)CN(CC1=CC=C(S1)C1=CC=C(C=C1)S(C)(=O)=O)S(=O)(=O)CC1=CC=CC=C1',\n",
       " 'CC(C)CN(CC1=CC=C(C=C1)N1CCN(CC1)C(C)=O)S(=O)(=O)CC1=CC=CC=C1',\n",
       " 'CCN1C(=O)C2=CC=CC3=C(C=CC1=C23)S(=O)(=O)NC1=CC(OC)=C(OC)C=C1',\n",
       " 'CC(C)CC1=CC(=NO1)C1=C(C2CC2)C(=NO1)C(CCC(O)=O)CC(=O)NC1=CC=C(C)C=C1Cl']"
      ]
     },
     "execution_count": 92,
     "metadata": {},
     "output_type": "execute_result"
    }
   ],
   "source": [
    "list_of_compounds_smiles"
   ]
  },
  {
   "cell_type": "code",
   "execution_count": 93,
   "id": "e00b2a75",
   "metadata": {},
   "outputs": [],
   "source": [
    "def print_name_and_structure(name, structure):\n",
    "    print(list_of_compounds_names[name])\n",
    "    mol = Chem.MolFromSmiles(list_of_compounds_smiles[structure])\n",
    "    return mol"
   ]
  },
  {
   "cell_type": "code",
   "execution_count": 94,
   "id": "500249f0",
   "metadata": {},
   "outputs": [
    {
     "name": "stdout",
     "output_type": "stream",
     "text": [
      "Number of name12\n",
      "Number of structure12\n",
      "2,4-difluoro-N-(1-((4-fluorophenyl)sulfonyl)-1,2,3,4-tetrahydroquinolin-7-yl)benzenesulfonamide\n"
     ]
    },
    {
     "data": {
      "image/png": "[encoded data removed]",
      "text/plain": [
       "<rdkit.Chem.rdchem.Mol at 0x7fa2cd7be040>"
      ]
     },
     "execution_count": 94,
     "metadata": {},
     "output_type": "execute_result"
    }
   ],
   "source": [
    "print_name_and_structure(int(input(\"Number of name\")), int(input(\"Number of structure\")))"
   ]
  },
  {
   "cell_type": "code",
   "execution_count": null,
   "id": "f42915cf",
   "metadata": {},
   "outputs": [],
   "source": []
  },
  {
   "cell_type": "markdown",
   "id": "af3fc871",
   "metadata": {},
   "source": [
    "## Create dataframe from RORgamma drugs"
   ]
  },
  {
   "cell_type": "code",
   "execution_count": 95,
   "id": "d2a155a8",
   "metadata": {},
   "outputs": [],
   "source": [
    "dataframe = pd.DataFrame(data=list_of_compounds_names, columns=['Compound name'])"
   ]
  },
  {
   "cell_type": "code",
   "execution_count": 96,
   "id": "b186a687",
   "metadata": {},
   "outputs": [],
   "source": [
    "mols = [Chem.MolFromSmiles(smi) for smi in list_of_compounds_smiles]"
   ]
  },
  {
   "cell_type": "code",
   "execution_count": 97,
   "id": "2dbbb67b",
   "metadata": {},
   "outputs": [],
   "source": [
    "dataframe['SMILES_canonical']  = [Chem.MolToSmiles(mol, isomericSmiles=False) for mol in mols]"
   ]
  },
  {
   "cell_type": "code",
   "execution_count": 98,
   "id": "6e62b262",
   "metadata": {},
   "outputs": [],
   "source": [
    "dataframe['SELFIES'] = [sf.encoder(smiles) for smiles in dataframe['SMILES_canonical']]"
   ]
  },
  {
   "cell_type": "code",
   "execution_count": 99,
   "id": "3db25b8e",
   "metadata": {},
   "outputs": [],
   "source": [
    "dataframe['SELFIES_length'] = [SELFIES_length(SELFIES) for SELFIES in dataframe['SELFIES']]"
   ]
  },
  {
   "cell_type": "code",
   "execution_count": 100,
   "id": "08a657b5",
   "metadata": {},
   "outputs": [
    {
     "data": {
      "text/plain": [
       "0      48\n",
       "1      48\n",
       "2      48\n",
       "3      63\n",
       "4     103\n",
       "5      60\n",
       "6      61\n",
       "7      57\n",
       "8      63\n",
       "9      70\n",
       "10     59\n",
       "11     56\n",
       "12     58\n",
       "13     55\n",
       "14     66\n",
       "15     60\n",
       "16     61\n",
       "17     61\n",
       "18     35\n",
       "19     33\n",
       "20     34\n",
       "21     48\n",
       "22     63\n",
       "23     65\n",
       "24     52\n",
       "25     64\n",
       "26     58\n",
       "27     60\n",
       "28     66\n",
       "29     54\n",
       "30     52\n",
       "31     56\n",
       "32     55\n",
       "33     55\n",
       "34     53\n",
       "35     61\n",
       "Name: SELFIES_length, dtype: int64"
      ]
     },
     "execution_count": 100,
     "metadata": {},
     "output_type": "execute_result"
    }
   ],
   "source": [
    "dataframe['SELFIES_length']"
   ]
  },
  {
   "cell_type": "code",
   "execution_count": 101,
   "id": "88e07855",
   "metadata": {},
   "outputs": [],
   "source": [
    "dataframe.to_excel('RORgamma_active_compounds.xlsx')"
   ]
  },
  {
   "cell_type": "code",
   "execution_count": null,
   "id": "504a8822",
   "metadata": {},
   "outputs": [],
   "source": []
  }
 ],
 "metadata": {
  "kernelspec": {
   "display_name": "Python 3 (ipykernel)",
   "language": "python",
   "name": "python3"
  },
  "language_info": {
   "codemirror_mode": {
    "name": "ipython",
    "version": 3
   },
   "file_extension": ".py",
   "mimetype": "text/x-python",
   "name": "python",
   "nbconvert_exporter": "python",
   "pygments_lexer": "ipython3",
   "version": "3.8.12"
  }
 },
 "nbformat": 4,
 "nbformat_minor": 5
}
